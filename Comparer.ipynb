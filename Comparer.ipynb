{
 "cells": [
  {
   "cell_type": "code",
   "execution_count": 6,
   "id": "2db7ba7b",
   "metadata": {},
   "outputs": [
    {
     "name": "stdout",
     "output_type": "stream",
     "text": [
      "Animal10_April16_offset_PPI_20_Rep2_segment.csv: Equal\n",
      "Animal10_April16_gap_duration_50_Rep3_segment.csv: Equal\n",
      "RESULTS_T10.xlsx: Different\n",
      "SegmentOrder.xlsx: Different\n",
      "OVERVIEW.xlsx: Different\n",
      "RESULTS.xlsx: Different\n",
      "Animal10_April16_offset_PPI_18_Rep4_segment.csv: Equal\n",
      "RESULTS_MT10.xlsx: Different\n"
     ]
    }
   ],
   "source": [
    "import os\n",
    "import filecmp\n",
    "\n",
    "def compare_folders(folder1, folder2):\n",
    "    files1 = set(os.listdir(folder1))\n",
    "    files2 = set(os.listdir(folder2))\n",
    "    common_files = files1 & files2\n",
    "\n",
    "    for filename in common_files:\n",
    "        path1 = os.path.join(folder1, filename)\n",
    "        path2 = os.path.join(folder2, filename)\n",
    "        if os.path.isfile(path1) and os.path.isfile(path2):\n",
    "            are_equal = filecmp.cmp(path1, path2, shallow=False)\n",
    "            print(f\"{filename}: {'Equal' if are_equal else 'Different'}\")\n",
    "\n",
    "if __name__ == \"__main__\":\n",
    "    folder1 = r\"C:\\Users\\Galahad\\Desktop\\Startle-Response-Analysis\\[1] Peakfinder Results\"\n",
    "    folder2 = r\"C:\\Users\\Galahad\\Desktop\\Startle-Response-Analysis\\[1] Peakfinder Results Spectral\"\n",
    "    compare_folders(folder1, folder2)"
   ]
  }
 ],
 "metadata": {
  "kernelspec": {
   "display_name": "Python 3",
   "language": "python",
   "name": "python3"
  },
  "language_info": {
   "codemirror_mode": {
    "name": "ipython",
    "version": 3
   },
   "file_extension": ".py",
   "mimetype": "text/x-python",
   "name": "python",
   "nbconvert_exporter": "python",
   "pygments_lexer": "ipython3",
   "version": "3.13.7"
  }
 },
 "nbformat": 4,
 "nbformat_minor": 5
}
