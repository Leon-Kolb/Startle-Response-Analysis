{
 "cells": [
  {
   "cell_type": "markdown",
   "metadata": {},
   "source": [
    "# Peakfinder"
   ]
  },
  {
   "cell_type": "markdown",
   "metadata": {},
   "source": [
    "## Introduction"
   ]
  },
  {
   "cell_type": "markdown",
   "metadata": {},
   "source": [
    "This notebook takes input data from ASR-recordings in the form of an input folder containing the CSV files for each recording day and animal, giving output files regarding the average reaction of each animal to each experiment. <br>The code is annotated and a more extensive explanation is contained within `Protocol.pdf`. "
   ]
  },
  {
   "cell_type": "markdown",
   "metadata": {},
   "source": [
    "## Imports"
   ]
  },
  {
   "cell_type": "markdown",
   "metadata": {},
   "source": [
    "If this is your first time running this, you may need to install various python packages using pip. <br>\n",
    "Open the terminal, either the windows command console or the VSC terminal, and run the command `pip install MODULENAME` for every module listed in the cell below (for example, `pip install pandas` to install pandas). Some of them may already be installed. Repeat this for the imports in `Analyzer.ipynb`."
   ]
  },
  {
   "cell_type": "code",
   "execution_count": 2,
   "metadata": {},
   "outputs": [],
   "source": [
    "import pandas as pd       \n",
    "import matplotlib.pyplot as plt\n",
    "import numpy as np\n",
    "import os\n",
    "from collections import defaultdict, Counter\n",
    "from IPython.display import clear_output\n",
    "import re\n",
    "from scipy.optimize import curve_fit\n",
    "from scipy.integrate import simpson"
   ]
  },
  {
   "cell_type": "markdown",
   "metadata": {},
   "source": [
    "## Configuration"
   ]
  },
  {
   "cell_type": "code",
   "execution_count": 3,
   "metadata": {},
   "outputs": [],
   "source": [
    "input_dir = \"2025\" # - - - - - - - - - - - - - - - - - - - - - - - - - - folder containing folders with .CSV files; change this to your own input directory\n",
    "\n",
    "output_dir = \"Results\" # - - - - - - - - - - - - - - - - - - - - - - - - folder containing final results\n",
    "\n",
    "filenames = [\"OVERVIEW\", \"RESULTS\", \"RESULTS_TT\", \"RESULTS_MTT\"] # - - - result file names (overview, main results, top 10 results, results minus the top 10)\n",
    "\n",
    "verbose = True # - - - - - - - - - - - - - - - - - - - - - - - - - - - - enables more output messages which can help identify problems; the notebook will only return errors if False\n",
    "\n",
    "discard_peakless = True # - - - - - - - - - - - - - - - - - - - - - - -  discard recordings without peaks from analysis\n",
    "\n",
    "include_decay_fit = False # - - - - - - - - - - - - - - - - - - - - - -  include regular exponential decay in the output\n",
    "\n",
    "replace = False # - - - - - - - - - - - - - - - - - - - - - - - - - - -  replace last output instead of making a new one\n",
    "\n",
    "output = False # - - - - - - - - - - - - - - - - - - - - - - - - - - - -  output results; set to False for testing if you do not want any change in output files when running the notebook\n",
    "\n",
    "detection_threshold = 24 # - - - - - - - - - - - - - - - - - - - - - - - threshold multiplier for detecting peaks, ValueG has to exceed k times the background noise per animal\n",
    "\n",
    "RT_threshold = 6 # - - - - - - - - - - - - - - - - - - - - - - - - - - - threshold multiplier for measuring reaction time, ValueG has to exceed k times the background noise per animal\n",
    "\n",
    "length = 500 # - - - - - - - - - - - - - - - - - - - - - - - - - - - - - length of the time window in milliseconds (both before and after the startle)\n",
    "\n",
    "example_number = 34 # - - - - - - - - - - - - - - - - - - - - - - - - -  index of the trial used for the example plot\n",
    "\n",
    "background_offset = 200 # - - - - - - - - - - - - - - - - - - - - - - -  measure background noise up to this many ms before the startle time (increase if a prepulse is played this or further away from the startle)\n",
    "\n",
    "detection_offset = 100 # - - - - - - - - - - - - - - - - - - - - - - - - check for signal up to this many ms after the startle time (for detection)\n",
    "\n",
    "measurement_offset = 500 # - - - - - - - - - - - - - - - - - - - - - - - check for signal up to this many ms after the startle time (for measurement)\n",
    "\n",
    "exclude = [\"offset_PPI\", \"offset_ASR\"] # - - - - - - - - - - - - - - - - experiment types to be excluded from analysis; comment out to include all\n",
    "#exclude = [\"ASR_control\", \"gap_depth\"]"
   ]
  },
  {
   "cell_type": "code",
   "execution_count": 4,
   "metadata": {},
   "outputs": [],
   "source": [
    "# Input startle times for every experiment\n",
    "startle_times = {\n",
    "\n",
    "    \"ASR_control\":      10000,\n",
    "    \"gap_depth\":        10100,\n",
    "    \"gap_duration_10\":  10060,\n",
    "    \"gap_duration_20\":  10070,\n",
    "    \"gap_duration_4\":   10054,\n",
    "    \"gap_duration_50\":  10100,\n",
    "    \"gap_duration_8\":   10058,\n",
    "    \"offset_ASR\":       10010,\n",
    "    \"offset_PPI_10\":    10010,\n",
    "    \"offset_PPI_12\":    10012,\n",
    "    \"offset_PPI_14\":    10014,\n",
    "    \"offset_PPI_16\":    10016,\n",
    "    \"offset_PPI_18\":    10018,\n",
    "    \"offset_PPI_20\":    10020,\n",
    "    \"offset_PPI_4\":     10004,\n",
    "    \"offset_PPI_6\":     10006,\n",
    "    \"offset_PPI_8\":     10008,\n",
    "    \"offset_PPI_50\":    10050,\n",
    "    \"tone_in_noise\":    10100\n",
    "    \n",
    "}"
   ]
  },
  {
   "cell_type": "code",
   "execution_count": 5,
   "metadata": {},
   "outputs": [],
   "source": [
    "# Input sex for every animal\n",
    "sex_dict = {\n",
    "    \"1\":    \"female\",\n",
    "    \"2\":    \"male\",\n",
    "    \"4\":    \"male\",\n",
    "    \"6\":    \"female\",\n",
    "    \"10\":   \"female\",\n",
    "    \"15\":   \"male\"\n",
    "}"
   ]
  },
  {
   "cell_type": "code",
   "execution_count": 6,
   "metadata": {},
   "outputs": [],
   "source": [
    "# CSV file settings (insert columns like how they'd appear in an excel file, as in starting with column 1)\n",
    "\n",
    "data_start =           5   # row where recording data starts\n",
    "\n",
    "animal_column =        2   # column \"Animal. No.\"\n",
    "experiment_column =    8   # column \"Exp. No.\"\n",
    "weight_column =        6   # column \"Weight\"\n",
    "number_column =        18  # column \"TrialNo\"\n",
    "name_column =          17  # column \"Trial\"\n",
    "time_column =          19  # column \"MS\"\n",
    "value_column =         20  # column \"ValueG\"\n",
    "\n",
    "# adjust columns to be 0-indexed\n",
    "experiment_column, weight_column, number_column, name_column, time_column, value_column = (x - 1 for x in (experiment_column, weight_column, number_column, name_column, time_column, value_column))"
   ]
  },
  {
   "cell_type": "markdown",
   "metadata": {},
   "source": [
    "## Slicing"
   ]
  },
  {
   "cell_type": "code",
   "execution_count": 7,
   "metadata": {},
   "outputs": [
    {
     "name": "stdout",
     "output_type": "stream",
     "text": [
      "Processed 1645 segments.\n",
      "Repetition count per experiment:\n",
      "ASR_control: 5\n",
      "gap_depth: 5\n",
      "gap_duration_10: 5\n",
      "gap_duration_20: 5\n",
      "gap_duration_4: 5\n",
      "gap_duration_50: 5\n",
      "gap_duration_8: 5\n",
      "offset_ASR: 5\n",
      "offset_PPI_10: 5\n",
      "offset_PPI_12: 5\n",
      "offset_PPI_14: 5\n",
      "offset_PPI_16: 5\n",
      "offset_PPI_18: 3\n",
      "offset_PPI_20: 4\n",
      "offset_PPI_4: 5\n",
      "offset_PPI_50: 4\n",
      "offset_PPI_6: 4\n",
      "offset_PPI_8: 5\n",
      "tone_in_noise: 5\n"
     ]
    }
   ],
   "source": [
    "segments = {}\n",
    "startles = {}\n",
    "\n",
    "for root, dirs, files in os.walk(input_dir):\n",
    "    for file in files:\n",
    "        if file.lower().endswith('.csv'):\n",
    "            file_path = os.path.join(root, file)\n",
    "            df = pd.read_csv(file_path, low_memory=False, skiprows=[0, 2])\n",
    "\n",
    "            animal_number = df.iloc[data_start + 1, animal_column]\n",
    "            date = file[:-4].split('_')[1]\n",
    "            animal_str = f\"Animal{animal_number}\"\n",
    "\n",
    "            df.iloc[:, value_column] = pd.to_numeric(df.iloc[:, value_column], errors='coerce')\n",
    "\n",
    "            df.iloc[:, value_column] = abs(df.iloc[:, value_column])\n",
    "\n",
    "            df['trial'] = df.iloc[:, name_column]\n",
    "            df['trial_shift'] = df['trial'].shift(1)\n",
    "            df['new_segment'] = df['trial'] != df['trial_shift']\n",
    "            df['segment_id'] = df['new_segment'].cumsum()\n",
    "\n",
    "            repetition = {}\n",
    "\n",
    "            for segment_id, segment_df in df.groupby('segment_id'):\n",
    "                trial_name = segment_df.iloc[0]['trial']\n",
    "                repetition[trial_name] = repetition.get(trial_name, 0) + 1\n",
    "\n",
    "                segment_startle = startle_times.get(trial_name)\n",
    "                if segment_startle is None:\n",
    "                    raise Exception(f\"Missing startle time for {trial_name}. Please make sure it is included in the startle_times dictionary.\")\n",
    "\n",
    "                segment_name = f\"{animal_str}_{date}_{trial_name}_Rep{repetition[trial_name]}\"\n",
    "\n",
    "                segment_length = len(segment_df)\n",
    "                time_col = np.arange(0, segment_length * 2, 2)\n",
    "                segment_data = pd.DataFrame({\n",
    "                    0: time_col,\n",
    "                    1: segment_df.iloc[:, value_column].values\n",
    "                })\n",
    "\n",
    "                segments[segment_name] = segment_data\n",
    "                startles[segment_name] = segment_startle\n",
    "\n",
    "counts = Counter([segment_df.iloc[0]['trial'] for _, segment_df in df.groupby('segment_id')])\n",
    "\n",
    "clear_output(wait=False)\n",
    "\n",
    "if verbose: \n",
    "    print(f\"Processed {len(segments)} segments.\") # 1710 expected\n",
    "    print(\"Repetition count per experiment:\")\n",
    "    for name, count in sorted(counts.items()):\n",
    "        print(f\"{name}: {count}\") # 5 each expected"
   ]
  },
  {
   "cell_type": "code",
   "execution_count": 8,
   "metadata": {},
   "outputs": [
    {
     "name": "stdout",
     "output_type": "stream",
     "text": [
      "Collected background noise for 6 animals:\n",
      "{'Animal10': 0.42, 'Animal15': 1.04, 'Animal1': 0.51, 'Animal2': 0.45, 'Animal4': 0.58, 'Animal6': 0.42}\n"
     ]
    }
   ],
   "source": [
    "# Get background noise per animal\n",
    "animal_noise_results = {}\n",
    "\n",
    "experiment_keys = [t[0] for t in sorted(counts.items())]\n",
    "\n",
    "for key in segments.keys():\n",
    "    # Extract animal name\n",
    "    animal = key.split('_')[0]\n",
    "\n",
    "    # Find experiment prefix in key\n",
    "    matching_prefix = None\n",
    "    for exp_key in experiment_keys:\n",
    "        if exp_key in key:\n",
    "            matching_prefix = exp_key\n",
    "            break\n",
    "\n",
    "    if matching_prefix is None:\n",
    "        print(f\"No experiment prefix found for key: {key}\")\n",
    "        continue\n",
    "\n",
    "    startle_time = startle_times.get(matching_prefix)\n",
    "    if startle_time is None:\n",
    "        print(f\"No startle time found for experiment: {matching_prefix}\")\n",
    "        continue\n",
    "\n",
    "    df = segments[key]\n",
    "\n",
    "    # Convert time column to numeric\n",
    "    df.iloc[:, 0] = pd.to_numeric(df.iloc[:, 0], errors='coerce')\n",
    "\n",
    "    start_time = 0\n",
    "    end_time = startle_time - background_offset  # measure up to 200ms before the startle\n",
    "    if end_time <= start_time:\n",
    "        print(f\"Invalid time window for {key}: startle_time={startle_time}\")\n",
    "        continue\n",
    "\n",
    "    mask = (df.iloc[:, 0] >= start_time) & (df.iloc[:, 0] < end_time)\n",
    "    background_window = df.loc[mask].iloc[:, 1]\n",
    "\n",
    "    if background_window.empty:\n",
    "        print(f\"No data in background window for {key}\")\n",
    "        continue\n",
    "\n",
    "    noise_level = background_window.std()\n",
    "\n",
    "    # Store noise levels per animal and experiment across repetitions\n",
    "    animal_noise_results.setdefault(animal, {}).setdefault(matching_prefix, []).append(noise_level)\n",
    "\n",
    "# Median noise across repetitions per experiment per animal\n",
    "animal_noise_median = {}\n",
    "for animal, exp_dict in animal_noise_results.items():\n",
    "    animal_noise_median[animal] = {}\n",
    "    for exp, noise_list in exp_dict.items():\n",
    "        animal_noise_median[animal][exp] = float(np.median(noise_list))\n",
    "\n",
    "# Median noise across experiments per animal\n",
    "animal_noise = {}\n",
    "for animal, exp_dict in animal_noise_median.items():\n",
    "    all_exp_values = list(exp_dict.values())\n",
    "    if all_exp_values:\n",
    "        animal_noise[animal] = round(float(np.median(all_exp_values)), 2)\n",
    "    else:\n",
    "        animal_noise[animal] = None\n",
    "\n",
    "if verbose:\n",
    "    print(f\"Collected background noise for {len(animal_noise)} animals:\")\n",
    "    print(animal_noise)\n"
   ]
  },
  {
   "cell_type": "code",
   "execution_count": 9,
   "metadata": {},
   "outputs": [
    {
     "name": "stdout",
     "output_type": "stream",
     "text": [
      "Adjusted 1645 segments.\n"
     ]
    }
   ],
   "source": [
    "# Cut the segments\n",
    "adjusted_segments = {}\n",
    "for entry in segments:\n",
    "    df = segments[entry]\n",
    "    reference_time = startles[entry]  \n",
    "\n",
    "    # Filter the data to get rows within the 1000 ms before and after the reference time\n",
    "    start_time = reference_time - length\n",
    "    end_time = reference_time + length\n",
    "\n",
    "    # Filter the dataframe to include only the data within the time range\n",
    "    filtered_df = df[(df.iloc[:, 0] >= start_time) & (df.iloc[:, 0] <= end_time)].copy()\n",
    "\n",
    "    # Adjust the time column to set the reference time to 0\n",
    "    filtered_df.iloc[:, 0] = filtered_df.iloc[:, 0] - reference_time\n",
    "\n",
    "    filtered_df.reset_index(drop=True, inplace=True) \n",
    "\n",
    "    adjusted_segments[entry] = filtered_df\n",
    "\n",
    "if verbose: print(f\"Adjusted {len(adjusted_segments)} segments.\")"
   ]
  },
  {
   "cell_type": "code",
   "execution_count": 10,
   "metadata": {},
   "outputs": [
    {
     "name": "stdout",
     "output_type": "stream",
     "text": [
      "Found 180 segments for the first ten recordings.\n"
     ]
    }
   ],
   "source": [
    "# Find top 10 recordings\n",
    "animal_date_keys = defaultdict(list)\n",
    "minus_top_10_keys = list(adjusted_segments.keys())\n",
    "\n",
    "for key in adjusted_segments.keys():\n",
    "    parts = key.split('_')\n",
    "    animal = parts[0]\n",
    "    date = parts[1]\n",
    "    animal_date_keys[(animal, date)].append(key)\n",
    "\n",
    "# Take first 10 keys per animal per date\n",
    "top_10_keys = []\n",
    "for (animal, date), keys in animal_date_keys.items():\n",
    "    first_10_keys = keys[:10]\n",
    "    top_10_keys.extend(first_10_keys)\n",
    "\n",
    "# Remove top 10 entries per animal and day from minus top 10 keyset\n",
    "for key in minus_top_10_keys: \n",
    "    if key in top_10_keys: \n",
    "        minus_top_10_keys.remove(key)\n",
    "\n",
    "if verbose: print(f\"Found {len(top_10_keys)} segments for the first ten recordings.\")"
   ]
  },
  {
   "cell_type": "code",
   "execution_count": 11,
   "metadata": {},
   "outputs": [
    {
     "name": "stdout",
     "output_type": "stream",
     "text": [
      "['Animal10_April16_gap_duration_4_Rep1', 'Animal10_April16_gap_depth_Rep1', 'Animal10_April16_offset_PPI_4_Rep1', 'Animal10_April16_offset_PPI_50_Rep1', 'Animal10_April16_offset_PPI_8_Rep1', 'Animal10_April16_offset_PPI_14_Rep1', 'Animal10_April16_offset_PPI_6_Rep1', 'Animal10_April16_offset_ASR_Rep1', 'Animal10_April16_gap_duration_10_Rep1', 'Animal10_April16_offset_PPI_12_Rep1', 'Animal10_June26_offset_PPI_14_Rep1', 'Animal10_June26_offset_PPI_50_Rep1', 'Animal10_June26_offset_PPI_4_Rep1', 'Animal10_June26_gap_depth_Rep1', 'Animal10_June26_offset_PPI_16_Rep1', 'Animal10_June26_offset_PPI_18_Rep1', 'Animal10_June26_tone_in_noise_Rep1', 'Animal10_June26_gap_duration_10_Rep1', 'Animal10_June26_ASR_control_Rep1', 'Animal10_June26_gap_depth_Rep2', 'Animal10_May20_offset_PPI_4_Rep1', 'Animal10_May20_gap_duration_4_Rep1', 'Animal10_May20_offset_PPI_10_Rep1', 'Animal10_May20_offset_PPI_4_Rep2', 'Animal10_May20_gap_duration_20_Rep1', 'Animal10_May20_offset_PPI_20_Rep1', 'Animal10_May20_offset_PPI_6_Rep1', 'Animal10_May20_ASR_control_Rep1', 'Animal10_May20_offset_PPI_16_Rep1', 'Animal10_May20_offset_ASR_Rep1', 'Animal15_April16_offset_PPI_18_Rep1', 'Animal15_April16_ASR_control_Rep1', 'Animal15_April16_offset_ASR_Rep1', 'Animal15_April16_offset_PPI_12_Rep1', 'Animal15_April16_ASR_control_Rep2', 'Animal15_April16_gap_depth_Rep1', 'Animal15_April16_gap_duration_20_Rep1', 'Animal15_April16_gap_duration_8_Rep1', 'Animal15_April16_offset_PPI_20_Rep1', 'Animal15_April16_gap_duration_20_Rep2', 'Animal15_June26_gap_duration_8_Rep1', 'Animal15_June26_offset_PPI_20_Rep1', 'Animal15_June26_gap_duration_20_Rep1', 'Animal15_June26_offset_PPI_50_Rep1', 'Animal15_June26_offset_PPI_4_Rep1', 'Animal15_June26_offset_PPI_12_Rep1', 'Animal15_June26_tone_in_noise_Rep1', 'Animal15_June26_offset_PPI_10_Rep1', 'Animal15_June26_offset_PPI_20_Rep2', 'Animal15_June26_offset_ASR_Rep1', 'Animal15_May20_gap_duration_10_Rep1', 'Animal15_May20_offset_PPI_12_Rep1', 'Animal15_May20_offset_PPI_50_Rep1', 'Animal15_May20_offset_PPI_10_Rep1', 'Animal15_May20_gap_depth_Rep1', 'Animal15_May20_tone_in_noise_Rep1', 'Animal15_May20_gap_duration_50_Rep1', 'Animal15_May20_gap_duration_4_Rep1', 'Animal15_May20_offset_PPI_6_Rep1', 'Animal15_May20_offset_PPI_50_Rep2', 'Animal1_April16_gap_duration_8_Rep1', 'Animal1_April16_offset_PPI_50_Rep1', 'Animal1_April16_tone_in_noise_Rep1', 'Animal1_April16_offset_PPI_10_Rep1', 'Animal1_April16_offset_PPI_50_Rep2', 'Animal1_April16_gap_duration_10_Rep1', 'Animal1_April16_tone_in_noise_Rep2', 'Animal1_April16_gap_duration_20_Rep1', 'Animal1_April16_offset_PPI_6_Rep1', 'Animal1_April16_tone_in_noise_Rep3', 'Animal1_June26_offset_PPI_16_Rep1', 'Animal1_June26_ASR_control_Rep1', 'Animal1_June26_offset_PPI_18_Rep1', 'Animal1_June26_gap_duration_10_Rep1', 'Animal1_June26_offset_PPI_20_Rep1', 'Animal1_June26_offset_PPI_18_Rep2', 'Animal1_June26_offset_PPI_10_Rep1', 'Animal1_June26_gap_duration_20_Rep1', 'Animal1_June26_offset_PPI_20_Rep2', 'Animal1_June26_offset_PPI_10_Rep2', 'Animal1_May20_gap_duration_10_Rep1', 'Animal1_May20_tone_in_noise_Rep1', 'Animal1_May20_offset_ASR_Rep1', 'Animal1_May20_gap_depth_Rep1', 'Animal1_May20_offset_PPI_50_Rep1', 'Animal1_May20_gap_duration_50_Rep1', 'Animal1_May20_gap_depth_Rep2', 'Animal1_May20_offset_PPI_4_Rep1', 'Animal1_May20_ASR_control_Rep1', 'Animal1_May20_offset_PPI_50_Rep2', 'Animal2_April16_offset_PPI_20_Rep1', 'Animal2_April16_offset_PPI_16_Rep1', 'Animal2_April16_offset_PPI_10_Rep1', 'Animal2_April16_offset_PPI_14_Rep1', 'Animal2_April16_offset_PPI_12_Rep1', 'Animal2_April16_offset_PPI_18_Rep1', 'Animal2_April16_offset_PPI_6_Rep1', 'Animal2_April16_offset_PPI_18_Rep2', 'Animal2_April16_gap_depth_Rep1', 'Animal2_April16_offset_PPI_6_Rep2', 'Animal2_June26_gap_duration_20_Rep1', 'Animal2_June26_offset_ASR_Rep1', 'Animal2_June26_gap_duration_10_Rep1', 'Animal2_June26_offset_PPI_16_Rep1', 'Animal2_June26_gap_duration_8_Rep1', 'Animal2_June26_offset_PPI_18_Rep1', 'Animal2_June26_offset_PPI_16_Rep2', 'Animal2_June26_gap_duration_8_Rep2', 'Animal2_June26_gap_depth_Rep1', 'Animal2_June26_gap_duration_4_Rep1', 'Animal2_May20_gap_depth_Rep1', 'Animal2_May20_offset_PPI_8_Rep1', 'Animal2_May20_offset_PPI_4_Rep1', 'Animal2_May20_gap_duration_10_Rep1', 'Animal2_May20_offset_PPI_14_Rep1', 'Animal2_May20_gap_depth_Rep2', 'Animal2_May20_offset_PPI_16_Rep1', 'Animal2_May20_offset_PPI_50_Rep1', 'Animal2_May20_gap_duration_4_Rep1', 'Animal2_May20_offset_PPI_8_Rep2', 'Animal4_April16_offset_PPI_10_Rep1', 'Animal4_April16_gap_duration_20_Rep1', 'Animal4_April16_offset_ASR_Rep1', 'Animal4_April16_offset_PPI_6_Rep1', 'Animal4_April16_offset_PPI_18_Rep1', 'Animal4_April16_tone_in_noise_Rep1', 'Animal4_April16_gap_depth_Rep1', 'Animal4_April16_offset_PPI_16_Rep1', 'Animal4_April16_offset_PPI_18_Rep2', 'Animal4_April16_offset_PPI_14_Rep1', 'Animal4_June26_offset_PPI_10_Rep1', 'Animal4_June26_gap_depth_Rep1', 'Animal4_June26_tone_in_noise_Rep1', 'Animal4_June26_offset_PPI_12_Rep1', 'Animal4_June26_offset_PPI_8_Rep1', 'Animal4_June26_offset_PPI_50_Rep1', 'Animal4_June26_gap_duration_10_Rep1', 'Animal4_June26_offset_PPI_50_Rep2', 'Animal4_June26_gap_duration_8_Rep1', 'Animal4_June26_offset_PPI_50_Rep3', 'Animal4_May20_ASR_control_Rep1', 'Animal4_May20_offset_PPI_18_Rep1', 'Animal4_May20_offset_PPI_4_Rep1', 'Animal4_May20_tone_in_noise_Rep1', 'Animal4_May20_offset_PPI_16_Rep1', 'Animal4_May20_offset_PPI_50_Rep1', 'Animal4_May20_gap_duration_20_Rep1', 'Animal4_May20_gap_duration_4_Rep1', 'Animal4_May20_offset_PPI_12_Rep1', 'Animal4_May20_gap_duration_50_Rep1', 'Animal6_April16_tone_in_noise_Rep1', 'Animal6_April16_offset_PPI_4_Rep1', 'Animal6_April16_offset_PPI_18_Rep1', 'Animal6_April16_gap_depth_Rep1', 'Animal6_April16_offset_PPI_10_Rep1', 'Animal6_April16_offset_ASR_Rep1', 'Animal6_April16_gap_duration_20_Rep1', 'Animal6_April16_ASR_control_Rep1', 'Animal6_April16_tone_in_noise_Rep2', 'Animal6_April16_offset_PPI_6_Rep1', 'Animal6_June26_offset_PPI_8_Rep1', 'Animal6_June26_offset_PPI_4_Rep1', 'Animal6_June26_offset_PPI_20_Rep1', 'Animal6_June26_offset_PPI_50_Rep1', 'Animal6_June26_gap_duration_10_Rep1', 'Animal6_June26_gap_duration_4_Rep1', 'Animal6_June26_offset_PPI_16_Rep1', 'Animal6_June26_offset_PPI_10_Rep1', 'Animal6_June26_offset_PPI_14_Rep1', 'Animal6_June26_gap_duration_4_Rep2', 'Animal6_May20_gap_duration_50_Rep1', 'Animal6_May20_offset_PPI_16_Rep1', 'Animal6_May20_gap_depth_Rep1', 'Animal6_May20_gap_duration_20_Rep1', 'Animal6_May20_offset_PPI_6_Rep1', 'Animal6_May20_gap_duration_20_Rep2', 'Animal6_May20_gap_duration_8_Rep1', 'Animal6_May20_offset_PPI_50_Rep1', 'Animal6_May20_offset_PPI_4_Rep1', 'Animal6_May20_offset_PPI_20_Rep1']\n",
      "1555\n",
      "1645\n"
     ]
    }
   ],
   "source": [
    "print(top_10_keys)\n",
    "print(len(minus_top_10_keys))\n",
    "print(len(adjusted_segments))"
   ]
  },
  {
   "cell_type": "code",
   "execution_count": 12,
   "metadata": {},
   "outputs": [
    {
     "name": "stdout",
     "output_type": "stream",
     "text": [
      "Excluded 952 segments.\n"
     ]
    }
   ],
   "source": [
    "before = len(adjusted_segments)\n",
    "# Remove excluded experiments\n",
    "for key in adjusted_segments.keys():\n",
    "    adjusted_segments = {   # remove excluded keys\n",
    "    key: value\n",
    "    for key, value in adjusted_segments.items()\n",
    "    if not any(word in key for word in exclude)\n",
    "}\n",
    "if verbose: print(f\"Excluded {before-len(adjusted_segments)} segments.\")"
   ]
  },
  {
   "cell_type": "markdown",
   "metadata": {},
   "source": [
    "## Signal Detection"
   ]
  },
  {
   "cell_type": "code",
   "execution_count": 13,
   "metadata": {},
   "outputs": [],
   "source": [
    "animal_thresholds = {animal: animal_noise[animal] * RT_threshold for animal in animal_noise}\n",
    "animal_thresholds_det = {animal: animal_noise[animal] * detection_threshold for animal in animal_noise}"
   ]
  },
  {
   "cell_type": "code",
   "execution_count": 14,
   "metadata": {},
   "outputs": [
    {
     "name": "stdout",
     "output_type": "stream",
     "text": [
      "Animal thresholds for reaction time: {'Animal10': 2.52, 'Animal15': 6.24, 'Animal1': 3.06, 'Animal2': 2.7, 'Animal4': 3.4799999999999995, 'Animal6': 2.52}\n",
      "Animal thresholds for detection: {'Animal10': 10.08, 'Animal15': 24.96, 'Animal1': 12.24, 'Animal2': 10.8, 'Animal4': 13.919999999999998, 'Animal6': 10.08}\n"
     ]
    }
   ],
   "source": [
    "print(f\"Animal thresholds for reaction time: {animal_thresholds}\")\n",
    "print(f\"Animal thresholds for detection: {animal_thresholds_det}\")"
   ]
  },
  {
   "cell_type": "code",
   "execution_count": 15,
   "metadata": {},
   "outputs": [
    {
     "name": "stdout",
     "output_type": "stream",
     "text": [
      "{'Animal10_April16_gap_duration_4_Rep1': np.True_, 'Animal10_April16_gap_depth_Rep1': np.True_, 'Animal10_April16_gap_duration_10_Rep1': np.True_, 'Animal10_April16_gap_depth_Rep2': np.True_, 'Animal10_April16_gap_duration_10_Rep2': np.True_, 'Animal10_April16_gap_duration_8_Rep1': np.True_, 'Animal10_April16_gap_depth_Rep3': np.True_, 'Animal10_April16_gap_duration_50_Rep1': np.True_, 'Animal10_April16_gap_duration_4_Rep2': np.True_, 'Animal10_April16_tone_in_noise_Rep1': np.True_, 'Animal10_April16_gap_duration_50_Rep2': np.True_, 'Animal10_April16_tone_in_noise_Rep2': np.True_, 'Animal10_April16_gap_duration_8_Rep2': np.True_, 'Animal10_April16_gap_duration_4_Rep3': np.True_, 'Animal10_April16_gap_duration_50_Rep3': np.True_, 'Animal10_April16_gap_duration_20_Rep1': np.True_, 'Animal10_April16_gap_duration_8_Rep3': np.True_, 'Animal10_April16_tone_in_noise_Rep3': np.True_, 'Animal10_April16_gap_duration_50_Rep4': np.True_, 'Animal10_April16_ASR_control_Rep1': np.True_, 'Animal10_April16_tone_in_noise_Rep4': np.True_, 'Animal10_April16_gap_duration_20_Rep2': np.True_, 'Animal10_April16_ASR_control_Rep2': np.True_, 'Animal10_April16_gap_duration_8_Rep4': np.True_, 'Animal10_April16_gap_duration_4_Rep4': np.True_, 'Animal10_April16_gap_duration_50_Rep5': np.True_, 'Animal10_April16_gap_duration_20_Rep3': np.True_, 'Animal10_April16_ASR_control_Rep3': np.True_, 'Animal10_April16_ASR_control_Rep4': np.True_, 'Animal10_April16_gap_duration_20_Rep4': np.True_, 'Animal10_April16_gap_duration_8_Rep5': np.True_, 'Animal10_April16_gap_duration_10_Rep3': np.True_, 'Animal10_April16_gap_duration_10_Rep4': np.True_, 'Animal10_April16_ASR_control_Rep5': np.True_, 'Animal10_April16_gap_depth_Rep4': np.True_, 'Animal10_April16_gap_duration_4_Rep5': np.True_, 'Animal10_April16_tone_in_noise_Rep5': np.True_, 'Animal10_April16_gap_depth_Rep5': np.True_, 'Animal10_April16_gap_duration_10_Rep5': np.True_, 'Animal10_June26_gap_depth_Rep1': np.True_, 'Animal10_June26_tone_in_noise_Rep1': np.True_, 'Animal10_June26_gap_duration_10_Rep1': np.True_, 'Animal10_June26_ASR_control_Rep1': np.True_, 'Animal10_June26_gap_depth_Rep2': np.True_, 'Animal10_June26_gap_duration_4_Rep1': np.True_, 'Animal10_June26_gap_duration_8_Rep1': np.True_, 'Animal10_June26_gap_duration_4_Rep2': np.True_, 'Animal10_June26_gap_duration_20_Rep1': np.True_, 'Animal10_June26_gap_duration_10_Rep2': np.True_, 'Animal10_June26_gap_duration_4_Rep3': np.True_, 'Animal10_June26_gap_duration_10_Rep3': np.True_, 'Animal10_June26_gap_depth_Rep3': np.True_, 'Animal10_June26_gap_duration_8_Rep2': np.True_, 'Animal10_June26_gap_duration_4_Rep4': np.True_, 'Animal10_June26_ASR_control_Rep2': np.True_, 'Animal10_June26_gap_duration_20_Rep2': np.True_, 'Animal10_June26_gap_duration_50_Rep1': np.True_, 'Animal10_June26_gap_duration_4_Rep5': np.True_, 'Animal10_June26_gap_duration_10_Rep4': np.True_, 'Animal10_June26_tone_in_noise_Rep2': np.True_, 'Animal10_June26_gap_duration_8_Rep3': np.True_, 'Animal10_June26_gap_depth_Rep4': np.True_, 'Animal10_June26_ASR_control_Rep3': np.True_, 'Animal10_June26_tone_in_noise_Rep3': np.True_, 'Animal10_June26_ASR_control_Rep4': np.True_, 'Animal10_June26_gap_duration_20_Rep3': np.True_, 'Animal10_June26_tone_in_noise_Rep4': np.True_, 'Animal10_June26_gap_duration_10_Rep5': np.True_, 'Animal10_June26_gap_duration_20_Rep4': np.True_, 'Animal10_June26_gap_duration_8_Rep4': np.True_, 'Animal10_June26_gap_duration_50_Rep2': np.True_, 'Animal10_June26_gap_depth_Rep5': np.True_, 'Animal10_June26_gap_duration_50_Rep3': np.True_, 'Animal10_June26_ASR_control_Rep5': np.True_, 'Animal10_June26_tone_in_noise_Rep5': np.True_, 'Animal10_June26_gap_duration_50_Rep4': np.True_, 'Animal10_June26_gap_duration_8_Rep5': np.True_, 'Animal10_June26_gap_duration_50_Rep5': np.True_, 'Animal10_May20_gap_duration_4_Rep1': np.True_, 'Animal10_May20_gap_duration_20_Rep1': np.True_, 'Animal10_May20_ASR_control_Rep1': np.True_, 'Animal10_May20_gap_duration_4_Rep2': np.True_, 'Animal10_May20_gap_duration_10_Rep1': np.True_, 'Animal10_May20_ASR_control_Rep2': np.True_, 'Animal10_May20_gap_duration_10_Rep2': np.True_, 'Animal10_May20_gap_duration_8_Rep1': np.True_, 'Animal10_May20_tone_in_noise_Rep1': np.True_, 'Animal10_May20_gap_depth_Rep1': np.True_, 'Animal10_May20_gap_duration_8_Rep2': np.True_, 'Animal10_May20_gap_duration_20_Rep2': np.True_, 'Animal10_May20_gap_duration_50_Rep1': np.True_, 'Animal10_May20_gap_depth_Rep2': np.True_, 'Animal10_May20_gap_duration_8_Rep3': np.True_, 'Animal10_May20_ASR_control_Rep3': np.True_, 'Animal10_May20_gap_duration_20_Rep3': np.True_, 'Animal10_May20_gap_duration_10_Rep3': np.True_, 'Animal10_May20_ASR_control_Rep4': np.True_, 'Animal10_May20_tone_in_noise_Rep2': np.True_, 'Animal10_May20_gap_duration_50_Rep2': np.True_, 'Animal10_May20_tone_in_noise_Rep3': np.True_, 'Animal10_May20_gap_duration_4_Rep3': np.True_, 'Animal10_May20_tone_in_noise_Rep4': np.True_, 'Animal10_May20_gap_duration_4_Rep4': np.True_, 'Animal10_May20_tone_in_noise_Rep5': np.True_, 'Animal10_May20_gap_duration_50_Rep3': np.True_, 'Animal10_May20_gap_depth_Rep3': np.True_, 'Animal10_May20_gap_duration_20_Rep4': np.True_, 'Animal10_May20_gap_depth_Rep4': np.True_, 'Animal10_May20_gap_duration_20_Rep5': np.True_, 'Animal10_May20_gap_duration_8_Rep4': np.True_, 'Animal10_May20_gap_depth_Rep5': np.True_, 'Animal10_May20_gap_duration_8_Rep5': np.True_, 'Animal10_May20_gap_duration_50_Rep4': np.True_, 'Animal10_May20_gap_duration_4_Rep5': np.True_, 'Animal10_May20_ASR_control_Rep5': np.True_, 'Animal10_May20_gap_duration_10_Rep4': np.True_, 'Animal10_May20_gap_duration_50_Rep5': np.True_, 'Animal15_April16_ASR_control_Rep1': np.True_, 'Animal15_April16_ASR_control_Rep2': np.True_, 'Animal15_April16_gap_depth_Rep1': np.True_, 'Animal15_April16_gap_duration_20_Rep1': np.True_, 'Animal15_April16_gap_duration_8_Rep1': np.True_, 'Animal15_April16_gap_duration_20_Rep2': np.True_, 'Animal15_April16_gap_duration_10_Rep1': np.True_, 'Animal15_April16_gap_duration_50_Rep1': np.True_, 'Animal15_April16_gap_duration_8_Rep2': np.True_, 'Animal15_April16_gap_duration_4_Rep1': np.True_, 'Animal15_April16_gap_duration_4_Rep2': np.True_, 'Animal15_April16_gap_depth_Rep2': np.True_, 'Animal15_April16_gap_duration_20_Rep3': np.True_, 'Animal15_April16_gap_duration_8_Rep3': np.True_, 'Animal15_April16_gap_duration_50_Rep2': np.True_, 'Animal15_April16_tone_in_noise_Rep1': np.True_, 'Animal15_April16_gap_duration_20_Rep4': np.True_, 'Animal15_April16_tone_in_noise_Rep2': np.False_, 'Animal15_April16_gap_duration_10_Rep2': np.True_, 'Animal15_April16_gap_duration_50_Rep3': np.True_, 'Animal15_April16_gap_duration_10_Rep3': np.True_, 'Animal15_April16_gap_duration_10_Rep4': np.True_, 'Animal15_April16_ASR_control_Rep3': np.True_, 'Animal15_April16_tone_in_noise_Rep3': np.True_, 'Animal15_April16_gap_duration_50_Rep4': np.True_, 'Animal15_April16_gap_duration_8_Rep4': np.True_, 'Animal15_April16_gap_duration_4_Rep3': np.True_, 'Animal15_April16_tone_in_noise_Rep4': np.True_, 'Animal15_April16_gap_duration_50_Rep5': np.True_, 'Animal15_April16_gap_depth_Rep3': np.True_, 'Animal15_April16_gap_duration_4_Rep4': np.True_, 'Animal15_April16_gap_depth_Rep4': np.True_, 'Animal15_April16_gap_duration_10_Rep5': np.True_, 'Animal15_April16_ASR_control_Rep4': np.True_, 'Animal15_April16_gap_depth_Rep5': np.True_, 'Animal15_April16_gap_duration_8_Rep5': np.True_, 'Animal15_April16_gap_duration_4_Rep5': np.False_, 'Animal15_April16_gap_duration_20_Rep5': np.False_, 'Animal15_June26_gap_duration_8_Rep1': np.True_, 'Animal15_June26_gap_duration_20_Rep1': np.True_, 'Animal15_June26_tone_in_noise_Rep1': np.True_, 'Animal15_June26_gap_duration_20_Rep2': np.True_, 'Animal15_June26_gap_depth_Rep1': np.True_, 'Animal15_June26_gap_duration_4_Rep1': np.True_, 'Animal15_June26_ASR_control_Rep1': np.True_, 'Animal15_June26_gap_duration_20_Rep3': np.True_, 'Animal15_June26_ASR_control_Rep2': np.True_, 'Animal15_June26_gap_duration_10_Rep1': np.True_, 'Animal15_June26_gap_duration_8_Rep2': np.True_, 'Animal15_June26_gap_depth_Rep2': np.True_, 'Animal15_June26_gap_duration_8_Rep3': np.True_, 'Animal15_June26_tone_in_noise_Rep2': np.True_, 'Animal15_June26_gap_duration_4_Rep2': np.True_, 'Animal15_June26_gap_duration_50_Rep1': np.True_, 'Animal15_June26_gap_duration_10_Rep2': np.True_, 'Animal15_June26_ASR_control_Rep3': np.True_, 'Animal15_June26_gap_duration_50_Rep2': np.True_, 'Animal15_June26_tone_in_noise_Rep3': np.True_, 'Animal15_June26_gap_duration_10_Rep3': np.True_, 'Animal15_June26_gap_duration_10_Rep4': np.True_, 'Animal15_June26_tone_in_noise_Rep4': np.True_, 'Animal15_June26_gap_depth_Rep3': np.True_, 'Animal15_June26_gap_duration_50_Rep3': np.True_, 'Animal15_June26_gap_duration_8_Rep4': np.True_, 'Animal15_June26_tone_in_noise_Rep5': np.True_, 'Animal15_June26_gap_duration_8_Rep5': np.True_, 'Animal15_June26_gap_depth_Rep4': np.True_, 'Animal15_June26_gap_duration_4_Rep3': np.True_, 'Animal15_June26_gap_duration_50_Rep4': np.True_, 'Animal15_June26_gap_duration_4_Rep4': np.True_, 'Animal15_June26_gap_depth_Rep5': np.True_, 'Animal15_June26_gap_duration_10_Rep5': np.True_, 'Animal15_June26_gap_duration_20_Rep4': np.True_, 'Animal15_June26_ASR_control_Rep4': np.True_, 'Animal15_June26_ASR_control_Rep5': np.True_, 'Animal15_June26_gap_duration_20_Rep5': np.True_, 'Animal15_June26_gap_duration_50_Rep5': np.True_, 'Animal15_June26_gap_duration_4_Rep5': np.True_, 'Animal15_May20_gap_duration_10_Rep1': np.True_, 'Animal15_May20_gap_depth_Rep1': np.True_, 'Animal15_May20_tone_in_noise_Rep1': np.True_, 'Animal15_May20_gap_duration_50_Rep1': np.True_, 'Animal15_May20_gap_duration_4_Rep1': np.True_, 'Animal15_May20_ASR_control_Rep1': np.True_, 'Animal15_May20_gap_depth_Rep2': np.True_, 'Animal15_May20_gap_duration_50_Rep2': np.True_, 'Animal15_May20_gap_duration_20_Rep1': np.True_, 'Animal15_May20_gap_duration_8_Rep1': np.True_, 'Animal15_May20_gap_duration_20_Rep2': np.True_, 'Animal15_May20_tone_in_noise_Rep2': np.True_, 'Animal15_May20_tone_in_noise_Rep3': np.True_, 'Animal15_May20_gap_duration_50_Rep3': np.True_, 'Animal15_May20_tone_in_noise_Rep4': np.True_, 'Animal15_May20_gap_duration_10_Rep2': np.True_, 'Animal15_May20_gap_duration_50_Rep4': np.True_, 'Animal15_May20_gap_duration_20_Rep3': np.True_, 'Animal15_May20_tone_in_noise_Rep5': np.True_, 'Animal15_May20_gap_duration_4_Rep2': np.True_, 'Animal15_May20_gap_duration_20_Rep4': np.True_, 'Animal15_May20_gap_duration_50_Rep5': np.True_, 'Animal15_May20_gap_duration_8_Rep2': np.True_, 'Animal15_May20_gap_depth_Rep3': np.True_, 'Animal15_May20_gap_duration_4_Rep3': np.True_, 'Animal15_May20_gap_duration_4_Rep4': np.True_, 'Animal15_May20_gap_duration_8_Rep3': np.True_, 'Animal15_May20_gap_depth_Rep4': np.True_, 'Animal15_May20_gap_duration_20_Rep5': np.True_, 'Animal15_May20_gap_depth_Rep5': np.True_, 'Animal15_May20_gap_duration_8_Rep4': np.True_, 'Animal15_May20_gap_duration_10_Rep3': np.True_, 'Animal15_May20_ASR_control_Rep2': np.True_, 'Animal15_May20_gap_duration_8_Rep5': np.True_, 'Animal15_May20_gap_duration_10_Rep4': np.True_, 'Animal15_May20_ASR_control_Rep3': np.True_, 'Animal15_May20_gap_duration_4_Rep5': np.True_, 'Animal15_May20_gap_duration_10_Rep5': np.True_, 'Animal15_May20_ASR_control_Rep4': np.True_, 'Animal15_May20_ASR_control_Rep5': np.True_, 'Animal1_April16_gap_duration_8_Rep1': np.True_, 'Animal1_April16_tone_in_noise_Rep1': np.True_, 'Animal1_April16_gap_duration_10_Rep1': np.True_, 'Animal1_April16_tone_in_noise_Rep2': np.True_, 'Animal1_April16_gap_duration_20_Rep1': np.True_, 'Animal1_April16_tone_in_noise_Rep3': np.True_, 'Animal1_April16_gap_duration_4_Rep1': np.True_, 'Animal1_April16_gap_duration_10_Rep2': np.True_, 'Animal1_April16_gap_duration_50_Rep1': np.True_, 'Animal1_April16_ASR_control_Rep1': np.True_, 'Animal1_April16_gap_duration_20_Rep2': np.True_, 'Animal1_April16_gap_depth_Rep1': np.True_, 'Animal1_April16_ASR_control_Rep2': np.True_, 'Animal1_April16_gap_duration_4_Rep2': np.True_, 'Animal1_April16_gap_duration_4_Rep3': np.True_, 'Animal1_April16_ASR_control_Rep3': np.True_, 'Animal1_April16_gap_depth_Rep2': np.True_, 'Animal1_April16_gap_duration_20_Rep3': np.True_, 'Animal1_April16_gap_duration_50_Rep2': np.True_, 'Animal1_April16_gap_duration_20_Rep4': np.True_, 'Animal1_April16_gap_duration_50_Rep3': np.True_, 'Animal1_April16_gap_depth_Rep3': np.True_, 'Animal1_April16_gap_duration_50_Rep4': np.True_, 'Animal1_April16_gap_duration_8_Rep2': np.True_, 'Animal1_April16_gap_duration_8_Rep3': np.True_, 'Animal1_April16_ASR_control_Rep4': np.True_, 'Animal1_April16_gap_duration_10_Rep3': np.True_, 'Animal1_April16_gap_duration_4_Rep4': np.True_, 'Animal1_April16_gap_duration_8_Rep4': np.True_, 'Animal1_April16_gap_duration_4_Rep5': np.True_, 'Animal1_April16_gap_duration_20_Rep5': np.True_, 'Animal1_April16_gap_depth_Rep4': np.True_, 'Animal1_April16_gap_duration_10_Rep4': np.True_, 'Animal1_April16_gap_duration_8_Rep5': np.True_, 'Animal1_April16_tone_in_noise_Rep4': np.False_, 'Animal1_April16_gap_duration_10_Rep5': np.True_, 'Animal1_April16_tone_in_noise_Rep5': np.True_, 'Animal1_April16_gap_duration_50_Rep5': np.True_, 'Animal1_April16_ASR_control_Rep5': np.True_, 'Animal1_June26_ASR_control_Rep1': np.True_, 'Animal1_June26_gap_duration_10_Rep1': np.True_, 'Animal1_June26_gap_duration_20_Rep1': np.True_, 'Animal1_June26_gap_duration_8_Rep1': np.True_, 'Animal1_June26_gap_depth_Rep1': np.True_, 'Animal1_June26_gap_duration_4_Rep1': np.True_, 'Animal1_June26_gap_depth_Rep2': np.True_, 'Animal1_June26_gap_duration_4_Rep2': np.True_, 'Animal1_June26_gap_duration_50_Rep1': np.True_, 'Animal1_June26_ASR_control_Rep2': np.True_, 'Animal1_June26_gap_duration_8_Rep2': np.True_, 'Animal1_June26_gap_duration_10_Rep2': np.True_, 'Animal1_June26_ASR_control_Rep3': np.True_, 'Animal1_June26_gap_duration_8_Rep3': np.True_, 'Animal1_June26_gap_duration_20_Rep2': np.True_, 'Animal1_June26_gap_duration_20_Rep3': np.True_, 'Animal1_June26_gap_duration_50_Rep2': np.True_, 'Animal1_June26_gap_duration_10_Rep3': np.True_, 'Animal1_June26_tone_in_noise_Rep1': np.True_, 'Animal1_June26_gap_duration_4_Rep3': np.True_, 'Animal1_June26_tone_in_noise_Rep2': np.True_, 'Animal1_June26_gap_duration_20_Rep4': np.True_, 'Animal1_June26_gap_duration_50_Rep3': np.True_, 'Animal1_June26_tone_in_noise_Rep3': np.True_, 'Animal1_June26_gap_duration_50_Rep4': np.True_, 'Animal1_June26_gap_duration_10_Rep4': np.True_, 'Animal1_June26_gap_duration_4_Rep4': np.True_, 'Animal1_June26_gap_depth_Rep3': np.True_, 'Animal1_June26_gap_depth_Rep4': np.True_, 'Animal1_June26_gap_duration_8_Rep4': np.True_, 'Animal1_June26_gap_duration_10_Rep5': np.True_, 'Animal1_June26_tone_in_noise_Rep4': np.True_, 'Animal1_June26_gap_duration_50_Rep5': np.True_, 'Animal1_June26_tone_in_noise_Rep5': np.True_, 'Animal1_June26_gap_duration_20_Rep5': np.True_, 'Animal1_June26_gap_depth_Rep5': np.True_, 'Animal1_June26_ASR_control_Rep4': np.True_, 'Animal1_June26_gap_duration_8_Rep5': np.True_, 'Animal1_May20_gap_duration_10_Rep1': np.True_, 'Animal1_May20_tone_in_noise_Rep1': np.True_, 'Animal1_May20_gap_depth_Rep1': np.True_, 'Animal1_May20_gap_duration_50_Rep1': np.True_, 'Animal1_May20_gap_depth_Rep2': np.True_, 'Animal1_May20_ASR_control_Rep1': np.True_, 'Animal1_May20_gap_duration_10_Rep2': np.True_, 'Animal1_May20_gap_duration_50_Rep2': np.True_, 'Animal1_May20_gap_duration_8_Rep1': np.True_, 'Animal1_May20_tone_in_noise_Rep2': np.True_, 'Animal1_May20_gap_depth_Rep3': np.True_, 'Animal1_May20_gap_duration_20_Rep1': np.True_, 'Animal1_May20_gap_duration_4_Rep1': np.True_, 'Animal1_May20_ASR_control_Rep2': np.True_, 'Animal1_May20_gap_duration_50_Rep3': np.True_, 'Animal1_May20_gap_depth_Rep4': np.True_, 'Animal1_May20_ASR_control_Rep3': np.True_, 'Animal1_May20_gap_duration_20_Rep2': np.True_, 'Animal1_May20_tone_in_noise_Rep3': np.True_, 'Animal1_May20_gap_duration_20_Rep3': np.True_, 'Animal1_May20_gap_duration_4_Rep2': np.True_, 'Animal1_May20_gap_duration_50_Rep4': np.True_, 'Animal1_May20_gap_duration_10_Rep3': np.True_, 'Animal1_May20_ASR_control_Rep4': np.True_, 'Animal1_May20_tone_in_noise_Rep4': np.True_, 'Animal1_May20_gap_duration_8_Rep2': np.True_, 'Animal1_May20_gap_duration_8_Rep3': np.True_, 'Animal1_May20_gap_duration_20_Rep4': np.True_, 'Animal1_May20_gap_duration_50_Rep5': np.True_, 'Animal1_May20_ASR_control_Rep5': np.True_, 'Animal1_May20_gap_duration_4_Rep3': np.True_, 'Animal1_May20_gap_duration_8_Rep4': np.True_, 'Animal1_May20_gap_duration_10_Rep4': np.True_, 'Animal1_May20_gap_duration_20_Rep5': np.True_, 'Animal1_May20_gap_duration_4_Rep4': np.True_, 'Animal1_May20_tone_in_noise_Rep5': np.True_, 'Animal1_May20_gap_depth_Rep5': np.True_, 'Animal1_May20_gap_duration_4_Rep5': np.True_, 'Animal2_April16_gap_depth_Rep1': np.True_, 'Animal2_April16_ASR_control_Rep1': np.True_, 'Animal2_April16_gap_depth_Rep2': np.True_, 'Animal2_April16_gap_duration_50_Rep1': np.True_, 'Animal2_April16_gap_depth_Rep3': np.True_, 'Animal2_April16_gap_duration_20_Rep1': np.True_, 'Animal2_April16_gap_duration_4_Rep1': np.True_, 'Animal2_April16_gap_duration_8_Rep1': np.True_, 'Animal2_April16_tone_in_noise_Rep1': np.True_, 'Animal2_April16_gap_duration_50_Rep2': np.True_, 'Animal2_April16_gap_duration_10_Rep1': np.True_, 'Animal2_April16_gap_depth_Rep4': np.True_, 'Animal2_April16_tone_in_noise_Rep2': np.True_, 'Animal2_April16_gap_duration_50_Rep3': np.True_, 'Animal2_April16_gap_duration_4_Rep2': np.True_, 'Animal2_April16_gap_duration_8_Rep2': np.True_, 'Animal2_April16_gap_duration_10_Rep2': np.True_, 'Animal2_April16_gap_duration_8_Rep3': np.True_, 'Animal2_April16_gap_duration_4_Rep3': np.True_, 'Animal2_April16_gap_duration_20_Rep2': np.True_, 'Animal2_April16_gap_duration_50_Rep4': np.True_, 'Animal2_April16_gap_duration_8_Rep4': np.True_, 'Animal2_April16_ASR_control_Rep2': np.True_, 'Animal2_April16_ASR_control_Rep3': np.True_, 'Animal2_April16_gap_duration_50_Rep5': np.True_, 'Animal2_April16_tone_in_noise_Rep3': np.True_, 'Animal2_April16_gap_duration_8_Rep5': np.True_, 'Animal2_April16_gap_duration_10_Rep3': np.True_, 'Animal2_April16_tone_in_noise_Rep4': np.True_, 'Animal2_April16_ASR_control_Rep4': np.True_, 'Animal2_April16_tone_in_noise_Rep5': np.True_, 'Animal2_April16_gap_duration_4_Rep4': np.True_, 'Animal2_April16_gap_depth_Rep5': np.True_, 'Animal2_April16_gap_duration_20_Rep3': np.True_, 'Animal2_April16_gap_duration_10_Rep4': np.True_, 'Animal2_April16_gap_duration_4_Rep5': np.True_, 'Animal2_April16_ASR_control_Rep5': np.True_, 'Animal2_April16_gap_duration_10_Rep5': np.True_, 'Animal2_June26_gap_duration_20_Rep1': np.True_, 'Animal2_June26_gap_duration_10_Rep1': np.True_, 'Animal2_June26_gap_duration_8_Rep1': np.True_, 'Animal2_June26_gap_duration_8_Rep2': np.True_, 'Animal2_June26_gap_depth_Rep1': np.True_, 'Animal2_June26_gap_duration_4_Rep1': np.True_, 'Animal2_June26_gap_duration_50_Rep1': np.True_, 'Animal2_June26_ASR_control_Rep1': np.True_, 'Animal2_June26_ASR_control_Rep2': np.True_, 'Animal2_June26_gap_duration_4_Rep2': np.True_, 'Animal2_June26_tone_in_noise_Rep1': np.True_, 'Animal2_June26_gap_duration_50_Rep2': np.True_, 'Animal2_June26_gap_depth_Rep2': np.True_, 'Animal2_June26_ASR_control_Rep3': np.True_, 'Animal2_June26_gap_depth_Rep3': np.True_, 'Animal2_June26_gap_duration_50_Rep3': np.True_, 'Animal2_June26_gap_duration_10_Rep2': np.True_, 'Animal2_June26_gap_duration_4_Rep3': np.True_, 'Animal2_June26_gap_duration_10_Rep3': np.True_, 'Animal2_June26_tone_in_noise_Rep2': np.True_, 'Animal2_June26_gap_depth_Rep4': np.True_, 'Animal2_June26_tone_in_noise_Rep3': np.True_, 'Animal2_June26_tone_in_noise_Rep4': np.True_, 'Animal2_June26_gap_depth_Rep5': np.True_, 'Animal2_June26_ASR_control_Rep4': np.True_, 'Animal2_June26_gap_duration_10_Rep4': np.True_, 'Animal2_June26_gap_duration_8_Rep3': np.True_, 'Animal2_June26_gap_duration_4_Rep4': np.True_, 'Animal2_June26_gap_duration_20_Rep2': np.True_, 'Animal2_June26_gap_duration_50_Rep4': np.True_, 'Animal2_June26_gap_duration_10_Rep5': np.True_, 'Animal2_June26_ASR_control_Rep5': np.True_, 'Animal2_June26_gap_duration_50_Rep5': np.True_, 'Animal2_June26_gap_duration_8_Rep4': np.True_, 'Animal2_June26_gap_duration_8_Rep5': np.True_, 'Animal2_June26_gap_duration_20_Rep3': np.True_, 'Animal2_June26_gap_duration_4_Rep5': np.True_, 'Animal2_May20_gap_depth_Rep1': np.True_, 'Animal2_May20_gap_duration_10_Rep1': np.True_, 'Animal2_May20_gap_depth_Rep2': np.True_, 'Animal2_May20_gap_duration_4_Rep1': np.True_, 'Animal2_May20_gap_duration_20_Rep1': np.True_, 'Animal2_May20_gap_duration_4_Rep2': np.True_, 'Animal2_May20_gap_duration_8_Rep1': np.True_, 'Animal2_May20_ASR_control_Rep1': np.True_, 'Animal2_May20_gap_duration_20_Rep2': np.True_, 'Animal2_May20_gap_duration_10_Rep2': np.True_, 'Animal2_May20_gap_duration_20_Rep3': np.True_, 'Animal2_May20_gap_duration_50_Rep1': np.True_, 'Animal2_May20_tone_in_noise_Rep1': np.True_, 'Animal2_May20_gap_duration_20_Rep4': np.True_, 'Animal2_May20_gap_duration_50_Rep2': np.True_, 'Animal2_May20_gap_depth_Rep3': np.True_, 'Animal2_May20_gap_duration_10_Rep3': np.True_, 'Animal2_May20_ASR_control_Rep2': np.True_, 'Animal2_May20_gap_duration_4_Rep3': np.True_, 'Animal2_May20_tone_in_noise_Rep2': np.True_, 'Animal2_May20_gap_duration_8_Rep2': np.True_, 'Animal2_May20_tone_in_noise_Rep3': np.True_, 'Animal2_May20_gap_duration_8_Rep3': np.True_, 'Animal2_May20_gap_depth_Rep4': np.True_, 'Animal2_May20_gap_duration_4_Rep4': np.True_, 'Animal2_May20_gap_duration_10_Rep4': np.True_, 'Animal2_May20_gap_duration_8_Rep4': np.True_, 'Animal2_May20_gap_duration_4_Rep5': np.True_, 'Animal2_May20_ASR_control_Rep3': np.True_, 'Animal2_May20_gap_duration_8_Rep5': np.True_, 'Animal2_May20_gap_duration_50_Rep3': np.True_, 'Animal2_May20_gap_duration_10_Rep5': np.True_, 'Animal2_May20_tone_in_noise_Rep4': np.True_, 'Animal2_May20_gap_duration_50_Rep4': np.True_, 'Animal2_May20_ASR_control_Rep4': np.True_, 'Animal2_May20_tone_in_noise_Rep5': np.True_, 'Animal2_May20_gap_duration_20_Rep5': np.True_, 'Animal2_May20_ASR_control_Rep5': np.True_, 'Animal4_April16_gap_duration_20_Rep1': np.True_, 'Animal4_April16_tone_in_noise_Rep1': np.True_, 'Animal4_April16_gap_depth_Rep1': np.True_, 'Animal4_April16_gap_duration_50_Rep1': np.True_, 'Animal4_April16_gap_duration_8_Rep1': np.True_, 'Animal4_April16_gap_duration_10_Rep1': np.True_, 'Animal4_April16_ASR_control_Rep1': np.True_, 'Animal4_April16_gap_duration_8_Rep2': np.True_, 'Animal4_April16_tone_in_noise_Rep2': np.True_, 'Animal4_April16_gap_duration_4_Rep1': np.True_, 'Animal4_April16_gap_duration_50_Rep2': np.True_, 'Animal4_April16_gap_duration_20_Rep2': np.True_, 'Animal4_April16_gap_duration_4_Rep2': np.True_, 'Animal4_April16_gap_duration_10_Rep2': np.True_, 'Animal4_April16_gap_depth_Rep2': np.True_, 'Animal4_April16_gap_duration_8_Rep3': np.True_, 'Animal4_April16_gap_duration_4_Rep3': np.True_, 'Animal4_April16_ASR_control_Rep2': np.True_, 'Animal4_April16_tone_in_noise_Rep3': np.True_, 'Animal4_April16_tone_in_noise_Rep4': np.True_, 'Animal4_April16_ASR_control_Rep3': np.True_, 'Animal4_April16_gap_duration_10_Rep3': np.True_, 'Animal4_April16_gap_duration_4_Rep4': np.True_, 'Animal4_April16_ASR_control_Rep4': np.True_, 'Animal4_April16_gap_depth_Rep3': np.True_, 'Animal4_April16_gap_duration_8_Rep4': np.True_, 'Animal4_April16_gap_duration_50_Rep3': np.True_, 'Animal4_April16_gap_depth_Rep4': np.True_, 'Animal4_April16_gap_duration_10_Rep4': np.True_, 'Animal4_April16_tone_in_noise_Rep5': np.True_, 'Animal4_April16_gap_depth_Rep5': np.True_, 'Animal4_April16_gap_duration_10_Rep5': np.True_, 'Animal4_April16_gap_duration_50_Rep4': np.True_, 'Animal4_April16_gap_duration_8_Rep5': np.True_, 'Animal4_April16_gap_duration_20_Rep3': np.True_, 'Animal4_April16_ASR_control_Rep5': np.True_, 'Animal4_April16_gap_duration_50_Rep5': np.True_, 'Animal4_April16_gap_duration_20_Rep4': np.True_, 'Animal4_June26_gap_depth_Rep1': np.True_, 'Animal4_June26_tone_in_noise_Rep1': np.True_, 'Animal4_June26_gap_duration_10_Rep1': np.True_, 'Animal4_June26_gap_duration_8_Rep1': np.True_, 'Animal4_June26_ASR_control_Rep1': np.True_, 'Animal4_June26_ASR_control_Rep2': np.True_, 'Animal4_June26_gap_duration_8_Rep2': np.True_, 'Animal4_June26_gap_depth_Rep2': np.True_, 'Animal4_June26_tone_in_noise_Rep2': np.True_, 'Animal4_June26_gap_depth_Rep3': np.True_, 'Animal4_June26_gap_duration_4_Rep1': np.True_, 'Animal4_June26_gap_duration_20_Rep1': np.True_, 'Animal4_June26_gap_duration_20_Rep2': np.True_, 'Animal4_June26_gap_duration_50_Rep1': np.True_, 'Animal4_June26_gap_duration_4_Rep2': np.True_, 'Animal4_June26_gap_duration_10_Rep2': np.True_, 'Animal4_June26_gap_duration_8_Rep3': np.True_, 'Animal4_June26_gap_duration_8_Rep4': np.True_, 'Animal4_June26_ASR_control_Rep3': np.True_, 'Animal4_June26_gap_duration_50_Rep2': np.True_, 'Animal4_June26_ASR_control_Rep4': np.True_, 'Animal4_June26_gap_duration_8_Rep5': np.True_, 'Animal4_June26_gap_duration_4_Rep3': np.True_, 'Animal4_June26_gap_duration_4_Rep4': np.True_, 'Animal4_June26_gap_duration_50_Rep3': np.True_, 'Animal4_June26_gap_duration_10_Rep3': np.True_, 'Animal4_June26_gap_duration_4_Rep5': np.True_, 'Animal4_June26_gap_duration_20_Rep3': np.True_, 'Animal4_June26_gap_duration_10_Rep4': np.True_, 'Animal4_June26_ASR_control_Rep5': np.True_, 'Animal4_June26_gap_depth_Rep4': np.True_, 'Animal4_June26_gap_duration_50_Rep4': np.True_, 'Animal4_June26_gap_depth_Rep5': np.True_, 'Animal4_June26_gap_duration_20_Rep4': np.True_, 'Animal4_June26_gap_duration_20_Rep5': np.True_, 'Animal4_June26_tone_in_noise_Rep3': np.True_, 'Animal4_June26_tone_in_noise_Rep4': np.True_, 'Animal4_May20_ASR_control_Rep1': np.True_, 'Animal4_May20_tone_in_noise_Rep1': np.True_, 'Animal4_May20_gap_duration_20_Rep1': np.True_, 'Animal4_May20_gap_duration_4_Rep1': np.True_, 'Animal4_May20_gap_duration_50_Rep1': np.True_, 'Animal4_May20_gap_duration_20_Rep2': np.True_, 'Animal4_May20_gap_duration_10_Rep1': np.True_, 'Animal4_May20_gap_depth_Rep1': np.True_, 'Animal4_May20_gap_duration_10_Rep2': np.True_, 'Animal4_May20_gap_duration_4_Rep2': np.True_, 'Animal4_May20_gap_duration_20_Rep3': np.True_, 'Animal4_May20_gap_duration_10_Rep3': np.True_, 'Animal4_May20_gap_duration_4_Rep3': np.True_, 'Animal4_May20_gap_duration_8_Rep1': np.True_, 'Animal4_May20_tone_in_noise_Rep2': np.True_, 'Animal4_May20_gap_duration_50_Rep2': np.True_, 'Animal4_May20_gap_duration_50_Rep3': np.True_, 'Animal4_May20_gap_duration_10_Rep4': np.True_, 'Animal4_May20_gap_duration_10_Rep5': np.True_, 'Animal4_May20_tone_in_noise_Rep3': np.True_, 'Animal4_May20_tone_in_noise_Rep4': np.True_, 'Animal4_May20_gap_depth_Rep2': np.True_, 'Animal4_May20_gap_duration_50_Rep4': np.True_, 'Animal4_May20_gap_duration_4_Rep4': np.True_, 'Animal4_May20_gap_depth_Rep3': np.True_, 'Animal4_May20_gap_duration_4_Rep5': np.True_, 'Animal4_May20_gap_duration_8_Rep2': np.True_, 'Animal4_May20_gap_depth_Rep4': np.True_, 'Animal4_May20_ASR_control_Rep2': np.True_, 'Animal4_May20_gap_duration_8_Rep3': np.True_, 'Animal4_May20_gap_duration_8_Rep4': np.True_, 'Animal4_May20_gap_duration_8_Rep5': np.True_, 'Animal4_May20_gap_duration_20_Rep4': np.True_, 'Animal4_May20_gap_duration_50_Rep5': np.True_, 'Animal4_May20_ASR_control_Rep3': np.True_, 'Animal4_May20_gap_duration_20_Rep5': np.True_, 'Animal4_May20_ASR_control_Rep4': np.True_, 'Animal4_May20_gap_depth_Rep5': np.True_, 'Animal6_April16_tone_in_noise_Rep1': np.True_, 'Animal6_April16_gap_depth_Rep1': np.True_, 'Animal6_April16_gap_duration_20_Rep1': np.True_, 'Animal6_April16_ASR_control_Rep1': np.True_, 'Animal6_April16_tone_in_noise_Rep2': np.True_, 'Animal6_April16_gap_duration_20_Rep2': np.True_, 'Animal6_April16_gap_duration_10_Rep1': np.True_, 'Animal6_April16_gap_duration_20_Rep3': np.True_, 'Animal6_April16_gap_depth_Rep2': np.True_, 'Animal6_April16_gap_duration_4_Rep1': np.True_, 'Animal6_April16_gap_duration_8_Rep1': np.True_, 'Animal6_April16_gap_duration_50_Rep1': np.True_, 'Animal6_April16_ASR_control_Rep2': np.True_, 'Animal6_April16_gap_duration_4_Rep2': np.True_, 'Animal6_April16_gap_duration_20_Rep4': np.True_, 'Animal6_April16_ASR_control_Rep3': np.True_, 'Animal6_April16_gap_depth_Rep3': np.True_, 'Animal6_April16_gap_duration_8_Rep2': np.True_, 'Animal6_April16_gap_duration_10_Rep2': np.True_, 'Animal6_April16_gap_duration_20_Rep5': np.True_, 'Animal6_April16_gap_duration_10_Rep3': np.True_, 'Animal6_April16_gap_duration_50_Rep2': np.True_, 'Animal6_April16_ASR_control_Rep4': np.True_, 'Animal6_April16_gap_duration_10_Rep4': np.True_, 'Animal6_April16_gap_duration_50_Rep3': np.True_, 'Animal6_April16_tone_in_noise_Rep3': np.True_, 'Animal6_April16_gap_duration_50_Rep4': np.True_, 'Animal6_April16_gap_duration_8_Rep3': np.True_, 'Animal6_April16_gap_depth_Rep4': np.True_, 'Animal6_April16_gap_depth_Rep5': np.True_, 'Animal6_April16_ASR_control_Rep5': np.True_, 'Animal6_April16_gap_duration_10_Rep5': np.True_, 'Animal6_April16_gap_duration_8_Rep4': np.True_, 'Animal6_April16_gap_duration_4_Rep3': np.True_, 'Animal6_April16_tone_in_noise_Rep4': np.True_, 'Animal6_April16_gap_duration_50_Rep5': np.True_, 'Animal6_April16_gap_duration_4_Rep4': np.True_, 'Animal6_June26_gap_duration_10_Rep1': np.True_, 'Animal6_June26_gap_duration_4_Rep1': np.True_, 'Animal6_June26_gap_duration_4_Rep2': np.True_, 'Animal6_June26_gap_duration_8_Rep1': np.True_, 'Animal6_June26_ASR_control_Rep1': np.True_, 'Animal6_June26_ASR_control_Rep2': np.True_, 'Animal6_June26_gap_duration_8_Rep2': np.True_, 'Animal6_June26_gap_depth_Rep1': np.True_, 'Animal6_June26_tone_in_noise_Rep1': np.True_, 'Animal6_June26_gap_duration_20_Rep1': np.True_, 'Animal6_June26_tone_in_noise_Rep2': np.True_, 'Animal6_June26_ASR_control_Rep3': np.True_, 'Animal6_June26_gap_duration_10_Rep2': np.True_, 'Animal6_June26_gap_depth_Rep2': np.True_, 'Animal6_June26_gap_duration_50_Rep1': np.True_, 'Animal6_June26_gap_depth_Rep3': np.True_, 'Animal6_June26_gap_duration_8_Rep3': np.True_, 'Animal6_June26_gap_duration_50_Rep2': np.True_, 'Animal6_June26_gap_duration_8_Rep4': np.True_, 'Animal6_June26_gap_duration_50_Rep3': np.True_, 'Animal6_June26_ASR_control_Rep4': np.True_, 'Animal6_June26_gap_depth_Rep4': np.True_, 'Animal6_June26_gap_duration_20_Rep2': np.True_, 'Animal6_June26_gap_duration_10_Rep3': np.True_, 'Animal6_June26_gap_duration_8_Rep5': np.True_, 'Animal6_June26_gap_duration_10_Rep4': np.True_, 'Animal6_June26_gap_duration_50_Rep4': np.True_, 'Animal6_June26_gap_duration_20_Rep3': np.True_, 'Animal6_June26_gap_duration_4_Rep3': np.True_, 'Animal6_June26_gap_duration_20_Rep4': np.True_, 'Animal6_June26_gap_depth_Rep5': np.True_, 'Animal6_June26_gap_duration_4_Rep4': np.True_, 'Animal6_June26_tone_in_noise_Rep3': np.True_, 'Animal6_June26_gap_duration_50_Rep5': np.True_, 'Animal6_June26_tone_in_noise_Rep4': np.True_, 'Animal6_June26_gap_duration_20_Rep5': np.True_, 'Animal6_June26_gap_duration_10_Rep5': np.True_, 'Animal6_June26_gap_duration_4_Rep5': np.True_, 'Animal6_June26_tone_in_noise_Rep5': np.True_, 'Animal6_June26_ASR_control_Rep5': np.True_, 'Animal6_May20_gap_duration_50_Rep1': np.True_, 'Animal6_May20_gap_depth_Rep1': np.True_, 'Animal6_May20_gap_duration_20_Rep1': np.True_, 'Animal6_May20_gap_duration_20_Rep2': np.True_, 'Animal6_May20_gap_duration_8_Rep1': np.True_, 'Animal6_May20_gap_duration_20_Rep3': np.True_, 'Animal6_May20_gap_duration_20_Rep4': np.True_, 'Animal6_May20_gap_duration_4_Rep1': np.True_, 'Animal6_May20_tone_in_noise_Rep1': np.True_, 'Animal6_May20_gap_duration_8_Rep2': np.True_, 'Animal6_May20_gap_depth_Rep2': np.True_, 'Animal6_May20_gap_duration_8_Rep3': np.True_, 'Animal6_May20_gap_duration_10_Rep1': np.True_, 'Animal6_May20_gap_duration_8_Rep4': np.True_, 'Animal6_May20_gap_depth_Rep3': np.True_, 'Animal6_May20_gap_duration_10_Rep2': np.True_, 'Animal6_May20_gap_duration_4_Rep2': np.True_, 'Animal6_May20_gap_duration_10_Rep3': np.True_, 'Animal6_May20_gap_duration_10_Rep4': np.True_, 'Animal6_May20_gap_duration_50_Rep2': np.True_, 'Animal6_May20_gap_duration_50_Rep3': np.True_, 'Animal6_May20_gap_duration_20_Rep5': np.True_, 'Animal6_May20_gap_depth_Rep4': np.True_, 'Animal6_May20_gap_duration_50_Rep4': np.True_, 'Animal6_May20_gap_duration_4_Rep3': np.True_, 'Animal6_May20_ASR_control_Rep1': np.True_, 'Animal6_May20_gap_duration_10_Rep5': np.True_, 'Animal6_May20_gap_duration_4_Rep4': np.True_, 'Animal6_May20_gap_depth_Rep5': np.True_, 'Animal6_May20_tone_in_noise_Rep2': np.True_, 'Animal6_May20_ASR_control_Rep2': np.True_, 'Animal6_May20_gap_duration_50_Rep5': np.True_, 'Animal6_May20_tone_in_noise_Rep3': np.True_, 'Animal6_May20_tone_in_noise_Rep4': np.True_, 'Animal6_May20_gap_duration_4_Rep5': np.True_, 'Animal6_May20_ASR_control_Rep3': np.True_, 'Animal6_May20_tone_in_noise_Rep5': np.True_, 'Animal6_May20_gap_duration_8_Rep5': np.True_, 'Animal6_May20_ASR_control_Rep4': np.True_, 'Animal6_May20_ASR_control_Rep5': np.True_}\n"
     ]
    }
   ],
   "source": [
    "signal_results = {}\n",
    "\n",
    "for key, df in adjusted_segments.items():\n",
    "    animal = key.split('_')[0]\n",
    "    noise = animal_noise.get(animal)\n",
    "\n",
    "    # Set post-startle window\n",
    "    mask = (df.iloc[:, 0] >= 0) & (df.iloc[:, 0] <= detection_offset)\n",
    "    window = df.loc[mask].iloc[:, 1]\n",
    "\n",
    "    # Threshold detection\n",
    "    detected = not window.empty and window.max() > detection_threshold * noise\n",
    "    signal_results[key] = detected\n",
    "\n",
    "if verbose: print(signal_results)"
   ]
  },
  {
   "cell_type": "code",
   "execution_count": 16,
   "metadata": {},
   "outputs": [
    {
     "name": "stdout",
     "output_type": "stream",
     "text": [
      "{'Animal15': 0.97, 'Animal6': 1.0, 'Animal1': 0.99, 'Animal4': 1.0, 'Animal2': 1.0, 'Animal10': 1.0}\n"
     ]
    }
   ],
   "source": [
    "animal_hits = {}\n",
    "animal_misses = {}\n",
    "\n",
    "for key, detected in signal_results.items():\n",
    "    animal = key.split('_')[0]\n",
    "    if detected:\n",
    "        animal_hits[animal] = animal_hits.get(animal, 0) + 1\n",
    "    else:\n",
    "        animal_misses[animal] = animal_misses.get(animal, 0) + 1\n",
    "\n",
    "animal_hit_rate = {}\n",
    "for animal in animal_hits.keys() | animal_misses.keys():\n",
    "    hits = animal_hits.get(animal, 0)\n",
    "    misses = animal_misses.get(animal, 0)\n",
    "    total = hits + misses\n",
    "    animal_hit_rate[animal] = round(hits / total, 2) if total > 0 else None\n",
    "\n",
    "if verbose: print(animal_hit_rate)"
   ]
  },
  {
   "cell_type": "code",
   "execution_count": 17,
   "metadata": {},
   "outputs": [
    {
     "name": "stdout",
     "output_type": "stream",
     "text": [
      "Removed 4 entries without peaks from dataset.\n"
     ]
    }
   ],
   "source": [
    "# Remove entries without peaks\n",
    "if discard_peakless:\n",
    "    data = {k: v for k, v in adjusted_segments.items() if signal_results.get(k, False)}\n",
    "    if verbose: print(f\"Removed {len(adjusted_segments)-len(data)} entries without peaks from dataset.\")\n",
    "else:\n",
    "    data = adjusted_segments"
   ]
  },
  {
   "cell_type": "markdown",
   "metadata": {},
   "source": [
    "## Analysis"
   ]
  },
  {
   "cell_type": "code",
   "execution_count": 18,
   "metadata": {},
   "outputs": [
    {
     "name": "stdout",
     "output_type": "stream",
     "text": [
      "Created reaction data for 689 segments.\n"
     ]
    }
   ],
   "source": [
    "def exp_decay(t, A, tau, C):\n",
    "    return A * np.exp(-t / tau) + C\n",
    "\n",
    "main_reaction = {}\n",
    "\n",
    "for entry in data:\n",
    "    times = data[entry][0]\n",
    "    values = data[entry][1]\n",
    "\n",
    "    # Fixed window\n",
    "    time_window_mask = (times >= 0) & (times <= measurement_offset)\n",
    "    values_in_window = values[time_window_mask]\n",
    "    times_in_window = times[time_window_mask]\n",
    "\n",
    "    indices_above_threshold = np.where((values > animal_thresholds[entry.split(\"_\")[0]]) & (times > 0))[0]\n",
    "\n",
    "    if len(indices_above_threshold) > 0:\n",
    "        peak_start = times[indices_above_threshold[0]]\n",
    "\n",
    "        max_index_in_window = np.argmax(values_in_window)\n",
    "        max_value = values_in_window.iloc[max_index_in_window]\n",
    "        max_time = times_in_window.iloc[max_index_in_window]\n",
    "\n",
    "        buildup = max_time - peak_start\n",
    "        rms_value = np.sqrt(np.mean(np.square(values_in_window)))\n",
    "\n",
    "        # --- POST-PEAK decay analysis ---\n",
    "        decay_mask = (times > max_time)\n",
    "        times_decay = times[decay_mask] - max_time\n",
    "        values_decay = values[decay_mask]\n",
    "\n",
    "        tau = np.nan\n",
    "        auc = np.nan\n",
    "        peak_decay_tau = np.nan\n",
    "        peak_decay_auc = np.nan\n",
    "\n",
    "        if len(times_decay) > 5:\n",
    "            try:\n",
    "                p0 = [max_value, 100, np.min(values_decay)]\n",
    "                params, _ = curve_fit(exp_decay, times_decay, values_decay, p0=p0, maxfev=10000)\n",
    "                A, tau, C = params\n",
    "\n",
    "                fitted_curve = exp_decay(times_decay, A, tau, C)\n",
    "                auc = simpson(fitted_curve, x=times_decay)\n",
    "\n",
    "                # --- PEAK DECAY analysis ---\n",
    "                peak_mask = values_decay > fitted_curve\n",
    "                if np.sum(peak_mask) > 5:\n",
    "                    times_peak_decay = times_decay[peak_mask]\n",
    "                    values_peak_decay = values_decay[peak_mask]\n",
    "                    try:\n",
    "                        p0_peak = [np.max(values_peak_decay), 100, np.min(values_peak_decay)]\n",
    "                        params_peak, _ = curve_fit(exp_decay, times_peak_decay, values_peak_decay, p0=p0_peak, maxfev=10000)\n",
    "                        A_peak, tau_peak, C_peak = params_peak\n",
    "                        fitted_peak_curve = exp_decay(times_peak_decay, A_peak, tau_peak, C_peak)\n",
    "                        peak_decay_auc = simpson(fitted_peak_curve, x=times_peak_decay)\n",
    "                        peak_decay_tau = tau_peak\n",
    "                    except Exception as e:\n",
    "                        if verbose:\n",
    "                            print(f\"Peak decay fit failed for {entry}: {e}\")\n",
    "            except Exception as e:\n",
    "                if verbose:\n",
    "                    print(f\"Decay fit failed for {entry}: {e}\")\n",
    "\n",
    "        # Save result\n",
    "        main_reaction[entry] = {\n",
    "            \"reactionTime\": [int(peak_start)],\n",
    "            \"peakTime\": [int(max_time)],\n",
    "            \"difference\": [int(buildup)],\n",
    "            \"peakValue\": [int(max_value)],\n",
    "            \"RMS\": [round(float(rms_value), 2)],\n",
    "            \"decayTau\": [round(float(tau), 2)],\n",
    "            \"decayAUC\": [round(float(auc), 2)],\n",
    "            \"peakDecayTau\": [round(float(peak_decay_tau), 2)],\n",
    "            \"peakDecayAUC\": [round(float(peak_decay_auc), 2)]\n",
    "        }\n",
    "\n",
    "    else: raise Exception(f\"No peak found for {entry}, something went really really wrong.\") if discard_peakless else None\n",
    "\n",
    "if verbose: print(f\"Created reaction data for {len(main_reaction)} segments.\")"
   ]
  },
  {
   "cell_type": "code",
   "execution_count": 19,
   "metadata": {},
   "outputs": [],
   "source": [
    "top_10_reaction = {}\n",
    "minus_top_10_reaction = {}\n",
    "\n",
    "for key in top_10_keys:\n",
    "    if key in main_reaction: top_10_reaction[key] = main_reaction[key]\n",
    "for key in minus_top_10_keys:\n",
    "    if key in main_reaction: minus_top_10_reaction[key] = main_reaction[key]"
   ]
  },
  {
   "cell_type": "markdown",
   "metadata": {},
   "source": [
    "## Saving"
   ]
  },
  {
   "cell_type": "code",
   "execution_count": 20,
   "metadata": {},
   "outputs": [],
   "source": [
    "# Build intermediate dicts for each dataset\n",
    "def build_intermediate(reaction_dict):\n",
    "    intermediate = defaultdict(lambda: {k: [] for k in [\n",
    "        \"animal\", \"sex\", \"date\", \"reactionTime\", \"peakTime\", \"difference\", \"peakValue\", \"RMS\",\n",
    "        \"decayTau\", \"decayAUC\", \"peakDecayTau\", \"peakDecayAUC\"\n",
    "    ]})\n",
    "    for entry, values in reaction_dict.items():\n",
    "        parts = entry.split(\"_\")\n",
    "        animal, date = parts[0], parts[1]\n",
    "        sex = sex_dict[animal.replace(\"Animal\", \"\")]\n",
    "        experiment = \"_\".join([p for p in parts[2:] if not p.lower().startswith(\"rep\")])\n",
    "        key = f\"{animal}_{date}_{experiment}\"\n",
    "        intermediate[key][\"animal\"] = animal\n",
    "        intermediate[key][\"sex\"] = sex\n",
    "        intermediate[key][\"date\"] = date\n",
    "        for k in intermediate[key]:\n",
    "            if k in values:\n",
    "                intermediate[key][k].extend(values[k] if isinstance(values[k], list) else [values[k]])\n",
    "    return intermediate\n",
    "\n",
    "intermediate_main = build_intermediate(main_reaction)\n",
    "intermediate_top_10 = build_intermediate(top_10_reaction)\n",
    "intermediate_minus_top_10 = build_intermediate(minus_top_10_reaction)\n",
    "\n",
    "# Overview only for main\n",
    "overview = [\n",
    "    {\n",
    "        \"animal\": key.split(\"_\")[0],\n",
    "        \"sex\": sex_dict[key.split(\"_\")[0].replace(\"Animal\", \"\")],\n",
    "        \"experiment\": \"_\".join(key.split(\"_\")[2:]),\n",
    "        **{k: round(np.mean([\n",
    "            sum(metrics[k])/len(metrics[k]) if len(metrics[k]) > 0 else np.nan\n",
    "            for key2, metrics in intermediate_main.items()\n",
    "            if key2.split(\"_\")[0] == key.split(\"_\")[0]\n",
    "            and \"_\".join(key2.split(\"_\")[2:]) == \"_\".join(key.split(\"_\")[2:])\n",
    "            and sex_dict[key2.split(\"_\")[0].replace(\"Animal\", \"\")] == sex_dict[key.split(\"_\")[0].replace(\"Animal\", \"\")]\n",
    "        ]), 2)\n",
    "        for k in metrics if k not in [\"animal\", \"sex\", \"date\"]}\n",
    "    }\n",
    "    for key, metrics in intermediate_main.items()\n",
    "    if key.split(\"_\")[1] == min([k.split(\"_\")[1] for k in intermediate_main if\n",
    "        k.split(\"_\")[0] == key.split(\"_\")[0] and \"_\".join(k.split(\"_\")[2:]) == \"_\".join(key.split(\"_\")[2:])])\n",
    "]\n",
    "\n",
    "# Results for each dataset\n",
    "def build_results(intermediate):\n",
    "    return [\n",
    "        {\n",
    "            \"animal\": key.split(\"_\")[0],\n",
    "            \"sex\": sex_dict[key.split(\"_\")[0].replace(\"Animal\", \"\")],\n",
    "            \"date\": key.split(\"_\")[1],\n",
    "            \"experiment\": \"_\".join(key.split(\"_\")[2:]),\n",
    "            **{k: metrics[k] for k in metrics if k not in [\"animal\", \"sex\", \"date\"]}\n",
    "        }\n",
    "        for key, metrics in intermediate.items()\n",
    "    ]\n",
    "\n",
    "results = build_results(intermediate_main)\n",
    "results_top_10 = build_results(intermediate_top_10)\n",
    "results_minus_top_10 = build_results(intermediate_minus_top_10)"
   ]
  },
  {
   "cell_type": "code",
   "execution_count": 21,
   "metadata": {},
   "outputs": [],
   "source": [
    "def plot_segment(name, segments, reaction):\n",
    "    if name not in segments or name not in reaction:\n",
    "        print(f\"{name} not found in segments or reaction data.\")\n",
    "        return\n",
    "\n",
    "    df = segments[name]\n",
    "    times = df[0]\n",
    "    values = df[1]\n",
    "    startle_x = 0\n",
    "\n",
    "    animal = name.split(\"_\")[0]\n",
    "    plot_noise = animal_noise.get(animal)\n",
    "    plot_threshold_1 = plot_noise * detection_threshold \n",
    "    plot_threshold_2 = animal_thresholds[animal]\n",
    "\n",
    "    # Extract analysis results\n",
    "    metrics = reaction[name]\n",
    "    peak_time = metrics.get(\"peakTime\", [None])[0]\n",
    "    peak_value = metrics.get(\"peakValue\", [None])[0]\n",
    "    decay_tau = metrics.get(\"decayTau\", [None])[0] \n",
    "    peak_decay_tau = metrics.get(\"peakDecayTau\", [None])[0]\n",
    "\n",
    "    plt.figure(figsize=(8, 6))\n",
    "    plt.plot(times, values, color=\"#000000\", linewidth=1, label=\"Signal\")\n",
    "\n",
    "    # --- Threshold & timing markers ---\n",
    "    plt.axvline(x=startle_x, color=\"#FF0000\", linewidth=2, linestyle='dotted', label=\"Startle\")\n",
    "    plt.axvline(x=measurement_offset, color=\"#FFD000\", linewidth=2, linestyle='dotted',\n",
    "                label=f\"Measurement End (t={measurement_offset}ms)\")\n",
    "\n",
    "    plt.axhline(y=plot_threshold_1, color=\"#CE1195\", linewidth=2, linestyle='dotted',\n",
    "                label=f\"Detection Threshold (k={detection_threshold})\")\n",
    "    plt.axhline(y=plot_threshold_2, color=\"#11CE4A\", linewidth=2, linestyle='dotted',\n",
    "                label=f\"Measurement Threshold (k={RT_threshold})\")\n",
    "    plt.axhline(y=plot_noise, color=\"#6F52BF\", linewidth=2, linestyle='dotted',\n",
    "                label=f\"Background Noise ({plot_noise:.2f})\")\n",
    "\n",
    "    # --- Mark peak ---\n",
    "    if peak_time is not None and peak_value is not None:\n",
    "        plt.plot(peak_time, peak_value, 'ro', label=f\"Peak ({peak_time}ms, {peak_value})\")\n",
    "        plt.axvline(x=peak_time, color=\"#AA0000\", linewidth=1.5, linestyle='--')\n",
    "\n",
    "    # --- Plot fitted decay curve ---\n",
    "    if decay_tau is not None and not np.isnan(decay_tau) and peak_time is not None and peak_value is not None:\n",
    "        try:\n",
    "            decay_mask = times > peak_time\n",
    "            decay_times = times[decay_mask]\n",
    "            decay_values = values[decay_mask]\n",
    "            shifted_times = decay_times - peak_time\n",
    "\n",
    "            # Estimate fit again with starting params\n",
    "            p0 = [peak_value, decay_tau, np.min(decay_values)]\n",
    "            params, _ = curve_fit(exp_decay, shifted_times, decay_values, p0=p0, maxfev=10000)\n",
    "            A, tau, C = params\n",
    "\n",
    "            fitted = exp_decay(shifted_times, A, tau, C)\n",
    "            plt.plot(decay_times, fitted, 'r--', label=f\"Decay Fit (τ={tau:.2f}ms)\")\n",
    "\n",
    "            # --- Plot peak decay fit ---\n",
    "            if peak_decay_tau is not None and not np.isnan(peak_decay_tau):\n",
    "                peak_mask = decay_values > fitted\n",
    "                if np.sum(peak_mask) > 5:\n",
    "                    times_peak_decay = shifted_times[peak_mask]\n",
    "                    values_peak_decay = decay_values[peak_mask]\n",
    "                    try:\n",
    "                        p0_peak = [np.max(values_peak_decay), peak_decay_tau, np.min(values_peak_decay)]\n",
    "                        params_peak, _ = curve_fit(exp_decay, times_peak_decay, values_peak_decay, p0=p0_peak, maxfev=10000)\n",
    "                        A_peak, tau_peak, C_peak = params_peak\n",
    "                        fitted_peak = exp_decay(times_peak_decay, A_peak, tau_peak, C_peak)\n",
    "                        plt.plot(decay_times[peak_mask], fitted_peak, 'b--', label=f\"Peak Decay Fit (τ={tau_peak:.2f}ms)\")\n",
    "                    except Exception as e:\n",
    "                        print(f\"Peak decay fitting failed for {name}: {e}\")\n",
    "\n",
    "        except Exception as e:\n",
    "            print(f\"Decay fitting failed for {name}: {e}\")\n",
    "\n",
    "    plt.xlabel(\"Time (ms)\", fontsize=12)\n",
    "    plt.ylabel(\"ValueG\", fontsize=12)\n",
    "    plt.title(name, fontsize=14)\n",
    "    plt.grid(True, linestyle=\"--\", alpha=0.7)\n",
    "    plt.legend()\n",
    "    plt.show()"
   ]
  },
  {
   "cell_type": "code",
   "execution_count": 22,
   "metadata": {},
   "outputs": [
    {
     "data": {
      "image/png": "[encoded data removed]",
      "text/plain": [
       "<Figure size 800x600 with 1 Axes>"
      ]
     },
     "metadata": {},
     "output_type": "display_data"
    }
   ],
   "source": [
    "example_name = list(data.keys())[example_number] # get example segment\n",
    "plot_segment(example_name, data, main_reaction) # plot example segment"
   ]
  },
  {
   "cell_type": "code",
   "execution_count": 23,
   "metadata": {},
   "outputs": [],
   "source": [
    "def get_number(s):\n",
    "    match = re.search(r'(\\d+)$', s)  \n",
    "    return int(match.group(1)) if match else None\n",
    "\n",
    "def get_experiment_type(s):\n",
    "    return re.sub(r'[_\\s-]?\\d+$', '', s)\n",
    "\n",
    "def get_animal_number(s):\n",
    "    match = re.search(r'(\\d+)', s)\n",
    "    return int(match.group(1)) if match else None"
   ]
  },
  {
   "cell_type": "code",
   "execution_count": 24,
   "metadata": {},
   "outputs": [],
   "source": [
    "if output:\n",
    "    os.makedirs(output_dir, exist_ok=True)\n",
    "\n",
    "    counter = 1\n",
    "    while os.path.exists(os.path.join(output_dir, str(counter))):\n",
    "        counter += 1\n",
    "\n",
    "    if replace and counter != 1: counter -= 1\n",
    "\n",
    "    subfolder_path = os.path.join(output_dir, str(counter))\n",
    "\n",
    "    os.makedirs(subfolder_path, exist_ok=True)\n",
    "\n",
    "    dfs = [pd.DataFrame(overview), pd.DataFrame(results), pd.DataFrame(results_top_10), pd.DataFrame(results_minus_top_10)]\n",
    "\n",
    "    for i, df in enumerate(dfs):\n",
    "        # Sorting\n",
    "        df['has_number'] = df['experiment'].str.contains(r'\\d+$')\n",
    "        df['experiment_number'] = df['experiment'].apply(get_number)\n",
    "        df['experiment_type'] = df['experiment'].apply(get_experiment_type)\n",
    "        df['animal_number'] = df['animal'].apply(get_animal_number)\n",
    "        try:\n",
    "            df = df.sort_values(['date', 'animal_number', 'has_number', 'experiment_type', 'experiment_number'])\n",
    "        except KeyError:\n",
    "            df = df.sort_values(['animal_number', 'has_number', 'experiment_type', 'experiment_number'])\n",
    "\n",
    "        df = df.drop(columns=['has_number', 'experiment_type', 'experiment_number', 'animal_number'])\n",
    "\n",
    "        if not include_decay_fit:\n",
    "            df = df.drop(columns=['decayTau', 'decayAUC'])\n",
    "            df = df.rename(columns={'peakDecayTau': 'tau', 'peakDecayAUC': 'AUC'}) \n",
    "\n",
    "        df = df.reset_index(drop=True)\n",
    "\n",
    "        # Naming and saving\n",
    "        filename = filenames[i]\n",
    "        output_path = os.path.join(subfolder_path, f\"{filename}.xlsx\")\n",
    "\n",
    "        df.to_excel(output_path, index=False)\n",
    "\n",
    "    if verbose: print(f\"Saved results to: {subfolder_path}\")"
   ]
  }
 ],
 "metadata": {
  "kernelspec": {
   "display_name": "Python 3",
   "language": "python",
   "name": "python3"
  },
  "language_info": {
   "codemirror_mode": {
    "name": "ipython",
    "version": 3
   },
   "file_extension": ".py",
   "mimetype": "text/x-python",
   "name": "python",
   "nbconvert_exporter": "python",
   "pygments_lexer": "ipython3",
   "version": "3.13.7"
  }
 },
 "nbformat": 4,
 "nbformat_minor": 2
}
