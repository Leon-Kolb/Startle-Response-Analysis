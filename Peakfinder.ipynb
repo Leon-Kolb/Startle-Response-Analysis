{
 "cells": [
  {
   "cell_type": "markdown",
   "metadata": {},
   "source": [
    "# Peakfinder"
   ]
  },
  {
   "cell_type": "markdown",
   "metadata": {},
   "source": [
    "## Introduction"
   ]
  },
  {
   "cell_type": "markdown",
   "metadata": {},
   "source": [
    "This notebook takes input data from ASR-recordings in the form of an input folder containing the CSV files for each recording day and animal, giving output files regarding the average reaction of each animal to each experiment. <br>The code is annotated and a more extensive explanation is contained within `Protocol.pdf`. "
   ]
  },
  {
   "cell_type": "markdown",
   "metadata": {},
   "source": [
    "## Imports"
   ]
  },
  {
   "cell_type": "markdown",
   "metadata": {},
   "source": [
    "If this is your first time running this, you may need to install various python packages using pip. <br>\n",
    "Open the terminal, either the windows command console or the VSC terminal, and run the command `pip install MODULENAME` for every module listed in the cell below (for example, `pip install pandas` to install pandas). Some of them may already be installed. Repeat this for the imports in `Analyzer.ipynb`."
   ]
  },
  {
   "cell_type": "code",
   "execution_count": 109,
   "metadata": {},
   "outputs": [],
   "source": [
    "import pandas as pd       \n",
    "import matplotlib.pyplot as plt\n",
    "import numpy as np\n",
    "import os\n",
    "from collections import defaultdict, Counter\n",
    "from IPython.display import clear_output\n",
    "import re\n",
    "import ast"
   ]
  },
  {
   "cell_type": "markdown",
   "metadata": {},
   "source": [
    "## Configuration"
   ]
  },
  {
   "cell_type": "code",
   "execution_count": 110,
   "metadata": {},
   "outputs": [],
   "source": [
    "input_dir = \"2025\" # - - - - - - - - - - - - - - - - - - - - - folder containing folders with .CSV files; change this to your own input directory\n",
    "\n",
    "output_dir = \"Results\" # - - - - - - - - - - - - - - - - - - - folder containing final results\n",
    "\n",
    "filename = \"Output\" # - - - - - - - - - - - - - - - - - - - -  name of the output files\n",
    "\n",
    "verbose = True # - - - - - - - - - - - - - - - - - - - - - - - enables more output messages which can help identify problems; the notebook will only return errors if False\n",
    "\n",
    "use_RMS = True # - - - - - - - - - - - - - - - - - - - - - - - use RMS instead of raw strength\n",
    "\n",
    "separate_top_10 = False # - - - - - - - - - - - - - - - - - -  put results from the first 10 recordings of every animal on every day into a separate file\n",
    "\n",
    "discard_peakless = True # - - - - - - - - - - - - - - - - - -  discard recordings without peaks from analysis\n",
    "\n",
    "more_data = True # - - - - - - - - - - - - - - - - - - - - - - also includes peakTime and difference between peakTime and reactionTime in output\n",
    "\n",
    "keep_repetitions = False # - - - - - - - - - - - - - - - - - - does not average across trial repetitions if True\n",
    "\n",
    "replace = False # - - - - - - - - - - - - - - - - - - - - - -  replace last output instead of making a new one\n",
    "\n",
    "output = True # - - - - - - - - - - - - - - - - - - - - - - -  output results; set to False for testing if you do not want any change in output files when running the notebook\n",
    "\n",
    "detection_threshold = 24 # - - - - - - - - - - - - - - - - - - threshold multiplier for detecting peaks, ValueG has to exceed n times the background noise per animal\n",
    "\n",
    "RT_threshold = 3 # - - - - - - - - - - - - - - - - - - - - - - threshold multiplier for measuring reaction time, ValueG has to exceed n times the background noise per animal\n",
    "\n",
    "length = 500 # - - - - - - - - - - - - - - - - - - - - - - - - length of the time window in milliseconds (both before and after the startle)\n",
    "\n",
    "example_number = 34 # - - - - - - - - - - - - - - - - - - - -  index of the trial used for the example plot\n",
    "\n",
    "background_offset = 200 # - - - - - - - - - - - - - - - - - -  measure background noise up to this many ms before the startle time (increase if a prepulse is played this or further away from the startle)\n",
    "\n",
    "detection_offset = 100 # - - - - - - - - - - - - - - - - - - - check for signal up to this many ms after the startle time (for detection)\n",
    "\n",
    "measurement_offset = 100 # - - - - - - - - - - - - - - - - - - check for signal up to this many ms after the startle time (for measurement)\n",
    "\n",
    "exclude = [\"offset_PPI\", \"offset_ASR\"] # - - - - - - - - - - - experiment types to be excluded from analysis; comment out to include all\n",
    "#exclude = [\"ASR_control\", \"gap_depth\"]"
   ]
  },
  {
   "cell_type": "code",
   "execution_count": 111,
   "metadata": {},
   "outputs": [],
   "source": [
    "# Input startle times for every experiment\n",
    "startle_times = {\n",
    "\n",
    "    \"ASR_control\":      10000,\n",
    "    \"gap_depth\":        10100,\n",
    "    \"gap_duration_10\":  10060,\n",
    "    \"gap_duration_20\":  10070,\n",
    "    \"gap_duration_4\":   10054,\n",
    "    \"gap_duration_50\":  10100,\n",
    "    \"gap_duration_8\":   10058,\n",
    "    \"offset_ASR\":       10010,\n",
    "    \"offset_PPI_10\":    10010,\n",
    "    \"offset_PPI_12\":    10012,\n",
    "    \"offset_PPI_14\":    10014,\n",
    "    \"offset_PPI_16\":    10016,\n",
    "    \"offset_PPI_18\":    10018,\n",
    "    \"offset_PPI_20\":    10020,\n",
    "    \"offset_PPI_4\":     10004,\n",
    "    \"offset_PPI_6\":     10006,\n",
    "    \"offset_PPI_8\":     10008,\n",
    "    \"offset_PPI_50\":    10050,\n",
    "    \"tone_in_noise\":    10100\n",
    "    \n",
    "}"
   ]
  },
  {
   "cell_type": "code",
   "execution_count": 112,
   "metadata": {},
   "outputs": [],
   "source": [
    "# Input sex for every animal\n",
    "sex = {\n",
    "    \"1\":    \"female\",\n",
    "    \"2\":    \"male\",\n",
    "    \"4\":    \"male\",\n",
    "    \"6\":    \"female\",\n",
    "    \"10\":   \"female\",\n",
    "    \"15\":   \"male\"\n",
    "}"
   ]
  },
  {
   "cell_type": "code",
   "execution_count": 113,
   "metadata": {},
   "outputs": [],
   "source": [
    "# CSV file settings (insert columns like how they'd appear in an excel file, as in starting with column 1)\n",
    "\n",
    "data_start =           5   # row where recording data starts\n",
    "\n",
    "animal_column =        2   # column \"Animal. No.\"\n",
    "experiment_column =    8   # column \"Exp. No.\"\n",
    "weight_column =        6   # column \"Weight\"\n",
    "number_column =        18  # column \"TrialNo\"\n",
    "name_column =          17  # column \"Trial\"\n",
    "time_column =          19  # column \"MS\"\n",
    "value_column =         20  # column \"ValueG\"\n",
    "\n",
    "# adjust columns to be 0-indexed\n",
    "experiment_column, weight_column, number_column, name_column, time_column, value_column = (x - 1 for x in (experiment_column, weight_column, number_column, name_column, time_column, value_column))"
   ]
  },
  {
   "cell_type": "markdown",
   "metadata": {},
   "source": [
    "## Slicing"
   ]
  },
  {
   "cell_type": "code",
   "execution_count": 114,
   "metadata": {},
   "outputs": [
    {
     "name": "stdout",
     "output_type": "stream",
     "text": [
      "Processed 1645 segments.\n",
      "Repetition count per experiment:\n",
      "ASR_control: 5\n",
      "gap_depth: 5\n",
      "gap_duration_10: 5\n",
      "gap_duration_20: 5\n",
      "gap_duration_4: 5\n",
      "gap_duration_50: 5\n",
      "gap_duration_8: 5\n",
      "offset_ASR: 5\n",
      "offset_PPI_10: 5\n",
      "offset_PPI_12: 5\n",
      "offset_PPI_14: 5\n",
      "offset_PPI_16: 5\n",
      "offset_PPI_18: 3\n",
      "offset_PPI_20: 4\n",
      "offset_PPI_4: 5\n",
      "offset_PPI_50: 4\n",
      "offset_PPI_6: 4\n",
      "offset_PPI_8: 5\n",
      "tone_in_noise: 5\n"
     ]
    }
   ],
   "source": [
    "segments = {}\n",
    "startles = {}\n",
    "weights = {}\n",
    "\n",
    "for root, dirs, files in os.walk(input_dir):\n",
    "    for file in files:\n",
    "        if file.lower().endswith('.csv'):\n",
    "            file_path = os.path.join(root, file)\n",
    "            df = pd.read_csv(file_path, low_memory=False, skiprows=[0, 2])\n",
    "\n",
    "            animal_number = df.iloc[data_start + 1, animal_column]\n",
    "            date = file[:-4].split('_')[1]\n",
    "            animal_str = f\"Animal{animal_number}\"\n",
    "\n",
    "            df.iloc[:, value_column] = pd.to_numeric(df.iloc[:, value_column], errors='coerce')\n",
    "\n",
    "            df.iloc[:, value_column] = abs(df.iloc[:, value_column])\n",
    "\n",
    "            df['trial'] = df.iloc[:, name_column]\n",
    "            df['trial_shift'] = df['trial'].shift(1)\n",
    "            df['new_segment'] = df['trial'] != df['trial_shift']\n",
    "            df['segment_id'] = df['new_segment'].cumsum()\n",
    "\n",
    "            repetition = {}\n",
    "\n",
    "            for segment_id, segment_df in df.groupby('segment_id'):\n",
    "                trial_name = segment_df.iloc[0]['trial']\n",
    "                repetition[trial_name] = repetition.get(trial_name, 0) + 1\n",
    "\n",
    "                segment_startle = startle_times.get(trial_name)\n",
    "                if segment_startle is None:\n",
    "                    raise Exception(f\"Missing startle time for {trial_name}. Please make sure it is included in the startle_times dictionary.\")\n",
    "\n",
    "                segment_name = f\"{animal_str}_{date}_{trial_name}_Rep{repetition[trial_name]}\"\n",
    "\n",
    "                segment_length = len(segment_df)\n",
    "                time_col = np.arange(0, segment_length * 2, 2)\n",
    "                segment_data = pd.DataFrame({\n",
    "                    0: time_col,\n",
    "                    1: segment_df.iloc[:, value_column].values\n",
    "                })\n",
    "\n",
    "                segments[segment_name] = segment_data\n",
    "                startles[segment_name] = segment_startle\n",
    "                if verbose: print(f\"Processed {segment_name}.\")\n",
    "\n",
    "counts = Counter([segment_df.iloc[0]['trial'] for _, segment_df in df.groupby('segment_id')])\n",
    "\n",
    "clear_output(wait=False)\n",
    "\n",
    "if verbose: \n",
    "    print(f\"Processed {len(segments)} segments.\") # 1710 expected\n",
    "    print(\"Repetition count per experiment:\")\n",
    "    for name, count in sorted(counts.items()):\n",
    "        print(f\"{name}: {count}\") # 5 each expected"
   ]
  },
  {
   "cell_type": "code",
   "execution_count": 115,
   "metadata": {},
   "outputs": [
    {
     "name": "stdout",
     "output_type": "stream",
     "text": [
      "Collected background noise for 6 animals:\n",
      "{'Animal10': 0.42, 'Animal15': 1.04, 'Animal1': 0.51, 'Animal2': 0.45, 'Animal4': 0.58, 'Animal6': 0.42}\n"
     ]
    }
   ],
   "source": [
    "# Get background noise per animal\n",
    "animal_noise_intermediate = {}\n",
    "\n",
    "experiment_keys = [t[0] for t in sorted(counts.items())]\n",
    "\n",
    "for key in segments.keys():\n",
    "    # Extract animal name\n",
    "    animal = key.split('_')[0]\n",
    "\n",
    "    # Find experiment prefix in key\n",
    "    matching_prefix = None\n",
    "    for exp_key in experiment_keys:\n",
    "        if exp_key in key:\n",
    "            matching_prefix = exp_key\n",
    "            break\n",
    "\n",
    "    if matching_prefix is None:\n",
    "        print(f\"No experiment prefix found for key: {key}\")\n",
    "        continue\n",
    "\n",
    "    startle_time = startle_times.get(matching_prefix)\n",
    "    if startle_time is None:\n",
    "        print(f\"No startle time found for experiment: {matching_prefix}\")\n",
    "        continue\n",
    "\n",
    "    df = segments[key]\n",
    "\n",
    "    # Convert time column to numeric\n",
    "    df.iloc[:, 0] = pd.to_numeric(df.iloc[:, 0], errors='coerce')\n",
    "\n",
    "    start_time = 0\n",
    "    end_time = startle_time - background_offset  # measure up to 200ms before the startle\n",
    "    if end_time <= start_time:\n",
    "        print(f\"Invalid time window for {key}: startle_time={startle_time}\")\n",
    "        continue\n",
    "\n",
    "    mask = (df.iloc[:, 0] >= start_time) & (df.iloc[:, 0] < end_time)\n",
    "    background_window = df.loc[mask].iloc[:, 1]\n",
    "\n",
    "    if background_window.empty:\n",
    "        print(f\"No data in background window for {key}\")\n",
    "        continue\n",
    "\n",
    "    noise_level = background_window.std()\n",
    "\n",
    "    # Store noise levels per animal and experiment across repetitions\n",
    "    animal_noise_intermediate.setdefault(animal, {}).setdefault(matching_prefix, []).append(noise_level)\n",
    "\n",
    "# Median noise across repetitions per experiment per animal\n",
    "animal_noise_median = {}\n",
    "for animal, exp_dict in animal_noise_intermediate.items():\n",
    "    animal_noise_median[animal] = {}\n",
    "    for exp, noise_list in exp_dict.items():\n",
    "        animal_noise_median[animal][exp] = float(np.median(noise_list))\n",
    "\n",
    "# Median noise across experiments per animal\n",
    "animal_noise = {}\n",
    "for animal, exp_dict in animal_noise_median.items():\n",
    "    all_exp_values = list(exp_dict.values())\n",
    "    if all_exp_values:\n",
    "        animal_noise[animal] = round(float(np.median(all_exp_values)), 2)\n",
    "    else:\n",
    "        animal_noise[animal] = None\n",
    "\n",
    "if verbose:\n",
    "    print(f\"Collected background noise for {len(animal_noise)} animals:\")\n",
    "    print(animal_noise)\n"
   ]
  },
  {
   "cell_type": "code",
   "execution_count": 116,
   "metadata": {},
   "outputs": [],
   "source": [
    "# Cut the segments\n",
    "adjusted_segments = {}\n",
    "for entry in segments:\n",
    "    df = segments[entry]\n",
    "    reference_time = startles[entry]  \n",
    "\n",
    "    # Filter the data to get rows within the 1000 ms before and after the reference time\n",
    "    start_time = reference_time - length\n",
    "    end_time = reference_time + length\n",
    "\n",
    "    # Filter the dataframe to include only the data within the time range\n",
    "    filtered_df = df[(df.iloc[:, 0] >= start_time) & (df.iloc[:, 0] <= end_time)].copy()\n",
    "\n",
    "    # Adjust the time column to set the reference time to 0\n",
    "    filtered_df.iloc[:, 0] = filtered_df.iloc[:, 0] - reference_time\n",
    "\n",
    "    filtered_df.reset_index(drop=True, inplace=True) \n",
    "\n",
    "    adjusted_segments[entry] = filtered_df\n",
    "\n",
    "    #if verbose: print(f\"Adjusted {entry}.\")"
   ]
  },
  {
   "cell_type": "code",
   "execution_count": 117,
   "metadata": {},
   "outputs": [],
   "source": [
    "# Split off top 10 recordings\n",
    "if separate_top_10:\n",
    "    animal_date_keys = defaultdict(list)\n",
    "\n",
    "    for key in adjusted_segments.keys():\n",
    "        parts = key.split('_')\n",
    "        animal = parts[0]\n",
    "        date = parts[1]\n",
    "        animal_date_keys[(animal, date)].append(key)\n",
    "\n",
    "    # Take first 10 keys per animal per date\n",
    "    top_10 = {}\n",
    "    for (animal, date), keys in animal_date_keys.items():\n",
    "        first_10_keys = keys[:10]\n",
    "        for k in first_10_keys:\n",
    "            top_10[k] = adjusted_segments[k]\n",
    "\n",
    "    # Remove top 10 entries per animal and day from adjusted_segments\n",
    "    for key in top_10.keys():\n",
    "        del adjusted_segments[key]\n",
    "\n",
    "    if verbose: print(f\"Moved {len(top_10)} segments to a separate file.\") # 120 expected\n",
    "else:\n",
    "    top_10 = {}"
   ]
  },
  {
   "cell_type": "code",
   "execution_count": 118,
   "metadata": {},
   "outputs": [
    {
     "name": "stdout",
     "output_type": "stream",
     "text": [
      "Excluded 952 segments from regular dataset.\n"
     ]
    }
   ],
   "source": [
    "before = len(adjusted_segments)\n",
    "# Remove excluded experiments\n",
    "for key in adjusted_segments.keys():\n",
    "    adjusted_segments = {   # remove excluded keys\n",
    "    key: value\n",
    "    for key, value in adjusted_segments.items()\n",
    "    if not any(word in key for word in exclude)\n",
    "}\n",
    "if verbose: print(f\"Excluded {before-len(adjusted_segments)} segments from regular dataset.\")\n",
    "\n",
    "if separate_top_10: before_top_10 = len(top_10)\n",
    "# Remove excluded experiments\n",
    "for key in top_10.keys():\n",
    "    top_10 = {   # remove excluded keys\n",
    "    key: value\n",
    "    for key, value in top_10.items()\n",
    "    if not any(word in key for word in exclude)\n",
    "}\n",
    "if verbose and separate_top_10: print(f\"Excluded {before_top_10-len(top_10)} segments from top 10 dataset.\")"
   ]
  },
  {
   "cell_type": "markdown",
   "metadata": {},
   "source": [
    "## Signal Detection"
   ]
  },
  {
   "cell_type": "code",
   "execution_count": 119,
   "metadata": {},
   "outputs": [
    {
     "name": "stdout",
     "output_type": "stream",
     "text": [
      "{'Animal10': 1.26, 'Animal15': 3.12, 'Animal1': 1.53, 'Animal2': 1.35, 'Animal4': 1.7399999999999998, 'Animal6': 1.26}\n",
      "{'Animal10': 10.08, 'Animal15': 24.96, 'Animal1': 12.24, 'Animal2': 10.8, 'Animal4': 13.919999999999998, 'Animal6': 10.08}\n"
     ]
    }
   ],
   "source": [
    "animal_thresholds = {animal: animal_noise[animal] * RT_threshold for animal in animal_noise}\n",
    "if verbose: print(animal_thresholds)\n",
    "animal_thresholds_det = {animal: animal_noise[animal] * detection_threshold for animal in animal_noise}\n",
    "if verbose: print(animal_thresholds_det)"
   ]
  },
  {
   "cell_type": "code",
   "execution_count": 120,
   "metadata": {},
   "outputs": [
    {
     "name": "stdout",
     "output_type": "stream",
     "text": [
      "{'Animal10_April16_gap_duration_4_Rep1': np.True_, 'Animal10_April16_gap_depth_Rep1': np.True_, 'Animal10_April16_gap_duration_10_Rep1': np.True_, 'Animal10_April16_gap_depth_Rep2': np.True_, 'Animal10_April16_gap_duration_10_Rep2': np.True_, 'Animal10_April16_gap_duration_8_Rep1': np.True_, 'Animal10_April16_gap_depth_Rep3': np.True_, 'Animal10_April16_gap_duration_50_Rep1': np.True_, 'Animal10_April16_gap_duration_4_Rep2': np.True_, 'Animal10_April16_tone_in_noise_Rep1': np.True_, 'Animal10_April16_gap_duration_50_Rep2': np.True_, 'Animal10_April16_tone_in_noise_Rep2': np.True_, 'Animal10_April16_gap_duration_8_Rep2': np.True_, 'Animal10_April16_gap_duration_4_Rep3': np.True_, 'Animal10_April16_gap_duration_50_Rep3': np.True_, 'Animal10_April16_gap_duration_20_Rep1': np.True_, 'Animal10_April16_gap_duration_8_Rep3': np.True_, 'Animal10_April16_tone_in_noise_Rep3': np.True_, 'Animal10_April16_gap_duration_50_Rep4': np.True_, 'Animal10_April16_ASR_control_Rep1': np.True_, 'Animal10_April16_tone_in_noise_Rep4': np.True_, 'Animal10_April16_gap_duration_20_Rep2': np.True_, 'Animal10_April16_ASR_control_Rep2': np.True_, 'Animal10_April16_gap_duration_8_Rep4': np.True_, 'Animal10_April16_gap_duration_4_Rep4': np.True_, 'Animal10_April16_gap_duration_50_Rep5': np.True_, 'Animal10_April16_gap_duration_20_Rep3': np.True_, 'Animal10_April16_ASR_control_Rep3': np.True_, 'Animal10_April16_ASR_control_Rep4': np.True_, 'Animal10_April16_gap_duration_20_Rep4': np.True_, 'Animal10_April16_gap_duration_8_Rep5': np.True_, 'Animal10_April16_gap_duration_10_Rep3': np.True_, 'Animal10_April16_gap_duration_10_Rep4': np.True_, 'Animal10_April16_ASR_control_Rep5': np.True_, 'Animal10_April16_gap_depth_Rep4': np.True_, 'Animal10_April16_gap_duration_4_Rep5': np.True_, 'Animal10_April16_tone_in_noise_Rep5': np.True_, 'Animal10_April16_gap_depth_Rep5': np.True_, 'Animal10_April16_gap_duration_10_Rep5': np.True_, 'Animal10_June26_gap_depth_Rep1': np.True_, 'Animal10_June26_tone_in_noise_Rep1': np.True_, 'Animal10_June26_gap_duration_10_Rep1': np.True_, 'Animal10_June26_ASR_control_Rep1': np.True_, 'Animal10_June26_gap_depth_Rep2': np.True_, 'Animal10_June26_gap_duration_4_Rep1': np.True_, 'Animal10_June26_gap_duration_8_Rep1': np.True_, 'Animal10_June26_gap_duration_4_Rep2': np.True_, 'Animal10_June26_gap_duration_20_Rep1': np.True_, 'Animal10_June26_gap_duration_10_Rep2': np.True_, 'Animal10_June26_gap_duration_4_Rep3': np.True_, 'Animal10_June26_gap_duration_10_Rep3': np.True_, 'Animal10_June26_gap_depth_Rep3': np.True_, 'Animal10_June26_gap_duration_8_Rep2': np.True_, 'Animal10_June26_gap_duration_4_Rep4': np.True_, 'Animal10_June26_ASR_control_Rep2': np.True_, 'Animal10_June26_gap_duration_20_Rep2': np.True_, 'Animal10_June26_gap_duration_50_Rep1': np.True_, 'Animal10_June26_gap_duration_4_Rep5': np.True_, 'Animal10_June26_gap_duration_10_Rep4': np.True_, 'Animal10_June26_tone_in_noise_Rep2': np.True_, 'Animal10_June26_gap_duration_8_Rep3': np.True_, 'Animal10_June26_gap_depth_Rep4': np.True_, 'Animal10_June26_ASR_control_Rep3': np.True_, 'Animal10_June26_tone_in_noise_Rep3': np.True_, 'Animal10_June26_ASR_control_Rep4': np.True_, 'Animal10_June26_gap_duration_20_Rep3': np.True_, 'Animal10_June26_tone_in_noise_Rep4': np.True_, 'Animal10_June26_gap_duration_10_Rep5': np.True_, 'Animal10_June26_gap_duration_20_Rep4': np.True_, 'Animal10_June26_gap_duration_8_Rep4': np.True_, 'Animal10_June26_gap_duration_50_Rep2': np.True_, 'Animal10_June26_gap_depth_Rep5': np.True_, 'Animal10_June26_gap_duration_50_Rep3': np.True_, 'Animal10_June26_ASR_control_Rep5': np.True_, 'Animal10_June26_tone_in_noise_Rep5': np.True_, 'Animal10_June26_gap_duration_50_Rep4': np.True_, 'Animal10_June26_gap_duration_8_Rep5': np.True_, 'Animal10_June26_gap_duration_50_Rep5': np.True_, 'Animal10_May20_gap_duration_4_Rep1': np.True_, 'Animal10_May20_gap_duration_20_Rep1': np.True_, 'Animal10_May20_ASR_control_Rep1': np.True_, 'Animal10_May20_gap_duration_4_Rep2': np.True_, 'Animal10_May20_gap_duration_10_Rep1': np.True_, 'Animal10_May20_ASR_control_Rep2': np.True_, 'Animal10_May20_gap_duration_10_Rep2': np.True_, 'Animal10_May20_gap_duration_8_Rep1': np.True_, 'Animal10_May20_tone_in_noise_Rep1': np.True_, 'Animal10_May20_gap_depth_Rep1': np.True_, 'Animal10_May20_gap_duration_8_Rep2': np.True_, 'Animal10_May20_gap_duration_20_Rep2': np.True_, 'Animal10_May20_gap_duration_50_Rep1': np.True_, 'Animal10_May20_gap_depth_Rep2': np.True_, 'Animal10_May20_gap_duration_8_Rep3': np.True_, 'Animal10_May20_ASR_control_Rep3': np.True_, 'Animal10_May20_gap_duration_20_Rep3': np.True_, 'Animal10_May20_gap_duration_10_Rep3': np.True_, 'Animal10_May20_ASR_control_Rep4': np.True_, 'Animal10_May20_tone_in_noise_Rep2': np.True_, 'Animal10_May20_gap_duration_50_Rep2': np.True_, 'Animal10_May20_tone_in_noise_Rep3': np.True_, 'Animal10_May20_gap_duration_4_Rep3': np.True_, 'Animal10_May20_tone_in_noise_Rep4': np.True_, 'Animal10_May20_gap_duration_4_Rep4': np.True_, 'Animal10_May20_tone_in_noise_Rep5': np.True_, 'Animal10_May20_gap_duration_50_Rep3': np.True_, 'Animal10_May20_gap_depth_Rep3': np.True_, 'Animal10_May20_gap_duration_20_Rep4': np.True_, 'Animal10_May20_gap_depth_Rep4': np.True_, 'Animal10_May20_gap_duration_20_Rep5': np.True_, 'Animal10_May20_gap_duration_8_Rep4': np.True_, 'Animal10_May20_gap_depth_Rep5': np.True_, 'Animal10_May20_gap_duration_8_Rep5': np.True_, 'Animal10_May20_gap_duration_50_Rep4': np.True_, 'Animal10_May20_gap_duration_4_Rep5': np.True_, 'Animal10_May20_ASR_control_Rep5': np.True_, 'Animal10_May20_gap_duration_10_Rep4': np.True_, 'Animal10_May20_gap_duration_50_Rep5': np.True_, 'Animal15_April16_ASR_control_Rep1': np.True_, 'Animal15_April16_ASR_control_Rep2': np.True_, 'Animal15_April16_gap_depth_Rep1': np.True_, 'Animal15_April16_gap_duration_20_Rep1': np.True_, 'Animal15_April16_gap_duration_8_Rep1': np.True_, 'Animal15_April16_gap_duration_20_Rep2': np.True_, 'Animal15_April16_gap_duration_10_Rep1': np.True_, 'Animal15_April16_gap_duration_50_Rep1': np.True_, 'Animal15_April16_gap_duration_8_Rep2': np.True_, 'Animal15_April16_gap_duration_4_Rep1': np.True_, 'Animal15_April16_gap_duration_4_Rep2': np.True_, 'Animal15_April16_gap_depth_Rep2': np.True_, 'Animal15_April16_gap_duration_20_Rep3': np.True_, 'Animal15_April16_gap_duration_8_Rep3': np.True_, 'Animal15_April16_gap_duration_50_Rep2': np.True_, 'Animal15_April16_tone_in_noise_Rep1': np.True_, 'Animal15_April16_gap_duration_20_Rep4': np.True_, 'Animal15_April16_tone_in_noise_Rep2': np.False_, 'Animal15_April16_gap_duration_10_Rep2': np.True_, 'Animal15_April16_gap_duration_50_Rep3': np.True_, 'Animal15_April16_gap_duration_10_Rep3': np.True_, 'Animal15_April16_gap_duration_10_Rep4': np.True_, 'Animal15_April16_ASR_control_Rep3': np.True_, 'Animal15_April16_tone_in_noise_Rep3': np.True_, 'Animal15_April16_gap_duration_50_Rep4': np.True_, 'Animal15_April16_gap_duration_8_Rep4': np.True_, 'Animal15_April16_gap_duration_4_Rep3': np.True_, 'Animal15_April16_tone_in_noise_Rep4': np.True_, 'Animal15_April16_gap_duration_50_Rep5': np.True_, 'Animal15_April16_gap_depth_Rep3': np.True_, 'Animal15_April16_gap_duration_4_Rep4': np.True_, 'Animal15_April16_gap_depth_Rep4': np.True_, 'Animal15_April16_gap_duration_10_Rep5': np.True_, 'Animal15_April16_ASR_control_Rep4': np.True_, 'Animal15_April16_gap_depth_Rep5': np.True_, 'Animal15_April16_gap_duration_8_Rep5': np.True_, 'Animal15_April16_gap_duration_4_Rep5': np.False_, 'Animal15_April16_gap_duration_20_Rep5': np.False_, 'Animal15_June26_gap_duration_8_Rep1': np.True_, 'Animal15_June26_gap_duration_20_Rep1': np.True_, 'Animal15_June26_tone_in_noise_Rep1': np.True_, 'Animal15_June26_gap_duration_20_Rep2': np.True_, 'Animal15_June26_gap_depth_Rep1': np.True_, 'Animal15_June26_gap_duration_4_Rep1': np.True_, 'Animal15_June26_ASR_control_Rep1': np.True_, 'Animal15_June26_gap_duration_20_Rep3': np.True_, 'Animal15_June26_ASR_control_Rep2': np.True_, 'Animal15_June26_gap_duration_10_Rep1': np.True_, 'Animal15_June26_gap_duration_8_Rep2': np.True_, 'Animal15_June26_gap_depth_Rep2': np.True_, 'Animal15_June26_gap_duration_8_Rep3': np.True_, 'Animal15_June26_tone_in_noise_Rep2': np.True_, 'Animal15_June26_gap_duration_4_Rep2': np.True_, 'Animal15_June26_gap_duration_50_Rep1': np.True_, 'Animal15_June26_gap_duration_10_Rep2': np.True_, 'Animal15_June26_ASR_control_Rep3': np.True_, 'Animal15_June26_gap_duration_50_Rep2': np.True_, 'Animal15_June26_tone_in_noise_Rep3': np.True_, 'Animal15_June26_gap_duration_10_Rep3': np.True_, 'Animal15_June26_gap_duration_10_Rep4': np.True_, 'Animal15_June26_tone_in_noise_Rep4': np.True_, 'Animal15_June26_gap_depth_Rep3': np.True_, 'Animal15_June26_gap_duration_50_Rep3': np.True_, 'Animal15_June26_gap_duration_8_Rep4': np.True_, 'Animal15_June26_tone_in_noise_Rep5': np.True_, 'Animal15_June26_gap_duration_8_Rep5': np.True_, 'Animal15_June26_gap_depth_Rep4': np.True_, 'Animal15_June26_gap_duration_4_Rep3': np.True_, 'Animal15_June26_gap_duration_50_Rep4': np.True_, 'Animal15_June26_gap_duration_4_Rep4': np.True_, 'Animal15_June26_gap_depth_Rep5': np.True_, 'Animal15_June26_gap_duration_10_Rep5': np.True_, 'Animal15_June26_gap_duration_20_Rep4': np.True_, 'Animal15_June26_ASR_control_Rep4': np.True_, 'Animal15_June26_ASR_control_Rep5': np.True_, 'Animal15_June26_gap_duration_20_Rep5': np.True_, 'Animal15_June26_gap_duration_50_Rep5': np.True_, 'Animal15_June26_gap_duration_4_Rep5': np.True_, 'Animal15_May20_gap_duration_10_Rep1': np.True_, 'Animal15_May20_gap_depth_Rep1': np.True_, 'Animal15_May20_tone_in_noise_Rep1': np.True_, 'Animal15_May20_gap_duration_50_Rep1': np.True_, 'Animal15_May20_gap_duration_4_Rep1': np.True_, 'Animal15_May20_ASR_control_Rep1': np.True_, 'Animal15_May20_gap_depth_Rep2': np.True_, 'Animal15_May20_gap_duration_50_Rep2': np.True_, 'Animal15_May20_gap_duration_20_Rep1': np.True_, 'Animal15_May20_gap_duration_8_Rep1': np.True_, 'Animal15_May20_gap_duration_20_Rep2': np.True_, 'Animal15_May20_tone_in_noise_Rep2': np.True_, 'Animal15_May20_tone_in_noise_Rep3': np.True_, 'Animal15_May20_gap_duration_50_Rep3': np.True_, 'Animal15_May20_tone_in_noise_Rep4': np.True_, 'Animal15_May20_gap_duration_10_Rep2': np.True_, 'Animal15_May20_gap_duration_50_Rep4': np.True_, 'Animal15_May20_gap_duration_20_Rep3': np.True_, 'Animal15_May20_tone_in_noise_Rep5': np.True_, 'Animal15_May20_gap_duration_4_Rep2': np.True_, 'Animal15_May20_gap_duration_20_Rep4': np.True_, 'Animal15_May20_gap_duration_50_Rep5': np.True_, 'Animal15_May20_gap_duration_8_Rep2': np.True_, 'Animal15_May20_gap_depth_Rep3': np.True_, 'Animal15_May20_gap_duration_4_Rep3': np.True_, 'Animal15_May20_gap_duration_4_Rep4': np.True_, 'Animal15_May20_gap_duration_8_Rep3': np.True_, 'Animal15_May20_gap_depth_Rep4': np.True_, 'Animal15_May20_gap_duration_20_Rep5': np.True_, 'Animal15_May20_gap_depth_Rep5': np.True_, 'Animal15_May20_gap_duration_8_Rep4': np.True_, 'Animal15_May20_gap_duration_10_Rep3': np.True_, 'Animal15_May20_ASR_control_Rep2': np.True_, 'Animal15_May20_gap_duration_8_Rep5': np.True_, 'Animal15_May20_gap_duration_10_Rep4': np.True_, 'Animal15_May20_ASR_control_Rep3': np.True_, 'Animal15_May20_gap_duration_4_Rep5': np.True_, 'Animal15_May20_gap_duration_10_Rep5': np.True_, 'Animal15_May20_ASR_control_Rep4': np.True_, 'Animal15_May20_ASR_control_Rep5': np.True_, 'Animal1_April16_gap_duration_8_Rep1': np.True_, 'Animal1_April16_tone_in_noise_Rep1': np.True_, 'Animal1_April16_gap_duration_10_Rep1': np.True_, 'Animal1_April16_tone_in_noise_Rep2': np.True_, 'Animal1_April16_gap_duration_20_Rep1': np.True_, 'Animal1_April16_tone_in_noise_Rep3': np.True_, 'Animal1_April16_gap_duration_4_Rep1': np.True_, 'Animal1_April16_gap_duration_10_Rep2': np.True_, 'Animal1_April16_gap_duration_50_Rep1': np.True_, 'Animal1_April16_ASR_control_Rep1': np.True_, 'Animal1_April16_gap_duration_20_Rep2': np.True_, 'Animal1_April16_gap_depth_Rep1': np.True_, 'Animal1_April16_ASR_control_Rep2': np.True_, 'Animal1_April16_gap_duration_4_Rep2': np.True_, 'Animal1_April16_gap_duration_4_Rep3': np.True_, 'Animal1_April16_ASR_control_Rep3': np.True_, 'Animal1_April16_gap_depth_Rep2': np.True_, 'Animal1_April16_gap_duration_20_Rep3': np.True_, 'Animal1_April16_gap_duration_50_Rep2': np.True_, 'Animal1_April16_gap_duration_20_Rep4': np.True_, 'Animal1_April16_gap_duration_50_Rep3': np.True_, 'Animal1_April16_gap_depth_Rep3': np.True_, 'Animal1_April16_gap_duration_50_Rep4': np.True_, 'Animal1_April16_gap_duration_8_Rep2': np.True_, 'Animal1_April16_gap_duration_8_Rep3': np.True_, 'Animal1_April16_ASR_control_Rep4': np.True_, 'Animal1_April16_gap_duration_10_Rep3': np.True_, 'Animal1_April16_gap_duration_4_Rep4': np.True_, 'Animal1_April16_gap_duration_8_Rep4': np.True_, 'Animal1_April16_gap_duration_4_Rep5': np.True_, 'Animal1_April16_gap_duration_20_Rep5': np.True_, 'Animal1_April16_gap_depth_Rep4': np.True_, 'Animal1_April16_gap_duration_10_Rep4': np.True_, 'Animal1_April16_gap_duration_8_Rep5': np.True_, 'Animal1_April16_tone_in_noise_Rep4': np.False_, 'Animal1_April16_gap_duration_10_Rep5': np.True_, 'Animal1_April16_tone_in_noise_Rep5': np.True_, 'Animal1_April16_gap_duration_50_Rep5': np.True_, 'Animal1_April16_ASR_control_Rep5': np.True_, 'Animal1_June26_ASR_control_Rep1': np.True_, 'Animal1_June26_gap_duration_10_Rep1': np.True_, 'Animal1_June26_gap_duration_20_Rep1': np.True_, 'Animal1_June26_gap_duration_8_Rep1': np.True_, 'Animal1_June26_gap_depth_Rep1': np.True_, 'Animal1_June26_gap_duration_4_Rep1': np.True_, 'Animal1_June26_gap_depth_Rep2': np.True_, 'Animal1_June26_gap_duration_4_Rep2': np.True_, 'Animal1_June26_gap_duration_50_Rep1': np.True_, 'Animal1_June26_ASR_control_Rep2': np.True_, 'Animal1_June26_gap_duration_8_Rep2': np.True_, 'Animal1_June26_gap_duration_10_Rep2': np.True_, 'Animal1_June26_ASR_control_Rep3': np.True_, 'Animal1_June26_gap_duration_8_Rep3': np.True_, 'Animal1_June26_gap_duration_20_Rep2': np.True_, 'Animal1_June26_gap_duration_20_Rep3': np.True_, 'Animal1_June26_gap_duration_50_Rep2': np.True_, 'Animal1_June26_gap_duration_10_Rep3': np.True_, 'Animal1_June26_tone_in_noise_Rep1': np.True_, 'Animal1_June26_gap_duration_4_Rep3': np.True_, 'Animal1_June26_tone_in_noise_Rep2': np.True_, 'Animal1_June26_gap_duration_20_Rep4': np.True_, 'Animal1_June26_gap_duration_50_Rep3': np.True_, 'Animal1_June26_tone_in_noise_Rep3': np.True_, 'Animal1_June26_gap_duration_50_Rep4': np.True_, 'Animal1_June26_gap_duration_10_Rep4': np.True_, 'Animal1_June26_gap_duration_4_Rep4': np.True_, 'Animal1_June26_gap_depth_Rep3': np.True_, 'Animal1_June26_gap_depth_Rep4': np.True_, 'Animal1_June26_gap_duration_8_Rep4': np.True_, 'Animal1_June26_gap_duration_10_Rep5': np.True_, 'Animal1_June26_tone_in_noise_Rep4': np.True_, 'Animal1_June26_gap_duration_50_Rep5': np.True_, 'Animal1_June26_tone_in_noise_Rep5': np.True_, 'Animal1_June26_gap_duration_20_Rep5': np.True_, 'Animal1_June26_gap_depth_Rep5': np.True_, 'Animal1_June26_ASR_control_Rep4': np.True_, 'Animal1_June26_gap_duration_8_Rep5': np.True_, 'Animal1_May20_gap_duration_10_Rep1': np.True_, 'Animal1_May20_tone_in_noise_Rep1': np.True_, 'Animal1_May20_gap_depth_Rep1': np.True_, 'Animal1_May20_gap_duration_50_Rep1': np.True_, 'Animal1_May20_gap_depth_Rep2': np.True_, 'Animal1_May20_ASR_control_Rep1': np.True_, 'Animal1_May20_gap_duration_10_Rep2': np.True_, 'Animal1_May20_gap_duration_50_Rep2': np.True_, 'Animal1_May20_gap_duration_8_Rep1': np.True_, 'Animal1_May20_tone_in_noise_Rep2': np.True_, 'Animal1_May20_gap_depth_Rep3': np.True_, 'Animal1_May20_gap_duration_20_Rep1': np.True_, 'Animal1_May20_gap_duration_4_Rep1': np.True_, 'Animal1_May20_ASR_control_Rep2': np.True_, 'Animal1_May20_gap_duration_50_Rep3': np.True_, 'Animal1_May20_gap_depth_Rep4': np.True_, 'Animal1_May20_ASR_control_Rep3': np.True_, 'Animal1_May20_gap_duration_20_Rep2': np.True_, 'Animal1_May20_tone_in_noise_Rep3': np.True_, 'Animal1_May20_gap_duration_20_Rep3': np.True_, 'Animal1_May20_gap_duration_4_Rep2': np.True_, 'Animal1_May20_gap_duration_50_Rep4': np.True_, 'Animal1_May20_gap_duration_10_Rep3': np.True_, 'Animal1_May20_ASR_control_Rep4': np.True_, 'Animal1_May20_tone_in_noise_Rep4': np.True_, 'Animal1_May20_gap_duration_8_Rep2': np.True_, 'Animal1_May20_gap_duration_8_Rep3': np.True_, 'Animal1_May20_gap_duration_20_Rep4': np.True_, 'Animal1_May20_gap_duration_50_Rep5': np.True_, 'Animal1_May20_ASR_control_Rep5': np.True_, 'Animal1_May20_gap_duration_4_Rep3': np.True_, 'Animal1_May20_gap_duration_8_Rep4': np.True_, 'Animal1_May20_gap_duration_10_Rep4': np.True_, 'Animal1_May20_gap_duration_20_Rep5': np.True_, 'Animal1_May20_gap_duration_4_Rep4': np.True_, 'Animal1_May20_tone_in_noise_Rep5': np.True_, 'Animal1_May20_gap_depth_Rep5': np.True_, 'Animal1_May20_gap_duration_4_Rep5': np.True_, 'Animal2_April16_gap_depth_Rep1': np.True_, 'Animal2_April16_ASR_control_Rep1': np.True_, 'Animal2_April16_gap_depth_Rep2': np.True_, 'Animal2_April16_gap_duration_50_Rep1': np.True_, 'Animal2_April16_gap_depth_Rep3': np.True_, 'Animal2_April16_gap_duration_20_Rep1': np.True_, 'Animal2_April16_gap_duration_4_Rep1': np.True_, 'Animal2_April16_gap_duration_8_Rep1': np.True_, 'Animal2_April16_tone_in_noise_Rep1': np.True_, 'Animal2_April16_gap_duration_50_Rep2': np.True_, 'Animal2_April16_gap_duration_10_Rep1': np.True_, 'Animal2_April16_gap_depth_Rep4': np.True_, 'Animal2_April16_tone_in_noise_Rep2': np.True_, 'Animal2_April16_gap_duration_50_Rep3': np.True_, 'Animal2_April16_gap_duration_4_Rep2': np.True_, 'Animal2_April16_gap_duration_8_Rep2': np.True_, 'Animal2_April16_gap_duration_10_Rep2': np.True_, 'Animal2_April16_gap_duration_8_Rep3': np.True_, 'Animal2_April16_gap_duration_4_Rep3': np.True_, 'Animal2_April16_gap_duration_20_Rep2': np.True_, 'Animal2_April16_gap_duration_50_Rep4': np.True_, 'Animal2_April16_gap_duration_8_Rep4': np.True_, 'Animal2_April16_ASR_control_Rep2': np.True_, 'Animal2_April16_ASR_control_Rep3': np.True_, 'Animal2_April16_gap_duration_50_Rep5': np.True_, 'Animal2_April16_tone_in_noise_Rep3': np.True_, 'Animal2_April16_gap_duration_8_Rep5': np.True_, 'Animal2_April16_gap_duration_10_Rep3': np.True_, 'Animal2_April16_tone_in_noise_Rep4': np.True_, 'Animal2_April16_ASR_control_Rep4': np.True_, 'Animal2_April16_tone_in_noise_Rep5': np.True_, 'Animal2_April16_gap_duration_4_Rep4': np.True_, 'Animal2_April16_gap_depth_Rep5': np.True_, 'Animal2_April16_gap_duration_20_Rep3': np.True_, 'Animal2_April16_gap_duration_10_Rep4': np.True_, 'Animal2_April16_gap_duration_4_Rep5': np.True_, 'Animal2_April16_ASR_control_Rep5': np.True_, 'Animal2_April16_gap_duration_10_Rep5': np.True_, 'Animal2_June26_gap_duration_20_Rep1': np.True_, 'Animal2_June26_gap_duration_10_Rep1': np.True_, 'Animal2_June26_gap_duration_8_Rep1': np.True_, 'Animal2_June26_gap_duration_8_Rep2': np.True_, 'Animal2_June26_gap_depth_Rep1': np.True_, 'Animal2_June26_gap_duration_4_Rep1': np.True_, 'Animal2_June26_gap_duration_50_Rep1': np.True_, 'Animal2_June26_ASR_control_Rep1': np.True_, 'Animal2_June26_ASR_control_Rep2': np.True_, 'Animal2_June26_gap_duration_4_Rep2': np.True_, 'Animal2_June26_tone_in_noise_Rep1': np.True_, 'Animal2_June26_gap_duration_50_Rep2': np.True_, 'Animal2_June26_gap_depth_Rep2': np.True_, 'Animal2_June26_ASR_control_Rep3': np.True_, 'Animal2_June26_gap_depth_Rep3': np.True_, 'Animal2_June26_gap_duration_50_Rep3': np.True_, 'Animal2_June26_gap_duration_10_Rep2': np.True_, 'Animal2_June26_gap_duration_4_Rep3': np.True_, 'Animal2_June26_gap_duration_10_Rep3': np.True_, 'Animal2_June26_tone_in_noise_Rep2': np.True_, 'Animal2_June26_gap_depth_Rep4': np.True_, 'Animal2_June26_tone_in_noise_Rep3': np.True_, 'Animal2_June26_tone_in_noise_Rep4': np.True_, 'Animal2_June26_gap_depth_Rep5': np.True_, 'Animal2_June26_ASR_control_Rep4': np.True_, 'Animal2_June26_gap_duration_10_Rep4': np.True_, 'Animal2_June26_gap_duration_8_Rep3': np.True_, 'Animal2_June26_gap_duration_4_Rep4': np.True_, 'Animal2_June26_gap_duration_20_Rep2': np.True_, 'Animal2_June26_gap_duration_50_Rep4': np.True_, 'Animal2_June26_gap_duration_10_Rep5': np.True_, 'Animal2_June26_ASR_control_Rep5': np.True_, 'Animal2_June26_gap_duration_50_Rep5': np.True_, 'Animal2_June26_gap_duration_8_Rep4': np.True_, 'Animal2_June26_gap_duration_8_Rep5': np.True_, 'Animal2_June26_gap_duration_20_Rep3': np.True_, 'Animal2_June26_gap_duration_4_Rep5': np.True_, 'Animal2_May20_gap_depth_Rep1': np.True_, 'Animal2_May20_gap_duration_10_Rep1': np.True_, 'Animal2_May20_gap_depth_Rep2': np.True_, 'Animal2_May20_gap_duration_4_Rep1': np.True_, 'Animal2_May20_gap_duration_20_Rep1': np.True_, 'Animal2_May20_gap_duration_4_Rep2': np.True_, 'Animal2_May20_gap_duration_8_Rep1': np.True_, 'Animal2_May20_ASR_control_Rep1': np.True_, 'Animal2_May20_gap_duration_20_Rep2': np.True_, 'Animal2_May20_gap_duration_10_Rep2': np.True_, 'Animal2_May20_gap_duration_20_Rep3': np.True_, 'Animal2_May20_gap_duration_50_Rep1': np.True_, 'Animal2_May20_tone_in_noise_Rep1': np.True_, 'Animal2_May20_gap_duration_20_Rep4': np.True_, 'Animal2_May20_gap_duration_50_Rep2': np.True_, 'Animal2_May20_gap_depth_Rep3': np.True_, 'Animal2_May20_gap_duration_10_Rep3': np.True_, 'Animal2_May20_ASR_control_Rep2': np.True_, 'Animal2_May20_gap_duration_4_Rep3': np.True_, 'Animal2_May20_tone_in_noise_Rep2': np.True_, 'Animal2_May20_gap_duration_8_Rep2': np.True_, 'Animal2_May20_tone_in_noise_Rep3': np.True_, 'Animal2_May20_gap_duration_8_Rep3': np.True_, 'Animal2_May20_gap_depth_Rep4': np.True_, 'Animal2_May20_gap_duration_4_Rep4': np.True_, 'Animal2_May20_gap_duration_10_Rep4': np.True_, 'Animal2_May20_gap_duration_8_Rep4': np.True_, 'Animal2_May20_gap_duration_4_Rep5': np.True_, 'Animal2_May20_ASR_control_Rep3': np.True_, 'Animal2_May20_gap_duration_8_Rep5': np.True_, 'Animal2_May20_gap_duration_50_Rep3': np.True_, 'Animal2_May20_gap_duration_10_Rep5': np.True_, 'Animal2_May20_tone_in_noise_Rep4': np.True_, 'Animal2_May20_gap_duration_50_Rep4': np.True_, 'Animal2_May20_ASR_control_Rep4': np.True_, 'Animal2_May20_tone_in_noise_Rep5': np.True_, 'Animal2_May20_gap_duration_20_Rep5': np.True_, 'Animal2_May20_ASR_control_Rep5': np.True_, 'Animal4_April16_gap_duration_20_Rep1': np.True_, 'Animal4_April16_tone_in_noise_Rep1': np.True_, 'Animal4_April16_gap_depth_Rep1': np.True_, 'Animal4_April16_gap_duration_50_Rep1': np.True_, 'Animal4_April16_gap_duration_8_Rep1': np.True_, 'Animal4_April16_gap_duration_10_Rep1': np.True_, 'Animal4_April16_ASR_control_Rep1': np.True_, 'Animal4_April16_gap_duration_8_Rep2': np.True_, 'Animal4_April16_tone_in_noise_Rep2': np.True_, 'Animal4_April16_gap_duration_4_Rep1': np.True_, 'Animal4_April16_gap_duration_50_Rep2': np.True_, 'Animal4_April16_gap_duration_20_Rep2': np.True_, 'Animal4_April16_gap_duration_4_Rep2': np.True_, 'Animal4_April16_gap_duration_10_Rep2': np.True_, 'Animal4_April16_gap_depth_Rep2': np.True_, 'Animal4_April16_gap_duration_8_Rep3': np.True_, 'Animal4_April16_gap_duration_4_Rep3': np.True_, 'Animal4_April16_ASR_control_Rep2': np.True_, 'Animal4_April16_tone_in_noise_Rep3': np.True_, 'Animal4_April16_tone_in_noise_Rep4': np.True_, 'Animal4_April16_ASR_control_Rep3': np.True_, 'Animal4_April16_gap_duration_10_Rep3': np.True_, 'Animal4_April16_gap_duration_4_Rep4': np.True_, 'Animal4_April16_ASR_control_Rep4': np.True_, 'Animal4_April16_gap_depth_Rep3': np.True_, 'Animal4_April16_gap_duration_8_Rep4': np.True_, 'Animal4_April16_gap_duration_50_Rep3': np.True_, 'Animal4_April16_gap_depth_Rep4': np.True_, 'Animal4_April16_gap_duration_10_Rep4': np.True_, 'Animal4_April16_tone_in_noise_Rep5': np.True_, 'Animal4_April16_gap_depth_Rep5': np.True_, 'Animal4_April16_gap_duration_10_Rep5': np.True_, 'Animal4_April16_gap_duration_50_Rep4': np.True_, 'Animal4_April16_gap_duration_8_Rep5': np.True_, 'Animal4_April16_gap_duration_20_Rep3': np.True_, 'Animal4_April16_ASR_control_Rep5': np.True_, 'Animal4_April16_gap_duration_50_Rep5': np.True_, 'Animal4_April16_gap_duration_20_Rep4': np.True_, 'Animal4_June26_gap_depth_Rep1': np.True_, 'Animal4_June26_tone_in_noise_Rep1': np.True_, 'Animal4_June26_gap_duration_10_Rep1': np.True_, 'Animal4_June26_gap_duration_8_Rep1': np.True_, 'Animal4_June26_ASR_control_Rep1': np.True_, 'Animal4_June26_ASR_control_Rep2': np.True_, 'Animal4_June26_gap_duration_8_Rep2': np.True_, 'Animal4_June26_gap_depth_Rep2': np.True_, 'Animal4_June26_tone_in_noise_Rep2': np.True_, 'Animal4_June26_gap_depth_Rep3': np.True_, 'Animal4_June26_gap_duration_4_Rep1': np.True_, 'Animal4_June26_gap_duration_20_Rep1': np.True_, 'Animal4_June26_gap_duration_20_Rep2': np.True_, 'Animal4_June26_gap_duration_50_Rep1': np.True_, 'Animal4_June26_gap_duration_4_Rep2': np.True_, 'Animal4_June26_gap_duration_10_Rep2': np.True_, 'Animal4_June26_gap_duration_8_Rep3': np.True_, 'Animal4_June26_gap_duration_8_Rep4': np.True_, 'Animal4_June26_ASR_control_Rep3': np.True_, 'Animal4_June26_gap_duration_50_Rep2': np.True_, 'Animal4_June26_ASR_control_Rep4': np.True_, 'Animal4_June26_gap_duration_8_Rep5': np.True_, 'Animal4_June26_gap_duration_4_Rep3': np.True_, 'Animal4_June26_gap_duration_4_Rep4': np.True_, 'Animal4_June26_gap_duration_50_Rep3': np.True_, 'Animal4_June26_gap_duration_10_Rep3': np.True_, 'Animal4_June26_gap_duration_4_Rep5': np.True_, 'Animal4_June26_gap_duration_20_Rep3': np.True_, 'Animal4_June26_gap_duration_10_Rep4': np.True_, 'Animal4_June26_ASR_control_Rep5': np.True_, 'Animal4_June26_gap_depth_Rep4': np.True_, 'Animal4_June26_gap_duration_50_Rep4': np.True_, 'Animal4_June26_gap_depth_Rep5': np.True_, 'Animal4_June26_gap_duration_20_Rep4': np.True_, 'Animal4_June26_gap_duration_20_Rep5': np.True_, 'Animal4_June26_tone_in_noise_Rep3': np.True_, 'Animal4_June26_tone_in_noise_Rep4': np.True_, 'Animal4_May20_ASR_control_Rep1': np.True_, 'Animal4_May20_tone_in_noise_Rep1': np.True_, 'Animal4_May20_gap_duration_20_Rep1': np.True_, 'Animal4_May20_gap_duration_4_Rep1': np.True_, 'Animal4_May20_gap_duration_50_Rep1': np.True_, 'Animal4_May20_gap_duration_20_Rep2': np.True_, 'Animal4_May20_gap_duration_10_Rep1': np.True_, 'Animal4_May20_gap_depth_Rep1': np.True_, 'Animal4_May20_gap_duration_10_Rep2': np.True_, 'Animal4_May20_gap_duration_4_Rep2': np.True_, 'Animal4_May20_gap_duration_20_Rep3': np.True_, 'Animal4_May20_gap_duration_10_Rep3': np.True_, 'Animal4_May20_gap_duration_4_Rep3': np.True_, 'Animal4_May20_gap_duration_8_Rep1': np.True_, 'Animal4_May20_tone_in_noise_Rep2': np.True_, 'Animal4_May20_gap_duration_50_Rep2': np.True_, 'Animal4_May20_gap_duration_50_Rep3': np.True_, 'Animal4_May20_gap_duration_10_Rep4': np.True_, 'Animal4_May20_gap_duration_10_Rep5': np.True_, 'Animal4_May20_tone_in_noise_Rep3': np.True_, 'Animal4_May20_tone_in_noise_Rep4': np.True_, 'Animal4_May20_gap_depth_Rep2': np.True_, 'Animal4_May20_gap_duration_50_Rep4': np.True_, 'Animal4_May20_gap_duration_4_Rep4': np.True_, 'Animal4_May20_gap_depth_Rep3': np.True_, 'Animal4_May20_gap_duration_4_Rep5': np.True_, 'Animal4_May20_gap_duration_8_Rep2': np.True_, 'Animal4_May20_gap_depth_Rep4': np.True_, 'Animal4_May20_ASR_control_Rep2': np.True_, 'Animal4_May20_gap_duration_8_Rep3': np.True_, 'Animal4_May20_gap_duration_8_Rep4': np.True_, 'Animal4_May20_gap_duration_8_Rep5': np.True_, 'Animal4_May20_gap_duration_20_Rep4': np.True_, 'Animal4_May20_gap_duration_50_Rep5': np.True_, 'Animal4_May20_ASR_control_Rep3': np.True_, 'Animal4_May20_gap_duration_20_Rep5': np.True_, 'Animal4_May20_ASR_control_Rep4': np.True_, 'Animal4_May20_gap_depth_Rep5': np.True_, 'Animal6_April16_tone_in_noise_Rep1': np.True_, 'Animal6_April16_gap_depth_Rep1': np.True_, 'Animal6_April16_gap_duration_20_Rep1': np.True_, 'Animal6_April16_ASR_control_Rep1': np.True_, 'Animal6_April16_tone_in_noise_Rep2': np.True_, 'Animal6_April16_gap_duration_20_Rep2': np.True_, 'Animal6_April16_gap_duration_10_Rep1': np.True_, 'Animal6_April16_gap_duration_20_Rep3': np.True_, 'Animal6_April16_gap_depth_Rep2': np.True_, 'Animal6_April16_gap_duration_4_Rep1': np.True_, 'Animal6_April16_gap_duration_8_Rep1': np.True_, 'Animal6_April16_gap_duration_50_Rep1': np.True_, 'Animal6_April16_ASR_control_Rep2': np.True_, 'Animal6_April16_gap_duration_4_Rep2': np.True_, 'Animal6_April16_gap_duration_20_Rep4': np.True_, 'Animal6_April16_ASR_control_Rep3': np.True_, 'Animal6_April16_gap_depth_Rep3': np.True_, 'Animal6_April16_gap_duration_8_Rep2': np.True_, 'Animal6_April16_gap_duration_10_Rep2': np.True_, 'Animal6_April16_gap_duration_20_Rep5': np.True_, 'Animal6_April16_gap_duration_10_Rep3': np.True_, 'Animal6_April16_gap_duration_50_Rep2': np.True_, 'Animal6_April16_ASR_control_Rep4': np.True_, 'Animal6_April16_gap_duration_10_Rep4': np.True_, 'Animal6_April16_gap_duration_50_Rep3': np.True_, 'Animal6_April16_tone_in_noise_Rep3': np.True_, 'Animal6_April16_gap_duration_50_Rep4': np.True_, 'Animal6_April16_gap_duration_8_Rep3': np.True_, 'Animal6_April16_gap_depth_Rep4': np.True_, 'Animal6_April16_gap_depth_Rep5': np.True_, 'Animal6_April16_ASR_control_Rep5': np.True_, 'Animal6_April16_gap_duration_10_Rep5': np.True_, 'Animal6_April16_gap_duration_8_Rep4': np.True_, 'Animal6_April16_gap_duration_4_Rep3': np.True_, 'Animal6_April16_tone_in_noise_Rep4': np.True_, 'Animal6_April16_gap_duration_50_Rep5': np.True_, 'Animal6_April16_gap_duration_4_Rep4': np.True_, 'Animal6_June26_gap_duration_10_Rep1': np.True_, 'Animal6_June26_gap_duration_4_Rep1': np.True_, 'Animal6_June26_gap_duration_4_Rep2': np.True_, 'Animal6_June26_gap_duration_8_Rep1': np.True_, 'Animal6_June26_ASR_control_Rep1': np.True_, 'Animal6_June26_ASR_control_Rep2': np.True_, 'Animal6_June26_gap_duration_8_Rep2': np.True_, 'Animal6_June26_gap_depth_Rep1': np.True_, 'Animal6_June26_tone_in_noise_Rep1': np.True_, 'Animal6_June26_gap_duration_20_Rep1': np.True_, 'Animal6_June26_tone_in_noise_Rep2': np.True_, 'Animal6_June26_ASR_control_Rep3': np.True_, 'Animal6_June26_gap_duration_10_Rep2': np.True_, 'Animal6_June26_gap_depth_Rep2': np.True_, 'Animal6_June26_gap_duration_50_Rep1': np.True_, 'Animal6_June26_gap_depth_Rep3': np.True_, 'Animal6_June26_gap_duration_8_Rep3': np.True_, 'Animal6_June26_gap_duration_50_Rep2': np.True_, 'Animal6_June26_gap_duration_8_Rep4': np.True_, 'Animal6_June26_gap_duration_50_Rep3': np.True_, 'Animal6_June26_ASR_control_Rep4': np.True_, 'Animal6_June26_gap_depth_Rep4': np.True_, 'Animal6_June26_gap_duration_20_Rep2': np.True_, 'Animal6_June26_gap_duration_10_Rep3': np.True_, 'Animal6_June26_gap_duration_8_Rep5': np.True_, 'Animal6_June26_gap_duration_10_Rep4': np.True_, 'Animal6_June26_gap_duration_50_Rep4': np.True_, 'Animal6_June26_gap_duration_20_Rep3': np.True_, 'Animal6_June26_gap_duration_4_Rep3': np.True_, 'Animal6_June26_gap_duration_20_Rep4': np.True_, 'Animal6_June26_gap_depth_Rep5': np.True_, 'Animal6_June26_gap_duration_4_Rep4': np.True_, 'Animal6_June26_tone_in_noise_Rep3': np.True_, 'Animal6_June26_gap_duration_50_Rep5': np.True_, 'Animal6_June26_tone_in_noise_Rep4': np.True_, 'Animal6_June26_gap_duration_20_Rep5': np.True_, 'Animal6_June26_gap_duration_10_Rep5': np.True_, 'Animal6_June26_gap_duration_4_Rep5': np.True_, 'Animal6_June26_tone_in_noise_Rep5': np.True_, 'Animal6_June26_ASR_control_Rep5': np.True_, 'Animal6_May20_gap_duration_50_Rep1': np.True_, 'Animal6_May20_gap_depth_Rep1': np.True_, 'Animal6_May20_gap_duration_20_Rep1': np.True_, 'Animal6_May20_gap_duration_20_Rep2': np.True_, 'Animal6_May20_gap_duration_8_Rep1': np.True_, 'Animal6_May20_gap_duration_20_Rep3': np.True_, 'Animal6_May20_gap_duration_20_Rep4': np.True_, 'Animal6_May20_gap_duration_4_Rep1': np.True_, 'Animal6_May20_tone_in_noise_Rep1': np.True_, 'Animal6_May20_gap_duration_8_Rep2': np.True_, 'Animal6_May20_gap_depth_Rep2': np.True_, 'Animal6_May20_gap_duration_8_Rep3': np.True_, 'Animal6_May20_gap_duration_10_Rep1': np.True_, 'Animal6_May20_gap_duration_8_Rep4': np.True_, 'Animal6_May20_gap_depth_Rep3': np.True_, 'Animal6_May20_gap_duration_10_Rep2': np.True_, 'Animal6_May20_gap_duration_4_Rep2': np.True_, 'Animal6_May20_gap_duration_10_Rep3': np.True_, 'Animal6_May20_gap_duration_10_Rep4': np.True_, 'Animal6_May20_gap_duration_50_Rep2': np.True_, 'Animal6_May20_gap_duration_50_Rep3': np.True_, 'Animal6_May20_gap_duration_20_Rep5': np.True_, 'Animal6_May20_gap_depth_Rep4': np.True_, 'Animal6_May20_gap_duration_50_Rep4': np.True_, 'Animal6_May20_gap_duration_4_Rep3': np.True_, 'Animal6_May20_ASR_control_Rep1': np.True_, 'Animal6_May20_gap_duration_10_Rep5': np.True_, 'Animal6_May20_gap_duration_4_Rep4': np.True_, 'Animal6_May20_gap_depth_Rep5': np.True_, 'Animal6_May20_tone_in_noise_Rep2': np.True_, 'Animal6_May20_ASR_control_Rep2': np.True_, 'Animal6_May20_gap_duration_50_Rep5': np.True_, 'Animal6_May20_tone_in_noise_Rep3': np.True_, 'Animal6_May20_tone_in_noise_Rep4': np.True_, 'Animal6_May20_gap_duration_4_Rep5': np.True_, 'Animal6_May20_ASR_control_Rep3': np.True_, 'Animal6_May20_tone_in_noise_Rep5': np.True_, 'Animal6_May20_gap_duration_8_Rep5': np.True_, 'Animal6_May20_ASR_control_Rep4': np.True_, 'Animal6_May20_ASR_control_Rep5': np.True_}\n"
     ]
    }
   ],
   "source": [
    "signal_results = {}\n",
    "signal_results_top_10 = {}\n",
    "\n",
    "for key, df in adjusted_segments.items():\n",
    "    animal = key.split('_')[0]\n",
    "    noise = animal_noise.get(animal)\n",
    "\n",
    "    # Set post-startle window\n",
    "    mask = (df.iloc[:, 0] >= 0) & (df.iloc[:, 0] <= detection_offset)\n",
    "    window = df.loc[mask].iloc[:, 1]\n",
    "\n",
    "    # Threshold detection\n",
    "    detected = not window.empty and window.max() > detection_threshold * noise\n",
    "    signal_results[key] = detected\n",
    "\n",
    "if verbose: print(signal_results)\n",
    "\n",
    "\n",
    "for key, df in top_10.items():\n",
    "    animal = key.split('_')[0]\n",
    "    noise = animal_noise.get(animal)\n",
    "\n",
    "    # Extract post-startle window\n",
    "    mask = (df.iloc[:, 0] >= 0) & (df.iloc[:, 0] <= detection_offset)\n",
    "    window = df.loc[mask].iloc[:, 1]\n",
    "\n",
    "    # Threshold detection\n",
    "    detected = not window.empty and window.max() > detection_threshold * noise\n",
    "    signal_results_top_10[key] = detected\n",
    "\n",
    "if separate_top_10 and verbose: print(signal_results_top_10)"
   ]
  },
  {
   "cell_type": "code",
   "execution_count": 121,
   "metadata": {},
   "outputs": [
    {
     "name": "stdout",
     "output_type": "stream",
     "text": [
      "{'Animal1': 0.99, 'Animal6': 1.0, 'Animal4': 1.0, 'Animal15': 0.97, 'Animal10': 1.0, 'Animal2': 1.0}\n"
     ]
    }
   ],
   "source": [
    "animal_hits = {}\n",
    "animal_misses = {}\n",
    "animal_hits_top_10 = {}\n",
    "animal_misses_top_10 = {}\n",
    "\n",
    "for key, detected in signal_results.items():\n",
    "    animal = key.split('_')[0]\n",
    "    if detected:\n",
    "        animal_hits[animal] = animal_hits.get(animal, 0) + 1\n",
    "    else:\n",
    "        animal_misses[animal] = animal_misses.get(animal, 0) + 1\n",
    "\n",
    "animal_hit_rate = {}\n",
    "for animal in animal_hits.keys() | animal_misses.keys():\n",
    "    hits = animal_hits.get(animal, 0)\n",
    "    misses = animal_misses.get(animal, 0)\n",
    "    total = hits + misses\n",
    "    animal_hit_rate[animal] = round(hits / total, 2) if total > 0 else None\n",
    "\n",
    "for key, detected in signal_results_top_10.items():\n",
    "    animal = key.split('_')[0]\n",
    "    if detected:\n",
    "        animal_hits_top_10[animal] = animal_hits_top_10.get(animal, 0) + 1\n",
    "    else:\n",
    "        animal_misses_top_10[animal] = animal_misses_top_10.get(animal, 0) + 1\n",
    "\n",
    "animal_hit_rate_top_10 = {}\n",
    "for animal in animal_hits_top_10.keys() | animal_misses_top_10.keys():\n",
    "    hits = animal_hits_top_10.get(animal, 0)\n",
    "    misses = animal_misses_top_10.get(animal, 0)\n",
    "    total = hits + misses\n",
    "    animal_hit_rate_top_10[animal] = round(hits / total, 2) if total > 0 else None\n",
    "\n",
    "\n",
    "if verbose: print(animal_hit_rate) # seem too high?\n",
    "if separate_top_10 and verbose: print(animal_hit_rate_top_10) # separate? do these values even mean anything given that it's just 10? can we try to compare them to see if there are less peaks proportionally in the first 10?"
   ]
  },
  {
   "cell_type": "code",
   "execution_count": 122,
   "metadata": {},
   "outputs": [
    {
     "name": "stdout",
     "output_type": "stream",
     "text": [
      "['Animal15_April16_tone_in_noise_Rep2', 'Animal15_April16_gap_duration_4_Rep5', 'Animal15_April16_gap_duration_20_Rep5', 'Animal1_April16_tone_in_noise_Rep4']\n"
     ]
    }
   ],
   "source": [
    "# Check recordings without peaks\n",
    "false_keys = [key for key, value in signal_results.items() if not value]\n",
    "false_keys_top_10 = [key for key, value in signal_results_top_10.items() if not value]\n",
    "\n",
    "print(false_keys) \n",
    "if separate_top_10: print(false_keys_top_10)\n"
   ]
  },
  {
   "cell_type": "code",
   "execution_count": 123,
   "metadata": {},
   "outputs": [
    {
     "name": "stdout",
     "output_type": "stream",
     "text": [
      "Removed 4 entries without peaks from regular dataframe.\n"
     ]
    }
   ],
   "source": [
    "# Remove entries without peaks TRY LOWERING TO 35\n",
    "if discard_peakless:\n",
    "    data = {k: v for k, v in adjusted_segments.items() if signal_results.get(k, False)}\n",
    "    data_top_10 = {k: v for k, v in top_10.items() if signal_results_top_10.get(k, False)}\n",
    "    if verbose: print(f\"Removed {len(adjusted_segments)-len(data)} entries without peaks from regular dataframe.\")\n",
    "    if separate_top_10 and verbose: print(f\"Removed {len(top_10)-len(data_top_10)} entries without peaks from top 10 dataframe.\")\n",
    "else:\n",
    "    data = adjusted_segments\n",
    "    data_top_10 = top_10"
   ]
  },
  {
   "cell_type": "markdown",
   "metadata": {},
   "source": [
    "## Plotting"
   ]
  },
  {
   "cell_type": "code",
   "execution_count": null,
   "metadata": {},
   "outputs": [],
   "source": [
    "def plot_segment(name, segments):\n",
    "\n",
    "    df = segments[name]\n",
    "    startle_x = 0\n",
    "\n",
    "    plot_noise = animal_noise.get(name.split(\"_\")[0])\n",
    "\n",
    "    plot_threshold_1 = plot_noise * detection_threshold \n",
    "    plot_threshold_2 = animal_thresholds[name.split(\"_\")[0]]\n",
    "\n",
    "    df = df.iloc[::1]  # only use every n-th value for plotting\n",
    "\n",
    "    plot_title = name\n",
    "    plt.figure(figsize=(8, 6))\n",
    "    plt.plot(df[0], df[1], color=\"#000000\", marker=\"o\", markersize=0, linewidth=1.25)\n",
    "\n",
    "    plt.axvline(x=startle_x, color=\"#FF0000\", linewidth=2, linestyle='dotted', label=\"Startle\")\n",
    "    plt.axvline(x=measurement_offset, color=\"#FFD000\", linewidth=2, linestyle='dotted', label=f\"Measurement End (t={measurement_offset}ms)\") # doesn't take reaction time into account\n",
    "\n",
    "    plt.axhline(y=plot_threshold_1, color=\"#CE1195\", linewidth=2, linestyle='dotted', label=f\"Detection Threshold (k={detection_threshold})\")\n",
    "    plt.axhline(y=plot_threshold_2, color=\"#11CE4A\", linewidth=2, linestyle='dotted', label=f\"Measurement Threshold (k={RT_threshold})\")\n",
    "    plt.axhline(y=plot_noise, color=\"#4400FF\", linewidth=2, linestyle='dotted', label=f\"Background Noise ({plot_noise})\")\n",
    "    \n",
    "    plt.xlabel(\"Time (ms)\", fontsize=12)\n",
    "    plt.ylabel(\"ValueG\", fontsize=12)\n",
    "    plt.title(plot_title, fontsize=14)\n",
    "    \n",
    "    plt.grid(True, linestyle=\"--\", alpha=0.7)\n",
    "    plt.legend()\n",
    "\n",
    "    plt.show()"
   ]
  },
  {
   "cell_type": "code",
   "execution_count": 125,
   "metadata": {},
   "outputs": [],
   "source": [
    "example_name =  list(data.keys())[example_number] # get example recording"
   ]
  },
  {
   "cell_type": "code",
   "execution_count": 140,
   "metadata": {},
   "outputs": [
    {
     "data": {
      "image/png": "[encoded data removed]",
      "text/plain": [
       "<Figure size 800x600 with 1 Axes>"
      ]
     },
     "metadata": {},
     "output_type": "display_data"
    }
   ],
   "source": [
    "plot_segment(example_name, data) "
   ]
  },
  {
   "cell_type": "code",
   "execution_count": 127,
   "metadata": {},
   "outputs": [],
   "source": [
    "\n",
    "# 20 and 30: \n",
    "#plot_segment(\"Animal15_April16_tone_in_noise_Rep2\", adjusted_segments) # do not want\n",
    "#plot_segment(\"Animal1_April16_tone_in_noise_Rep4\", adjusted_segments) # do not want\n",
    "# 35:\n",
    "# Animal15_April16_tone_in_noise_Rep2 -> do not want\n",
    "# Animal1_April16_tone_in_noise_Rep4 -> do not want\n",
    "# 40:\n",
    "#plot_segment(\"Animal15_May20_tone_in_noise_Rep5\", adjusted_segments) # want\n",
    "#plot_segment(\"Animal1_May20_ASR_control_Rep5\", adjusted_segments) # do not want\n",
    "#plot_segment(\"Animal15_April16_ASR_control_Rep2\", top_10) # want\n",
    "\n",
    "#plot_segment('Animal15_April16_tone_in_noise_Rep2', adjusted_segments)\n",
    "#plot_segment('Animal15_April16_gap_duration_8_Rep5', adjusted_segments)\n",
    "#plot_segment('Animal15_April16_gap_duration_4_Rep5', adjusted_segments)\n",
    "#plot_segment('Animal15_April16_gap_duration_20_Rep5', adjusted_segments)\n",
    "#plot_segment('Animal1_April16_tone_in_noise_Rep4', adjusted_segments)\n"
   ]
  },
  {
   "cell_type": "markdown",
   "metadata": {},
   "source": [
    "## Analysis"
   ]
  },
  {
   "cell_type": "code",
   "execution_count": 128,
   "metadata": {},
   "outputs": [
    {
     "name": "stdout",
     "output_type": "stream",
     "text": [
      "Created 689 entries for regular reactions.\n"
     ]
    }
   ],
   "source": [
    "reaction = {}\n",
    "\n",
    "for entry in data:\n",
    "    times = data[entry][0]\n",
    "    values = data[entry][1]\n",
    "    \n",
    "    # Define fixed window: from t=0 to t=200\n",
    "    time_window_mask = (times >= 0) & (times <= measurement_offset)\n",
    "    values_in_window = values[time_window_mask]\n",
    "    times_in_window = times[time_window_mask]\n",
    "\n",
    "    indices_above_threshold = np.where((values > animal_thresholds[entry.split(\"_\")[0]]) & (times > 0))[0]\n",
    "\n",
    "    if len(indices_above_threshold) > 0:\n",
    "        peak_start = times[indices_above_threshold[0]]\n",
    "        \n",
    "        max_value = max(values_in_window)  # max in fixed window\n",
    "        max_index_in_window = np.argmax(values_in_window)\n",
    "        max_time = times_in_window.iloc[max_index_in_window]\n",
    "\n",
    "        buildup = max_time - peak_start\n",
    "\n",
    "        if use_RMS:\n",
    "            rms_value = np.sqrt(np.mean(np.square(values_in_window)))  # RMS in fixed window\n",
    "        else:\n",
    "            rms_value = max_value\n",
    "\n",
    "        reaction[entry] = {\n",
    "            \"reactionTime\": int(peak_start),\n",
    "            \"peakTime\": int(max_time),\n",
    "            \"difference\": int(buildup),\n",
    "            \"strength (RMS)\" if use_RMS else \"strength (raw)\": int(rms_value) \n",
    "            } if more_data else {\"reactionTime\": int(peak_start), \"strength (RMS)\" if use_RMS else \"strength (raw)\": int(rms_value)}\n",
    "\n",
    "        if verbose: print(f\"Processed {entry}.\")\n",
    "    else:\n",
    "        if discard_peakless: \n",
    "            raise Exception(f\"No peak found for {entry}. This likely indicates an error in code block 15, wherein all recordings without peaks should be discarded.\")\n",
    "        else:\n",
    "            pass\n",
    "\n",
    "clear_output(wait=False)\n",
    "if verbose: print(f\"Created {len(reaction)} entries for regular reactions.\")"
   ]
  },
  {
   "cell_type": "code",
   "execution_count": 129,
   "metadata": {},
   "outputs": [],
   "source": [
    "reaction_top_10 = {} # broken right now, needs fixing but we don't care about top10 anyway so...\n",
    "\n",
    "for entry in data_top_10:\n",
    "    times = data_top_10[entry][0]\n",
    "    values = data_top_10[entry][1]\n",
    "    \n",
    "    indices_above_threshold = np.where((values > animal_thresholds[entry.split(\"_\")[0]]) & (times > 0))[0]\n",
    "\n",
    "    if len(indices_above_threshold) > 0:\n",
    "        peak_start = times[indices_above_threshold[0]]  # first time a value passes the threshold\n",
    "        start_value = values[indices_above_threshold[0]]  # first value that passes the threshold\n",
    "\n",
    "        min_value = min(values[indices_above_threshold])  # minimum value among those above the threshold\n",
    "        min_value_index = indices_above_threshold[np.argmin(values[indices_above_threshold])]\n",
    "        min_time = times[min_value_index]\n",
    "\n",
    "        max_value = max(values[indices_above_threshold])  # maximum value among those above the threshold\n",
    "        max_value_index = indices_above_threshold[np.argmax(values[indices_above_threshold])]\n",
    "        max_time = times[max_value_index]\n",
    "\n",
    "        buildup = max_time - peak_start\n",
    "\n",
    "        if use_RMS:\n",
    "            rms_value = np.sqrt(np.mean(np.square(values[indices_above_threshold]))) # calculate RMS\n",
    "        else:\n",
    "            rms_value = max_value  \n",
    "\n",
    "        reaction_top_10[entry] = {\n",
    "            \"reactionTime\": int(peak_start),\n",
    "            \"peakTime\": int(max_time),\n",
    "            \"difference\": int(buildup),\n",
    "            \"strength (RMS)\" if use_RMS else \"strength (raw)\": int(rms_value) \n",
    "            } if more_data else {\"reactionTime\": int(peak_start), \"strength (RMS)\" if use_RMS else \"strength (raw)\": int(rms_value)} # exclude peakTime and difference \n",
    "        if verbose: print(f\"Processed {entry}.\")\n",
    "    else:\n",
    "        if separate_top_10 and discard_peakless: \n",
    "            raise Exception(f\"No peak found for {entry}. This indicates an error in code block 15, wherein all recordings without peaks should be discarded.\")\n",
    "        else:\n",
    "            pass # you could add logic for handling peakless recordings here\n",
    "\n",
    "\n",
    "clear_output(wait=False)\n",
    "if verbose and separate_top_10: print(f\"Created {len(reaction_top_10)} entries for first 10 reactions.\")"
   ]
  },
  {
   "cell_type": "markdown",
   "metadata": {},
   "source": [
    "## Saving"
   ]
  },
  {
   "cell_type": "code",
   "execution_count": 130,
   "metadata": {},
   "outputs": [],
   "source": [
    "pattern = re.compile(r'^(?P<animal>\\w+)_(?P<date>\\w+?)_(?P<experiment>.+?)_Rep\\d+$')\n",
    "\n",
    "# Group and average\n",
    "intermediate = defaultdict(lambda: {\n",
    "    \"animal\": [], \"sex\": [], \"date\": [], \"reactionTime\": [], \"peakTime\": [], \"difference\": [], \"strength\": []\n",
    "}) if more_data else defaultdict(lambda: {\n",
    "    \"animal\": [], \"sex\": [], \"date\": [], \"reactionTime\": [], \"strength\": []\n",
    "})\n",
    "\n",
    "for entry, values in reaction.items():\n",
    "    parts = entry.split(\"_\")\n",
    "    animal = parts[0]\n",
    "    date = parts[1]\n",
    "\n",
    "    experiment = [p for p in parts[2:] if not p.lower().startswith('rep')] # remove repetition number\n",
    "    \n",
    "    key = f\"{animal}_{date}_{experiment}\"  # unique key\n",
    "\n",
    "    intermediate[key][\"animal\"].append(animal)\n",
    "    intermediate[key][\"date\"].append(date)\n",
    "    intermediate[key][\"reactionTime\"].append(values[\"reactionTime\"])\n",
    "\n",
    "    if more_data: intermediate[key][\"peakTime\"].append(values[\"peakTime\"]) \n",
    "    if more_data: intermediate[key][\"difference\"].append(values[\"difference\"])\n",
    "    \n",
    "    strength_value = values.get(\"strength (RMS)\" if use_RMS else \"strength (raw)\", None)\n",
    "    intermediate[key][\"strength\"].append(strength_value)\n",
    "\n",
    "\n",
    "# Group and average top 10\n",
    "intermediate_top_10 = defaultdict(lambda: {\n",
    "    \"animal\": [], \"sex\": [], \"date\": [], \"reactionTime\": [], \"peakTime\": [], \"difference\": [], \"strength\": []\n",
    "}) if more_data else defaultdict(lambda: {\n",
    "    \"animal\": [], \"sex\": [], \"date\": [], \"reactionTime\": [], \"strength\": []\n",
    "})\n",
    "\n",
    "for entry, values in reaction_top_10.items():\n",
    "    parts = entry.split(\"_\")\n",
    "    animal = parts[0]\n",
    "    date = parts[1]\n",
    "\n",
    "    experiment = [p for p in parts[2:] if not p.lower().startswith('rep')] # remove repetition number\n",
    "    \n",
    "    key = f\"{animal}_{date}_{experiment}\"  # unique key\n",
    "\n",
    "    intermediate_top_10[key][\"animal\"].append(animal)\n",
    "    intermediate_top_10[key][\"date\"].append(date)\n",
    "    intermediate_top_10[key][\"reactionTime\"].append(values[\"reactionTime\"])\n",
    "    \n",
    "    if more_data: intermediate_top_10[key][\"peakTime\"].append(values[\"peakTime\"])\n",
    "    if more_data: intermediate_top_10[key][\"difference\"].append(values[\"difference\"])\n",
    "    \n",
    "    strength_value = values.get(\"strength (RMS)\" if use_RMS else \"strength (raw)\", None)\n",
    "    intermediate_top_10[key][\"strength\"].append(strength_value)"
   ]
  },
  {
   "cell_type": "code",
   "execution_count": 131,
   "metadata": {},
   "outputs": [],
   "source": [
    "averaged = []\n",
    "for key, metrics in intermediate.items():\n",
    "    parts = key.split(\"_\")\n",
    "    animal = parts[0]\n",
    "    date = parts[1]\n",
    "    experiment = '_'.join(ast.literal_eval('_'.join(parts[2:]))) # don't ask, it works\n",
    "\n",
    "    averaged.append({\n",
    "        \"animal\": animal,\n",
    "        \"sex\": sex[animal.replace(\"Animal\", \"\")],\n",
    "        \"date\": date,\n",
    "        \"experiment\": experiment,\n",
    "        \"reactionTime\": round(sum(metrics[\"reactionTime\"]) / len(metrics[\"reactionTime\"]), 2),\n",
    "        \"peakTime\": round(sum(metrics[\"peakTime\"]) / len(metrics[\"peakTime\"]), 2),\n",
    "        \"difference\": round(sum(metrics[\"difference\"]) / len(metrics[\"difference\"]), 2),\n",
    "        \"strength\": round(sum(metrics[\"strength\"]) / len(metrics[\"strength\"]), 2)\n",
    "    }) if more_data else averaged.append({\n",
    "        \"animal\": animal,\n",
    "        \"sex\": sex[animal.replace(\"Animal\", \"\")],\n",
    "        \"date\": date,\n",
    "        \"experiment\": experiment,\n",
    "        \"reactionTime\": round(sum(metrics[\"reactionTime\"]) / len(metrics[\"reactionTime\"]), 2),\n",
    "        \"strength\": round(sum(metrics[\"strength\"]) / len(metrics[\"strength\"]), 2)\n",
    "    })\n",
    "\n",
    "# Repeat for top 10\n",
    "averaged_top_10 = []\n",
    "for key, metrics in intermediate_top_10.items():\n",
    "    parts = key.split(\"_\")\n",
    "    animal = parts[0]\n",
    "    date = parts[1]\n",
    "    experiment = '_'.join(ast.literal_eval('_'.join(parts[2:])))\n",
    "\n",
    "    averaged_top_10.append({\n",
    "        \"animal\": animal,\n",
    "        \"sex\": sex[animal.replace(\"Animal\", \"\")],\n",
    "        \"date\": date,\n",
    "        \"experiment\": experiment,\n",
    "        \"reactionTime\": round(sum(metrics[\"reactionTime\"]) / len(metrics[\"reactionTime\"]), 2),\n",
    "        \"peakTime\": round(sum(metrics[\"peakTime\"]) / len(metrics[\"peakTime\"]), 2),\n",
    "        \"difference\": round(sum(metrics[\"difference\"]) / len(metrics[\"difference\"]), 2),\n",
    "        \"strength\": round(sum(metrics[\"strength\"]) / len(metrics[\"strength\"]), 2)\n",
    "    }) if more_data else averaged_top_10.append({\n",
    "        \"animal\": animal,\n",
    "        \"sex\": sex[animal.replace(\"Animal\", \"\")],\n",
    "        \"date\": date,\n",
    "        \"experiment\": experiment,\n",
    "        \"reactionTime\": round(sum(metrics[\"reactionTime\"]) / len(metrics[\"reactionTime\"]), 2),\n",
    "        \"strength\": round(sum(metrics[\"strength\"]) / len(metrics[\"strength\"]), 2)\n",
    "    })"
   ]
  },
  {
   "cell_type": "code",
   "execution_count": 132,
   "metadata": {},
   "outputs": [],
   "source": [
    "def get_number(s):\n",
    "    match = re.search(r'(\\d+)$', s)  \n",
    "    return int(match.group(1)) if match else None\n",
    "\n",
    "def get_experiment_type(s):\n",
    "    return re.sub(r'[_\\s-]?\\d+$', '', s)\n",
    "\n",
    "def get_animal_number(s):\n",
    "    match = re.search(r'(\\d+)', s)\n",
    "    return int(match.group(1)) if match else None"
   ]
  },
  {
   "cell_type": "code",
   "execution_count": 133,
   "metadata": {},
   "outputs": [],
   "source": [
    "reps = []\n",
    "for key, metrics in intermediate.items():\n",
    "    parts = key.split(\"_\")\n",
    "    animal = parts[0]\n",
    "    date = parts[1]\n",
    "    experiment = '_'.join(ast.literal_eval('_'.join(parts[2:]))) # don't ask, it works\n",
    "\n",
    "    reps.append({\n",
    "        \"animal\": animal,\n",
    "        \"sex\": sex[animal.replace(\"Animal\", \"\")],\n",
    "        \"date\": date,\n",
    "        \"experiment\": experiment,\n",
    "        \"reactionTime\": metrics[\"reactionTime\"],\n",
    "        \"peakTime\": metrics[\"peakTime\"],\n",
    "        \"difference\": metrics[\"difference\"],\n",
    "        \"strength\": metrics[\"strength\"]\n",
    "    }) if more_data else reps.append({\n",
    "        \"animal\": animal,\n",
    "        \"sex\": sex[animal.replace(\"Animal\", \"\")],\n",
    "        \"date\": date,\n",
    "        \"experiment\": experiment,\n",
    "        \"reactionTime\": metrics[\"reactionTime\"],\n",
    "        \"strength\": metrics[\"strength\"]\n",
    "    })\n",
    "\n",
    "reps_top_10 = []\n",
    "for key, metrics in intermediate_top_10.items():\n",
    "    parts = key.split(\"_\")\n",
    "    animal = parts[0]\n",
    "    date = parts[1]\n",
    "    experiment = '_'.join(ast.literal_eval('_'.join(parts[2:]))) # don't ask, it works\n",
    "\n",
    "    reps_top_10.append({\n",
    "        \"animal\": animal,\n",
    "        \"sex\": sex[animal.replace(\"Animal\", \"\")],\n",
    "        \"date\": date,\n",
    "        \"experiment\": experiment,\n",
    "        \"reactionTime\": metrics[\"reactionTime\"],\n",
    "        \"peakTime\": metrics[\"peakTime\"],\n",
    "        \"difference\": metrics[\"difference\"],\n",
    "        \"strength\": metrics[\"strength\"]\n",
    "    }) if more_data else reps_top_10.append({\n",
    "        \"animal\": animal,\n",
    "        \"sex\": sex[animal.replace(\"Animal\", \"\")],\n",
    "        \"date\": date,\n",
    "        \"experiment\": experiment,\n",
    "        \"reactionTime\": metrics[\"reactionTime\"],\n",
    "        \"strength\": metrics[\"strength\"]\n",
    "    })"
   ]
  },
  {
   "cell_type": "code",
   "execution_count": 134,
   "metadata": {},
   "outputs": [
    {
     "name": "stdout",
     "output_type": "stream",
     "text": [
      "Saved results to: Results\\3\n"
     ]
    }
   ],
   "source": [
    "if output:\n",
    "    os.makedirs(output_dir, exist_ok=True)\n",
    "\n",
    "    counter = 1\n",
    "    while os.path.exists(os.path.join(output_dir, str(counter))):\n",
    "        counter += 1\n",
    "\n",
    "    if replace: counter -= 1\n",
    "\n",
    "    subfolder_path = os.path.join(output_dir, str(counter))\n",
    "\n",
    "    if replace and not separate_top_10: os.remove(os.path.join(subfolder_path, f\"{filename}_Top_10.xlsx\"))\n",
    "\n",
    "    os.makedirs(subfolder_path, exist_ok=True)\n",
    "\n",
    "    dfs = [pd.DataFrame(averaged), pd.DataFrame(averaged_top_10)] if separate_top_10 and not keep_repetitions \\\n",
    "    else [pd.DataFrame(averaged)] if not separate_top_10 and not keep_repetitions \\\n",
    "    else [pd.DataFrame(reps)] if not separate_top_10 and keep_repetitions \\\n",
    "    else [pd.DataFrame(reps), pd.DataFrame(reps_top_10)] # I love coding\n",
    "\n",
    "    for i, df in enumerate(dfs):\n",
    "        # Sorting\n",
    "        df['has_number'] = df['experiment'].str.contains(r'\\d+$')\n",
    "        df['experiment_number'] = df['experiment'].apply(get_number)\n",
    "        df['experiment_type'] = df['experiment'].apply(get_experiment_type)\n",
    "        df['animal_number'] = df['animal'].apply(get_animal_number)\n",
    "\n",
    "        df = df.sort_values(['date', 'animal_number', 'has_number', 'experiment_type', 'experiment_number'])\n",
    "\n",
    "        df = df.drop(columns=['has_number', 'experiment_type', 'experiment_number', 'animal_number'])\n",
    "\n",
    "        df = df.reset_index(drop=True)\n",
    "\n",
    "        # Naming and saving\n",
    "        file_suffix = \"_Top_10\" if i == 1 else \"\"\n",
    "        output_path = os.path.join(subfolder_path, f\"{filename}{file_suffix}.xlsx\")\n",
    "\n",
    "        df.to_excel(output_path, index=False)\n",
    "\n",
    "    if verbose: print(f\"Saved results to: {subfolder_path}\")"
   ]
  }
 ],
 "metadata": {
  "kernelspec": {
   "display_name": "Python 3",
   "language": "python",
   "name": "python3"
  },
  "language_info": {
   "codemirror_mode": {
    "name": "ipython",
    "version": 3
   },
   "file_extension": ".py",
   "mimetype": "text/x-python",
   "name": "python",
   "nbconvert_exporter": "python",
   "pygments_lexer": "ipython3",
   "version": "3.12.4"
  }
 },
 "nbformat": 4,
 "nbformat_minor": 2
}
