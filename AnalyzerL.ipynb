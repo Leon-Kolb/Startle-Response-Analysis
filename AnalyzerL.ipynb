{
 "cells": [
  {
   "cell_type": "code",
   "execution_count": 1,
   "id": "54e9934d",
   "metadata": {},
   "outputs": [],
   "source": [
    "import pandas as pd\n",
    "import numpy as np\n",
    "import matplotlib.pyplot as plt\n",
    "import scipy.stats as stats\n",
    "from scipy.stats import shapiro, boxcox, ttest_ind, mannwhitneyu, pearsonr, friedmanchisquare, kruskal, kstest, \\\n",
    "    lognorm, gamma, weibull_min, probplot, f_oneway, linregress, norm, spearmanr, ttest_1samp, wilcoxon \n",
    "import seaborn as sns\n",
    "import os\n",
    "import ast\n",
    "import statsmodels.formula.api as smf\n",
    "import statsmodels.api as sm\n",
    "from statsmodels.formula.api import ols, mixedlm\n",
    "from statsmodels.stats.multicomp import pairwise_tukeyhsd\n",
    "import scikit_posthocs as sp\n",
    "import itertools"
   ]
  },
  {
   "cell_type": "code",
   "execution_count": 2,
   "id": "d2625f38",
   "metadata": {},
   "outputs": [],
   "source": [
    "input_dir = \"Results\" # input directory\n",
    "\n",
    "number = \"L\" # results to analyze (subfolder name, can be an integer or string)\n",
    "\n",
    "recording_order = (15, 2, 1, 6, 10, 4)"
   ]
  },
  {
   "cell_type": "code",
   "execution_count": 3,
   "id": "1bc4d401",
   "metadata": {},
   "outputs": [
    {
     "name": "stdout",
     "output_type": "stream",
     "text": [
      "Found ['RESULTS', 'RESULTS_MTT', 'RESULTS_TT'] in Results\\L.\n"
     ]
    }
   ],
   "source": [
    "dfs = {}\n",
    "\n",
    "results_dir = os.path.join(input_dir, str(number))\n",
    "files = [file for file in os.listdir(results_dir) if file.endswith(('.xlsx', '.xls')) and not file.startswith('OVERVIEW')]\n",
    "\n",
    "for file in files:\n",
    "    file_path = os.path.join(results_dir, file)\n",
    "    dfs[file.split('.')[0]] = pd.read_excel(file_path)\n",
    "\n",
    "framenames = list(dfs.keys())\n",
    "results = framenames[0]\n",
    "results_mtt = framenames[1]\n",
    "results_tt = framenames[2]\n",
    "\n",
    "print(f\"Found {framenames} in {results_dir}.\")\n",
    "\n",
    "framenames.append('RESULTS_MERGED')\n",
    "framenames.append('RESUlTS_MERGED_MTT')\n",
    "framenames.append('RESULTS_MERGED_TT')"
   ]
  },
  {
   "cell_type": "code",
   "execution_count": 4,
   "id": "8a0a83ed",
   "metadata": {},
   "outputs": [
    {
     "name": "stdout",
     "output_type": "stream",
     "text": [
      "Found 8 experiments, 7 variables and 4 parameters:\n",
      " ASR_control, gap_depth, tone_in_noise, gap_duration_4, gap_duration_8, gap_duration_10, gap_duration_20, gap_duration_50\n",
      " reactionTime, peakTime, difference, peakValue, RMS, tau, AUC\n",
      " animal, sex, date, experiment\n"
     ]
    }
   ],
   "source": [
    "experiments = dfs[results]['experiment'].unique().tolist()\n",
    "variables = dfs[results].columns[4:].tolist()\n",
    "parameters = dfs[results].columns[:4].tolist()\n",
    "print(f\"Found {len(experiments)} experiments, {len(variables)} variables and {len(parameters)} parameters:\")\n",
    "print(\" \"+', '.join(experiments))\n",
    "print(\" \"+', '.join(variables))\n",
    "print(\" \"+', '.join(parameters))"
   ]
  },
  {
   "cell_type": "code",
   "execution_count": 5,
   "id": "63b29cb2",
   "metadata": {},
   "outputs": [],
   "source": [
    "def average_list_columns(df):\n",
    "    df_copy = df.copy()\n",
    "    for col in df_copy.columns:\n",
    "        # Try to convert string representations of lists to actual lists\n",
    "        if df_copy[col].apply(lambda x: isinstance(x, list) or (isinstance(x, str) and x.startswith('['))).any():\n",
    "            df_copy[col] = df_copy[col].apply(\n",
    "                lambda x: np.mean(ast.literal_eval(x)) if isinstance(x, str) and x.startswith('[') else np.mean(x) if isinstance(x, list) else x\n",
    "            )\n",
    "    return df_copy\n",
    "\n",
    "# Create merged DataFrames with averaged values\n",
    "dfs['RESULTS_MERGED'] = average_list_columns(dfs[results])\n",
    "dfs['RESULTS_MTT_MERGED'] = average_list_columns(dfs[results_mtt])\n",
    "dfs['RESULTS_TT_MERGED'] = average_list_columns(dfs[results_tt])"
   ]
  },
  {
   "cell_type": "code",
   "execution_count": 6,
   "id": "843ebfbc",
   "metadata": {},
   "outputs": [],
   "source": [
    "def average_across_dates(df):\n",
    "    # Group by all columns except 'date' and the variables, then average variables across dates\n",
    "    group_cols = [col for col in df.columns if col not in variables and col != 'date']\n",
    "    averaged = df.groupby(group_cols, as_index=False)[variables].mean()\n",
    "    return averaged\n",
    "\n",
    "# Create merged DataFrames with averaged values\n",
    "dfs['RESULTS_MERGED'] = average_list_columns(dfs[results])\n",
    "dfs['RESULTS_MTT_MERGED'] = average_list_columns(dfs[results_mtt])\n",
    "dfs['RESULTS_TT_MERGED'] = average_list_columns(dfs[results_tt])\n",
    "\n",
    "# Create date-averaged versions of each merged DataFrame\n",
    "dfs['RESULTS_MERGED_DATE'] = average_across_dates(dfs['RESULTS_MERGED'])\n",
    "dfs['RESULTS_MTT_MERGED_DATE'] = average_across_dates(dfs['RESULTS_MTT_MERGED'])\n",
    "dfs['RESULTS_TT_MERGED_DATE'] = average_across_dates(dfs['RESULTS_TT_MERGED'])"
   ]
  },
  {
   "cell_type": "code",
   "execution_count": 7,
   "id": "8f8893eb",
   "metadata": {},
   "outputs": [
    {
     "name": "stdout",
     "output_type": "stream",
     "text": [
      "['RESULTS', 'RESULTS_MTT', 'RESULTS_TT', 'RESULTS_MERGED', 'RESULTS_MTT_MERGED', 'RESULTS_TT_MERGED', 'RESULTS_MERGED_DATE', 'RESULTS_MTT_MERGED_DATE', 'RESULTS_TT_MERGED_DATE']\n"
     ]
    }
   ],
   "source": [
    "print(list(dfs.keys()))"
   ]
  },
  {
   "cell_type": "markdown",
   "id": "76414acf",
   "metadata": {},
   "source": [
    "# Distributions"
   ]
  },
  {
   "cell_type": "code",
   "execution_count": 8,
   "id": "e66e7797",
   "metadata": {},
   "outputs": [
    {
     "name": "stdout",
     "output_type": "stream",
     "text": [
      "RESULTS\n",
      "RESULTS_MTT\n",
      "RESULTS_TT\n",
      "RESULTS_MERGED\n",
      "RESULTS_MTT_MERGED\n",
      "RESULTS_TT_MERGED\n",
      "RESULTS_MERGED_DATE\n",
      "RESULTS_MTT_MERGED_DATE\n",
      "RESULTS_TT_MERGED_DATE\n"
     ]
    },
    {
     "name": "stderr",
     "output_type": "stream",
     "text": [
      "c:\\Users\\1kolb\\AppData\\Local\\Programs\\Python\\Python311\\Lib\\site-packages\\scipy\\stats\\_axis_nan_policy.py:586: UserWarning: scipy.stats.shapiro: Input data has range zero. The results may not be accurate.\n",
      "  res = hypotest_fun_out(*samples, **kwds)\n"
     ]
    }
   ],
   "source": [
    "non_parametric_dfs = {}\n",
    "for name, df in dfs.items():\n",
    "    print(name)\n",
    "    if not name.endswith('_MERGED'):\n",
    "        continue  # Only process merged dataframes\n",
    "    non_parametric = pd.DataFrame(columns=['experiment', 'var'])\n",
    "    not_enough_data = 0\n",
    "    for var in variables:\n",
    "        for exp in experiments:\n",
    "            for sex in ['male', 'female']:\n",
    "                data = df[(df['sex'] == sex) & (df['experiment'] == exp)][var].dropna()\n",
    "                if len(data) > 2:\n",
    "                    stat, p = shapiro(data)\n",
    "                    if p < 0.05:\n",
    "                        non_parametric = pd.concat(\n",
    "                            [non_parametric, pd.DataFrame({'experiment': [exp], 'var': [var]})],\n",
    "                            ignore_index=True\n",
    "                        )\n",
    "                else:\n",
    "                    not_enough_data += 1\n",
    "    non_parametric_dfs[name] = non_parametric\n",
    "    #print(f\"Non-parametric entries in {name}: {len(non_parametric)}\")\n",
    "    #if not_enough_data != 0: print(f\"Warning, not enough data for {not_enough_data} entries.\")"
   ]
  },
  {
   "cell_type": "code",
   "execution_count": 9,
   "id": "0740edcf",
   "metadata": {},
   "outputs": [
    {
     "name": "stdout",
     "output_type": "stream",
     "text": [
      "20\n",
      "20\n",
      "22\n"
     ]
    }
   ],
   "source": [
    "print(len(non_parametric_dfs['RESULTS_MERGED']))\n",
    "print(len(non_parametric_dfs['RESULTS_MTT_MERGED']))\n",
    "print(len(non_parametric_dfs['RESULTS_TT_MERGED']))"
   ]
  },
  {
   "cell_type": "markdown",
   "id": "1d8b3491",
   "metadata": {},
   "source": [
    "### Expand non-parametric tests to all variations of gap duration or offset PPI if one of the variations shows significant deviations from normality"
   ]
  },
  {
   "cell_type": "code",
   "execution_count": 10,
   "id": "1b5dd4d7",
   "metadata": {},
   "outputs": [
    {
     "name": "stdout",
     "output_type": "stream",
     "text": [
      "         experiment           var\n",
      "0       ASR_control  reactionTime\n",
      "1    gap_duration_4  reactionTime\n",
      "2    gap_duration_8  reactionTime\n",
      "3   gap_duration_10  reactionTime\n",
      "4   gap_duration_50  reactionTime\n",
      "5       ASR_control      peakTime\n",
      "6         gap_depth      peakTime\n",
      "7     tone_in_noise      peakTime\n",
      "8    gap_duration_4      peakTime\n",
      "9    gap_duration_8      peakTime\n",
      "10  gap_duration_10      peakTime\n",
      "11  gap_duration_20      peakTime\n",
      "12  gap_duration_50      peakTime\n",
      "13      ASR_control    difference\n",
      "14  gap_duration_20    difference\n",
      "15  gap_duration_50    difference\n",
      "16        gap_depth           AUC\n",
      "17        gap_depth           RMS\n",
      "18        gap_depth  reactionTime\n",
      "19    tone_in_noise  reactionTime\n",
      "20  gap_duration_20  reactionTime\n",
      "21        gap_depth    difference\n",
      "22  gap_duration_10    difference\n",
      "23   gap_duration_4           tau\n",
      "24  gap_duration_10           AUC\n",
      "61   gap_duration_4    difference\n",
      "62   gap_duration_8    difference\n",
      "77   gap_duration_8           tau\n",
      "78  gap_duration_10           tau\n",
      "79  gap_duration_20           tau\n",
      "80  gap_duration_50           tau\n",
      "81   gap_duration_4           AUC\n",
      "82   gap_duration_8           AUC\n",
      "83  gap_duration_20           AUC\n",
      "84  gap_duration_50           AUC\n"
     ]
    }
   ],
   "source": [
    "gap_durations = ['gap_duration_4', 'gap_duration_8', 'gap_duration_10', 'gap_duration_20', 'gap_duration_50']\n",
    "offset_exps = [exp for exp in dfs[results]['experiment'].unique() if 'offset_PPI' in str(exp).lower()]\n",
    "\n",
    "# Concatenate and drop duplicates as before\n",
    "dfs_to_merge = [\n",
    "    non_parametric_dfs['RESULTS_MERGED'],\n",
    "    non_parametric_dfs['RESULTS_MTT_MERGED'],\n",
    "    non_parametric_dfs['RESULTS_TT_MERGED']\n",
    "]\n",
    "non_parametric = pd.concat(dfs_to_merge, ignore_index=True).drop_duplicates()\n",
    "\n",
    "# Extend: for each row with \"gap_duration\" in experiment, add all gap_duration_* for that var\n",
    "rows_to_add = []\n",
    "for _, row in non_parametric.iterrows():\n",
    "    if \"gap_duration\" in row['experiment']:\n",
    "        for gap_exp in gap_durations:\n",
    "            if gap_exp != row['experiment']:\n",
    "                new_row = row.copy()\n",
    "                new_row['experiment'] = gap_exp\n",
    "                rows_to_add.append(new_row)\n",
    "    if \"offset_PPI\" in row['experiment']:\n",
    "        for offset_exp in offset_exps:\n",
    "            if offset_exp != row['experiment']:\n",
    "                new_row = row.copy()\n",
    "                new_row['experiment'] = offset_exp\n",
    "                rows_to_add.append(new_row)\n",
    "\n",
    "\n",
    "# Add the new rows and drop duplicates again\n",
    "if rows_to_add:\n",
    "    non_parametric = pd.concat([non_parametric, pd.DataFrame(rows_to_add)], ignore_index=True).drop_duplicates()\n",
    "\n",
    "print(non_parametric)"
   ]
  },
  {
   "cell_type": "markdown",
   "id": "dcb36075",
   "metadata": {},
   "source": [
    "---"
   ]
  },
  {
   "cell_type": "code",
   "execution_count": 11,
   "id": "f04852de",
   "metadata": {},
   "outputs": [],
   "source": [
    "def compare_metrics(df1, df2, variables, group_cols=None, test='auto', non_parametric=None, alpha=0.05):\n",
    "    \"\"\"\n",
    "    Compare all metrics (variables) in df1 to df2.\n",
    "    If group_cols is provided, compare within each group.\n",
    "    test: 'auto' (choose t-test or Mann-Whitney based on normality or non_parametric list), 'ttest', or 'mannwhitney'\n",
    "    non_parametric: DataFrame with columns ['experiment', 'var'] indicating which (experiment, variable) pairs to use non-parametric test for.\n",
    "    alpha: significance threshold for p-value.\n",
    "    Returns a DataFrame with only significant results.\n",
    "    \"\"\"\n",
    "    results = []\n",
    "    if group_cols is None:\n",
    "        group_cols = []\n",
    "    for var in variables:\n",
    "        if group_cols:\n",
    "            groups = df1[group_cols].drop_duplicates()\n",
    "            for _, group_vals in groups.iterrows():\n",
    "                group_dict = group_vals.to_dict()\n",
    "                mask1 = np.ones(len(df1), dtype=bool)\n",
    "                mask2 = np.ones(len(df2), dtype=bool)\n",
    "                for col in group_cols:\n",
    "                    mask1 &= (df1[col] == group_dict[col])\n",
    "                    mask2 &= (df2[col] == group_dict[col])\n",
    "                vals1 = df1.loc[mask1, var].dropna()\n",
    "                vals2 = df2.loc[mask2, var].dropna()\n",
    "                if len(vals1) < 2 or len(vals2) < 2:\n",
    "                    continue\n",
    "                is_non_parametric = False\n",
    "                if non_parametric is not None:\n",
    "                    experiment = group_dict['experiment'] if 'experiment' in group_cols else None\n",
    "                    if experiment is not None:\n",
    "                        is_non_parametric = ((non_parametric['experiment'] == experiment) & (non_parametric['var'] == var)).any()\n",
    "                if test == 'auto':\n",
    "                    if is_non_parametric:\n",
    "                        stat, p = mannwhitneyu(vals1, vals2)\n",
    "                        test_used = 'mannwhitney'\n",
    "                    else:\n",
    "                        stat, p = ttest_ind(vals1, vals2)\n",
    "                        test_used = 'ttest'\n",
    "                elif test == 'ttest':\n",
    "                    stat, p = ttest_ind(vals1, vals2)\n",
    "                    test_used = 'ttest'\n",
    "                else:\n",
    "                    stat, p = mannwhitneyu(vals1, vals2)\n",
    "                    test_used = 'mannwhitney'\n",
    "                if p < alpha:\n",
    "                    results.append({**group_dict, 'variable': var, 'stat': stat, 'p': p, 'test': test_used})\n",
    "        else:\n",
    "            vals1 = df1[var].dropna()\n",
    "            vals2 = df2[var].dropna()\n",
    "            if len(vals1) < 2 or len(vals2) < 2:\n",
    "                continue\n",
    "            is_non_parametric = False\n",
    "            if non_parametric is not None:\n",
    "                is_non_parametric = (non_parametric['var'] == var).any()\n",
    "            if test == 'auto':\n",
    "                if is_non_parametric:\n",
    "                    stat, p = mannwhitneyu(vals1, vals2)\n",
    "                    test_used = 'mannwhitney'\n",
    "                else:\n",
    "                    stat, p = ttest_ind(vals1, vals2)\n",
    "                    test_used = 'ttest'\n",
    "            elif test == 'ttest':\n",
    "                stat, p = ttest_ind(vals1, vals2)\n",
    "                test_used = 'ttest'\n",
    "            else:\n",
    "                stat, p = mannwhitneyu(vals1, vals2)\n",
    "                test_used = 'mannwhitney'\n",
    "            if p < alpha:\n",
    "                results.append({'variable': var, 'stat': stat, 'p': p, 'test': test_used})\n",
    "    return pd.DataFrame(results)"
   ]
  },
  {
   "cell_type": "code",
   "execution_count": 12,
   "id": "ffbbefd4",
   "metadata": {},
   "outputs": [
    {
     "name": "stdout",
     "output_type": "stream",
     "text": [
      "       experiment      variable  stat         p         test\n",
      "0  gap_duration_4  reactionTime  27.5  0.016887  mannwhitney\n",
      "1  gap_duration_8           tau  28.0  0.017316  mannwhitney\n"
     ]
    }
   ],
   "source": [
    "comparison_df_date = compare_metrics(\n",
    "    dfs['RESULTS_MTT_MERGED_DATE'],\n",
    "    dfs['RESULTS_TT_MERGED_DATE'],\n",
    "    variables,\n",
    "    group_cols=['experiment'],\n",
    "    non_parametric=non_parametric\n",
    ")\n",
    "print(comparison_df_date) if not comparison_df_date.empty else print(\"No significant differences found for date-averaged comparison.\")"
   ]
  },
  {
   "cell_type": "code",
   "execution_count": 13,
   "id": "aad25323",
   "metadata": {},
   "outputs": [
    {
     "name": "stdout",
     "output_type": "stream",
     "text": [
      "       experiment      variable    dunn_p\n",
      "0  gap_duration_4  reactionTime  0.012821\n",
      "1  gap_duration_8           tau  0.017622\n"
     ]
    }
   ],
   "source": [
    "# Run post hoc Dunn's test for each significant experiment/variable pair\n",
    "\n",
    "import scikit_posthocs as sp\n",
    "\n",
    "# Filter significant pairs from previous comparison\n",
    "significant_pairs = comparison_df_date[['experiment', 'variable']]\n",
    "\n",
    "posthoc_results = []\n",
    "\n",
    "for _, row in significant_pairs.iterrows():\n",
    "    exp = row['experiment']\n",
    "    var = row['variable']\n",
    "    # Combine TT and MTT data for the experiment\n",
    "    df_tt = dfs['RESULTS_TT_MERGED_DATE']\n",
    "    df_mtt = dfs['RESULTS_MTT_MERGED_DATE']\n",
    "    data_tt = df_tt[df_tt['experiment'] == exp][var].dropna()\n",
    "    data_mtt = df_mtt[df_mtt['experiment'] == exp][var].dropna()\n",
    "    data = pd.DataFrame({\n",
    "        var: pd.concat([data_tt, data_mtt]),\n",
    "        'group': ['TT'] * len(data_tt) + ['MTT'] * len(data_mtt)\n",
    "    })\n",
    "    # Dunn's test\n",
    "    dunn = sp.posthoc_dunn(data, val_col=var, group_col='group', p_adjust='bonferroni')\n",
    "    posthoc_results.append({'experiment': exp, 'variable': var, 'dunn_p': dunn.loc['TT', 'MTT']})\n",
    "\n",
    "posthoc_df = pd.DataFrame(posthoc_results)\n",
    "print(posthoc_df)"
   ]
  },
  {
   "cell_type": "code",
   "execution_count": 14,
   "id": "3c1dcc3c",
   "metadata": {},
   "outputs": [
    {
     "name": "stdout",
     "output_type": "stream",
     "text": [
      "Effect strength for each significant experiment-variable pair (TT vs MTT):\n",
      "gap_duration_4 / reactionTime: Rank-biserial = 0.833\n",
      "gap_duration_8 / tau: Rank-biserial = 0.867\n"
     ]
    }
   ],
   "source": [
    "def cohen_d(x, y):\n",
    "    nx, ny = len(x), len(y)\n",
    "    dof = nx + ny - 2\n",
    "    pooled_std = np.sqrt(((nx - 1) * np.std(x, ddof=1) ** 2 + (ny - 1) * np.std(y, ddof=1) ** 2) / dof)\n",
    "    return (np.mean(x) - np.mean(y)) / pooled_std if pooled_std > 0 else np.nan\n",
    "\n",
    "def rank_biserial(x, y):\n",
    "    from scipy.stats import mannwhitneyu\n",
    "    u, _ = mannwhitneyu(x, y, alternative='two-sided')\n",
    "    n1, n2 = len(x), len(y)\n",
    "    return 1 - (2 * u) / (n1 * n2)\n",
    "\n",
    "print(\"Effect strength for each significant experiment-variable pair (TT vs MTT):\")\n",
    "for _, row in posthoc_df.iterrows():\n",
    "    exp = row['experiment']\n",
    "    var = row['variable']\n",
    "    data_tt = dfs['RESULTS_TT_MERGED_DATE'][dfs['RESULTS_TT_MERGED_DATE']['experiment'] == exp][var].dropna()\n",
    "    data_mtt = dfs['RESULTS_MTT_MERGED_DATE'][dfs['RESULTS_MTT_MERGED_DATE']['experiment'] == exp][var].dropna()\n",
    "    test_row = comparison_df_date[(comparison_df_date['experiment'] == exp) & (comparison_df_date['variable'] == var)]\n",
    "    test_type = test_row['test'].values[0] if not test_row.empty else 'ttest'\n",
    "    if test_type == 'ttest':\n",
    "        eff = cohen_d(data_tt, data_mtt)\n",
    "        eff_label = \"Cohen's d\"\n",
    "    else:\n",
    "        eff = rank_biserial(data_tt, data_mtt)\n",
    "        eff_label = \"Rank-biserial\"\n",
    "    print(f\"{exp} / {var}: {eff_label} = {eff:.3f}\")"
   ]
  },
  {
   "cell_type": "code",
   "execution_count": 15,
   "id": "336943a1",
   "metadata": {},
   "outputs": [
    {
     "data": {
      "image/png": "[encoded data removed]",
      "text/plain": [
       "<Figure size 800x500 with 1 Axes>"
      ]
     },
     "metadata": {},
     "output_type": "display_data"
    }
   ],
   "source": [
    "import matplotlib.pyplot as plt\n",
    "\n",
    "# Collect effect strengths for plotting\n",
    "effect_labels = []\n",
    "effect_values = []\n",
    "\n",
    "for _, row in posthoc_df.iterrows():\n",
    "    exp = row['experiment']\n",
    "    var = row['variable']\n",
    "    data_tt = dfs['RESULTS_TT_MERGED_DATE'][dfs['RESULTS_TT_MERGED_DATE']['experiment'] == exp][var].dropna()\n",
    "    data_mtt = dfs['RESULTS_MTT_MERGED_DATE'][dfs['RESULTS_MTT_MERGED_DATE']['experiment'] == exp][var].dropna()\n",
    "    test_row = comparison_df_date[(comparison_df_date['experiment'] == exp) & (comparison_df_date['variable'] == var)]\n",
    "    test_type = test_row['test'].values[0] if not test_row.empty else 'ttest'\n",
    "    if test_type == 'ttest':\n",
    "        eff = cohen_d(data_tt, data_mtt)\n",
    "        eff_label = \"Cohen's d\"\n",
    "    else:\n",
    "        eff = rank_biserial(data_tt, data_mtt)\n",
    "        eff_label = \"Rank-biserial\"\n",
    "    effect_labels.append(f\"{exp}\\n{var}\\n{eff_label}\")\n",
    "    effect_values.append(eff)\n",
    "\n",
    "if effect_values:\n",
    "    plt.figure(figsize=(8, 5))\n",
    "    plt.bar(effect_labels, effect_values, color='mediumseagreen')\n",
    "    plt.axhline(0, color='gray', linestyle='--')\n",
    "    plt.ylabel(\"Effect Strength (Cohen's d / Rank-biserial)\")\n",
    "    plt.title(\"Effect Strength: TT vs MTT (Significant Pairs)\")\n",
    "    plt.tight_layout()\n",
    "    plt.show()\n",
    "else:\n",
    "    raise ValueError(\"No effect strength values found, cannot plot.\")"
   ]
  },
  {
   "cell_type": "markdown",
   "id": "74c6c970",
   "metadata": {},
   "source": [
    "---"
   ]
  },
  {
   "cell_type": "code",
   "execution_count": 16,
   "id": "beff8ac2",
   "metadata": {},
   "outputs": [
    {
     "name": "stdout",
     "output_type": "stream",
     "text": [
      "No significant differences found for date-averaged comparison.\n"
     ]
    }
   ],
   "source": [
    "comparison_df_date = compare_metrics(\n",
    "    dfs['RESULTS_MTT_MERGED'],\n",
    "    dfs['RESULTS_MTT_MERGED_DATE'],\n",
    "    variables,\n",
    "    group_cols=['experiment'],\n",
    "    non_parametric=non_parametric\n",
    ")\n",
    "print(comparison_df_date) if not comparison_df_date.empty else print(\"No significant differences found for date-averaged comparison.\")"
   ]
  },
  {
   "cell_type": "code",
   "execution_count": 17,
   "id": "fa5a085c",
   "metadata": {},
   "outputs": [
    {
     "data": {
      "image/png": "[encoded data removed]",
      "text/plain": [
       "<Figure size 1000x600 with 1 Axes>"
      ]
     },
     "metadata": {},
     "output_type": "display_data"
    }
   ],
   "source": [
    "import matplotlib.pyplot as plt\n",
    "\n",
    "# Compare each variable before and after date averaging (MTT only)\n",
    "df_raw = dfs['RESULTS_MTT_MERGED']\n",
    "df_avg = dfs['RESULTS_MTT_MERGED_DATE']\n",
    "\n",
    "mean_raw = df_raw[variables].mean()\n",
    "mean_avg = df_avg[variables].mean()\n",
    "\n",
    "# Normalize both to [0, 1] for each variable\n",
    "min_vals = np.minimum(mean_raw, mean_avg)\n",
    "max_vals = np.maximum(mean_raw, mean_avg)\n",
    "norm_raw = (mean_raw - min_vals) / (max_vals - min_vals + 1e-8)\n",
    "norm_avg = (mean_avg - min_vals) / (max_vals - min_vals + 1e-8)\n",
    "\n",
    "plt.figure(figsize=(10, 6))\n",
    "plt.plot(variables, norm_raw, marker='o', label='Raw (per date)')\n",
    "plt.plot(variables, norm_avg, marker='s', label='Averaged (across dates)')\n",
    "plt.ylabel('Normalized Mean Value')\n",
    "plt.title('Normalized Means: Raw vs Date-Averaged (MTT)')\n",
    "plt.legend()\n",
    "plt.tight_layout()\n",
    "plt.show()"
   ]
  },
  {
   "cell_type": "markdown",
   "id": "8160dcc7",
   "metadata": {},
   "source": [
    "### Conclusion: Average across dates, no effect"
   ]
  },
  {
   "cell_type": "markdown",
   "id": "08c27e01",
   "metadata": {},
   "source": [
    "---"
   ]
  },
  {
   "cell_type": "code",
   "execution_count": 18,
   "id": "79afd45c",
   "metadata": {},
   "outputs": [
    {
     "name": "stdout",
     "output_type": "stream",
     "text": [
      "No significant index effects found for any variable.\n"
     ]
    }
   ],
   "source": [
    "# Test if the index within lists (i.e., trial order) affects each variable in 'RESULTS'\n",
    "from scipy.stats import f_oneway, kruskal\n",
    "\n",
    "def test_list_index_effect(df, variables, max_index=10, alpha=0.05):\n",
    "    \"\"\"\n",
    "    For each variable, tests if the value changes significantly across list indices (trial order).\n",
    "    Only prints significant results.\n",
    "    \"\"\"\n",
    "    results = []\n",
    "    for var in variables:\n",
    "        # Convert string lists to actual lists if needed\n",
    "        vals = df[var].apply(lambda x: ast.literal_eval(x) if isinstance(x, str) and x.startswith('[') else x)\n",
    "        # Filter to rows that are lists and have enough length\n",
    "        list_rows = vals[vals.apply(lambda x: isinstance(x, list) and len(x) > 1)]\n",
    "        if list_rows.empty:\n",
    "            raise ValueError(f\"No valid list data found for variable '{var}'. Ensure all entries are lists with more than one element.\")\n",
    "        # Find the minimum length across all lists (to avoid index errors)\n",
    "        min_len = min(list_rows.apply(len))\n",
    "        min_len = min(min_len, max_index)  # Limit to max_index if desired\n",
    "        # Gather values by index\n",
    "        index_groups = []\n",
    "        for i in range(min_len):\n",
    "            group = list_rows.apply(lambda x: x[i] if len(x) > i else np.nan).dropna()\n",
    "            if len(group) > 1:\n",
    "                index_groups.append(group.values)\n",
    "        if len(index_groups) < 2:\n",
    "            raise ValueError(f\"Not enough data to test index effect for variable '{var}'. Ensure each list has at least {min_len} elements.\")\n",
    "        # Use Kruskal-Wallis (non-parametric) or ANOVA (parametric) depending on normality\n",
    "        # Here, we use Kruskal-Wallis for robustness\n",
    "        stat, p = kruskal(*index_groups)\n",
    "        if p < alpha:\n",
    "            results.append({'variable': var, 'stat': stat, 'p': p, 'test': 'kruskal'})\n",
    "    return pd.DataFrame(results)\n",
    "\n",
    "significant_index_effects = test_list_index_effect(dfs['RESULTS_MTT'], variables)\n",
    "print(significant_index_effects if not significant_index_effects.empty else \"No significant index effects found for any variable.\")"
   ]
  },
  {
   "cell_type": "markdown",
   "id": "04309494",
   "metadata": {},
   "source": [
    "### Conclusion: Average across repetitions"
   ]
  },
  {
   "cell_type": "markdown",
   "id": "54b8b837",
   "metadata": {},
   "source": [
    "---"
   ]
  },
  {
   "cell_type": "code",
   "execution_count": 19,
   "id": "bb26c086",
   "metadata": {},
   "outputs": [
    {
     "name": "stdout",
     "output_type": "stream",
     "text": [
      "Significant differences between males and females (Strength Metrics):\n",
      "    variable   stat             p         test\n",
      "0  peakValue  554.0  4.387047e-08  mannwhitney\n",
      "1        RMS  504.0  8.849271e-06  mannwhitney\n",
      "2        tau   20.0  3.472818e-08  mannwhitney\n",
      "3        AUC  453.0  6.940145e-04  mannwhitney\n",
      "\n",
      "Significant differences between males and females (Reaction Metrics):\n",
      "None found.\n"
     ]
    }
   ],
   "source": [
    "# Define metric groups\n",
    "strength_metrics = ['peakValue', 'RMS', 'tau', 'AUC']\n",
    "reaction_metrics = ['reactionTime', 'peakTime', 'difference']\n",
    "\n",
    "def compare_male_female(df, metrics, alpha=0.05):\n",
    "    results = []\n",
    "    for var in metrics:\n",
    "        if var not in df.columns:\n",
    "            continue\n",
    "        vals_male = df[df['sex'] == 'male'][var].dropna()\n",
    "        vals_female = df[df['sex'] == 'female'][var].dropna()\n",
    "        if len(vals_male) < 2 or len(vals_female) < 2:\n",
    "            continue\n",
    "        # Normality check\n",
    "        _, p1 = shapiro(vals_male) if len(vals_male) > 3 else (None, 1)\n",
    "        _, p2 = shapiro(vals_female) if len(vals_female) > 3 else (None, 1)\n",
    "        if p1 < 0.05 or p2 < 0.05:\n",
    "            stat, p = mannwhitneyu(vals_male, vals_female)\n",
    "            test_used = 'mannwhitney'\n",
    "        else:\n",
    "            stat, p = ttest_ind(vals_male, vals_female)\n",
    "            test_used = 'ttest'\n",
    "        if p < alpha:\n",
    "            results.append({'variable': var, 'stat': stat, 'p': p, 'test': test_used})\n",
    "    return pd.DataFrame(results)\n",
    "\n",
    "df = dfs['RESULTS_MTT_MERGED_DATE']\n",
    "\n",
    "print(\"Significant differences between males and females (Strength Metrics):\")\n",
    "strength_results = compare_male_female(df, strength_metrics)\n",
    "print(strength_results if not strength_results.empty else \"None found.\")\n",
    "\n",
    "print(\"\\nSignificant differences between males and females (Reaction Metrics):\")\n",
    "reaction_results = compare_male_female(df, reaction_metrics)\n",
    "print(reaction_results if not reaction_results.empty else \"None found.\")"
   ]
  },
  {
   "cell_type": "code",
   "execution_count": 20,
   "id": "785d02f7",
   "metadata": {},
   "outputs": [
    {
     "name": "stdout",
     "output_type": "stream",
     "text": [
      "\n",
      "Post hoc Dunn's test for all metrics (sex as group):\n",
      "peakValue: Kruskal-Wallis p=4.14e-08\n",
      "              female          male\n",
      "female  1.000000e+00  4.138729e-08\n",
      "male    4.138729e-08  1.000000e+00\n",
      "Means by sex: {'female': 92.97152777777778, 'male': 163.9724537037037}\n",
      "RMS: Kruskal-Wallis p=8.43e-06\n",
      "          female      male\n",
      "female  1.000000  0.000008\n",
      "male    0.000008  1.000000\n",
      "Means by sex: {'female': 25.47112731481481, 'male': 41.15701388888889}\n",
      "tau: Kruskal-Wallis p=3.27e-08\n",
      "              female          male\n",
      "female  1.000000e+00  3.274894e-08\n",
      "male    3.274894e-08  1.000000e+00\n",
      "Means by sex: {'female': 157.98587037037038, 'male': 119.74973611111112}\n",
      "AUC: Kruskal-Wallis p=0.000668\n",
      "          female      male\n",
      "female  1.000000  0.000668\n",
      "male    0.000668  1.000000\n",
      "Means by sex: {'female': 10410.28388888889, 'male': 15062.515150462963}\n",
      "reactionTime: Kruskal-Wallis p=0.105\n",
      "No significant post hoc differences for reactionTime. Kruskal-Wallis p=0.105\n",
      "peakTime: Kruskal-Wallis p=0.204\n",
      "No significant post hoc differences for peakTime. Kruskal-Wallis p=0.204\n",
      "difference: Kruskal-Wallis p=0.893\n",
      "No significant post hoc differences for difference. Kruskal-Wallis p=0.893\n"
     ]
    }
   ],
   "source": [
    "# Post hoc Dunn's test for each metric (sex as group) after compare_male_female\n",
    "import scikit_posthocs as sp\n",
    "\n",
    "all_metrics = strength_metrics + reaction_metrics\n",
    "print(\"\\nPost hoc Dunn's test for all metrics (sex as group):\")\n",
    "for var in all_metrics:\n",
    "    if var not in df.columns:\n",
    "        continue\n",
    "    # Only test if both groups have enough data\n",
    "    groups = [group[var].dropna().values for _, group in df.groupby('sex')]\n",
    "    groups = [g for g in groups if len(g) > 1]\n",
    "    if len(groups) < 2:\n",
    "        continue\n",
    "    stat, p = kruskal(*groups)\n",
    "    print(f\"{var}: Kruskal-Wallis p={p:.3g}\")\n",
    "    if p < 0.05:\n",
    "        dunn = sp.posthoc_dunn(df, val_col=var, group_col='sex', p_adjust='bonferroni')\n",
    "        print(dunn)\n",
    "        means = df.groupby('sex')[var].mean()\n",
    "        print(\"Means by sex:\", means.to_dict())\n",
    "    else:\n",
    "        print(f\"No significant post hoc differences for {var}. Kruskal-Wallis p={p:.3g}\")\n",
    "#"
   ]
  },
  {
   "cell_type": "code",
   "execution_count": 21,
   "id": "3b1a345b",
   "metadata": {},
   "outputs": [
    {
     "name": "stdout",
     "output_type": "stream",
     "text": [
      "Effect strength for each significant metric (male vs female):\n",
      "peakValue: Rank-biserial = -0.924\n",
      "RMS: Rank-biserial = -0.750\n",
      "tau: Rank-biserial = 0.931\n",
      "AUC: Rank-biserial = -0.573\n",
      "reactionTime: Rank-biserial = 0.273\n",
      "peakTime: Rank-biserial = 0.214\n",
      "difference: Cohen's d = 0.007\n"
     ]
    }
   ],
   "source": [
    "# Effect strength calculation for sex differences (for all significant metrics)\n",
    "\n",
    "eff_str = {}\n",
    "\n",
    "def cohen_d(x, y):\n",
    "    nx, ny = len(x), len(y)\n",
    "    dof = nx + ny - 2\n",
    "    pooled_std = np.sqrt(((nx - 1) * np.std(x, ddof=1) ** 2 + (ny - 1) * np.std(y, ddof=1) ** 2) / dof)\n",
    "    return (np.mean(x) - np.mean(y)) / pooled_std if pooled_std > 0 else np.nan\n",
    "\n",
    "def rank_biserial(x, y):\n",
    "    from scipy.stats import mannwhitneyu\n",
    "    u, _ = mannwhitneyu(x, y, alternative='two-sided')\n",
    "    n1, n2 = len(x), len(y)\n",
    "    return 1 - (2 * u) / (n1 * n2)\n",
    "\n",
    "print(\"Effect strength for each significant metric (male vs female):\")\n",
    "for var in strength_metrics + reaction_metrics:\n",
    "    if var not in df.columns:\n",
    "        continue\n",
    "    vals_male = df[df['sex'] == 'male'][var].dropna()\n",
    "    vals_female = df[df['sex'] == 'female'][var].dropna()\n",
    "    if len(vals_male) < 2 or len(vals_female) < 2:\n",
    "        continue\n",
    "    # Use test type from previous results if available, otherwise default to Mann-Whitney for non-normal\n",
    "    _, p1 = shapiro(vals_male) if len(vals_male) > 3 else (None, 1)\n",
    "    _, p2 = shapiro(vals_female) if len(vals_female) > 3 else (None, 1)\n",
    "    if p1 < 0.05 or p2 < 0.05:\n",
    "        eff = rank_biserial(vals_male, vals_female)\n",
    "        eff_label = \"Rank-biserial\"\n",
    "    else:\n",
    "        eff = cohen_d(vals_male, vals_female)\n",
    "        eff_label = \"Cohen's d\"\n",
    "    print(f\"{var}: {eff_label} = {eff:.3f}\")\n",
    "    eff_str[var] = eff"
   ]
  },
  {
   "cell_type": "code",
   "execution_count": 22,
   "id": "78616806",
   "metadata": {},
   "outputs": [
    {
     "data": {
      "image/png": "[encoded data removed]",
      "text/plain": [
       "<Figure size 800x500 with 1 Axes>"
      ]
     },
     "metadata": {},
     "output_type": "display_data"
    }
   ],
   "source": [
    "import matplotlib.pyplot as plt\n",
    "\n",
    "# Effect strengths from your results\n",
    "metrics = eff_str.keys()\n",
    "effect_strengths = eff_str.values()\n",
    "\n",
    "plt.figure(figsize=(8, 5))\n",
    "bars = plt.bar(metrics, effect_strengths, color='royalblue')\n",
    "plt.axhline(0, color='gray', linestyle='--')\n",
    "plt.ylabel(\"Rank-biserial Effect Strength\")\n",
    "plt.title(\"Effect Strength (Male vs Female) for All Metrics\")\n",
    "plt.tight_layout()"
   ]
  },
  {
   "cell_type": "markdown",
   "id": "42a24520",
   "metadata": {},
   "source": [
    "### Conclusion: split by sex for strength and reaction time"
   ]
  },
  {
   "cell_type": "markdown",
   "id": "99baabbe",
   "metadata": {},
   "source": [
    "---"
   ]
  },
  {
   "cell_type": "code",
   "execution_count": 23,
   "id": "a3557165",
   "metadata": {},
   "outputs": [
    {
     "name": "stdout",
     "output_type": "stream",
     "text": [
      "Effect of recording order on strength metrics (split by sex):\n",
      "peakValue (male): ANOVA stat=41.200, p=5.38e-08\n",
      "RMS (male): ANOVA stat=48.797, p=1.28e-08\n",
      "tau (male): ANOVA stat=31.067, p=5.32e-07\n",
      "AUC (male): ANOVA stat=63.110, p=1.32e-09\n",
      "peakValue (female): ANOVA stat=14.251, p=0.000123\n",
      "RMS (female): ANOVA stat=10.615, p=0.000652\n",
      "tau (female): ANOVA stat=29.418, p=8.13e-07\n",
      "AUC (female): ANOVA stat=7.937, p=0.00271\n",
      "\n",
      "Effect of recording order on reaction metrics (split by sex):\n",
      "reactionTime (male): Kruskal-Wallis stat=6.907, p=0.0316\n",
      "peakTime (male): Kruskal-Wallis stat=10.554, p=0.00511\n",
      "difference (male): Kruskal-Wallis stat=8.994, p=0.0111\n",
      "reactionTime (female): Kruskal-Wallis stat=15.939, p=0.000346\n",
      "difference (female): Kruskal-Wallis stat=7.943, p=0.0188\n"
     ]
    }
   ],
   "source": [
    "# Compare the effect of recording_order (animal order) on strength and reaction metrics, split by sex for both\n",
    "\n",
    "strength_metrics = ['peakValue', 'RMS', 'tau', 'AUC']\n",
    "reaction_metrics = ['reactionTime', 'peakTime', 'difference']\n",
    "\n",
    "def extract_animal_number(animal_str):\n",
    "    # Extracts the number from 'Animal15' -> 15\n",
    "    if isinstance(animal_str, str) and animal_str.lower().startswith('animal'):\n",
    "        return int(''.join(filter(str.isdigit, animal_str)))\n",
    "    return np.nan\n",
    "\n",
    "df = dfs['RESULTS_MTT_MERGED_DATE'].copy()\n",
    "df['animal_num'] = df['animal'].apply(extract_animal_number)\n",
    "\n",
    "# Only keep animals in the recording_order\n",
    "df = df[df['animal_num'].isin(recording_order)]\n",
    "df['rec_order'] = df['animal_num'].apply(lambda x: recording_order.index(x) if x in recording_order else np.nan)\n",
    "\n",
    "print(\"Effect of recording order on strength metrics (split by sex):\")\n",
    "for sex in ['male', 'female']:\n",
    "    df_sex = df[df['sex'] == sex]\n",
    "    for var in strength_metrics:\n",
    "        if var not in df_sex.columns:\n",
    "            continue\n",
    "        # Group by recording order\n",
    "        groups = [group[var].dropna().values for _, group in df_sex.groupby('rec_order')]\n",
    "        groups = [g for g in groups if len(g) > 1]\n",
    "        if len(groups) < 2:\n",
    "            continue\n",
    "        # Check if this variable should be non-parametric for any experiment in this sex\n",
    "        is_non_parametric = False\n",
    "        for rec_idx, group in df_sex.groupby('rec_order'):\n",
    "            # Use the first experiment name in the group (if available)\n",
    "            if not group.empty and 'experiment' in group.columns:\n",
    "                exp_name = group['experiment'].iloc[0]\n",
    "                if ((non_parametric['experiment'] == exp_name) & (non_parametric['var'] == var)).any():\n",
    "                    is_non_parametric = True\n",
    "                    break\n",
    "        if is_non_parametric:\n",
    "            stat, p = kruskal(*groups)\n",
    "            test_used = \"Kruskal-Wallis\"\n",
    "        else:\n",
    "            stat, p = f_oneway(*groups)\n",
    "            test_used = \"ANOVA\"\n",
    "        if p < 0.05:\n",
    "            print(f\"{var} ({sex}): {test_used} stat={stat:.3f}, p={p:.3g}\")\n",
    "\n",
    "print(\"\\nEffect of recording order on reaction metrics (split by sex):\")\n",
    "for sex in ['male', 'female']:\n",
    "    df_sex = df[df['sex'] == sex]\n",
    "    for var in reaction_metrics:\n",
    "        if var not in df_sex.columns:\n",
    "            continue\n",
    "        groups = [group[var].dropna().values for _, group in df_sex.groupby('rec_order')]\n",
    "        groups = [g for g in groups if len(g) > 1]\n",
    "        if len(groups) < 2:\n",
    "            continue\n",
    "        is_non_parametric = False\n",
    "        for rec_idx, group in df_sex.groupby('rec_order'):\n",
    "            if not group.empty and 'experiment' in group.columns:\n",
    "                exp_name = group['experiment'].iloc[0]\n",
    "                if ((non_parametric['experiment'] == exp_name) & (non_parametric['var'] == var)).any():\n",
    "                    is_non_parametric = True\n",
    "                    break\n",
    "        if is_non_parametric:\n",
    "            stat, p = kruskal(*groups)\n",
    "            test_used = \"Kruskal-Wallis\"\n",
    "        else:\n",
    "            stat, p = f_oneway(*groups)\n",
    "            test_used = \"ANOVA\"\n",
    "        if p < 0.05:\n",
    "            print(f\"{var} ({sex}): {test_used} stat={stat:.3f}, p={p:.3g}\")"
   ]
  },
  {
   "cell_type": "code",
   "execution_count": 24,
   "id": "8e864552",
   "metadata": {},
   "outputs": [
    {
     "name": "stdout",
     "output_type": "stream",
     "text": [
      "Post hoc Dunn's test for strength metrics (split by sex):\n",
      "\n",
      "peakValue (male):\n",
      "          0         1         5\n",
      "0  1.000000  1.000000  0.004955\n",
      "1  1.000000  1.000000  0.000813\n",
      "5  0.004955  0.000813  1.000000\n",
      "Means by rec_order: {0: 184.61805555555554, 1: 185.13125, 5: 122.16805555555555}\n",
      "\n",
      "RMS (male):\n",
      "          0         1         5\n",
      "0  1.000000  1.000000  0.001592\n",
      "1  1.000000  1.000000  0.002668\n",
      "5  0.001592  0.002668  1.000000\n",
      "Means by rec_order: {0: 48.39055555555556, 1: 47.42501388888889, 5: 27.655472222222222}\n",
      "\n",
      "tau (male):\n",
      "          0         1         5\n",
      "0  1.000000  0.334835  0.000167\n",
      "1  0.334835  1.000000  0.044121\n",
      "5  0.000167  0.044121  1.000000\n",
      "Means by rec_order: {0: 135.76653472222222, 1: 124.75722222222223, 5: 98.72545138888889}\n",
      "\n",
      "AUC (male):\n",
      "          0         1         5\n",
      "0  1.000000  1.000000  0.000403\n",
      "1  1.000000  1.000000  0.008938\n",
      "5  0.000403  0.008938  1.000000\n",
      "Means by rec_order: {0: 18673.659916666667, 1: 17094.291701388887, 5: 9419.593833333332}\n",
      "\n",
      "peakValue (female):\n",
      "          2         3         4\n",
      "2  1.000000  0.001592  0.120915\n",
      "3  0.001592  1.000000  0.471898\n",
      "4  0.120915  0.471898  1.000000\n",
      "Means by rec_order: {2: 73.84583333333333, 3: 107.86041666666667, 4: 97.20833333333333}\n",
      "\n",
      "RMS (female):\n",
      "          2         3         4\n",
      "2  1.000000  0.010023  0.053537\n",
      "3  0.010023  1.000000  1.000000\n",
      "4  0.053537  1.000000  1.000000\n",
      "Means by rec_order: {2: 20.232965277777776, 3: 28.812354166666665, 4: 27.3680625}\n",
      "\n",
      "tau (female):\n",
      "          2         3         4\n",
      "2  1.000000  0.000403  0.503815\n",
      "3  0.000403  1.000000  0.044121\n",
      "4  0.503815  0.044121  1.000000\n",
      "Means by rec_order: {2: 169.22671527777777, 3: 143.21822916666667, 4: 161.51266666666666}\n",
      "\n",
      "AUC (female):\n",
      "          2         3         4\n",
      "2  1.000000  0.039985  0.007084\n",
      "3  0.039985  1.000000  1.000000\n",
      "4  0.007084  1.000000  1.000000\n",
      "Means by rec_order: {2: 8570.1295, 3: 11133.716458333334, 4: 11527.005708333334}\n",
      "\n",
      "Post hoc Dunn's test for reaction metrics (split by sex):\n",
      "\n",
      "reactionTime (male):\n",
      "          0         1         5\n",
      "0  1.000000  0.035985  1.000000\n",
      "1  0.035985  1.000000  0.162948\n",
      "5  1.000000  0.162948  1.000000\n",
      "Means by rec_order: {0: 10.525, 1: 9.925, 5: 10.027777777777779}\n",
      "\n",
      "peakTime (male):\n",
      "          0         1         5\n",
      "0  1.000000  1.000000  0.043991\n",
      "1  1.000000  1.000000  0.006268\n",
      "5  0.043991  0.006268  1.000000\n",
      "Means by rec_order: {0: 30.96666666666667, 1: 32.13194444444444, 5: 28.52638888888889}\n",
      "\n",
      "difference (male):\n",
      "          0         1         5\n",
      "0  1.000000  0.915027  0.161676\n",
      "1  0.915027  1.000000  0.009427\n",
      "5  0.161676  0.009427  1.000000\n",
      "Means by rec_order: {0: 20.441666666666666, 1: 22.206944444444446, 5: 18.49861111111111}\n",
      "\n",
      "reactionTime (female):\n",
      "          2         3         4\n",
      "2  1.000000  0.007446  0.000492\n",
      "3  0.007446  1.000000  1.000000\n",
      "4  0.000492  1.000000  1.000000\n",
      "Means by rec_order: {2: 11.6125, 3: 10.158333333333333, 4: 9.829166666666667}\n",
      "\n",
      "difference (female):\n",
      "          2         3         4\n",
      "2  1.000000  0.048559  0.039925\n",
      "3  0.048559  1.000000  1.000000\n",
      "4  0.039925  1.000000  1.000000\n",
      "Means by rec_order: {2: 19.07638888888889, 3: 20.933333333333334, 4: 21.095833333333335}\n"
     ]
    }
   ],
   "source": [
    "# Post hoc test: Dunn's test for pairwise comparisons between recording orders, with effect direction and strength\n",
    "\n",
    "import scikit_posthocs as sp\n",
    "\n",
    "strength_metrics = ['peakValue', 'RMS', 'tau', 'AUC']\n",
    "reaction_metrics = ['reactionTime', 'peakTime', 'difference']\n",
    "\n",
    "print(\"Post hoc Dunn's test for strength metrics (split by sex):\")\n",
    "for sex in ['male', 'female']:\n",
    "    df_sex = df[df['sex'] == sex]\n",
    "    for var in strength_metrics:\n",
    "        if var not in df_sex.columns:\n",
    "            continue\n",
    "        # Only test if there was a significant Kruskal-Wallis result before\n",
    "        groups = [group[var].dropna().values for _, group in df_sex.groupby('rec_order')]\n",
    "        groups = [g for g in groups if len(g) > 1]\n",
    "        if len(groups) < 2:\n",
    "            continue\n",
    "        stat, p = kruskal(*groups)\n",
    "        if p < 0.05:\n",
    "            # Dunn's test\n",
    "            dunn = sp.posthoc_dunn(df_sex, val_col=var, group_col='rec_order', p_adjust='bonferroni')\n",
    "            print(f\"\\n{var} ({sex}):\")\n",
    "            print(dunn)\n",
    "            # Effect direction and strength: print group means\n",
    "            means = df_sex.groupby('rec_order')[var].mean()\n",
    "            print(\"Means by rec_order:\", means.to_dict())\n",
    "\n",
    "print(\"\\nPost hoc Dunn's test for reaction metrics (split by sex):\")\n",
    "for sex in ['male', 'female']:\n",
    "    df_sex = df[df['sex'] == sex]\n",
    "    for var in reaction_metrics:\n",
    "        if var not in df_sex.columns:\n",
    "            continue\n",
    "        groups = [group[var].dropna().values for _, group in df_sex.groupby('rec_order')]\n",
    "        groups = [g for g in groups if len(g) > 1]\n",
    "        if len(groups) < 2:\n",
    "            continue\n",
    "        stat, p = kruskal(*groups)\n",
    "        if p < 0.05:\n",
    "            dunn = sp.posthoc_dunn(df_sex, val_col=var, group_col='rec_order', p_adjust='bonferroni')\n",
    "            print(f\"\\n{var} ({sex}):\")\n",
    "            print(dunn)\n",
    "            means = df_sex.groupby('rec_order')[var].mean()\n",
    "            print(\"Means by rec_order:\", means.to_dict())"
   ]
  },
  {
   "cell_type": "code",
   "execution_count": 25,
   "id": "4b480889",
   "metadata": {},
   "outputs": [
    {
     "name": "stdout",
     "output_type": "stream",
     "text": [
      "Effect strength for recording order (split by sex):\n",
      "peakValue (male): Cohen's d = 4.289 (rec_order 0 vs 5)\n",
      "RMS (male): Cohen's d = 5.011 (rec_order 0 vs 5)\n",
      "tau (male): Cohen's d = 3.674 (rec_order 0 vs 5)\n",
      "AUC (male): Cohen's d = 5.608 (rec_order 0 vs 5)\n",
      "reactionTime (male): Rank-biserial = -0.344 (rec_order 0 vs 5)\n",
      "peakTime (male): Rank-biserial = -0.812 (rec_order 0 vs 5)\n",
      "difference (male): Rank-biserial = -0.609 (rec_order 0 vs 5)\n",
      "peakValue (female): Cohen's d = -1.903 (rec_order 2 vs 4)\n",
      "RMS (female): Cohen's d = -1.914 (rec_order 2 vs 4)\n",
      "tau (female): Cohen's d = 1.047 (rec_order 2 vs 4)\n",
      "AUC (female): Cohen's d = -1.884 (rec_order 2 vs 4)\n",
      "reactionTime (female): Rank-biserial = -1.000 (rec_order 2 vs 4)\n",
      "peakTime (female): Rank-biserial = 0.500 (rec_order 2 vs 4)\n",
      "difference (female): Rank-biserial = 0.812 (rec_order 2 vs 4)\n"
     ]
    }
   ],
   "source": [
    "# Calculate effect strength (Cohen's d) for recording order groups (split by sex)\n",
    "from scipy.stats import mannwhitneyu\n",
    "import numpy as np\n",
    "\n",
    "eff_str = {}\n",
    "\n",
    "def cohen_d(x, y):\n",
    "    nx, ny = len(x), len(y)\n",
    "    dof = nx + ny - 2\n",
    "    pooled_std = np.sqrt(((nx - 1) * np.std(x, ddof=1) ** 2 + (ny - 1) * np.std(y, ddof=1) ** 2) / dof)\n",
    "    return (np.mean(x) - np.mean(y)) / pooled_std if pooled_std > 0 else np.nan\n",
    "\n",
    "def rank_biserial(x, y):\n",
    "    u, _ = mannwhitneyu(x, y, alternative='two-sided')\n",
    "    n1, n2 = len(x), len(y)\n",
    "    return 1 - (2 * u) / (n1 * n2)\n",
    "\n",
    "print(\"Effect strength for recording order (split by sex):\")\n",
    "for sex in ['male', 'female']:\n",
    "    df_sex = df[df['sex'] == sex]\n",
    "    for var in strength_metrics + reaction_metrics:\n",
    "        if var not in df_sex.columns:\n",
    "            continue\n",
    "        # Get means by rec_order\n",
    "        means = df_sex.groupby('rec_order')[var].mean()\n",
    "        orders = means.index.tolist()\n",
    "        if len(orders) < 2:\n",
    "            continue\n",
    "        # Compare first and last rec_order groups\n",
    "        vals1 = df_sex[df_sex['rec_order'] == orders[0]][var].dropna()\n",
    "        vals2 = df_sex[df_sex['rec_order'] == orders[-1]][var].dropna()\n",
    "        if len(vals1) < 2 or len(vals2) < 2:\n",
    "            continue\n",
    "        # Use Mann-Whitney if non-parametric, else Cohen's d\n",
    "        is_non_parametric = False\n",
    "        for rec_idx, group in df_sex.groupby('rec_order'):\n",
    "            if not group.empty and 'experiment' in group.columns:\n",
    "                exp_name = group['experiment'].iloc[0]\n",
    "                if ((non_parametric['experiment'] == exp_name) & (non_parametric['var'] == var)).any():\n",
    "                    is_non_parametric = True\n",
    "                    break\n",
    "        if is_non_parametric:\n",
    "            eff = rank_biserial(vals1, vals2)\n",
    "            eff_label = \"Rank-biserial\"\n",
    "        else:\n",
    "            eff = cohen_d(vals1, vals2)\n",
    "            eff_label = \"Cohen's d\"\n",
    "        print(f\"{var} ({sex}): {eff_label} = {eff:.3f} (rec_order {orders[0]} vs {orders[-1]})\")\n",
    "        eff_str[f\"{var} ({sex})\"] = eff"
   ]
  },
  {
   "cell_type": "code",
   "execution_count": 26,
   "id": "1e2df07c",
   "metadata": {},
   "outputs": [
    {
     "name": "stdout",
     "output_type": "stream",
     "text": [
      "dict_keys(['peakValue (male)', 'RMS (male)', 'tau (male)', 'AUC (male)', 'reactionTime (male)', 'peakTime (male)', 'difference (male)', 'peakValue (female)', 'RMS (female)', 'tau (female)', 'AUC (female)', 'reactionTime (female)', 'peakTime (female)', 'difference (female)'])\n",
      "dict_values([4.289376296134693, 5.010864900578789, 3.6742555637176855, 5.6077710825855425, -0.34375, -0.8125, -0.609375, -1.902508227560753, -1.9144118160019818, 1.0466419403518423, -1.8839640585422726, -1.0, 0.5, 0.8125])\n"
     ]
    }
   ],
   "source": [
    "print(eff_str.keys())\n",
    "print(eff_str.values())"
   ]
  },
  {
   "cell_type": "code",
   "execution_count": 27,
   "id": "2be039b1",
   "metadata": {},
   "outputs": [],
   "source": [
    "# split female and male keys and values\n",
    "male_effects = list({k: v for k, v in eff_str.items() if 'male' in k and not 'fem' in k}.values())\n",
    "female_effects = list({k: v for k, v in eff_str.items() if 'female' in k}.values())"
   ]
  },
  {
   "cell_type": "code",
   "execution_count": 28,
   "id": "06cd41dc",
   "metadata": {},
   "outputs": [
    {
     "name": "stdout",
     "output_type": "stream",
     "text": [
      "7\n",
      "7\n"
     ]
    }
   ],
   "source": [
    "print(len(male_effects))\n",
    "print(len(female_effects))"
   ]
  },
  {
   "cell_type": "code",
   "execution_count": 29,
   "id": "a114144c",
   "metadata": {},
   "outputs": [
    {
     "data": {
      "image/png": "[encoded data removed]",
      "text/plain": [
       "<Figure size 1000x600 with 1 Axes>"
      ]
     },
     "metadata": {},
     "output_type": "display_data"
    }
   ],
   "source": [
    "import matplotlib.pyplot as plt\n",
    "\n",
    "# Effect strengths for recording order (split by sex)\n",
    "metrics = ['peakValue', 'RMS', 'tau', 'AUC', 'reactionTime', 'peakTime', 'difference']\n",
    "\n",
    "# Males (rec_order 0 vs 5)\n",
    "#male_effects = [4.038, 5.523, -0.984, -1.000, -0.082, -0.785, -0.715]\n",
    "# Females (rec_order 2 vs 4)\n",
    "#female_effects = [-2.476, -2.405, -0.445, 0.945, -0.867, 0.461, 0.852]\n",
    "\n",
    "plt.figure(figsize=(10, 6))\n",
    "bar_width = 0.35\n",
    "x = range(len(metrics))\n",
    "plt.bar([i - bar_width/2 for i in x], male_effects, width=bar_width, label='Male', color='royalblue')\n",
    "plt.bar([i + bar_width/2 for i in x], female_effects, width=bar_width, label='Female', color='salmon')\n",
    "plt.axhline(0, color='gray', linestyle='--')\n",
    "plt.xticks(x, metrics, rotation=30)\n",
    "plt.ylabel(\"Effect Strength (Cohen's d / Rank-biserial)\")\n",
    "plt.title(\"Effect Strength for Recording Order\")\n",
    "plt.legend()\n",
    "plt.tight_layout()"
   ]
  },
  {
   "cell_type": "markdown",
   "id": "e127293d",
   "metadata": {},
   "source": [
    "---"
   ]
  },
  {
   "cell_type": "code",
   "execution_count": 30,
   "id": "83369431",
   "metadata": {},
   "outputs": [
    {
     "name": "stdout",
     "output_type": "stream",
     "text": [
      "Effect of experiment type on strength metrics (split by sex):\n",
      "\n",
      "Effect of experiment type on reaction metrics (all animals):\n"
     ]
    }
   ],
   "source": [
    "# Test if experiment type has an influence on strength and reaction time metrics, splitting by sex for strength\n",
    "\n",
    "strength_metrics = ['peakValue', 'RMS', 'tau', 'AUC']\n",
    "reaction_metrics = ['reactionTime', 'peakTime', 'difference']\n",
    "\n",
    "df_exp = dfs['RESULTS_MTT_MERGED_DATE']\n",
    "\n",
    "print(\"Effect of experiment type on strength metrics (split by sex):\")\n",
    "for sex in ['male', 'female']:\n",
    "    df_sex = df_exp[df_exp['sex'] == sex]\n",
    "    for var in strength_metrics:\n",
    "        if var not in df_sex.columns:\n",
    "            continue\n",
    "        groups = [group[var].dropna().values for _, group in df_sex.groupby('experiment')]\n",
    "        groups = [g for g in groups if len(g) > 1]\n",
    "        if len(groups) < 2:\n",
    "            continue\n",
    "        stat, p = kruskal(*groups)\n",
    "        if p < 0.05:\n",
    "            print(f\"{var} ({sex}): stat={stat:.3f}, p={p:.3g}\")\n",
    "\n",
    "print(\"\\nEffect of experiment type on reaction metrics (all animals):\")\n",
    "for var in reaction_metrics:\n",
    "    if var not in df_exp.columns:\n",
    "        continue\n",
    "    groups = [group[var].dropna().values for _, group in df_exp.groupby('experiment')]\n",
    "    groups = [g for g in groups if len(g) > 1]\n",
    "    if len(groups) < 2:\n",
    "        continue\n",
    "    stat, p = kruskal(*groups)\n",
    "    if p < 0.05:\n",
    "        print(f\"{var}: stat={stat:.3f}, p={p:.3g}\")"
   ]
  },
  {
   "cell_type": "code",
   "execution_count": 31,
   "id": "2386d504",
   "metadata": {},
   "outputs": [
    {
     "name": "stdout",
     "output_type": "stream",
     "text": [
      "Effect of experiment type on strength metrics (all animals):\n",
      "\n",
      "Effect of experiment type on reaction metrics (all animals):\n"
     ]
    }
   ],
   "source": [
    "# Test if experiment type has an influence on strength and reaction time metrics (no sex split)\n",
    "# Uses parametric (ANOVA) if all groups are normal, otherwise non-parametric (Kruskal-Wallis)\n",
    "\n",
    "from scipy.stats import shapiro, f_oneway, kruskal\n",
    "\n",
    "strength_metrics = ['peakValue', 'RMS', 'tau', 'AUC']\n",
    "reaction_metrics = ['reactionTime', 'peakTime', 'difference']\n",
    "\n",
    "df_exp = dfs['RESULTS_MTT_MERGED_DATE']\n",
    "\n",
    "def group_normality(groups):\n",
    "    \"\"\"Return True if all groups are normal (p > 0.05), False otherwise.\"\"\"\n",
    "    for g in groups:\n",
    "        if len(g) < 3:\n",
    "            return False\n",
    "        _, p = shapiro(g)\n",
    "        if p < 0.05:\n",
    "            return False\n",
    "    return True\n",
    "\n",
    "print(\"Effect of experiment type on strength metrics (all animals):\")\n",
    "for var in strength_metrics:\n",
    "    if var not in df_exp.columns:\n",
    "        raise ValueError(f\"Variable '{var}' not found in DataFrame.\")\n",
    "    groups = [group[var].dropna().values for _, group in df_exp.groupby('experiment')]\n",
    "    groups = [g for g in groups if len(g) > 2]\n",
    "    if len(groups) < 2:\n",
    "        raise ValueError(f\"Not enough data to test {var} across experiments.\")\n",
    "    if group_normality(groups):\n",
    "        stat, p = f_oneway(*groups)\n",
    "        test_used = \"ANOVA\"\n",
    "    else:\n",
    "        stat, p = kruskal(*groups)\n",
    "        test_used = \"Kruskal-Wallis\"\n",
    "    if p < 0.05:\n",
    "        print(f\"{var}: {test_used} stat={stat:.3f}, p={p:.3g}\")\n",
    "\n",
    "print(\"\\nEffect of experiment type on reaction metrics (all animals):\")\n",
    "for var in reaction_metrics:\n",
    "    if var not in df_exp.columns:\n",
    "        raise ValueError(f\"Not enough data to test {var} across experiments.\")\n",
    "    groups = [group[var].dropna().values for _, group in df_exp.groupby('experiment')]\n",
    "    groups = [g for g in groups if len(g) > 2]\n",
    "    if len(groups) < 2:\n",
    "        raise ValueError(f\"Not enough data to test {var} across experiments.\")\n",
    "    if group_normality(groups):\n",
    "        stat, p = f_oneway(*groups)\n",
    "        test_used = \"ANOVA\"\n",
    "    else:\n",
    "        stat, p = kruskal(*groups)\n",
    "        test_used = \"Kruskal-Wallis\"\n",
    "    if p < 0.05:\n",
    "        print(f\"{var}: {test_used} stat={stat:.3f}, p={p:.3g}\") "
   ]
  },
  {
   "cell_type": "code",
   "execution_count": 32,
   "id": "80de7caa",
   "metadata": {},
   "outputs": [
    {
     "name": "stdout",
     "output_type": "stream",
     "text": [
      "\n",
      "Tukey HSD post hoc for reactionTime by experiment:\n",
      "         Multiple Comparison of Means - Tukey HSD, FWER=0.05         \n",
      "=====================================================================\n",
      "     group1          group2     meandiff p-adj   lower  upper  reject\n",
      "---------------------------------------------------------------------\n",
      "    ASR_control       gap_depth  -0.6593 0.8852 -2.2539 0.9354  False\n",
      "    ASR_control gap_duration_10  -0.3167 0.9981 -1.9113 1.2779  False\n",
      "    ASR_control gap_duration_20  -0.4907 0.9742 -2.0854 1.1039  False\n",
      "    ASR_control  gap_duration_4   -0.337 0.9972 -1.9316 1.2576  False\n",
      "    ASR_control gap_duration_50  -0.2926 0.9989 -1.8872  1.302  False\n",
      "    ASR_control  gap_duration_8  -0.1815    1.0 -1.7761 1.4131  False\n",
      "    ASR_control   tone_in_noise  -1.5593 0.0593 -3.1539 0.0354  False\n",
      "      gap_depth gap_duration_10   0.3426 0.9969  -1.252 1.9372  False\n",
      "      gap_depth gap_duration_20   0.1685    1.0 -1.4261 1.7631  False\n",
      "      gap_depth  gap_duration_4   0.3222 0.9979 -1.2724 1.9168  False\n",
      "      gap_depth gap_duration_50   0.3667 0.9953 -1.2279 1.9613  False\n",
      "      gap_depth  gap_duration_8   0.4778 0.9778 -1.1168 2.0724  False\n",
      "      gap_depth   tone_in_noise     -0.9  0.621 -2.4946 0.6946  False\n",
      "gap_duration_10 gap_duration_20  -0.1741    1.0 -1.7687 1.4205  False\n",
      "gap_duration_10  gap_duration_4  -0.0204    1.0  -1.615 1.5742  False\n",
      "gap_duration_10 gap_duration_50   0.0241    1.0 -1.5705 1.6187  False\n",
      "gap_duration_10  gap_duration_8   0.1352    1.0 -1.4594 1.7298  False\n",
      "gap_duration_10   tone_in_noise  -1.2426 0.2287 -2.8372  0.352  False\n",
      "gap_duration_20  gap_duration_4   0.1537    1.0 -1.4409 1.7483  False\n",
      "gap_duration_20 gap_duration_50   0.1981 0.9999 -1.3965 1.7928  False\n",
      "gap_duration_20  gap_duration_8   0.3093 0.9984 -1.2854 1.9039  False\n",
      "gap_duration_20   tone_in_noise  -1.0685 0.4071 -2.6631 0.5261  False\n",
      " gap_duration_4 gap_duration_50   0.0444    1.0 -1.5502 1.6391  False\n",
      " gap_duration_4  gap_duration_8   0.1556    1.0 -1.4391 1.7502  False\n",
      " gap_duration_4   tone_in_noise  -1.2222 0.2463 -2.8168 0.3724  False\n",
      "gap_duration_50  gap_duration_8   0.1111    1.0 -1.4835 1.7057  False\n",
      "gap_duration_50   tone_in_noise  -1.2667  0.209 -2.8613 0.3279  False\n",
      " gap_duration_8   tone_in_noise  -1.3778 0.1341 -2.9724 0.2168  False\n",
      "---------------------------------------------------------------------\n",
      "Means by experiment: {'ASR_control': 10.825925925925924, 'gap_depth': 10.166666666666666, 'gap_duration_10': 10.50925925925926, 'gap_duration_20': 10.335185185185185, 'gap_duration_4': 10.488888888888889, 'gap_duration_50': 10.533333333333333, 'gap_duration_8': 10.644444444444444, 'tone_in_noise': 9.266666666666667}\n"
     ]
    }
   ],
   "source": [
    "# ...existing code...\n",
    "\n",
    "from statsmodels.stats.multicomp import pairwise_tukeyhsd\n",
    "\n",
    "# Only run post hoc if ANOVA was significant for reactionTime\n",
    "if 'reactionTime' in df_exp.columns:\n",
    "    # Drop NaNs and get relevant columns\n",
    "    posthoc_df = df_exp[['experiment', 'reactionTime']].dropna()\n",
    "    # Tukey HSD\n",
    "    tukey = pairwise_tukeyhsd(posthoc_df['reactionTime'], posthoc_df['experiment'], alpha=0.05)\n",
    "    print(\"\\nTukey HSD post hoc for reactionTime by experiment:\")\n",
    "    print(tukey.summary())\n",
    "    # Effect direction: print group means\n",
    "    means = posthoc_df.groupby('experiment')['reactionTime'].mean()\n",
    "    print(\"Means by experiment:\", means.to_dict())\n",
    "# ...existing code..."
   ]
  },
  {
   "cell_type": "code",
   "execution_count": 33,
   "id": "98469e2e",
   "metadata": {},
   "outputs": [
    {
     "name": "stdout",
     "output_type": "stream",
     "text": [
      "\n",
      "Effect of experiment type on strength metrics (male):\n",
      "\n",
      "Effect of experiment type on reaction metrics (male):\n",
      "\n",
      "Effect of experiment type on strength metrics (female):\n",
      "\n",
      "Effect of experiment type on reaction metrics (female):\n"
     ]
    }
   ],
   "source": [
    "# Test if experiment type has an influence on strength and reaction time metrics, split by sex for both\n",
    "\n",
    "from scipy.stats import shapiro, f_oneway, kruskal\n",
    "from statsmodels.stats.multicomp import pairwise_tukeyhsd\n",
    "\n",
    "strength_metrics = ['peakValue', 'RMS', 'tau', 'AUC']\n",
    "reaction_metrics = ['reactionTime', 'peakTime', 'difference']\n",
    "\n",
    "df_exp = dfs['RESULTS_MTT_MERGED_DATE']\n",
    "\n",
    "def group_normality(groups):\n",
    "    \"\"\"Return True if all groups are normal (p > 0.05), False otherwise.\"\"\"\n",
    "    for g in groups:\n",
    "        if len(g) < 3:\n",
    "            return False\n",
    "        _, p = shapiro(g)\n",
    "        if p < 0.05:\n",
    "            return False\n",
    "    return True\n",
    "\n",
    "for sex in ['male', 'female']:\n",
    "    print(f\"\\nEffect of experiment type on strength metrics ({sex}):\")\n",
    "    df_sex = df_exp[df_exp['sex'] == sex]\n",
    "    for var in strength_metrics:\n",
    "        if var not in df_sex.columns:\n",
    "            raise ValueError(f\"Var not found for {var} ({sex})\")\n",
    "        groups = [group[var].dropna().values for _, group in df_sex.groupby('experiment')]\n",
    "        groups = [g for g in groups if len(g) > 2]\n",
    "        if len(groups) < 2:\n",
    "            raise ValueError(f\"Not enough data to perform statistical test for {var} ({sex})\")\n",
    "        if group_normality(groups):\n",
    "            stat, p = f_oneway(*groups)\n",
    "            test_used = \"ANOVA\"\n",
    "        else:\n",
    "            stat, p = kruskal(*groups)\n",
    "            test_used = \"Kruskal-Wallis\"\n",
    "        if p < 0.05:\n",
    "            print(f\"{var}: {test_used} stat={stat:.3f}, p={p:.3g}\")\n",
    "\n",
    "    print(f\"\\nEffect of experiment type on reaction metrics ({sex}):\")\n",
    "    for var in reaction_metrics:\n",
    "        if var not in df_sex.columns:\n",
    "            continue\n",
    "        groups = [group[var].dropna().values for _, group in df_sex.groupby('experiment')]\n",
    "        groups = [g for g in groups if len(g) > 2]\n",
    "        if len(groups) < 2:\n",
    "            raise ValueError(f\"Not enough data to perform statistical test for {var} ({sex})\")\n",
    "        if group_normality(groups):\n",
    "            stat, p = f_oneway(*groups)\n",
    "            test_used = \"ANOVA\"\n",
    "        else:\n",
    "            stat, p = kruskal(*groups)\n",
    "            test_used = \"Kruskal-Wallis\"\n",
    "        if p < 0.05:\n",
    "            print(f\"{var}: {test_used} stat={stat:.3f}, p={p:.3g}\")\n",
    "            # Post hoc Tukey HSD if ANOVA\n",
    "            if test_used == \"ANOVA\":\n",
    "                posthoc_df = df_sex[['experiment', var]].dropna()\n",
    "                tukey = pairwise_tukeyhsd(posthoc_df[var], posthoc_df['experiment'], alpha=0.05)\n",
    "                print(f\"\\nTukey HSD post hoc for {var} by experiment ({sex}):\")\n",
    "                print(tukey.summary())\n",
    "                means = posthoc_df.groupby('experiment')[var].mean()"
   ]
  },
  {
   "cell_type": "markdown",
   "id": "c2ab1c88",
   "metadata": {},
   "source": [
    "---"
   ]
  },
  {
   "cell_type": "code",
   "execution_count": 34,
   "id": "bf27553e",
   "metadata": {},
   "outputs": [
    {
     "name": "stdout",
     "output_type": "stream",
     "text": [
      "Effect of gap duration length on metrics:\n",
      "\n",
      "No data available for offset_PPI experiments.\n"
     ]
    }
   ],
   "source": [
    "# Test if the gap/offset number in gap_duration and offset_PPI experiments affects any metric\n",
    "\n",
    "import re\n",
    "from scipy.stats import f_oneway, kruskal\n",
    "\n",
    "df = dfs['RESULTS_MTT_MERGED_DATE']\n",
    "\n",
    "# Extract gap/offset number from experiment name\n",
    "def extract_number(exp_name, prefix):\n",
    "    match = re.search(fr\"{prefix}_(\\d+)\", str(exp_name))\n",
    "    return int(match.group(1)) if match else np.nan\n",
    "\n",
    "# Analyze gap_duration experiments\n",
    "gap_df = df[df['experiment'].str.startswith('gap_duration')]\n",
    "gap_df = gap_df.copy()\n",
    "gap_df['gap_num'] = gap_df['experiment'].apply(lambda x: extract_number(x, 'gap_duration'))\n",
    "\n",
    "print(\"Effect of gap duration length on metrics:\")\n",
    "for var in variables:\n",
    "    if var not in gap_df.columns:\n",
    "        raise ValueError(f\"Variable {var} not found in gap_df\")\n",
    "    groups = [group[var].dropna().values for _, group in gap_df.groupby('gap_num')]\n",
    "    groups = [g for g in groups if len(g) > 2]\n",
    "    if len(groups) < 2:\n",
    "        raise ValueError(f\"Not enough data to perform statistical test for {var} in gap_df\")\n",
    "    stat, p = kruskal(*groups)\n",
    "    if p < 0.05:\n",
    "        print(f\"{var}: Kruskal-Wallis stat={stat:.3f}, p={p:.3g}\")\n",
    "\n",
    "# Analyze offset_PPI experiments\n",
    "offset_df = df[df['experiment'].str.startswith('offset_PPI')]\n",
    "offset_df = offset_df.copy()\n",
    "offset_df['offset_num'] = offset_df['experiment'].apply(lambda x: extract_number(x, 'offset_PPI'))\n",
    "\n",
    "if offset_df.empty:\n",
    "    print(\"\\nNo data available for offset_PPI experiments.\")\n",
    "else:\n",
    "    print(\"\\nEffect of offset length on metrics:\")\n",
    "    for var in variables:\n",
    "        if var not in offset_df.columns:\n",
    "            raise ValueError(f\"Variable {var} not found in offset_df\")\n",
    "        groups = [group[var].dropna().values for _, group in offset_df.groupby('offset_num')]\n",
    "    groups = [g for g in groups if len(g) > 2]\n",
    "    if len(groups) < 2:\n",
    "        raise ValueError(f\"Not enough data to perform statistical test for {var} in offset_df\")\n",
    "    stat, p = kruskal(*groups)\n",
    "    if p < 0.05:\n",
    "        print(f\"{var}: Kruskal-Wallis stat={stat:.3f}, p={p:.3g}\")"
   ]
  },
  {
   "cell_type": "code",
   "execution_count": 35,
   "id": "77cfa2a6",
   "metadata": {},
   "outputs": [
    {
     "data": {
      "image/png": "[encoded data removed]",
      "text/plain": [
       "<Figure size 1200x500 with 1 Axes>"
      ]
     },
     "metadata": {},
     "output_type": "display_data"
    }
   ],
   "source": [
    "import scikit_posthocs as sp\n",
    "import matplotlib.pyplot as plt\n",
    "import numpy as np\n",
    "\n",
    "# 1. Post hoc Dunn's test for gap duration and offset length\n",
    "gap_df = df[df['experiment'].str.startswith('gap_duration')].copy()\n",
    "gap_df['gap_num'] = gap_df['experiment'].str.extract(r'gap_duration_(\\d+)').astype(float)\n",
    "offset_df = df[df['experiment'].str.startswith('offset_PPI')].copy()\n",
    "offset_df['offset_num'] = offset_df['experiment'].str.extract(r'offset_PPI_(\\d+)').astype(float)\n",
    "\n",
    "gap_results = []\n",
    "offset_results = []\n",
    "\n",
    "for var in variables:\n",
    "    # Gap duration\n",
    "    if var in gap_df.columns and gap_df['gap_num'].nunique() > 1:\n",
    "        dunn_gap = sp.posthoc_dunn(gap_df, val_col=var, group_col='gap_num', p_adjust='bonferroni')\n",
    "        means_gap = gap_df.groupby('gap_num')[var].mean()\n",
    "        # Find the pair with the largest mean difference\n",
    "        idx_gap = np.unravel_index(np.abs(means_gap.values[:, None] - means_gap.values).argmax(), means_gap.shape*2)\n",
    "        g1, g2 = means_gap.index[idx_gap[0]], means_gap.index[idx_gap[1]]\n",
    "        # Effect strength: Cohen's d\n",
    "        vals1 = gap_df[gap_df['gap_num'] == g1][var].dropna()\n",
    "        vals2 = gap_df[gap_df['gap_num'] == g2][var].dropna()\n",
    "        pooled_std = np.sqrt(((len(vals1)-1)*np.std(vals1, ddof=1)**2 + (len(vals2)-1)*np.std(vals2, ddof=1)**2) / (len(vals1)+len(vals2)-2))\n",
    "        cohen_d_val = (np.mean(vals1) - np.mean(vals2)) / pooled_std if pooled_std > 0 else np.nan\n",
    "        gap_results.append({'variable': var, 'group1': g1, 'group2': g2, 'dunn_p': dunn_gap.loc[g1, g2], 'cohen_d': cohen_d_val})\n",
    "\n",
    "    # Offset length\n",
    "    if var in offset_df.columns and offset_df['offset_num'].nunique() > 1:\n",
    "        dunn_offset = sp.posthoc_dunn(offset_df, val_col=var, group_col='offset_num', p_adjust='bonferroni')\n",
    "        means_offset = offset_df.groupby('offset_num')[var].mean()\n",
    "        idx_offset = np.unravel_index(np.abs(means_offset.values[:, None] - means_offset.values).argmax(), means_offset.shape*2)\n",
    "        o1, o2 = means_offset.index[idx_offset[0]], means_offset.index[idx_offset[1]]\n",
    "        vals1 = offset_df[offset_df['offset_num'] == o1][var].dropna()\n",
    "        vals2 = offset_df[offset_df['offset_num'] == o2][var].dropna()\n",
    "        pooled_std = np.sqrt(((len(vals1)-1)*np.std(vals1, ddof=1)**2 + (len(vals2)-1)*np.std(vals2, ddof=1)**2) / (len(vals1)+len(vals2)-2))\n",
    "        cohen_d_val = (np.mean(vals1) - np.mean(vals2)) / pooled_std if pooled_std > 0 else np.nan\n",
    "        offset_results.append({'variable': var, 'group1': o1, 'group2': o2, 'dunn_p': dunn_offset.loc[o1, o2], 'cohen_d': cohen_d_val})\n",
    "\n",
    "# 2. Plot effect strengths\n",
    "gap_labels = [f\"{r['variable']} ({int(r['group1'])} vs {int(r['group2'])})\" for r in gap_results]\n",
    "gap_effects = [r['cohen_d'] for r in gap_results]\n",
    "offset_labels = [f\"{r['variable']} ({int(r['group1'])} vs {int(r['group2'])})\" for r in offset_results]\n",
    "offset_effects = [r['cohen_d'] for r in offset_results]\n",
    "\n",
    "plt.figure(figsize=(12, 5))\n",
    "plt.subplot(1, 2, 1)\n",
    "plt.bar(gap_labels, gap_effects, color='mediumseagreen')\n",
    "plt.xticks(rotation=45, ha='right')\n",
    "plt.axhline(0, color='gray', linestyle='--')\n",
    "plt.title('Effect Strength (Cohen\\'s d) for Gap Duration')\n",
    "plt.ylabel('Cohen\\'s d')\n",
    "\n",
    "if not offset_df.empty:\n",
    "    plt.subplot(1, 2, 2)\n",
    "    plt.bar(offset_labels, offset_effects, color='royalblue')\n",
    "    plt.xticks(rotation=45, ha='right')\n",
    "    plt.axhline(0, color='gray', linestyle='--')\n",
    "    plt.title('Effect Strength (Cohen\\'s d) for Offset Length')\n",
    "    plt.ylabel('Cohen\\'s d')\n",
    "\n",
    "plt.tight_layout()\n",
    "plt.show()"
   ]
  },
  {
   "cell_type": "markdown",
   "id": "4e087076",
   "metadata": {},
   "source": [
    "---"
   ]
  }
 ],
 "metadata": {
  "kernelspec": {
   "display_name": "Python 3",
   "language": "python",
   "name": "python3"
  },
  "language_info": {
   "codemirror_mode": {
    "name": "ipython",
    "version": 3
   },
   "file_extension": ".py",
   "mimetype": "text/x-python",
   "name": "python",
   "nbconvert_exporter": "python",
   "pygments_lexer": "ipython3",
   "version": "3.11.0"
  }
 },
 "nbformat": 4,
 "nbformat_minor": 5
}
