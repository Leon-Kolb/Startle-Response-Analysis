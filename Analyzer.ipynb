{
 "cells": [
  {
   "cell_type": "code",
   "execution_count": 143,
   "id": "01fa7f35",
   "metadata": {},
   "outputs": [],
   "source": [
    "import pandas as pd\n",
    "import numpy as np\n",
    "import matplotlib.pyplot as plt\n",
    "import scipy.stats as stats\n",
    "from scipy.stats import shapiro, boxcox, ttest_ind, mannwhitneyu, pearsonr, friedmanchisquare, kruskal, kstest, \\\n",
    "    lognorm, gamma, weibull_min, probplot, f_oneway, linregress, norm, spearmanr, ttest_1samp, wilcoxon \n",
    "import seaborn as sns\n",
    "import os\n",
    "import ast\n",
    "import statsmodels.formula.api as smf\n",
    "import statsmodels.api as sm\n",
    "from statsmodels.formula.api import ols, mixedlm\n",
    "from statsmodels.stats.multicomp import pairwise_tukeyhsd\n",
    "import scikit_posthocs as sp\n",
    "import itertools"
   ]
  },
  {
   "cell_type": "code",
   "execution_count": null,
   "id": "89cb28d4",
   "metadata": {},
   "outputs": [],
   "source": [
    "input_dir = \"Results\" # input directory\n",
    "\n",
    "number = 3 # results to analyze (subfolder name, can be an integer or string)\n",
    "\n",
    "variables = ['reactionTime', 'peakTime', 'difference', 'peakValue', 'RMS', 'tau', 'AUC']\n",
    "\n",
    "recording_order = (15, 2, 1, 6, 10, 4)"
   ]
  },
  {
   "cell_type": "code",
   "execution_count": 145,
   "id": "ae09f6c3",
   "metadata": {},
   "outputs": [],
   "source": [
    "results_dir = os.path.join(input_dir, str(number))\n",
    "files = [file for file in os.listdir(results_dir) if file.endswith(('.xlsx', '.xls'))]\n",
    "\n",
    "file_path = os.path.join(results_dir, files[0])\n",
    "df = pd.read_excel(file_path)\n",
    "\n",
    "if len([f for f in os.listdir(results_dir) if os.path.isfile(os.path.join(results_dir, f))]) == 2:\n",
    "    file_path_top_10 = os.path.join(results_dir, files[1])\n",
    "    df_top_10 = pd.read_excel(file_path_top_10)\n",
    "else:\n",
    "    df_top_10 = None"
   ]
  },
  {
   "cell_type": "markdown",
   "id": "5771bdf0",
   "metadata": {},
   "source": [
    "# Distributions"
   ]
  },
  {
   "cell_type": "code",
   "execution_count": 146,
   "id": "80bd6295",
   "metadata": {},
   "outputs": [],
   "source": [
    "# read experiment column and create a list for every experiment without duplicates\n",
    "# run shapiro on every experiment with sex split and save the results as booleans into a dictionary\n",
    "# run correct tests on every metric, using the normality dictionary for guidance"
   ]
  },
  {
   "cell_type": "code",
   "execution_count": 147,
   "id": "ab8f4f80",
   "metadata": {},
   "outputs": [
    {
     "name": "stdout",
     "output_type": "stream",
     "text": [
      "Found 8 experiments:\n",
      "ASR_control, gap_depth, tone_in_noise, gap_duration_4, gap_duration_8, gap_duration_10, gap_duration_20, gap_duration_50\n"
     ]
    }
   ],
   "source": [
    "experiments = df['experiment'].unique().tolist()\n",
    "print(f\"Found {len(experiments)} experiments:\")\n",
    "print(', '.join(experiments))"
   ]
  },
  {
   "cell_type": "code",
   "execution_count": null,
   "id": "b2cb988b",
   "metadata": {},
   "outputs": [
    {
     "name": "stdout",
     "output_type": "stream",
     "text": [
      "gap_duration_8 | male: Non-normal distribution (p=0.007)\n",
      "gap_duration_10 | male: Non-normal distribution (p=0.041)\n",
      "gap_duration_50 | male: Non-normal distribution (p=0.006)\n",
      "ASR_control | female: Non-normal distribution (p=0.001)\n",
      "tone_in_noise | female: Non-normal distribution (p=0.000)\n",
      "gap_duration_4 | female: Non-normal distribution (p=0.002)\n",
      "gap_duration_10 | male: Non-normal distribution (p=0.032)\n",
      "gap_duration_10 | female: Non-normal distribution (p=0.044)\n",
      "gap_duration_50 | male: Non-normal distribution (p=0.024)\n",
      "gap_duration_50 | female: Non-normal distribution (p=0.000)\n",
      "gap_duration_4 | female: Non-normal distribution (p=0.049)\n",
      "gap_duration_50 | male: Non-normal distribution (p=0.007)\n",
      "gap_duration_50 | female: Non-normal distribution (p=0.001)\n",
      "gap_duration_4 | female: Non-normal distribution (p=0.050)\n",
      "gap_depth | male: Non-normal distribution (p=0.041)\n",
      "Non-parametric entries after adjustment: 15\n",
      "         experiment           var\n",
      "0    gap_duration_8  reactionTime\n",
      "1   gap_duration_10  reactionTime\n",
      "2   gap_duration_50  reactionTime\n",
      "3       ASR_control      peakTime\n",
      "4     tone_in_noise      peakTime\n",
      "5    gap_duration_4      peakTime\n",
      "6   gap_duration_10      peakTime\n",
      "7   gap_duration_10      peakTime\n",
      "8   gap_duration_50      peakTime\n",
      "9   gap_duration_50      peakTime\n",
      "10   gap_duration_4    difference\n",
      "11  gap_duration_50    difference\n",
      "12  gap_duration_50    difference\n",
      "13   gap_duration_4     peakValue\n",
      "14        gap_depth           tau\n"
     ]
    }
   ],
   "source": [
    "non_parametric = pd.DataFrame(columns=['experiment', 'var'])\n",
    "\n",
    "for var in variables:\n",
    "    for exp in df['experiment'].unique():\n",
    "        for sex in ['male', 'female']:\n",
    "            data = df[(df['sex'] == sex) & (df['experiment'] == exp)][var].dropna()\n",
    "            if len(data) > 2:  # Shapiro needs at least 3 values\n",
    "                stat, p = shapiro(data)\n",
    "                if p < 0.05:\n",
    "                    non_parametric = pd.concat([non_parametric, pd.DataFrame({'experiment': [exp], 'var': [var]})], ignore_index=True)\n",
    "                    print(f\"{exp} | {sex}: Non-normal distribution (p={p:.3f})\")\n",
    "            else:\n",
    "                raise Exception(f\"{exp} | {sex}: Not enough data\")\n",
    "\n",
    "print(\"--------------------------------------------------------------\")\n",
    "print(f\"Non-parametric entries after adjustment: {len(non_parametric)}\")\n",
    "print(non_parametric)"
   ]
  },
  {
   "cell_type": "code",
   "execution_count": null,
   "id": "7e040c3b",
   "metadata": {},
   "outputs": [],
   "source": [
    "# input dfs:\n",
    "# df: main df, merged in date and reps\n",
    "# date_df: df with date, merged in reps\n",
    "# reps_df: df with reps, merged in date\n",
    "# df_top_10: top 10 df, merged in date and reps\n",
    "# minus_top_10: df with top 10 removed, merged in date and reps\n",
    "\n",
    "# df\n",
    "# tt, mtt, dt, rp\n",
    "# tt_dt, tt_rp, mt_dt, mt_rp\n",
    "# dt_rp, tt_dt_rp, mt_dt_rp<\n",
    "\n",
    "# averaging across reps and dates only occurs in Analyzer\n",
    "# Peakfinder only outputs a merged df for overview\n",
    "# it also gives a top_10, minus_top_10 and main dataframe, each with repetitions and dates not averages\n",
    "\n",
    "\n",
    "# abbreviations: \n",
    "    # tt: top 10\n",
    "    # mtt: minus top 10\n",
    "    # dt: date\n",
    "    # rp: reps\n",
    "    # examples: tt_dt_rp: top 10 with date and reps | dt_rp: date and reps | df: fully merged df\n",
    "\n",
    "    # test_df is the currently tested df and can change depending on previous test results\n",
    "\n",
    "# test order depends on each previous result (as in if we can't merge across days, then use date_df for rest, for example)\n",
    "\n",
    "# compare date df to df\n",
    "# compare top_10 df to minus_top_10 df\n",
    "# compare reps df to df\n",
    "# compare strength metrics between males and females\n",
    "# compare reaction time metrics between males and females\n",
    "# compare time of day (i.e. animal number in order 15, 2, 1, 6, 10, 4) for all metrics\n",
    "# compare experiment for all metrics"
   ]
  },
  {
   "cell_type": "code",
   "execution_count": null,
   "id": "e5838ec4",
   "metadata": {},
   "outputs": [],
   "source": [
    "test_df = df.copy()"
   ]
  }
 ],
 "metadata": {
  "kernelspec": {
   "display_name": "Python 3",
   "language": "python",
   "name": "python3"
  },
  "language_info": {
   "codemirror_mode": {
    "name": "ipython",
    "version": 3
   },
   "file_extension": ".py",
   "mimetype": "text/x-python",
   "name": "python",
   "nbconvert_exporter": "python",
   "pygments_lexer": "ipython3",
   "version": "3.11.0"
  }
 },
 "nbformat": 4,
 "nbformat_minor": 5
}
