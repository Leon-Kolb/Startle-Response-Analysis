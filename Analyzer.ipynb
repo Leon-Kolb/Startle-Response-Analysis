{
 "cells": [
  {
   "cell_type": "markdown",
   "id": "8b46727f",
   "metadata": {},
   "source": [
    "I have to redo this now that the output of peakfinder has changed :("
   ]
  }
 ],
 "metadata": {
  "kernelspec": {
   "display_name": "Python 3",
   "language": "python",
   "name": "python3"
  },
  "language_info": {
   "name": "python",
   "version": "3.12.4"
  }
 },
 "nbformat": 4,
 "nbformat_minor": 5
}
