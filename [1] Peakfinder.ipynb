{
 "cells": [
  {
   "cell_type": "markdown",
   "id": "a31845a9",
   "metadata": {
    "papermill": {
     "duration": 0.00427,
     "end_time": "2025-10-06T15:25:13.884935",
     "exception": false,
     "start_time": "2025-10-06T15:25:13.880665",
     "status": "completed"
    },
    "tags": []
   },
   "source": [
    "# Peakfinder"
   ]
  },
  {
   "cell_type": "markdown",
   "id": "da644546",
   "metadata": {
    "papermill": {
     "duration": 0.003598,
     "end_time": "2025-10-06T15:25:13.892558",
     "exception": false,
     "start_time": "2025-10-06T15:25:13.888960",
     "status": "completed"
    },
    "tags": []
   },
   "source": [
    "## Introduction"
   ]
  },
  {
   "cell_type": "markdown",
   "id": "d40b7450",
   "metadata": {
    "papermill": {
     "duration": 0.003463,
     "end_time": "2025-10-06T15:25:13.899901",
     "exception": false,
     "start_time": "2025-10-06T15:25:13.896438",
     "status": "completed"
    },
    "tags": []
   },
   "source": [
    "This notebook takes input data from ASR-recordings in the form of an input folder containing the CSV files for each recording day and animal, giving output files regarding the average reaction of each animal to each experiment. <br>The code is annotated and a more extensive explanation is contained within `Protocol.pdf`. "
   ]
  },
  {
   "cell_type": "markdown",
   "id": "cc261c4d",
   "metadata": {
    "papermill": {
     "duration": 0.003469,
     "end_time": "2025-10-06T15:25:13.906880",
     "exception": false,
     "start_time": "2025-10-06T15:25:13.903411",
     "status": "completed"
    },
    "tags": []
   },
   "source": [
    "## Imports"
   ]
  },
  {
   "cell_type": "markdown",
   "id": "2b11ced4",
   "metadata": {
    "papermill": {
     "duration": 0.003522,
     "end_time": "2025-10-06T15:25:13.913921",
     "exception": false,
     "start_time": "2025-10-06T15:25:13.910399",
     "status": "completed"
    },
    "tags": []
   },
   "source": [
    "If this is your first time running this, you may need to install various python packages using pip. <br>\n",
    "Open the terminal, either the windows command console or the VSC terminal, and run the command `pip install MODULENAME` for every module listed in the cell below (for example, `pip install pandas` to install pandas). Some of them may already be installed. Repeat this for the imports in `Analyzer.ipynb`."
   ]
  },
  {
   "cell_type": "code",
   "execution_count": 43,
   "id": "06cc29a4",
   "metadata": {
    "execution": {
     "iopub.execute_input": "2025-10-06T15:25:13.921849Z",
     "iopub.status.busy": "2025-10-06T15:25:13.921545Z",
     "iopub.status.idle": "2025-10-06T15:25:15.063351Z",
     "shell.execute_reply": "2025-10-06T15:25:15.062919Z"
    },
    "papermill": {
     "duration": 1.146835,
     "end_time": "2025-10-06T15:25:15.064274",
     "exception": false,
     "start_time": "2025-10-06T15:25:13.917439",
     "status": "completed"
    },
    "tags": []
   },
   "outputs": [],
   "source": [
    "import pandas as pd       \n",
    "import matplotlib.pyplot as plt\n",
    "import numpy as np\n",
    "import os\n",
    "from collections import defaultdict, Counter\n",
    "from IPython.display import clear_output\n",
    "import re\n",
    "from scipy.optimize import curve_fit\n",
    "from scipy.integrate import simpson"
   ]
  },
  {
   "cell_type": "markdown",
   "id": "db3261eb",
   "metadata": {
    "papermill": {
     "duration": 0.003718,
     "end_time": "2025-10-06T15:25:15.072270",
     "exception": false,
     "start_time": "2025-10-06T15:25:15.068552",
     "status": "completed"
    },
    "tags": []
   },
   "source": [
    "## Configuration"
   ]
  },
  {
   "cell_type": "code",
   "execution_count": 44,
   "id": "b3cb714d",
   "metadata": {
    "execution": {
     "iopub.execute_input": "2025-10-06T15:25:15.080250Z",
     "iopub.status.busy": "2025-10-06T15:25:15.079921Z",
     "iopub.status.idle": "2025-10-06T15:25:15.084001Z",
     "shell.execute_reply": "2025-10-06T15:25:15.083603Z"
    },
    "papermill": {
     "duration": 0.008699,
     "end_time": "2025-10-06T15:25:15.084641",
     "exception": false,
     "start_time": "2025-10-06T15:25:15.075942",
     "status": "completed"
    },
    "tags": []
   },
   "outputs": [],
   "source": [
    "input_dir = \"Peakfinder Input\" # - - - - - - - - - - - - - - - - - - - - - - - - - - folder containing folders with .CSV files; change this to your own input directory\n",
    "\n",
    "output_dir = \"[1] Peakfinder Results\" # - - - - - - - - - - - - - - - - - - - - - - - - folder containing final results\n",
    "\n",
    "verbose = True # - - - - - - - - - - - - - - - - - - - - - - - - - - - - enables more output messages which can help identify problems; the notebook will only return errors if False\n",
    "\n",
    "discard_peakless = True # - - - - - - - - - - - - - - - - - - - - - - -  discard recordings without peaks from analysis\n",
    "\n",
    "include_decay_fit = False # - - - - - - - - - - - - - - - - - - - - - -  include regular exponential decay in the output\n",
    "\n",
    "output = True # - - - - - - - - - - - - - - - - - - - - - - - - - - - -  output results; set to False for testing if you do not want any change in output files when running the notebook\n",
    "\n",
    "detection_threshold = 24 # - - - - - - - - - - - - - - - - - - - - - - - threshold multiplier for detecting peaks, ValueG has to exceed k times the background noise per animal\n",
    "\n",
    "RT_threshold = 12 # - - - - - - - - - - - - - - - - - - - - - - - - - - threshold multiplier for measuring reaction time, ValueG has to exceed k times the background noise per animal\n",
    "\n",
    "length = 500 # - - - - - - - - - - - - - - - - - - - - - - - - - - - - - length of the time window in milliseconds (both before and after the startle)\n",
    "\n",
    "example_number = 33 # - - - - - - - - - - - - - - - - - - - - - - - - -  index of the trial used for the example plot\n",
    "\n",
    "background_offset = 200 # - - - - - - - - - - - - - - - - - - - - - - -  measure background noise up to this many ms before the startle time (increase if a prepulse is played this or further away from the startle)\n",
    "\n",
    "detection_offset = 100 # - - - - - - - - - - - - - - - - - - - - - - - - check for signal up to this many ms after the startle time (for detection)\n",
    "\n",
    "RMS_window = 200 # - - - - - - - - - - - - - - - - - - - - - - - check for signal up to this many ms after the startle time (for measurement)\n",
    "\n",
    "peak_window = 100 \n",
    "\n",
    "PTTA_window = 200\n",
    "\n",
    "PTPA_window = 50\n",
    "\n",
    "decay_fit_window = 500\n",
    "\n",
    "first_amount = 10\n",
    "\n",
    "mode = \"\"#\"control\"\n",
    "\n",
    "filenames = [\"OVERVIEW\", \"RESULTS\", f\"RESULTS_T{first_amount}\", f\"RESULTS_MT{first_amount}\"] # - - - result file names (overview, main results, top 10 results, results minus the top 10)\n",
    "\n",
    "\n",
    "#exclude = [\"offset_PPI\", \"offset_ASR\"] # - - - - - - - - - - - - - - -  experiment types to be excluded from analysis\n",
    "#exclude = [\"ASR_control\", \"gap_depth\"]\n",
    "exclude = None"
   ]
  },
  {
   "cell_type": "code",
   "execution_count": 45,
   "id": "8d02c151",
   "metadata": {
    "execution": {
     "iopub.execute_input": "2025-10-06T15:25:15.092737Z",
     "iopub.status.busy": "2025-10-06T15:25:15.092486Z",
     "iopub.status.idle": "2025-10-06T15:25:15.095392Z",
     "shell.execute_reply": "2025-10-06T15:25:15.095029Z"
    },
    "papermill": {
     "duration": 0.007524,
     "end_time": "2025-10-06T15:25:15.095944",
     "exception": false,
     "start_time": "2025-10-06T15:25:15.088420",
     "status": "completed"
    },
    "tags": []
   },
   "outputs": [],
   "source": [
    "# Input startle times for every experiment\n",
    "startle_times = {\n",
    "\n",
    "    \"ASR_control\":      10000,\n",
    "    \"gap_depth\":        10100,\n",
    "    \"gap_duration_10\":  10060,\n",
    "    \"gap_duration_20\":  10070,\n",
    "    \"gap_duration_4\":   10054,\n",
    "    \"gap_duration_50\":  10100,\n",
    "    \"gap_duration_8\":   10058,\n",
    "    \"offset_ASR\":       10010,\n",
    "    \"offset_PPI_10\":    10010,\n",
    "    \"offset_PPI_12\":    10012,\n",
    "    \"offset_PPI_14\":    10014,\n",
    "    \"offset_PPI_16\":    10016,\n",
    "    \"offset_PPI_18\":    10018,\n",
    "    \"offset_PPI_20\":    10020,\n",
    "    \"offset_PPI_4\":     10004,\n",
    "    \"offset_PPI_6\":     10006,\n",
    "    \"offset_PPI_8\":     10008,\n",
    "    \"offset_PPI_50\":    10050,\n",
    "    \"tone_in_noise\":    10100\n",
    "    \n",
    "}"
   ]
  },
  {
   "cell_type": "code",
   "execution_count": 46,
   "id": "61fb1bb9",
   "metadata": {
    "execution": {
     "iopub.execute_input": "2025-10-06T15:25:15.103780Z",
     "iopub.status.busy": "2025-10-06T15:25:15.103550Z",
     "iopub.status.idle": "2025-10-06T15:25:15.106251Z",
     "shell.execute_reply": "2025-10-06T15:25:15.105960Z"
    },
    "papermill": {
     "duration": 0.007292,
     "end_time": "2025-10-06T15:25:15.106797",
     "exception": false,
     "start_time": "2025-10-06T15:25:15.099505",
     "status": "completed"
    },
    "tags": []
   },
   "outputs": [],
   "source": [
    "# interpulse intervals\n",
    "IPI = {\n",
    "\n",
    "    \"ASR_control\":      None,\n",
    "    \"gap_depth\":        50,\n",
    "    \"gap_duration_10\":  10,\n",
    "    \"gap_duration_20\":  20,\n",
    "    \"gap_duration_4\":   4,\n",
    "    \"gap_duration_50\":  50,\n",
    "    \"gap_duration_8\":   8,\n",
    "    \"offset_ASR\":       None,\n",
    "    \"offset_PPI_10\":    10,\n",
    "    \"offset_PPI_12\":    12,\n",
    "    \"offset_PPI_14\":    14,\n",
    "    \"offset_PPI_16\":    16,\n",
    "    \"offset_PPI_18\":    18,\n",
    "    \"offset_PPI_20\":    20,\n",
    "    \"offset_PPI_4\":     4,\n",
    "    \"offset_PPI_6\":     6,\n",
    "    \"offset_PPI_8\":     8,\n",
    "    \"offset_PPI_50\":    50,\n",
    "    \"tone_in_noise\":    50\n",
    "\n",
    "}"
   ]
  },
  {
   "cell_type": "code",
   "execution_count": 47,
   "id": "ab64f7f0",
   "metadata": {
    "execution": {
     "iopub.execute_input": "2025-10-06T15:25:15.114631Z",
     "iopub.status.busy": "2025-10-06T15:25:15.114406Z",
     "iopub.status.idle": "2025-10-06T15:25:15.117876Z",
     "shell.execute_reply": "2025-10-06T15:25:15.117432Z"
    },
    "papermill": {
     "duration": 0.008138,
     "end_time": "2025-10-06T15:25:15.118510",
     "exception": false,
     "start_time": "2025-10-06T15:25:15.110372",
     "status": "completed"
    },
    "tags": []
   },
   "outputs": [
    {
     "name": "stdout",
     "output_type": "stream",
     "text": [
      "Prepulse times (startle_time - IPI):\n",
      "ASR_control: None\n",
      "gap_depth: 10050\n",
      "gap_duration_10: 10050\n",
      "gap_duration_20: 10050\n",
      "gap_duration_4: 10050\n",
      "gap_duration_50: 10050\n",
      "gap_duration_8: 10050\n",
      "offset_ASR: None\n",
      "offset_PPI_10: 10000\n",
      "offset_PPI_12: 10000\n",
      "offset_PPI_14: 10000\n",
      "offset_PPI_16: 10000\n",
      "offset_PPI_18: 10000\n",
      "offset_PPI_20: 10000\n",
      "offset_PPI_4: 10000\n",
      "offset_PPI_6: 10000\n",
      "offset_PPI_8: 10000\n",
      "offset_PPI_50: 10000\n",
      "tone_in_noise: 10050\n"
     ]
    }
   ],
   "source": [
    "# ...existing code...\n",
    "# Calculate prepulse times for each experiment\n",
    "prepulse_times = {}\n",
    "\n",
    "for exp_name in startle_times:\n",
    "    startle_time = startle_times[exp_name]\n",
    "    ipi = IPI.get(exp_name)\n",
    "    if startle_time is None or ipi is None:\n",
    "        prepulse_times[exp_name] = None\n",
    "    else:\n",
    "        prepulse_times[exp_name] = startle_time - ipi\n",
    "\n",
    "if verbose:\n",
    "    print(\"Prepulse times (startle_time - IPI):\")\n",
    "    for exp, ppt in prepulse_times.items():\n",
    "        print(f\"{exp}: {ppt}\")\n",
    "# ...existing code..."
   ]
  },
  {
   "cell_type": "code",
   "execution_count": 48,
   "id": "452899c7",
   "metadata": {
    "execution": {
     "iopub.execute_input": "2025-10-06T15:25:15.126579Z",
     "iopub.status.busy": "2025-10-06T15:25:15.126346Z",
     "iopub.status.idle": "2025-10-06T15:25:15.128984Z",
     "shell.execute_reply": "2025-10-06T15:25:15.128577Z"
    },
    "papermill": {
     "duration": 0.007415,
     "end_time": "2025-10-06T15:25:15.129595",
     "exception": false,
     "start_time": "2025-10-06T15:25:15.122180",
     "status": "completed"
    },
    "tags": []
   },
   "outputs": [],
   "source": [
    "# Input sex for every animal\n",
    "sex_dict = {\n",
    "    \"1\":    \"female\",\n",
    "    \"2\":    \"male\",\n",
    "    \"4\":    \"male\",\n",
    "    \"6\":    \"female\",\n",
    "    \"10\":   \"female\",\n",
    "    \"15\":   \"male\"\n",
    "}"
   ]
  },
  {
   "cell_type": "code",
   "execution_count": 49,
   "id": "ec49d5bd",
   "metadata": {
    "execution": {
     "iopub.execute_input": "2025-10-06T15:25:15.137801Z",
     "iopub.status.busy": "2025-10-06T15:25:15.137649Z",
     "iopub.status.idle": "2025-10-06T15:25:15.140387Z",
     "shell.execute_reply": "2025-10-06T15:25:15.140093Z"
    },
    "papermill": {
     "duration": 0.007646,
     "end_time": "2025-10-06T15:25:15.140955",
     "exception": false,
     "start_time": "2025-10-06T15:25:15.133309",
     "status": "completed"
    },
    "tags": []
   },
   "outputs": [],
   "source": [
    "# CSV file settings (insert columns like how they'd appear in an excel file, as in starting with column 1)\n",
    "\n",
    "data_start =           5   # row where recording data starts\n",
    "\n",
    "animal_column =        2   # column \"Animal. No.\"\n",
    "experiment_column =    8   # column \"Exp. No.\"\n",
    "weight_column =        6   # column \"Weight\"\n",
    "number_column =        18  # column \"TrialNo\"\n",
    "name_column =          17  # column \"Trial\"\n",
    "time_column =          19  # column \"MS\"\n",
    "value_column =         20  # column \"ValueG\"\n",
    "\n",
    "# adjust columns to be 0-indexed\n",
    "experiment_column, weight_column, number_column, name_column, time_column, value_column = (x - 1 for x in (experiment_column, weight_column, number_column, name_column, time_column, value_column))"
   ]
  },
  {
   "cell_type": "markdown",
   "id": "f1021ee1",
   "metadata": {
    "papermill": {
     "duration": 0.00367,
     "end_time": "2025-10-06T15:25:15.148457",
     "exception": false,
     "start_time": "2025-10-06T15:25:15.144787",
     "status": "completed"
    },
    "tags": []
   },
   "source": [
    "## Slicing"
   ]
  },
  {
   "cell_type": "code",
   "execution_count": 50,
   "id": "9bda01d9",
   "metadata": {
    "execution": {
     "iopub.execute_input": "2025-10-06T15:25:15.156438Z",
     "iopub.status.busy": "2025-10-06T15:25:15.156184Z",
     "iopub.status.idle": "2025-10-06T15:25:42.106269Z",
     "shell.execute_reply": "2025-10-06T15:25:42.105907Z"
    },
    "papermill": {
     "duration": 26.954923,
     "end_time": "2025-10-06T15:25:42.106978",
     "exception": false,
     "start_time": "2025-10-06T15:25:15.152055",
     "status": "completed"
    },
    "tags": []
   },
   "outputs": [
    {
     "name": "stdout",
     "output_type": "stream",
     "text": [
      "Processed 1645 segments.\n",
      "Repetition count per experiment:\n",
      "ASR_control: 5\n",
      "gap_depth: 5\n",
      "gap_duration_10: 5\n",
      "gap_duration_20: 5\n",
      "gap_duration_4: 5\n",
      "gap_duration_50: 5\n",
      "gap_duration_8: 5\n",
      "offset_ASR: 5\n",
      "offset_PPI_10: 5\n",
      "offset_PPI_12: 5\n",
      "offset_PPI_14: 5\n",
      "offset_PPI_16: 5\n",
      "offset_PPI_18: 3\n",
      "offset_PPI_20: 4\n",
      "offset_PPI_4: 5\n",
      "offset_PPI_50: 4\n",
      "offset_PPI_6: 4\n",
      "offset_PPI_8: 5\n",
      "tone_in_noise: 5\n"
     ]
    }
   ],
   "source": [
    "segments = {}\n",
    "startles = {}\n",
    "\n",
    "for root, dirs, files in os.walk(input_dir):\n",
    "    for file in files:\n",
    "        if file.lower().endswith('.csv'):\n",
    "            file_path = os.path.join(root, file)\n",
    "            df = pd.read_csv(file_path, low_memory=False, skiprows=[0, 2])\n",
    "\n",
    "            animal_number = df.iloc[data_start + 1, animal_column]\n",
    "            date = file[:-4].split('_')[1]\n",
    "            animal_str = f\"Animal{animal_number}\"\n",
    "\n",
    "            df.iloc[:, value_column] = pd.to_numeric(df.iloc[:, value_column], errors='coerce')\n",
    "\n",
    "            df.iloc[:, value_column] = abs(df.iloc[:, value_column])\n",
    "\n",
    "            df['trial'] = df.iloc[:, name_column]\n",
    "            df['trial_shift'] = df['trial'].shift(1)\n",
    "            df['new_segment'] = df['trial'] != df['trial_shift']\n",
    "            df['segment_id'] = df['new_segment'].cumsum()\n",
    "\n",
    "            repetition = {}\n",
    "\n",
    "            for segment_id, segment_df in df.groupby('segment_id'):\n",
    "                trial_name = segment_df.iloc[0]['trial']\n",
    "                repetition[trial_name] = repetition.get(trial_name, 0) + 1\n",
    "\n",
    "                segment_startle = startle_times.get(trial_name)\n",
    "                if segment_startle is None:\n",
    "                    raise Exception(f\"Missing startle time for {trial_name}. Please make sure it is included in the startle_times dictionary.\")\n",
    "\n",
    "                segment_name = f\"{animal_str}_{date}_{trial_name}_Rep{repetition[trial_name]}\"\n",
    "\n",
    "                segment_length = len(segment_df)\n",
    "                time_col = np.arange(0, segment_length * 2, 2)\n",
    "                segment_data = pd.DataFrame({\n",
    "                    0: time_col,\n",
    "                    1: segment_df.iloc[:, value_column].values\n",
    "                })\n",
    "\n",
    "                segments[segment_name] = segment_data\n",
    "                startles[segment_name] = segment_startle\n",
    "\n",
    "counts = Counter([segment_df.iloc[0]['trial'] for _, segment_df in df.groupby('segment_id')])\n",
    "\n",
    "clear_output(wait=False)\n",
    "\n",
    "if verbose: \n",
    "    print(f\"Processed {len(segments)} segments.\") # 1710 expected\n",
    "    print(\"Repetition count per experiment:\")\n",
    "    for name, count in sorted(counts.items()):\n",
    "        print(f\"{name}: {count}\") # 5 each expected"
   ]
  },
  {
   "cell_type": "code",
   "execution_count": 51,
   "id": "14d6fab6",
   "metadata": {
    "execution": {
     "iopub.execute_input": "2025-10-06T15:25:42.116192Z",
     "iopub.status.busy": "2025-10-06T15:25:42.115947Z",
     "iopub.status.idle": "2025-10-06T15:25:42.989564Z",
     "shell.execute_reply": "2025-10-06T15:25:42.989208Z"
    },
    "papermill": {
     "duration": 0.878517,
     "end_time": "2025-10-06T15:25:42.990180",
     "exception": false,
     "start_time": "2025-10-06T15:25:42.111663",
     "status": "completed"
    },
    "tags": []
   },
   "outputs": [
    {
     "name": "stdout",
     "output_type": "stream",
     "text": [
      "Collected background noise for 6 animals:\n",
      "{'Animal10': 0.27, 'Animal15': 0.62, 'Animal1': 0.34, 'Animal2': 0.3, 'Animal4': 0.4, 'Animal6': 0.27}\n"
     ]
    },
    {
     "data": {
      "text/plain": [
       "' \\n# ...existing code...\\n\\n# Mean noise across repetitions per experiment per animal\\nanimal_noise_mean = {}\\nfor animal, exp_dict in animal_noise_results.items():\\n    animal_noise_mean[animal] = {}\\n    for exp, noise_list in exp_dict.items():\\n        animal_noise_mean[animal][exp] = float(np.mean(noise_list))\\n\\n# Mean noise across experiments per animal\\nanimal_noise = {}\\nfor animal, exp_dict in animal_noise_mean.items():\\n    all_exp_values = list(exp_dict.values())\\n    if all_exp_values:\\n        animal_noise[animal] = round(float(np.mean(all_exp_values)), 2)\\n    else:\\n        animal_noise[animal] = None\\n\\nif verbose:\\n    print(f\"Collected background noise for {len(animal_noise)} animals (mean):\")\\n    print(animal_noise)\\n# ...existing code... '"
      ]
     },
     "execution_count": 51,
     "metadata": {},
     "output_type": "execute_result"
    }
   ],
   "source": [
    "# Get background noise per animal\n",
    "animal_noise_results = {}\n",
    "\n",
    "experiment_keys = [t[0] for t in sorted(counts.items())]\n",
    "\n",
    "for key in segments.keys():\n",
    "    # Extract animal name\n",
    "    animal = key.split('_')[0]\n",
    "\n",
    "    # Find experiment prefix in key\n",
    "    matching_prefix = None\n",
    "    for exp_key in experiment_keys:\n",
    "        if exp_key in key:\n",
    "            matching_prefix = exp_key\n",
    "            break\n",
    "\n",
    "    if matching_prefix is None:\n",
    "        print(f\"No experiment prefix found for key: {key}\")\n",
    "        continue\n",
    "\n",
    "    startle_time = startle_times.get(matching_prefix)\n",
    "    if startle_time is None:\n",
    "        print(f\"No startle time found for experiment: {matching_prefix}\")\n",
    "        continue\n",
    "\n",
    "    df = segments[key]\n",
    "\n",
    "    # Convert time column to numeric\n",
    "    df.iloc[:, 0] = pd.to_numeric(df.iloc[:, 0], errors='coerce')\n",
    "\n",
    "    start_time = 0\n",
    "    end_time = startle_time - background_offset  # measure up to 200ms before the startle\n",
    "    if end_time <= start_time:\n",
    "        print(f\"Invalid time window for {key}: startle_time={startle_time}\")\n",
    "        continue\n",
    "\n",
    "    mask = (df.iloc[:, 0] >= start_time) & (df.iloc[:, 0] < end_time)\n",
    "    background_window = df.loc[mask].iloc[:, 1]\n",
    "\n",
    "    if background_window.empty:\n",
    "        print(f\"No data in background window for {key}\")\n",
    "        continue\n",
    "\n",
    "    noise_level = background_window.std()\n",
    "\n",
    "    # Store noise levels per animal and experiment across repetitions\n",
    "    animal_noise_results.setdefault(animal, {}).setdefault(matching_prefix, []).append(noise_level)\n",
    "\n",
    "# Median noise across repetitions per experiment per animal\n",
    "animal_noise_median = {}\n",
    "for animal, exp_dict in animal_noise_results.items():\n",
    "    animal_noise_median[animal] = {}\n",
    "    for exp, noise_list in exp_dict.items():\n",
    "        animal_noise_median[animal][exp] = float(np.median(noise_list))\n",
    "\n",
    "# Median noise across experiments per animal\n",
    "animal_noise = {}\n",
    "for animal, exp_dict in animal_noise_median.items():\n",
    "    all_exp_values = list(exp_dict.values())\n",
    "    if all_exp_values:\n",
    "        animal_noise[animal] = round(float(np.median(all_exp_values)), 2)\n",
    "    else:\n",
    "        animal_noise[animal] = None\n",
    "\n",
    "if verbose:\n",
    "    print(f\"Collected background noise for {len(animal_noise)} animals:\")\n",
    "    print(animal_noise)\n",
    "\n",
    "\"\"\" \n",
    "# ...existing code...\n",
    "\n",
    "# Mean noise across repetitions per experiment per animal\n",
    "animal_noise_mean = {}\n",
    "for animal, exp_dict in animal_noise_results.items():\n",
    "    animal_noise_mean[animal] = {}\n",
    "    for exp, noise_list in exp_dict.items():\n",
    "        animal_noise_mean[animal][exp] = float(np.mean(noise_list))\n",
    "\n",
    "# Mean noise across experiments per animal\n",
    "animal_noise = {}\n",
    "for animal, exp_dict in animal_noise_mean.items():\n",
    "    all_exp_values = list(exp_dict.values())\n",
    "    if all_exp_values:\n",
    "        animal_noise[animal] = round(float(np.mean(all_exp_values)), 2)\n",
    "    else:\n",
    "        animal_noise[animal] = None\n",
    "\n",
    "if verbose:\n",
    "    print(f\"Collected background noise for {len(animal_noise)} animals (mean):\")\n",
    "    print(animal_noise)\n",
    "# ...existing code... \"\"\""
   ]
  },
  {
   "cell_type": "code",
   "execution_count": 52,
   "id": "284fa4b9",
   "metadata": {
    "execution": {
     "iopub.execute_input": "2025-10-06T15:25:42.999433Z",
     "iopub.status.busy": "2025-10-06T15:25:42.999245Z",
     "iopub.status.idle": "2025-10-06T15:25:43.681617Z",
     "shell.execute_reply": "2025-10-06T15:25:43.681237Z"
    },
    "papermill": {
     "duration": 0.68766,
     "end_time": "2025-10-06T15:25:43.682281",
     "exception": false,
     "start_time": "2025-10-06T15:25:42.994621",
     "status": "completed"
    },
    "tags": []
   },
   "outputs": [
    {
     "name": "stdout",
     "output_type": "stream",
     "text": [
      "Adjusted 1645 segments.\n"
     ]
    }
   ],
   "source": [
    "# Cut the segments\n",
    "adjusted_segments = {}\n",
    "for entry in segments:\n",
    "    df = segments[entry]\n",
    "    reference_time = startles[entry]  \n",
    "\n",
    "    # Filter the data to get rows within the 1000 ms before and after the reference time\n",
    "    start_time = reference_time - length\n",
    "    end_time = reference_time + length\n",
    "\n",
    "    # Filter the dataframe to include only the data within the time range\n",
    "    filtered_df = df[(df.iloc[:, 0] >= start_time) & (df.iloc[:, 0] <= end_time)].copy()\n",
    "\n",
    "    # Adjust the time column to set the reference time to 0\n",
    "    filtered_df.iloc[:, 0] = filtered_df.iloc[:, 0] - reference_time\n",
    "\n",
    "    filtered_df.reset_index(drop=True, inplace=True) \n",
    "\n",
    "    adjusted_segments[entry] = filtered_df\n",
    "\n",
    "if verbose: print(f\"Adjusted {len(adjusted_segments)} segments.\")"
   ]
  },
  {
   "cell_type": "code",
   "execution_count": 53,
   "id": "6115af17",
   "metadata": {
    "execution": {
     "iopub.execute_input": "2025-10-06T15:25:43.691910Z",
     "iopub.status.busy": "2025-10-06T15:25:43.691666Z",
     "iopub.status.idle": "2025-10-06T15:25:44.090636Z",
     "shell.execute_reply": "2025-10-06T15:25:44.090284Z"
    },
    "papermill": {
     "duration": 0.404319,
     "end_time": "2025-10-06T15:25:44.091383",
     "exception": false,
     "start_time": "2025-10-06T15:25:43.687064",
     "status": "completed"
    },
    "tags": []
   },
   "outputs": [
    {
     "name": "stdout",
     "output_type": "stream",
     "text": [
      "Saved segment order to: [1] Peakfinder Results\\SegmentOrder.xlsx\n"
     ]
    }
   ],
   "source": [
    "# Record the order of all segments and save as an Excel file, with a row per animal and date (DATE as a column)\n",
    "# Instead of segment name, save the experiment name\n",
    "\n",
    "segment_order = defaultdict(list)\n",
    "\n",
    "for i, key in enumerate(adjusted_segments.keys()):\n",
    "    parts = key.split('_')\n",
    "    animal = parts[0]\n",
    "    date = parts[1]\n",
    "    # Extract experiment name (everything after animal and date, before Rep)\n",
    "    experiment_parts = []\n",
    "    for p in parts[2:]:\n",
    "        if p.lower().startswith(\"rep\"):\n",
    "            break\n",
    "        experiment_parts.append(p)\n",
    "    experiment_name = \"_\".join(experiment_parts)\n",
    "    segment_order[(animal, date)].append((i + 1, experiment_name))  # 1-based index\n",
    "\n",
    "order_rows = []\n",
    "for (animal, date), segments in segment_order.items():\n",
    "    for idx, experiment in segments:\n",
    "        row = {\n",
    "            'animal': animal,\n",
    "            'date': date,\n",
    "            'order_index': idx,\n",
    "            'experiment': experiment\n",
    "        }\n",
    "        order_rows.append(row)\n",
    "\n",
    "order_df = pd.DataFrame(order_rows)\n",
    "if output:\n",
    "    if not os.path.exists(output_dir):\n",
    "        os.makedirs(output_dir)\n",
    "    order_df.to_excel(os.path.join(output_dir, \"SegmentOrder.xlsx\"), index=False)\n",
    "\n",
    "if verbose:\n",
    "    print(\"Saved segment order to:\", os.path.join(output_dir, \"SegmentOrder.xlsx\"))"
   ]
  },
  {
   "cell_type": "code",
   "execution_count": 54,
   "id": "4aad77b6",
   "metadata": {
    "execution": {
     "iopub.execute_input": "2025-10-06T15:25:44.100182Z",
     "iopub.status.busy": "2025-10-06T15:25:44.099951Z",
     "iopub.status.idle": "2025-10-06T15:25:44.107336Z",
     "shell.execute_reply": "2025-10-06T15:25:44.107017Z"
    },
    "papermill": {
     "duration": 0.012301,
     "end_time": "2025-10-06T15:25:44.107900",
     "exception": false,
     "start_time": "2025-10-06T15:25:44.095599",
     "status": "completed"
    },
    "tags": []
   },
   "outputs": [
    {
     "name": "stdout",
     "output_type": "stream",
     "text": [
      "Found 180 segments for the first ten recordings.\n"
     ]
    }
   ],
   "source": [
    "# Find top 10 recordings\n",
    "\n",
    "import random\n",
    "animal_date_keys = defaultdict(list)\n",
    "minus_top_10_keys = list(adjusted_segments.keys())\n",
    "\n",
    "for key in adjusted_segments.keys():\n",
    "    parts = key.split('_')\n",
    "    animal = parts[0]\n",
    "    date = parts[1]\n",
    "    animal_date_keys[(animal, date)].append(key)\n",
    "\n",
    "# Take first 10 keys per animal per date\n",
    "top_10_keys = []\n",
    "for (animal, date), keys in animal_date_keys.items():\n",
    "\n",
    "    start_idx = random.randint(0, len(keys) - first_amount)\n",
    "    first_10_keys = keys[start_idx:start_idx + first_amount] if mode == \"control\" else keys[:first_amount]\n",
    "\n",
    "    top_10_keys.extend(first_10_keys)\n",
    "\n",
    "# Remove top 10 entries per animal and day from minus top 10 keyset\n",
    "for key in minus_top_10_keys: \n",
    "    if key in top_10_keys: \n",
    "        minus_top_10_keys.remove(key)\n",
    "\n",
    "if verbose: print(f\"Found {len(top_10_keys)} segments for the first ten recordings.\")"
   ]
  },
  {
   "cell_type": "code",
   "execution_count": 55,
   "id": "b0fd2114",
   "metadata": {
    "execution": {
     "iopub.execute_input": "2025-10-06T15:25:44.116457Z",
     "iopub.status.busy": "2025-10-06T15:25:44.116228Z",
     "iopub.status.idle": "2025-10-06T15:25:44.119051Z",
     "shell.execute_reply": "2025-10-06T15:25:44.118772Z"
    },
    "papermill": {
     "duration": 0.007705,
     "end_time": "2025-10-06T15:25:44.119633",
     "exception": false,
     "start_time": "2025-10-06T15:25:44.111928",
     "status": "completed"
    },
    "tags": []
   },
   "outputs": [
    {
     "name": "stdout",
     "output_type": "stream",
     "text": [
      "['Animal10_April16_gap_duration_4_Rep1', 'Animal10_April16_gap_depth_Rep1', 'Animal10_April16_offset_PPI_4_Rep1', 'Animal10_April16_offset_PPI_50_Rep1', 'Animal10_April16_offset_PPI_8_Rep1', 'Animal10_April16_offset_PPI_14_Rep1', 'Animal10_April16_offset_PPI_6_Rep1', 'Animal10_April16_offset_ASR_Rep1', 'Animal10_April16_gap_duration_10_Rep1', 'Animal10_April16_offset_PPI_12_Rep1', 'Animal10_June26_offset_PPI_14_Rep1', 'Animal10_June26_offset_PPI_50_Rep1', 'Animal10_June26_offset_PPI_4_Rep1', 'Animal10_June26_gap_depth_Rep1', 'Animal10_June26_offset_PPI_16_Rep1', 'Animal10_June26_offset_PPI_18_Rep1', 'Animal10_June26_tone_in_noise_Rep1', 'Animal10_June26_gap_duration_10_Rep1', 'Animal10_June26_ASR_control_Rep1', 'Animal10_June26_gap_depth_Rep2', 'Animal10_May20_offset_PPI_4_Rep1', 'Animal10_May20_gap_duration_4_Rep1', 'Animal10_May20_offset_PPI_10_Rep1', 'Animal10_May20_offset_PPI_4_Rep2', 'Animal10_May20_gap_duration_20_Rep1', 'Animal10_May20_offset_PPI_20_Rep1', 'Animal10_May20_offset_PPI_6_Rep1', 'Animal10_May20_ASR_control_Rep1', 'Animal10_May20_offset_PPI_16_Rep1', 'Animal10_May20_offset_ASR_Rep1', 'Animal15_April16_offset_PPI_18_Rep1', 'Animal15_April16_ASR_control_Rep1', 'Animal15_April16_offset_ASR_Rep1', 'Animal15_April16_offset_PPI_12_Rep1', 'Animal15_April16_ASR_control_Rep2', 'Animal15_April16_gap_depth_Rep1', 'Animal15_April16_gap_duration_20_Rep1', 'Animal15_April16_gap_duration_8_Rep1', 'Animal15_April16_offset_PPI_20_Rep1', 'Animal15_April16_gap_duration_20_Rep2', 'Animal15_June26_gap_duration_8_Rep1', 'Animal15_June26_offset_PPI_20_Rep1', 'Animal15_June26_gap_duration_20_Rep1', 'Animal15_June26_offset_PPI_50_Rep1', 'Animal15_June26_offset_PPI_4_Rep1', 'Animal15_June26_offset_PPI_12_Rep1', 'Animal15_June26_tone_in_noise_Rep1', 'Animal15_June26_offset_PPI_10_Rep1', 'Animal15_June26_offset_PPI_20_Rep2', 'Animal15_June26_offset_ASR_Rep1', 'Animal15_May20_gap_duration_10_Rep1', 'Animal15_May20_offset_PPI_12_Rep1', 'Animal15_May20_offset_PPI_50_Rep1', 'Animal15_May20_offset_PPI_10_Rep1', 'Animal15_May20_gap_depth_Rep1', 'Animal15_May20_tone_in_noise_Rep1', 'Animal15_May20_gap_duration_50_Rep1', 'Animal15_May20_gap_duration_4_Rep1', 'Animal15_May20_offset_PPI_6_Rep1', 'Animal15_May20_offset_PPI_50_Rep2', 'Animal1_April16_gap_duration_8_Rep1', 'Animal1_April16_offset_PPI_50_Rep1', 'Animal1_April16_tone_in_noise_Rep1', 'Animal1_April16_offset_PPI_10_Rep1', 'Animal1_April16_offset_PPI_50_Rep2', 'Animal1_April16_gap_duration_10_Rep1', 'Animal1_April16_tone_in_noise_Rep2', 'Animal1_April16_gap_duration_20_Rep1', 'Animal1_April16_offset_PPI_6_Rep1', 'Animal1_April16_tone_in_noise_Rep3', 'Animal1_June26_offset_PPI_16_Rep1', 'Animal1_June26_ASR_control_Rep1', 'Animal1_June26_offset_PPI_18_Rep1', 'Animal1_June26_gap_duration_10_Rep1', 'Animal1_June26_offset_PPI_20_Rep1', 'Animal1_June26_offset_PPI_18_Rep2', 'Animal1_June26_offset_PPI_10_Rep1', 'Animal1_June26_gap_duration_20_Rep1', 'Animal1_June26_offset_PPI_20_Rep2', 'Animal1_June26_offset_PPI_10_Rep2', 'Animal1_May20_gap_duration_10_Rep1', 'Animal1_May20_tone_in_noise_Rep1', 'Animal1_May20_offset_ASR_Rep1', 'Animal1_May20_gap_depth_Rep1', 'Animal1_May20_offset_PPI_50_Rep1', 'Animal1_May20_gap_duration_50_Rep1', 'Animal1_May20_gap_depth_Rep2', 'Animal1_May20_offset_PPI_4_Rep1', 'Animal1_May20_ASR_control_Rep1', 'Animal1_May20_offset_PPI_50_Rep2', 'Animal2_April16_offset_PPI_20_Rep1', 'Animal2_April16_offset_PPI_16_Rep1', 'Animal2_April16_offset_PPI_10_Rep1', 'Animal2_April16_offset_PPI_14_Rep1', 'Animal2_April16_offset_PPI_12_Rep1', 'Animal2_April16_offset_PPI_18_Rep1', 'Animal2_April16_offset_PPI_6_Rep1', 'Animal2_April16_offset_PPI_18_Rep2', 'Animal2_April16_gap_depth_Rep1', 'Animal2_April16_offset_PPI_6_Rep2', 'Animal2_June26_gap_duration_20_Rep1', 'Animal2_June26_offset_ASR_Rep1', 'Animal2_June26_gap_duration_10_Rep1', 'Animal2_June26_offset_PPI_16_Rep1', 'Animal2_June26_gap_duration_8_Rep1', 'Animal2_June26_offset_PPI_18_Rep1', 'Animal2_June26_offset_PPI_16_Rep2', 'Animal2_June26_gap_duration_8_Rep2', 'Animal2_June26_gap_depth_Rep1', 'Animal2_June26_gap_duration_4_Rep1', 'Animal2_May20_gap_depth_Rep1', 'Animal2_May20_offset_PPI_8_Rep1', 'Animal2_May20_offset_PPI_4_Rep1', 'Animal2_May20_gap_duration_10_Rep1', 'Animal2_May20_offset_PPI_14_Rep1', 'Animal2_May20_gap_depth_Rep2', 'Animal2_May20_offset_PPI_16_Rep1', 'Animal2_May20_offset_PPI_50_Rep1', 'Animal2_May20_gap_duration_4_Rep1', 'Animal2_May20_offset_PPI_8_Rep2', 'Animal4_April16_offset_PPI_10_Rep1', 'Animal4_April16_gap_duration_20_Rep1', 'Animal4_April16_offset_ASR_Rep1', 'Animal4_April16_offset_PPI_6_Rep1', 'Animal4_April16_offset_PPI_18_Rep1', 'Animal4_April16_tone_in_noise_Rep1', 'Animal4_April16_gap_depth_Rep1', 'Animal4_April16_offset_PPI_16_Rep1', 'Animal4_April16_offset_PPI_18_Rep2', 'Animal4_April16_offset_PPI_14_Rep1', 'Animal4_June26_offset_PPI_10_Rep1', 'Animal4_June26_gap_depth_Rep1', 'Animal4_June26_tone_in_noise_Rep1', 'Animal4_June26_offset_PPI_12_Rep1', 'Animal4_June26_offset_PPI_8_Rep1', 'Animal4_June26_offset_PPI_50_Rep1', 'Animal4_June26_gap_duration_10_Rep1', 'Animal4_June26_offset_PPI_50_Rep2', 'Animal4_June26_gap_duration_8_Rep1', 'Animal4_June26_offset_PPI_50_Rep3', 'Animal4_May20_ASR_control_Rep1', 'Animal4_May20_offset_PPI_18_Rep1', 'Animal4_May20_offset_PPI_4_Rep1', 'Animal4_May20_tone_in_noise_Rep1', 'Animal4_May20_offset_PPI_16_Rep1', 'Animal4_May20_offset_PPI_50_Rep1', 'Animal4_May20_gap_duration_20_Rep1', 'Animal4_May20_gap_duration_4_Rep1', 'Animal4_May20_offset_PPI_12_Rep1', 'Animal4_May20_gap_duration_50_Rep1', 'Animal6_April16_tone_in_noise_Rep1', 'Animal6_April16_offset_PPI_4_Rep1', 'Animal6_April16_offset_PPI_18_Rep1', 'Animal6_April16_gap_depth_Rep1', 'Animal6_April16_offset_PPI_10_Rep1', 'Animal6_April16_offset_ASR_Rep1', 'Animal6_April16_gap_duration_20_Rep1', 'Animal6_April16_ASR_control_Rep1', 'Animal6_April16_tone_in_noise_Rep2', 'Animal6_April16_offset_PPI_6_Rep1', 'Animal6_June26_offset_PPI_8_Rep1', 'Animal6_June26_offset_PPI_4_Rep1', 'Animal6_June26_offset_PPI_20_Rep1', 'Animal6_June26_offset_PPI_50_Rep1', 'Animal6_June26_gap_duration_10_Rep1', 'Animal6_June26_gap_duration_4_Rep1', 'Animal6_June26_offset_PPI_16_Rep1', 'Animal6_June26_offset_PPI_10_Rep1', 'Animal6_June26_offset_PPI_14_Rep1', 'Animal6_June26_gap_duration_4_Rep2', 'Animal6_May20_gap_duration_50_Rep1', 'Animal6_May20_offset_PPI_16_Rep1', 'Animal6_May20_gap_depth_Rep1', 'Animal6_May20_gap_duration_20_Rep1', 'Animal6_May20_offset_PPI_6_Rep1', 'Animal6_May20_gap_duration_20_Rep2', 'Animal6_May20_gap_duration_8_Rep1', 'Animal6_May20_offset_PPI_50_Rep1', 'Animal6_May20_offset_PPI_4_Rep1', 'Animal6_May20_offset_PPI_20_Rep1']\n",
      "1555\n",
      "1645\n"
     ]
    }
   ],
   "source": [
    "print(top_10_keys)\n",
    "print(len(minus_top_10_keys))\n",
    "print(len(adjusted_segments))"
   ]
  },
  {
   "cell_type": "code",
   "execution_count": 56,
   "id": "a26a4d39",
   "metadata": {
    "execution": {
     "iopub.execute_input": "2025-10-06T15:25:44.128142Z",
     "iopub.status.busy": "2025-10-06T15:25:44.127918Z",
     "iopub.status.idle": "2025-10-06T15:25:44.130855Z",
     "shell.execute_reply": "2025-10-06T15:25:44.130497Z"
    },
    "papermill": {
     "duration": 0.008021,
     "end_time": "2025-10-06T15:25:44.131519",
     "exception": false,
     "start_time": "2025-10-06T15:25:44.123498",
     "status": "completed"
    },
    "tags": []
   },
   "outputs": [],
   "source": [
    "if exclude is not None:\n",
    "    before = len(adjusted_segments)\n",
    "    # Remove excluded experiments\n",
    "    for key in adjusted_segments.keys():\n",
    "        adjusted_segments = {   # remove excluded keys\n",
    "        key: value\n",
    "        for key, value in adjusted_segments.items()\n",
    "        if not any(word in key for word in exclude)\n",
    "    }\n",
    "    if verbose: print(f\"Excluded {before-len(adjusted_segments)} segments.\")"
   ]
  },
  {
   "cell_type": "markdown",
   "id": "846d88b7",
   "metadata": {
    "papermill": {
     "duration": 0.003913,
     "end_time": "2025-10-06T15:25:44.139958",
     "exception": false,
     "start_time": "2025-10-06T15:25:44.136045",
     "status": "completed"
    },
    "tags": []
   },
   "source": [
    "## Signal Detection"
   ]
  },
  {
   "cell_type": "code",
   "execution_count": 57,
   "id": "fd008806",
   "metadata": {
    "execution": {
     "iopub.execute_input": "2025-10-06T15:25:44.148302Z",
     "iopub.status.busy": "2025-10-06T15:25:44.148047Z",
     "iopub.status.idle": "2025-10-06T15:25:44.150685Z",
     "shell.execute_reply": "2025-10-06T15:25:44.150322Z"
    },
    "papermill": {
     "duration": 0.007551,
     "end_time": "2025-10-06T15:25:44.151344",
     "exception": false,
     "start_time": "2025-10-06T15:25:44.143793",
     "status": "completed"
    },
    "tags": []
   },
   "outputs": [],
   "source": [
    "animal_thresholds = {animal: animal_noise[animal] * RT_threshold for animal in animal_noise}\n",
    "animal_thresholds_det = {animal: animal_noise[animal] * detection_threshold for animal in animal_noise}"
   ]
  },
  {
   "cell_type": "code",
   "execution_count": 58,
   "id": "6c9bec98",
   "metadata": {
    "execution": {
     "iopub.execute_input": "2025-10-06T15:25:44.159828Z",
     "iopub.status.busy": "2025-10-06T15:25:44.159594Z",
     "iopub.status.idle": "2025-10-06T15:25:44.162282Z",
     "shell.execute_reply": "2025-10-06T15:25:44.161974Z"
    },
    "papermill": {
     "duration": 0.007519,
     "end_time": "2025-10-06T15:25:44.162829",
     "exception": false,
     "start_time": "2025-10-06T15:25:44.155310",
     "status": "completed"
    },
    "tags": []
   },
   "outputs": [
    {
     "name": "stdout",
     "output_type": "stream",
     "text": [
      "Animal thresholds for reaction time: {'Animal10': 3.24, 'Animal15': 7.4399999999999995, 'Animal1': 4.08, 'Animal2': 3.5999999999999996, 'Animal4': 4.800000000000001, 'Animal6': 3.24}\n",
      "Animal thresholds for detection: {'Animal10': 6.48, 'Animal15': 14.879999999999999, 'Animal1': 8.16, 'Animal2': 7.199999999999999, 'Animal4': 9.600000000000001, 'Animal6': 6.48}\n"
     ]
    }
   ],
   "source": [
    "print(f\"Animal thresholds for reaction time: {animal_thresholds}\")\n",
    "print(f\"Animal thresholds for detection: {animal_thresholds_det}\")"
   ]
  },
  {
   "cell_type": "markdown",
   "id": "1e62fc7b",
   "metadata": {
    "papermill": {
     "duration": 0.00399,
     "end_time": "2025-10-06T15:25:44.170875",
     "exception": false,
     "start_time": "2025-10-06T15:25:44.166885",
     "status": "completed"
    },
    "tags": []
   },
   "source": [
    "With mean: <br>\n",
    "Animal thresholds for reaction time: {'Animal10': 3.06, 'Animal15': 8.64, 'Animal1': 3.4799999999999995, 'Animal2': 2.94, 'Animal4': 4.14, 'Animal6': 3.0} <br>\n",
    "Animal thresholds for detection: {'Animal10': 12.24, 'Animal15': 34.56, 'Animal1': 13.919999999999998, 'Animal2': 11.76, 'Animal4': 16.56, 'Animal6': 12.0}"
   ]
  },
  {
   "cell_type": "code",
   "execution_count": 59,
   "id": "2e3e6f09",
   "metadata": {
    "execution": {
     "iopub.execute_input": "2025-10-06T15:25:44.179151Z",
     "iopub.status.busy": "2025-10-06T15:25:44.178880Z",
     "iopub.status.idle": "2025-10-06T15:25:44.694894Z",
     "shell.execute_reply": "2025-10-06T15:25:44.694502Z"
    },
    "papermill": {
     "duration": 0.52119,
     "end_time": "2025-10-06T15:25:44.695885",
     "exception": false,
     "start_time": "2025-10-06T15:25:44.174695",
     "status": "completed"
    },
    "tags": []
   },
   "outputs": [
    {
     "name": "stdout",
     "output_type": "stream",
     "text": [
      "{'Animal10_April16_gap_duration_4_Rep1': np.True_, 'Animal10_April16_gap_depth_Rep1': np.True_, 'Animal10_April16_offset_PPI_4_Rep1': np.True_, 'Animal10_April16_offset_PPI_50_Rep1': np.True_, 'Animal10_April16_offset_PPI_8_Rep1': np.True_, 'Animal10_April16_offset_PPI_14_Rep1': np.True_, 'Animal10_April16_offset_PPI_6_Rep1': np.True_, 'Animal10_April16_offset_ASR_Rep1': np.False_, 'Animal10_April16_gap_duration_10_Rep1': np.True_, 'Animal10_April16_offset_PPI_12_Rep1': np.True_, 'Animal10_April16_offset_ASR_Rep2': np.False_, 'Animal10_April16_offset_PPI_16_Rep1': np.True_, 'Animal10_April16_offset_PPI_4_Rep2': np.True_, 'Animal10_April16_gap_depth_Rep2': np.True_, 'Animal10_April16_offset_PPI_12_Rep2': np.True_, 'Animal10_April16_offset_PPI_10_Rep1': np.True_, 'Animal10_April16_offset_PPI_18_Rep1': np.True_, 'Animal10_April16_offset_PPI_4_Rep3': np.True_, 'Animal10_April16_gap_duration_10_Rep2': np.True_, 'Animal10_April16_offset_PPI_50_Rep2': np.True_, 'Animal10_April16_gap_duration_8_Rep1': np.True_, 'Animal10_April16_offset_PPI_14_Rep2': np.True_, 'Animal10_April16_gap_depth_Rep3': np.True_, 'Animal10_April16_gap_duration_50_Rep1': np.True_, 'Animal10_April16_gap_duration_4_Rep2': np.True_, 'Animal10_April16_offset_PPI_10_Rep2': np.True_, 'Animal10_April16_offset_PPI_12_Rep3': np.True_, 'Animal10_April16_tone_in_noise_Rep1': np.True_, 'Animal10_April16_offset_PPI_20_Rep1': np.True_, 'Animal10_April16_gap_duration_50_Rep2': np.True_, 'Animal10_April16_tone_in_noise_Rep2': np.True_, 'Animal10_April16_offset_PPI_20_Rep2': np.True_, 'Animal10_April16_gap_duration_8_Rep2': np.True_, 'Animal10_April16_offset_PPI_8_Rep2': np.True_, 'Animal10_April16_gap_duration_4_Rep3': np.True_, 'Animal10_April16_offset_ASR_Rep3': np.False_, 'Animal10_April16_gap_duration_50_Rep3': np.True_, 'Animal10_April16_gap_duration_20_Rep1': np.True_, 'Animal10_April16_gap_duration_8_Rep3': np.True_, 'Animal10_April16_offset_PPI_50_Rep3': np.True_, 'Animal10_April16_tone_in_noise_Rep3': np.True_, 'Animal10_April16_gap_duration_50_Rep4': np.True_, 'Animal10_April16_offset_PPI_8_Rep3': np.True_, 'Animal10_April16_offset_PPI_10_Rep3': np.True_, 'Animal10_April16_offset_PPI_18_Rep2': np.True_, 'Animal10_April16_offset_PPI_16_Rep2': np.True_, 'Animal10_April16_ASR_control_Rep1': np.True_, 'Animal10_April16_tone_in_noise_Rep4': np.True_, 'Animal10_April16_gap_duration_20_Rep2': np.True_, 'Animal10_April16_ASR_control_Rep2': np.True_, 'Animal10_April16_offset_PPI_6_Rep2': np.True_, 'Animal10_April16_offset_PPI_18_Rep3': np.True_, 'Animal10_April16_gap_duration_8_Rep4': np.True_, 'Animal10_April16_offset_ASR_Rep4': np.False_, 'Animal10_April16_gap_duration_4_Rep4': np.True_, 'Animal10_April16_gap_duration_50_Rep5': np.True_, 'Animal10_April16_gap_duration_20_Rep3': np.True_, 'Animal10_April16_offset_PPI_50_Rep4': np.True_, 'Animal10_April16_ASR_control_Rep3': np.True_, 'Animal10_April16_offset_PPI_18_Rep4': np.True_, 'Animal10_April16_ASR_control_Rep4': np.True_, 'Animal10_April16_gap_duration_20_Rep4': np.True_, 'Animal10_April16_offset_PPI_14_Rep3': np.True_, 'Animal10_April16_offset_PPI_20_Rep3': np.True_, 'Animal10_April16_gap_duration_8_Rep5': np.True_, 'Animal10_April16_offset_PPI_20_Rep4': np.True_, 'Animal10_April16_offset_ASR_Rep5': np.False_, 'Animal10_April16_offset_PPI_14_Rep4': np.True_, 'Animal10_April16_gap_duration_10_Rep3': np.True_, 'Animal10_April16_offset_PPI_4_Rep4': np.True_, 'Animal10_April16_gap_duration_10_Rep4': np.True_, 'Animal10_April16_offset_PPI_4_Rep5': np.True_, 'Animal10_April16_offset_PPI_10_Rep4': np.True_, 'Animal10_April16_ASR_control_Rep5': np.True_, 'Animal10_April16_offset_PPI_6_Rep3': np.True_, 'Animal10_April16_gap_depth_Rep4': np.True_, 'Animal10_April16_offset_PPI_20_Rep5': np.True_, 'Animal10_April16_gap_duration_4_Rep5': np.True_, 'Animal10_April16_tone_in_noise_Rep5': np.True_, 'Animal10_April16_offset_PPI_12_Rep4': np.True_, 'Animal10_April16_gap_depth_Rep5': np.True_, 'Animal10_April16_offset_PPI_14_Rep5': np.True_, 'Animal10_April16_offset_PPI_12_Rep5': np.True_, 'Animal10_April16_offset_PPI_16_Rep3': np.True_, 'Animal10_April16_offset_PPI_10_Rep5': np.True_, 'Animal10_April16_offset_PPI_16_Rep4': np.True_, 'Animal10_April16_offset_PPI_8_Rep4': np.True_, 'Animal10_April16_offset_PPI_18_Rep5': np.True_, 'Animal10_April16_offset_PPI_16_Rep5': np.True_, 'Animal10_April16_gap_duration_10_Rep5': np.True_, 'Animal10_April16_offset_PPI_50_Rep5': np.True_, 'Animal10_April16_offset_PPI_8_Rep5': np.True_, 'Animal10_June26_offset_PPI_14_Rep1': np.True_, 'Animal10_June26_offset_PPI_50_Rep1': np.True_, 'Animal10_June26_offset_PPI_4_Rep1': np.True_, 'Animal10_June26_gap_depth_Rep1': np.True_, 'Animal10_June26_offset_PPI_16_Rep1': np.True_, 'Animal10_June26_offset_PPI_18_Rep1': np.True_, 'Animal10_June26_tone_in_noise_Rep1': np.True_, 'Animal10_June26_gap_duration_10_Rep1': np.True_, 'Animal10_June26_ASR_control_Rep1': np.True_, 'Animal10_June26_gap_depth_Rep2': np.True_, 'Animal10_June26_offset_PPI_16_Rep2': np.True_, 'Animal10_June26_gap_duration_4_Rep1': np.True_, 'Animal10_June26_offset_PPI_16_Rep3': np.True_, 'Animal10_June26_gap_duration_8_Rep1': np.True_, 'Animal10_June26_gap_duration_4_Rep2': np.True_, 'Animal10_June26_offset_PPI_18_Rep2': np.True_, 'Animal10_June26_offset_PPI_4_Rep2': np.True_, 'Animal10_June26_offset_PPI_18_Rep3': np.True_, 'Animal10_June26_offset_PPI_12_Rep1': np.True_, 'Animal10_June26_offset_PPI_20_Rep1': np.True_, 'Animal10_June26_offset_PPI_6_Rep1': np.True_, 'Animal10_June26_offset_ASR_Rep1': np.False_, 'Animal10_June26_offset_PPI_18_Rep4': np.True_, 'Animal10_June26_gap_duration_20_Rep1': np.True_, 'Animal10_June26_gap_duration_10_Rep2': np.True_, 'Animal10_June26_gap_duration_4_Rep3': np.True_, 'Animal10_June26_offset_PPI_8_Rep1': np.True_, 'Animal10_June26_offset_PPI_6_Rep2': np.True_, 'Animal10_June26_offset_PPI_12_Rep2': np.True_, 'Animal10_June26_gap_duration_10_Rep3': np.True_, 'Animal10_June26_offset_PPI_12_Rep3': np.True_, 'Animal10_June26_gap_depth_Rep3': np.True_, 'Animal10_June26_offset_PPI_6_Rep3': np.True_, 'Animal10_June26_offset_PPI_14_Rep2': np.True_, 'Animal10_June26_offset_PPI_4_Rep3': np.True_, 'Animal10_June26_offset_PPI_8_Rep2': np.True_, 'Animal10_June26_offset_PPI_20_Rep2': np.True_, 'Animal10_June26_gap_duration_8_Rep2': np.True_, 'Animal10_June26_gap_duration_4_Rep4': np.True_, 'Animal10_June26_ASR_control_Rep2': np.True_, 'Animal10_June26_gap_duration_20_Rep2': np.True_, 'Animal10_June26_offset_PPI_16_Rep4': np.True_, 'Animal10_June26_offset_ASR_Rep2': np.False_, 'Animal10_June26_gap_duration_50_Rep1': np.True_, 'Animal10_June26_gap_duration_4_Rep5': np.True_, 'Animal10_June26_gap_duration_10_Rep4': np.True_, 'Animal10_June26_offset_PPI_10_Rep1': np.True_, 'Animal10_June26_offset_PPI_50_Rep2': np.True_, 'Animal10_June26_tone_in_noise_Rep2': np.True_, 'Animal10_June26_offset_PPI_14_Rep3': np.True_, 'Animal10_June26_offset_PPI_16_Rep5': np.True_, 'Animal10_June26_offset_PPI_50_Rep3': np.True_, 'Animal10_June26_gap_duration_8_Rep3': np.True_, 'Animal10_June26_offset_PPI_8_Rep3': np.True_, 'Animal10_June26_gap_depth_Rep4': np.True_, 'Animal10_June26_offset_ASR_Rep3': np.False_, 'Animal10_June26_offset_PPI_10_Rep2': np.True_, 'Animal10_June26_offset_ASR_Rep4': np.False_, 'Animal10_June26_ASR_control_Rep3': np.True_, 'Animal10_June26_offset_PPI_20_Rep3': np.True_, 'Animal10_June26_tone_in_noise_Rep3': np.True_, 'Animal10_June26_ASR_control_Rep4': np.True_, 'Animal10_June26_gap_duration_20_Rep3': np.True_, 'Animal10_June26_tone_in_noise_Rep4': np.True_, 'Animal10_June26_gap_duration_10_Rep5': np.True_, 'Animal10_June26_offset_PPI_20_Rep4': np.True_, 'Animal10_June26_gap_duration_20_Rep4': np.True_, 'Animal10_June26_offset_PPI_20_Rep5': np.True_, 'Animal10_June26_offset_PPI_12_Rep4': np.True_, 'Animal10_June26_offset_PPI_14_Rep4': np.True_, 'Animal10_June26_offset_PPI_50_Rep4': np.True_, 'Animal10_June26_offset_ASR_Rep5': np.False_, 'Animal10_June26_offset_PPI_10_Rep3': np.True_, 'Animal10_June26_offset_PPI_14_Rep5': np.True_, 'Animal10_June26_offset_PPI_18_Rep5': np.True_, 'Animal10_June26_gap_duration_8_Rep4': np.True_, 'Animal10_June26_offset_PPI_6_Rep4': np.True_, 'Animal10_June26_gap_duration_50_Rep2': np.True_, 'Animal10_June26_offset_PPI_8_Rep4': np.True_, 'Animal10_June26_gap_depth_Rep5': np.True_, 'Animal10_June26_gap_duration_50_Rep3': np.True_, 'Animal10_June26_ASR_control_Rep5': np.True_, 'Animal10_June26_offset_PPI_10_Rep4': np.True_, 'Animal10_June26_offset_PPI_4_Rep4': np.True_, 'Animal10_June26_offset_PPI_12_Rep5': np.True_, 'Animal10_June26_tone_in_noise_Rep5': np.True_, 'Animal10_June26_gap_duration_50_Rep4': np.True_, 'Animal10_June26_gap_duration_8_Rep5': np.True_, 'Animal10_June26_gap_duration_50_Rep5': np.True_, 'Animal10_June26_offset_PPI_10_Rep5': np.True_, 'Animal10_June26_offset_PPI_6_Rep5': np.True_, 'Animal10_May20_offset_PPI_4_Rep1': np.True_, 'Animal10_May20_gap_duration_4_Rep1': np.True_, 'Animal10_May20_offset_PPI_10_Rep1': np.True_, 'Animal10_May20_offset_PPI_4_Rep2': np.True_, 'Animal10_May20_gap_duration_20_Rep1': np.True_, 'Animal10_May20_offset_PPI_20_Rep1': np.True_, 'Animal10_May20_offset_PPI_6_Rep1': np.True_, 'Animal10_May20_ASR_control_Rep1': np.True_, 'Animal10_May20_offset_PPI_16_Rep1': np.True_, 'Animal10_May20_offset_ASR_Rep1': np.False_, 'Animal10_May20_gap_duration_4_Rep2': np.True_, 'Animal10_May20_gap_duration_10_Rep1': np.True_, 'Animal10_May20_offset_PPI_20_Rep2': np.True_, 'Animal10_May20_ASR_control_Rep2': np.True_, 'Animal10_May20_offset_PPI_6_Rep2': np.True_, 'Animal10_May20_offset_PPI_12_Rep1': np.True_, 'Animal10_May20_offset_PPI_50_Rep1': np.True_, 'Animal10_May20_offset_PPI_20_Rep3': np.True_, 'Animal10_May20_gap_duration_10_Rep2': np.True_, 'Animal10_May20_offset_PPI_10_Rep2': np.True_, 'Animal10_May20_gap_duration_8_Rep1': np.True_, 'Animal10_May20_tone_in_noise_Rep1': np.True_, 'Animal10_May20_offset_PPI_18_Rep1': np.True_, 'Animal10_May20_offset_PPI_20_Rep4': np.True_, 'Animal10_May20_offset_PPI_4_Rep3': np.True_, 'Animal10_May20_offset_PPI_14_Rep1': np.True_, 'Animal10_May20_gap_depth_Rep1': np.True_, 'Animal10_May20_offset_PPI_16_Rep2': np.True_, 'Animal10_May20_offset_ASR_Rep2': np.False_, 'Animal10_May20_offset_PPI_12_Rep2': np.False_, 'Animal10_May20_offset_ASR_Rep3': np.False_, 'Animal10_May20_gap_duration_8_Rep2': np.True_, 'Animal10_May20_offset_PPI_12_Rep3': np.True_, 'Animal10_May20_offset_PPI_14_Rep2': np.True_, 'Animal10_May20_offset_PPI_4_Rep4': np.True_, 'Animal10_May20_offset_PPI_50_Rep2': np.True_, 'Animal10_May20_gap_duration_20_Rep2': np.True_, 'Animal10_May20_gap_duration_50_Rep1': np.True_, 'Animal10_May20_offset_PPI_6_Rep3': np.True_, 'Animal10_May20_offset_PPI_12_Rep4': np.True_, 'Animal10_May20_gap_depth_Rep2': np.True_, 'Animal10_May20_gap_duration_8_Rep3': np.True_, 'Animal10_May20_ASR_control_Rep3': np.True_, 'Animal10_May20_gap_duration_20_Rep3': np.True_, 'Animal10_May20_offset_PPI_8_Rep1': np.True_, 'Animal10_May20_offset_PPI_14_Rep3': np.True_, 'Animal10_May20_gap_duration_10_Rep3': np.True_, 'Animal10_May20_ASR_control_Rep4': np.True_, 'Animal10_May20_tone_in_noise_Rep2': np.True_, 'Animal10_May20_gap_duration_50_Rep2': np.True_, 'Animal10_May20_tone_in_noise_Rep3': np.True_, 'Animal10_May20_offset_PPI_50_Rep3': np.True_, 'Animal10_May20_offset_ASR_Rep4': np.False_, 'Animal10_May20_offset_PPI_16_Rep3': np.True_, 'Animal10_May20_offset_PPI_4_Rep5': np.True_, 'Animal10_May20_offset_PPI_18_Rep2': np.True_, 'Animal10_May20_gap_duration_4_Rep3': np.True_, 'Animal10_May20_offset_PPI_10_Rep3': np.True_, 'Animal10_May20_offset_PPI_12_Rep5': np.True_, 'Animal10_May20_tone_in_noise_Rep4': np.True_, 'Animal10_May20_gap_duration_4_Rep4': np.True_, 'Animal10_May20_tone_in_noise_Rep5': np.True_, 'Animal10_May20_offset_PPI_10_Rep4': np.True_, 'Animal10_May20_offset_PPI_6_Rep4': np.True_, 'Animal10_May20_offset_PPI_50_Rep4': np.True_, 'Animal10_May20_gap_duration_50_Rep3': np.True_, 'Animal10_May20_gap_depth_Rep3': np.True_, 'Animal10_May20_gap_duration_20_Rep4': np.True_, 'Animal10_May20_gap_depth_Rep4': np.True_, 'Animal10_May20_offset_PPI_16_Rep4': np.True_, 'Animal10_May20_offset_PPI_20_Rep5': np.True_, 'Animal10_May20_offset_PPI_8_Rep2': np.True_, 'Animal10_May20_gap_duration_20_Rep5': np.True_, 'Animal10_May20_gap_duration_8_Rep4': np.True_, 'Animal10_May20_offset_PPI_14_Rep4': np.True_, 'Animal10_May20_gap_depth_Rep5': np.True_, 'Animal10_May20_offset_PPI_50_Rep5': np.True_, 'Animal10_May20_gap_duration_8_Rep5': np.True_, 'Animal10_May20_offset_PPI_14_Rep5': np.True_, 'Animal10_May20_offset_PPI_18_Rep3': np.True_, 'Animal10_May20_gap_duration_50_Rep4': np.True_, 'Animal10_May20_gap_duration_4_Rep5': np.True_, 'Animal10_May20_offset_PPI_16_Rep5': np.True_, 'Animal10_May20_offset_PPI_18_Rep4': np.True_, 'Animal10_May20_ASR_control_Rep5': np.True_, 'Animal10_May20_offset_PPI_8_Rep3': np.True_, 'Animal10_May20_gap_duration_10_Rep4': np.True_, 'Animal10_May20_offset_ASR_Rep5': np.False_, 'Animal10_May20_gap_duration_50_Rep5': np.True_, 'Animal10_May20_offset_PPI_10_Rep5': np.True_, 'Animal10_May20_offset_PPI_8_Rep4': np.True_, 'Animal15_April16_offset_PPI_18_Rep1': np.True_, 'Animal15_April16_ASR_control_Rep1': np.True_, 'Animal15_April16_offset_ASR_Rep1': np.False_, 'Animal15_April16_offset_PPI_12_Rep1': np.True_, 'Animal15_April16_ASR_control_Rep2': np.True_, 'Animal15_April16_gap_depth_Rep1': np.True_, 'Animal15_April16_gap_duration_20_Rep1': np.True_, 'Animal15_April16_gap_duration_8_Rep1': np.True_, 'Animal15_April16_offset_PPI_20_Rep1': np.True_, 'Animal15_April16_gap_duration_20_Rep2': np.True_, 'Animal15_April16_gap_duration_10_Rep1': np.True_, 'Animal15_April16_offset_PPI_18_Rep2': np.True_, 'Animal15_April16_offset_PPI_20_Rep2': np.True_, 'Animal15_April16_offset_PPI_12_Rep2': np.True_, 'Animal15_April16_gap_duration_50_Rep1': np.True_, 'Animal15_April16_offset_PPI_50_Rep1': np.True_, 'Animal15_April16_gap_duration_8_Rep2': np.True_, 'Animal15_April16_offset_PPI_14_Rep1': np.True_, 'Animal15_April16_offset_PPI_16_Rep1': np.True_, 'Animal15_April16_offset_PPI_50_Rep2': np.True_, 'Animal15_April16_offset_PPI_14_Rep2': np.True_, 'Animal15_April16_offset_PPI_6_Rep1': np.True_, 'Animal15_April16_offset_PPI_10_Rep1': np.False_, 'Animal15_April16_gap_duration_4_Rep1': np.True_, 'Animal15_April16_offset_PPI_6_Rep2': np.True_, 'Animal15_April16_offset_ASR_Rep2': np.False_, 'Animal15_April16_gap_duration_4_Rep2': np.True_, 'Animal15_April16_offset_PPI_10_Rep2': np.True_, 'Animal15_April16_gap_depth_Rep2': np.True_, 'Animal15_April16_offset_PPI_16_Rep2': np.False_, 'Animal15_April16_offset_PPI_18_Rep3': np.False_, 'Animal15_April16_offset_PPI_10_Rep3': np.False_, 'Animal15_April16_offset_PPI_6_Rep3': np.True_, 'Animal15_April16_offset_PPI_16_Rep3': np.True_, 'Animal15_April16_offset_PPI_12_Rep3': np.True_, 'Animal15_April16_offset_PPI_50_Rep3': np.True_, 'Animal15_April16_offset_PPI_4_Rep1': np.True_, 'Animal15_April16_gap_duration_20_Rep3': np.True_, 'Animal15_April16_offset_PPI_18_Rep4': np.True_, 'Animal15_April16_offset_ASR_Rep3': np.False_, 'Animal15_April16_gap_duration_8_Rep3': np.True_, 'Animal15_April16_offset_PPI_14_Rep3': np.True_, 'Animal15_April16_gap_duration_50_Rep2': np.True_, 'Animal15_April16_offset_PPI_14_Rep4': np.True_, 'Animal15_April16_offset_ASR_Rep4': np.False_, 'Animal15_April16_tone_in_noise_Rep1': np.True_, 'Animal15_April16_offset_PPI_6_Rep4': np.True_, 'Animal15_April16_gap_duration_20_Rep4': np.True_, 'Animal15_April16_offset_PPI_20_Rep3': np.True_, 'Animal15_April16_offset_PPI_10_Rep4': np.True_, 'Animal15_April16_offset_PPI_4_Rep2': np.True_, 'Animal15_April16_tone_in_noise_Rep2': np.False_, 'Animal15_April16_gap_duration_10_Rep2': np.True_, 'Animal15_April16_gap_duration_50_Rep3': np.True_, 'Animal15_April16_offset_ASR_Rep5': np.False_, 'Animal15_April16_gap_duration_10_Rep3': np.True_, 'Animal15_April16_offset_PPI_20_Rep4': np.True_, 'Animal15_April16_offset_PPI_12_Rep4': np.True_, 'Animal15_April16_gap_duration_10_Rep4': np.True_, 'Animal15_April16_offset_PPI_14_Rep5': np.True_, 'Animal15_April16_offset_PPI_12_Rep5': np.True_, 'Animal15_April16_offset_PPI_50_Rep4': np.True_, 'Animal15_April16_ASR_control_Rep3': np.True_, 'Animal15_April16_tone_in_noise_Rep3': np.True_, 'Animal15_April16_offset_PPI_4_Rep3': np.True_, 'Animal15_April16_gap_duration_50_Rep4': np.True_, 'Animal15_April16_offset_PPI_8_Rep1': np.True_, 'Animal15_April16_offset_PPI_16_Rep4': np.True_, 'Animal15_April16_offset_PPI_20_Rep5': np.True_, 'Animal15_April16_gap_duration_8_Rep4': np.True_, 'Animal15_April16_gap_duration_4_Rep3': np.True_, 'Animal15_April16_offset_PPI_6_Rep5': np.True_, 'Animal15_April16_tone_in_noise_Rep4': np.True_, 'Animal15_April16_gap_duration_50_Rep5': np.True_, 'Animal15_April16_gap_depth_Rep3': np.True_, 'Animal15_April16_offset_PPI_8_Rep2': np.True_, 'Animal15_April16_gap_duration_4_Rep4': np.True_, 'Animal15_April16_gap_depth_Rep4': np.True_, 'Animal15_April16_offset_PPI_8_Rep3': np.True_, 'Animal15_April16_gap_duration_10_Rep5': np.True_, 'Animal15_April16_ASR_control_Rep4': np.True_, 'Animal15_April16_offset_PPI_50_Rep5': np.True_, 'Animal15_April16_offset_PPI_4_Rep4': np.True_, 'Animal15_April16_offset_PPI_10_Rep5': np.False_, 'Animal15_April16_offset_PPI_8_Rep4': np.True_, 'Animal15_April16_gap_depth_Rep5': np.True_, 'Animal15_April16_offset_PPI_8_Rep5': np.False_, 'Animal15_April16_gap_duration_8_Rep5': np.False_, 'Animal15_April16_gap_duration_4_Rep5': np.False_, 'Animal15_April16_offset_PPI_16_Rep5': np.True_, 'Animal15_April16_offset_PPI_4_Rep5': np.True_, 'Animal15_April16_gap_duration_20_Rep5': np.False_, 'Animal15_June26_gap_duration_8_Rep1': np.True_, 'Animal15_June26_offset_PPI_20_Rep1': np.True_, 'Animal15_June26_gap_duration_20_Rep1': np.True_, 'Animal15_June26_offset_PPI_50_Rep1': np.True_, 'Animal15_June26_offset_PPI_4_Rep1': np.True_, 'Animal15_June26_offset_PPI_12_Rep1': np.True_, 'Animal15_June26_tone_in_noise_Rep1': np.True_, 'Animal15_June26_offset_PPI_10_Rep1': np.True_, 'Animal15_June26_offset_PPI_20_Rep2': np.True_, 'Animal15_June26_offset_ASR_Rep1': np.False_, 'Animal15_June26_gap_duration_20_Rep2': np.True_, 'Animal15_June26_gap_depth_Rep1': np.True_, 'Animal15_June26_offset_PPI_6_Rep1': np.True_, 'Animal15_June26_gap_duration_4_Rep1': np.True_, 'Animal15_June26_offset_PPI_20_Rep3': np.True_, 'Animal15_June26_ASR_control_Rep1': np.True_, 'Animal15_June26_offset_PPI_16_Rep1': np.True_, 'Animal15_June26_offset_PPI_12_Rep2': np.True_, 'Animal15_June26_offset_PPI_16_Rep2': np.True_, 'Animal15_June26_gap_duration_20_Rep3': np.True_, 'Animal15_June26_ASR_control_Rep2': np.True_, 'Animal15_June26_gap_duration_10_Rep1': np.True_, 'Animal15_June26_offset_PPI_16_Rep3': np.True_, 'Animal15_June26_gap_duration_8_Rep2': np.True_, 'Animal15_June26_offset_PPI_4_Rep2': np.True_, 'Animal15_June26_gap_depth_Rep2': np.True_, 'Animal15_June26_offset_PPI_20_Rep4': np.True_, 'Animal15_June26_gap_duration_8_Rep3': np.True_, 'Animal15_June26_tone_in_noise_Rep2': np.True_, 'Animal15_June26_gap_duration_4_Rep2': np.True_, 'Animal15_June26_gap_duration_50_Rep1': np.True_, 'Animal15_June26_gap_duration_10_Rep2': np.True_, 'Animal15_June26_offset_ASR_Rep2': np.False_, 'Animal15_June26_offset_PPI_50_Rep2': np.True_, 'Animal15_June26_offset_PPI_4_Rep3': np.True_, 'Animal15_June26_ASR_control_Rep3': np.True_, 'Animal15_June26_offset_PPI_8_Rep1': np.True_, 'Animal15_June26_gap_duration_50_Rep2': np.True_, 'Animal15_June26_offset_PPI_18_Rep1': np.True_, 'Animal15_June26_tone_in_noise_Rep3': np.True_, 'Animal15_June26_offset_PPI_14_Rep1': np.True_, 'Animal15_June26_gap_duration_10_Rep3': np.True_, 'Animal15_June26_offset_PPI_8_Rep2': np.True_, 'Animal15_June26_offset_PPI_12_Rep3': np.True_, 'Animal15_June26_gap_duration_10_Rep4': np.True_, 'Animal15_June26_tone_in_noise_Rep4': np.True_, 'Animal15_June26_gap_depth_Rep3': np.True_, 'Animal15_June26_offset_PPI_16_Rep4': np.True_, 'Animal15_June26_gap_duration_50_Rep3': np.True_, 'Animal15_June26_offset_PPI_12_Rep4': np.True_, 'Animal15_June26_offset_ASR_Rep3': np.False_, 'Animal15_June26_gap_duration_8_Rep4': np.True_, 'Animal15_June26_offset_PPI_10_Rep2': np.True_, 'Animal15_June26_offset_ASR_Rep4': np.False_, 'Animal15_June26_tone_in_noise_Rep5': np.True_, 'Animal15_June26_offset_PPI_8_Rep3': np.True_, 'Animal15_June26_gap_duration_8_Rep5': np.True_, 'Animal15_June26_offset_ASR_Rep5': np.False_, 'Animal15_June26_offset_PPI_14_Rep2': np.True_, 'Animal15_June26_offset_PPI_8_Rep4': np.True_, 'Animal15_June26_offset_PPI_4_Rep4': np.True_, 'Animal15_June26_offset_PPI_50_Rep3': np.True_, 'Animal15_June26_gap_depth_Rep4': np.True_, 'Animal15_June26_gap_duration_4_Rep3': np.True_, 'Animal15_June26_offset_PPI_4_Rep5': np.True_, 'Animal15_June26_offset_PPI_6_Rep2': np.True_, 'Animal15_June26_gap_duration_50_Rep4': np.True_, 'Animal15_June26_offset_PPI_14_Rep3': np.True_, 'Animal15_June26_offset_PPI_6_Rep3': np.True_, 'Animal15_June26_offset_PPI_18_Rep2': np.True_, 'Animal15_June26_gap_duration_4_Rep4': np.True_, 'Animal15_June26_gap_depth_Rep5': np.True_, 'Animal15_June26_gap_duration_10_Rep5': np.True_, 'Animal15_June26_gap_duration_20_Rep4': np.True_, 'Animal15_June26_offset_PPI_12_Rep5': np.True_, 'Animal15_June26_offset_PPI_10_Rep3': np.True_, 'Animal15_June26_ASR_control_Rep4': np.True_, 'Animal15_June26_offset_PPI_10_Rep4': np.True_, 'Animal15_June26_offset_PPI_50_Rep4': np.True_, 'Animal15_June26_offset_PPI_14_Rep4': np.True_, 'Animal15_June26_ASR_control_Rep5': np.True_, 'Animal15_June26_gap_duration_20_Rep5': np.True_, 'Animal15_June26_offset_PPI_18_Rep3': np.False_, 'Animal15_June26_offset_PPI_10_Rep5': np.True_, 'Animal15_June26_offset_PPI_6_Rep4': np.True_, 'Animal15_June26_offset_PPI_20_Rep5': np.True_, 'Animal15_June26_offset_PPI_18_Rep4': np.True_, 'Animal15_June26_offset_PPI_50_Rep5': np.True_, 'Animal15_June26_gap_duration_50_Rep5': np.True_, 'Animal15_June26_gap_duration_4_Rep5': np.True_, 'Animal15_June26_offset_PPI_14_Rep5': np.True_, 'Animal15_May20_gap_duration_10_Rep1': np.True_, 'Animal15_May20_offset_PPI_12_Rep1': np.True_, 'Animal15_May20_offset_PPI_50_Rep1': np.True_, 'Animal15_May20_offset_PPI_10_Rep1': np.True_, 'Animal15_May20_gap_depth_Rep1': np.True_, 'Animal15_May20_tone_in_noise_Rep1': np.True_, 'Animal15_May20_gap_duration_50_Rep1': np.True_, 'Animal15_May20_gap_duration_4_Rep1': np.True_, 'Animal15_May20_offset_PPI_6_Rep1': np.True_, 'Animal15_May20_offset_PPI_50_Rep2': np.True_, 'Animal15_May20_offset_PPI_16_Rep1': np.True_, 'Animal15_May20_ASR_control_Rep1': np.True_, 'Animal15_May20_offset_PPI_10_Rep2': np.True_, 'Animal15_May20_offset_PPI_12_Rep2': np.True_, 'Animal15_May20_gap_depth_Rep2': np.True_, 'Animal15_May20_offset_PPI_20_Rep1': np.True_, 'Animal15_May20_gap_duration_50_Rep2': np.True_, 'Animal15_May20_offset_PPI_50_Rep3': np.True_, 'Animal15_May20_offset_ASR_Rep1': np.False_, 'Animal15_May20_gap_duration_20_Rep1': np.True_, 'Animal15_May20_offset_PPI_4_Rep1': np.True_, 'Animal15_May20_gap_duration_8_Rep1': np.True_, 'Animal15_May20_offset_ASR_Rep2': np.False_, 'Animal15_May20_offset_PPI_14_Rep1': np.True_, 'Animal15_May20_offset_PPI_20_Rep2': np.True_, 'Animal15_May20_offset_PPI_10_Rep3': np.True_, 'Animal15_May20_offset_PPI_6_Rep2': np.True_, 'Animal15_May20_gap_duration_20_Rep2': np.True_, 'Animal15_May20_tone_in_noise_Rep2': np.True_, 'Animal15_May20_offset_PPI_20_Rep3': np.True_, 'Animal15_May20_tone_in_noise_Rep3': np.True_, 'Animal15_May20_gap_duration_50_Rep3': np.True_, 'Animal15_May20_offset_PPI_8_Rep1': np.True_, 'Animal15_May20_tone_in_noise_Rep4': np.True_, 'Animal15_May20_gap_duration_10_Rep2': np.True_, 'Animal15_May20_gap_duration_50_Rep4': np.True_, 'Animal15_May20_offset_PPI_14_Rep2': np.True_, 'Animal15_May20_offset_PPI_6_Rep3': np.True_, 'Animal15_May20_gap_duration_20_Rep3': np.True_, 'Animal15_May20_offset_PPI_20_Rep4': np.True_, 'Animal15_May20_tone_in_noise_Rep5': np.True_, 'Animal15_May20_offset_PPI_4_Rep2': np.True_, 'Animal15_May20_gap_duration_4_Rep2': np.True_, 'Animal15_May20_offset_PPI_8_Rep2': np.True_, 'Animal15_May20_offset_PPI_18_Rep1': np.True_, 'Animal15_May20_gap_duration_20_Rep4': np.True_, 'Animal15_May20_gap_duration_50_Rep5': np.True_, 'Animal15_May20_offset_ASR_Rep3': np.False_, 'Animal15_May20_offset_PPI_20_Rep5': np.True_, 'Animal15_May20_gap_duration_8_Rep2': np.True_, 'Animal15_May20_offset_PPI_50_Rep4': np.True_, 'Animal15_May20_gap_depth_Rep3': np.True_, 'Animal15_May20_gap_duration_4_Rep3': np.True_, 'Animal15_May20_offset_PPI_10_Rep4': np.False_, 'Animal15_May20_offset_ASR_Rep4': np.False_, 'Animal15_May20_gap_duration_4_Rep4': np.True_, 'Animal15_May20_offset_PPI_4_Rep3': np.True_, 'Animal15_May20_offset_PPI_8_Rep3': np.True_, 'Animal15_May20_offset_PPI_12_Rep3': np.True_, 'Animal15_May20_offset_PPI_14_Rep3': np.True_, 'Animal15_May20_offset_PPI_18_Rep2': np.False_, 'Animal15_May20_offset_PPI_14_Rep4': np.True_, 'Animal15_May20_offset_PPI_16_Rep2': np.True_, 'Animal15_May20_offset_ASR_Rep5': np.False_, 'Animal15_May20_gap_duration_8_Rep3': np.True_, 'Animal15_May20_offset_PPI_8_Rep4': np.True_, 'Animal15_May20_offset_PPI_18_Rep3': np.True_, 'Animal15_May20_gap_depth_Rep4': np.True_, 'Animal15_May20_gap_duration_20_Rep5': np.True_, 'Animal15_May20_offset_PPI_16_Rep3': np.True_, 'Animal15_May20_gap_depth_Rep5': np.True_, 'Animal15_May20_offset_PPI_16_Rep4': np.True_, 'Animal15_May20_offset_PPI_4_Rep4': np.True_, 'Animal15_May20_offset_PPI_12_Rep4': np.True_, 'Animal15_May20_gap_duration_8_Rep4': np.True_, 'Animal15_May20_gap_duration_10_Rep3': np.True_, 'Animal15_May20_ASR_control_Rep2': np.True_, 'Animal15_May20_gap_duration_8_Rep5': np.True_, 'Animal15_May20_offset_PPI_16_Rep5': np.True_, 'Animal15_May20_gap_duration_10_Rep4': np.True_, 'Animal15_May20_ASR_control_Rep3': np.True_, 'Animal15_May20_gap_duration_4_Rep5': np.True_, 'Animal15_May20_offset_PPI_4_Rep5': np.True_, 'Animal15_May20_offset_PPI_18_Rep4': np.True_, 'Animal15_May20_offset_PPI_10_Rep5': np.True_, 'Animal15_May20_gap_duration_10_Rep5': np.True_, 'Animal15_May20_ASR_control_Rep4': np.True_, 'Animal15_May20_offset_PPI_6_Rep4': np.True_, 'Animal15_May20_ASR_control_Rep5': np.True_, 'Animal15_May20_offset_PPI_18_Rep5': np.False_, 'Animal15_May20_offset_PPI_14_Rep5': np.True_, 'Animal15_May20_offset_PPI_12_Rep5': np.False_, 'Animal15_May20_offset_PPI_6_Rep5': np.True_, 'Animal1_April16_gap_duration_8_Rep1': np.True_, 'Animal1_April16_offset_PPI_50_Rep1': np.True_, 'Animal1_April16_tone_in_noise_Rep1': np.True_, 'Animal1_April16_offset_PPI_10_Rep1': np.True_, 'Animal1_April16_offset_PPI_50_Rep2': np.True_, 'Animal1_April16_gap_duration_10_Rep1': np.True_, 'Animal1_April16_tone_in_noise_Rep2': np.True_, 'Animal1_April16_gap_duration_20_Rep1': np.True_, 'Animal1_April16_offset_PPI_6_Rep1': np.True_, 'Animal1_April16_tone_in_noise_Rep3': np.True_, 'Animal1_April16_gap_duration_4_Rep1': np.True_, 'Animal1_April16_offset_PPI_16_Rep1': np.True_, 'Animal1_April16_offset_PPI_18_Rep1': np.True_, 'Animal1_April16_offset_PPI_6_Rep2': np.True_, 'Animal1_April16_offset_PPI_20_Rep1': np.True_, 'Animal1_April16_offset_PPI_10_Rep2': np.True_, 'Animal1_April16_offset_PPI_8_Rep1': np.True_, 'Animal1_April16_gap_duration_10_Rep2': np.True_, 'Animal1_April16_gap_duration_50_Rep1': np.True_, 'Animal1_April16_ASR_control_Rep1': np.True_, 'Animal1_April16_gap_duration_20_Rep2': np.True_, 'Animal1_April16_offset_PPI_20_Rep2': np.True_, 'Animal1_April16_gap_depth_Rep1': np.True_, 'Animal1_April16_offset_ASR_Rep1': np.False_, 'Animal1_April16_offset_PPI_4_Rep1': np.True_, 'Animal1_April16_ASR_control_Rep2': np.True_, 'Animal1_April16_offset_PPI_12_Rep1': np.True_, 'Animal1_April16_offset_PPI_50_Rep3': np.True_, 'Animal1_April16_gap_duration_4_Rep2': np.True_, 'Animal1_April16_offset_PPI_8_Rep2': np.True_, 'Animal1_April16_offset_PPI_14_Rep1': np.True_, 'Animal1_April16_gap_duration_4_Rep3': np.True_, 'Animal1_April16_ASR_control_Rep3': np.True_, 'Animal1_April16_offset_PPI_4_Rep2': np.True_, 'Animal1_April16_offset_ASR_Rep2': np.False_, 'Animal1_April16_offset_PPI_50_Rep4': np.True_, 'Animal1_April16_gap_depth_Rep2': np.True_, 'Animal1_April16_offset_ASR_Rep3': np.False_, 'Animal1_April16_gap_duration_20_Rep3': np.True_, 'Animal1_April16_offset_PPI_16_Rep2': np.True_, 'Animal1_April16_offset_PPI_8_Rep3': np.True_, 'Animal1_April16_gap_duration_50_Rep2': np.True_, 'Animal1_April16_offset_PPI_16_Rep3': np.True_, 'Animal1_April16_gap_duration_20_Rep4': np.True_, 'Animal1_April16_offset_PPI_20_Rep3': np.True_, 'Animal1_April16_offset_ASR_Rep4': np.False_, 'Animal1_April16_gap_duration_50_Rep3': np.True_, 'Animal1_April16_gap_depth_Rep3': np.True_, 'Animal1_April16_gap_duration_50_Rep4': np.True_, 'Animal1_April16_offset_PPI_14_Rep2': np.True_, 'Animal1_April16_offset_PPI_4_Rep3': np.True_, 'Animal1_April16_offset_PPI_18_Rep2': np.True_, 'Animal1_April16_offset_PPI_4_Rep4': np.True_, 'Animal1_April16_gap_duration_8_Rep2': np.True_, 'Animal1_April16_offset_PPI_8_Rep4': np.False_, 'Animal1_April16_gap_duration_8_Rep3': np.True_, 'Animal1_April16_offset_PPI_4_Rep5': np.True_, 'Animal1_April16_ASR_control_Rep4': np.True_, 'Animal1_April16_offset_PPI_14_Rep3': np.True_, 'Animal1_April16_offset_PPI_8_Rep5': np.False_, 'Animal1_April16_gap_duration_10_Rep3': np.True_, 'Animal1_April16_gap_duration_4_Rep4': np.True_, 'Animal1_April16_gap_duration_8_Rep4': np.True_, 'Animal1_April16_gap_duration_4_Rep5': np.True_, 'Animal1_April16_offset_PPI_12_Rep2': np.True_, 'Animal1_April16_offset_PPI_10_Rep3': np.True_, 'Animal1_April16_gap_duration_20_Rep5': np.True_, 'Animal1_April16_offset_PPI_20_Rep4': np.True_, 'Animal1_April16_offset_ASR_Rep5': np.False_, 'Animal1_April16_offset_PPI_14_Rep4': np.True_, 'Animal1_April16_offset_PPI_12_Rep3': np.True_, 'Animal1_April16_gap_depth_Rep4': np.True_, 'Animal1_April16_offset_PPI_6_Rep3': np.False_, 'Animal1_April16_offset_PPI_16_Rep4': np.True_, 'Animal1_April16_offset_PPI_6_Rep4': np.True_, 'Animal1_April16_offset_PPI_18_Rep3': np.True_, 'Animal1_April16_offset_PPI_6_Rep5': np.True_, 'Animal1_April16_offset_PPI_18_Rep4': np.True_, 'Animal1_April16_gap_duration_10_Rep4': np.True_, 'Animal1_April16_gap_duration_8_Rep5': np.True_, 'Animal1_April16_tone_in_noise_Rep4': np.False_, 'Animal1_April16_offset_PPI_14_Rep5': np.True_, 'Animal1_April16_offset_PPI_20_Rep5': np.True_, 'Animal1_April16_offset_PPI_10_Rep4': np.True_, 'Animal1_April16_gap_duration_10_Rep5': np.True_, 'Animal1_April16_offset_PPI_12_Rep4': np.True_, 'Animal1_April16_tone_in_noise_Rep5': np.True_, 'Animal1_April16_gap_duration_50_Rep5': np.True_, 'Animal1_April16_offset_PPI_50_Rep5': np.True_, 'Animal1_April16_offset_PPI_10_Rep5': np.True_, 'Animal1_April16_offset_PPI_12_Rep5': np.True_, 'Animal1_April16_ASR_control_Rep5': np.True_, 'Animal1_April16_offset_PPI_18_Rep5': np.True_, 'Animal1_June26_offset_PPI_16_Rep1': np.True_, 'Animal1_June26_ASR_control_Rep1': np.True_, 'Animal1_June26_offset_PPI_18_Rep1': np.True_, 'Animal1_June26_gap_duration_10_Rep1': np.True_, 'Animal1_June26_offset_PPI_20_Rep1': np.True_, 'Animal1_June26_offset_PPI_18_Rep2': np.True_, 'Animal1_June26_offset_PPI_10_Rep1': np.True_, 'Animal1_June26_gap_duration_20_Rep1': np.True_, 'Animal1_June26_offset_PPI_20_Rep2': np.True_, 'Animal1_June26_offset_PPI_10_Rep2': np.True_, 'Animal1_June26_gap_duration_8_Rep1': np.True_, 'Animal1_June26_offset_PPI_14_Rep1': np.True_, 'Animal1_June26_gap_depth_Rep1': np.True_, 'Animal1_June26_gap_duration_4_Rep1': np.True_, 'Animal1_June26_offset_PPI_14_Rep2': np.True_, 'Animal1_June26_offset_ASR_Rep1': np.False_, 'Animal1_June26_gap_depth_Rep2': np.True_, 'Animal1_June26_offset_PPI_6_Rep1': np.True_, 'Animal1_June26_offset_ASR_Rep2': np.False_, 'Animal1_June26_gap_duration_4_Rep2': np.True_, 'Animal1_June26_offset_PPI_20_Rep3': np.True_, 'Animal1_June26_gap_duration_50_Rep1': np.True_, 'Animal1_June26_offset_PPI_8_Rep1': np.True_, 'Animal1_June26_offset_PPI_18_Rep3': np.True_, 'Animal1_June26_offset_PPI_12_Rep1': np.True_, 'Animal1_June26_ASR_control_Rep2': np.True_, 'Animal1_June26_gap_duration_8_Rep2': np.True_, 'Animal1_June26_gap_duration_10_Rep2': np.True_, 'Animal1_June26_ASR_control_Rep3': np.True_, 'Animal1_June26_gap_duration_8_Rep3': np.True_, 'Animal1_June26_gap_duration_20_Rep2': np.True_, 'Animal1_June26_offset_PPI_16_Rep2': np.True_, 'Animal1_June26_offset_PPI_8_Rep2': np.True_, 'Animal1_June26_offset_PPI_50_Rep1': np.True_, 'Animal1_June26_offset_ASR_Rep3': np.False_, 'Animal1_June26_offset_PPI_8_Rep3': np.True_, 'Animal1_June26_gap_duration_20_Rep3': np.True_, 'Animal1_June26_offset_PPI_20_Rep4': np.True_, 'Animal1_June26_gap_duration_50_Rep2': np.True_, 'Animal1_June26_offset_PPI_16_Rep3': np.True_, 'Animal1_June26_offset_PPI_8_Rep4': np.True_, 'Animal1_June26_gap_duration_10_Rep3': np.True_, 'Animal1_June26_offset_PPI_10_Rep3': np.True_, 'Animal1_June26_offset_ASR_Rep4': np.False_, 'Animal1_June26_tone_in_noise_Rep1': np.True_, 'Animal1_June26_gap_duration_4_Rep3': np.True_, 'Animal1_June26_offset_PPI_6_Rep2': np.True_, 'Animal1_June26_tone_in_noise_Rep2': np.True_, 'Animal1_June26_gap_duration_20_Rep4': np.True_, 'Animal1_June26_offset_PPI_14_Rep3': np.True_, 'Animal1_June26_offset_PPI_50_Rep2': np.True_, 'Animal1_June26_gap_duration_50_Rep3': np.True_, 'Animal1_June26_offset_PPI_4_Rep1': np.True_, 'Animal1_June26_offset_PPI_12_Rep2': np.True_, 'Animal1_June26_tone_in_noise_Rep3': np.True_, 'Animal1_June26_gap_duration_50_Rep4': np.True_, 'Animal1_June26_offset_PPI_6_Rep3': np.True_, 'Animal1_June26_gap_duration_10_Rep4': np.True_, 'Animal1_June26_offset_PPI_10_Rep4': np.True_, 'Animal1_June26_gap_duration_4_Rep4': np.True_, 'Animal1_June26_offset_PPI_16_Rep4': np.True_, 'Animal1_June26_offset_PPI_4_Rep2': np.True_, 'Animal1_June26_offset_PPI_50_Rep3': np.True_, 'Animal1_June26_gap_depth_Rep3': np.True_, 'Animal1_June26_offset_PPI_20_Rep5': np.True_, 'Animal1_June26_gap_depth_Rep4': np.True_, 'Animal1_June26_offset_PPI_4_Rep3': np.True_, 'Animal1_June26_offset_PPI_10_Rep5': np.True_, 'Animal1_June26_offset_PPI_18_Rep4': np.True_, 'Animal1_June26_offset_PPI_4_Rep4': np.True_, 'Animal1_June26_offset_PPI_14_Rep4': np.True_, 'Animal1_June26_gap_duration_8_Rep4': np.True_, 'Animal1_June26_gap_duration_10_Rep5': np.True_, 'Animal1_June26_tone_in_noise_Rep4': np.True_, 'Animal1_June26_gap_duration_50_Rep5': np.True_, 'Animal1_June26_offset_PPI_16_Rep5': np.True_, 'Animal1_June26_tone_in_noise_Rep5': np.True_, 'Animal1_June26_offset_PPI_14_Rep5': np.True_, 'Animal1_June26_gap_duration_20_Rep5': np.True_, 'Animal1_June26_offset_PPI_4_Rep5': np.True_, 'Animal1_June26_offset_PPI_6_Rep4': np.True_, 'Animal1_June26_offset_ASR_Rep5': np.False_, 'Animal1_June26_offset_PPI_12_Rep3': np.True_, 'Animal1_June26_gap_depth_Rep5': np.True_, 'Animal1_June26_offset_PPI_50_Rep4': np.True_, 'Animal1_June26_ASR_control_Rep4': np.True_, 'Animal1_June26_offset_PPI_12_Rep4': np.True_, 'Animal1_June26_offset_PPI_50_Rep5': np.True_, 'Animal1_June26_offset_PPI_8_Rep5': np.True_, 'Animal1_June26_offset_PPI_12_Rep5': np.True_, 'Animal1_June26_gap_duration_8_Rep5': np.True_, 'Animal1_June26_offset_PPI_6_Rep5': np.True_, 'Animal1_May20_gap_duration_10_Rep1': np.True_, 'Animal1_May20_tone_in_noise_Rep1': np.True_, 'Animal1_May20_offset_ASR_Rep1': np.False_, 'Animal1_May20_gap_depth_Rep1': np.True_, 'Animal1_May20_offset_PPI_50_Rep1': np.True_, 'Animal1_May20_gap_duration_50_Rep1': np.True_, 'Animal1_May20_gap_depth_Rep2': np.True_, 'Animal1_May20_offset_PPI_4_Rep1': np.True_, 'Animal1_May20_ASR_control_Rep1': np.True_, 'Animal1_May20_offset_PPI_50_Rep2': np.True_, 'Animal1_May20_offset_PPI_20_Rep1': np.True_, 'Animal1_May20_offset_PPI_14_Rep1': np.True_, 'Animal1_May20_offset_PPI_50_Rep3': np.True_, 'Animal1_May20_offset_PPI_16_Rep1': np.True_, 'Animal1_May20_gap_duration_10_Rep2': np.True_, 'Animal1_May20_offset_PPI_18_Rep1': np.True_, 'Animal1_May20_offset_PPI_8_Rep1': np.True_, 'Animal1_May20_gap_duration_50_Rep2': np.True_, 'Animal1_May20_offset_PPI_8_Rep2': np.True_, 'Animal1_May20_offset_PPI_18_Rep2': np.True_, 'Animal1_May20_gap_duration_8_Rep1': np.True_, 'Animal1_May20_offset_PPI_4_Rep2': np.True_, 'Animal1_May20_tone_in_noise_Rep2': np.True_, 'Animal1_May20_gap_depth_Rep3': np.True_, 'Animal1_May20_gap_duration_20_Rep1': np.True_, 'Animal1_May20_gap_duration_4_Rep1': np.True_, 'Animal1_May20_ASR_control_Rep2': np.True_, 'Animal1_May20_gap_duration_50_Rep3': np.True_, 'Animal1_May20_gap_depth_Rep4': np.True_, 'Animal1_May20_offset_PPI_12_Rep1': np.True_, 'Animal1_May20_ASR_control_Rep3': np.True_, 'Animal1_May20_offset_PPI_10_Rep1': np.True_, 'Animal1_May20_gap_duration_20_Rep2': np.True_, 'Animal1_May20_offset_PPI_12_Rep2': np.True_, 'Animal1_May20_offset_PPI_14_Rep2': np.True_, 'Animal1_May20_offset_PPI_4_Rep3': np.True_, 'Animal1_May20_offset_PPI_6_Rep1': np.True_, 'Animal1_May20_tone_in_noise_Rep3': np.True_, 'Animal1_May20_offset_PPI_4_Rep4': np.True_, 'Animal1_May20_gap_duration_20_Rep3': np.True_, 'Animal1_May20_offset_PPI_10_Rep2': np.True_, 'Animal1_May20_gap_duration_4_Rep2': np.True_, 'Animal1_May20_gap_duration_50_Rep4': np.True_, 'Animal1_May20_gap_duration_10_Rep3': np.True_, 'Animal1_May20_offset_PPI_6_Rep2': np.True_, 'Animal1_May20_ASR_control_Rep4': np.True_, 'Animal1_May20_offset_PPI_18_Rep3': np.True_, 'Animal1_May20_offset_PPI_6_Rep3': np.True_, 'Animal1_May20_offset_PPI_14_Rep3': np.True_, 'Animal1_May20_offset_ASR_Rep2': np.False_, 'Animal1_May20_tone_in_noise_Rep4': np.True_, 'Animal1_May20_offset_PPI_14_Rep4': np.True_, 'Animal1_May20_gap_duration_8_Rep2': np.True_, 'Animal1_May20_offset_PPI_10_Rep3': np.True_, 'Animal1_May20_offset_PPI_8_Rep3': np.True_, 'Animal1_May20_offset_PPI_12_Rep3': np.True_, 'Animal1_May20_offset_PPI_16_Rep2': np.True_, 'Animal1_May20_offset_ASR_Rep3': np.False_, 'Animal1_May20_gap_duration_8_Rep3': np.True_, 'Animal1_May20_offset_PPI_6_Rep4': np.True_, 'Animal1_May20_offset_PPI_16_Rep3': np.True_, 'Animal1_May20_offset_ASR_Rep4': np.False_, 'Animal1_May20_gap_duration_20_Rep4': np.True_, 'Animal1_May20_offset_PPI_10_Rep4': np.True_, 'Animal1_May20_gap_duration_50_Rep5': np.True_, 'Animal1_May20_ASR_control_Rep5': np.True_, 'Animal1_May20_offset_PPI_20_Rep2': np.True_, 'Animal1_May20_gap_duration_4_Rep3': np.True_, 'Animal1_May20_offset_PPI_18_Rep4': np.True_, 'Animal1_May20_offset_PPI_8_Rep4': np.True_, 'Animal1_May20_offset_PPI_12_Rep4': np.False_, 'Animal1_May20_offset_PPI_14_Rep5': np.True_, 'Animal1_May20_offset_PPI_16_Rep4': np.True_, 'Animal1_May20_offset_PPI_18_Rep5': np.True_, 'Animal1_May20_offset_PPI_10_Rep5': np.True_, 'Animal1_May20_offset_PPI_16_Rep5': np.True_, 'Animal1_May20_offset_PPI_50_Rep4': np.True_, 'Animal1_May20_gap_duration_8_Rep4': np.True_, 'Animal1_May20_offset_ASR_Rep5': np.False_, 'Animal1_May20_gap_duration_10_Rep4': np.True_, 'Animal1_May20_gap_duration_20_Rep5': np.True_, 'Animal1_May20_gap_duration_4_Rep4': np.True_, 'Animal1_May20_offset_PPI_20_Rep3': np.True_, 'Animal1_May20_offset_PPI_8_Rep5': np.True_, 'Animal1_May20_tone_in_noise_Rep5': np.True_, 'Animal1_May20_offset_PPI_20_Rep4': np.True_, 'Animal1_May20_gap_depth_Rep5': np.True_, 'Animal1_May20_offset_PPI_12_Rep5': np.True_, 'Animal1_May20_offset_PPI_20_Rep5': np.True_, 'Animal1_May20_gap_duration_4_Rep5': np.True_, 'Animal2_April16_offset_PPI_20_Rep1': np.True_, 'Animal2_April16_offset_PPI_16_Rep1': np.True_, 'Animal2_April16_offset_PPI_10_Rep1': np.True_, 'Animal2_April16_offset_PPI_14_Rep1': np.True_, 'Animal2_April16_offset_PPI_12_Rep1': np.True_, 'Animal2_April16_offset_PPI_18_Rep1': np.True_, 'Animal2_April16_offset_PPI_6_Rep1': np.True_, 'Animal2_April16_offset_PPI_18_Rep2': np.True_, 'Animal2_April16_gap_depth_Rep1': np.True_, 'Animal2_April16_offset_PPI_6_Rep2': np.True_, 'Animal2_April16_ASR_control_Rep1': np.True_, 'Animal2_April16_gap_depth_Rep2': np.True_, 'Animal2_April16_gap_duration_50_Rep1': np.True_, 'Animal2_April16_gap_depth_Rep3': np.True_, 'Animal2_April16_offset_PPI_8_Rep1': np.True_, 'Animal2_April16_offset_PPI_4_Rep1': np.True_, 'Animal2_April16_gap_duration_20_Rep1': np.True_, 'Animal2_April16_offset_PPI_12_Rep2': np.True_, 'Animal2_April16_offset_PPI_50_Rep1': np.True_, 'Animal2_April16_gap_duration_4_Rep1': np.True_, 'Animal2_April16_offset_PPI_10_Rep2': np.True_, 'Animal2_April16_gap_duration_8_Rep1': np.True_, 'Animal2_April16_tone_in_noise_Rep1': np.True_, 'Animal2_April16_gap_duration_50_Rep2': np.True_, 'Animal2_April16_offset_PPI_18_Rep3': np.True_, 'Animal2_April16_gap_duration_10_Rep1': np.True_, 'Animal2_April16_offset_PPI_16_Rep2': np.True_, 'Animal2_April16_offset_ASR_Rep1': np.False_, 'Animal2_April16_offset_PPI_50_Rep2': np.True_, 'Animal2_April16_offset_PPI_12_Rep3': np.True_, 'Animal2_April16_offset_PPI_10_Rep3': np.True_, 'Animal2_April16_offset_PPI_14_Rep2': np.True_, 'Animal2_April16_offset_PPI_12_Rep4': np.True_, 'Animal2_April16_gap_depth_Rep4': np.True_, 'Animal2_April16_offset_PPI_4_Rep2': np.True_, 'Animal2_April16_tone_in_noise_Rep2': np.True_, 'Animal2_April16_offset_PPI_4_Rep3': np.True_, 'Animal2_April16_gap_duration_50_Rep3': np.True_, 'Animal2_April16_gap_duration_4_Rep2': np.True_, 'Animal2_April16_offset_ASR_Rep2': np.False_, 'Animal2_April16_offset_PPI_18_Rep4': np.True_, 'Animal2_April16_gap_duration_8_Rep2': np.True_, 'Animal2_April16_offset_PPI_12_Rep5': np.True_, 'Animal2_April16_gap_duration_10_Rep2': np.True_, 'Animal2_April16_offset_PPI_16_Rep3': np.True_, 'Animal2_April16_gap_duration_8_Rep3': np.True_, 'Animal2_April16_offset_PPI_10_Rep4': np.True_, 'Animal2_April16_offset_PPI_50_Rep3': np.True_, 'Animal2_April16_gap_duration_4_Rep3': np.True_, 'Animal2_April16_gap_duration_20_Rep2': np.True_, 'Animal2_April16_offset_PPI_8_Rep2': np.True_, 'Animal2_April16_offset_PPI_14_Rep3': np.True_, 'Animal2_April16_gap_duration_50_Rep4': np.True_, 'Animal2_April16_gap_duration_8_Rep4': np.True_, 'Animal2_April16_ASR_control_Rep2': np.True_, 'Animal2_April16_offset_PPI_8_Rep3': np.True_, 'Animal2_April16_offset_PPI_18_Rep5': np.True_, 'Animal2_April16_ASR_control_Rep3': np.True_, 'Animal2_April16_offset_PPI_4_Rep4': np.True_, 'Animal2_April16_offset_PPI_16_Rep4': np.True_, 'Animal2_April16_offset_PPI_6_Rep3': np.True_, 'Animal2_April16_gap_duration_50_Rep5': np.True_, 'Animal2_April16_offset_PPI_20_Rep2': np.True_, 'Animal2_April16_offset_PPI_6_Rep4': np.True_, 'Animal2_April16_offset_PPI_50_Rep4': np.True_, 'Animal2_April16_tone_in_noise_Rep3': np.True_, 'Animal2_April16_offset_PPI_20_Rep3': np.True_, 'Animal2_April16_offset_PPI_8_Rep4': np.True_, 'Animal2_April16_offset_PPI_6_Rep5': np.True_, 'Animal2_April16_gap_duration_8_Rep5': np.True_, 'Animal2_April16_gap_duration_10_Rep3': np.True_, 'Animal2_April16_offset_PPI_14_Rep4': np.True_, 'Animal2_April16_tone_in_noise_Rep4': np.True_, 'Animal2_April16_ASR_control_Rep4': np.True_, 'Animal2_April16_offset_PPI_10_Rep5': np.True_, 'Animal2_April16_tone_in_noise_Rep5': np.True_, 'Animal2_April16_offset_ASR_Rep3': np.False_, 'Animal2_April16_gap_duration_4_Rep4': np.True_, 'Animal2_April16_offset_ASR_Rep4': np.False_, 'Animal2_April16_offset_PPI_14_Rep5': np.True_, 'Animal2_April16_offset_PPI_8_Rep5': np.True_, 'Animal2_April16_gap_depth_Rep5': np.True_, 'Animal2_April16_gap_duration_20_Rep3': np.True_, 'Animal2_April16_offset_PPI_4_Rep5': np.True_, 'Animal2_April16_gap_duration_10_Rep4': np.True_, 'Animal2_April16_gap_duration_4_Rep5': np.True_, 'Animal2_April16_ASR_control_Rep5': np.True_, 'Animal2_April16_offset_PPI_20_Rep4': np.True_, 'Animal2_April16_offset_ASR_Rep5': np.False_, 'Animal2_April16_offset_PPI_20_Rep5': np.True_, 'Animal2_April16_gap_duration_10_Rep5': np.True_, 'Animal2_June26_gap_duration_20_Rep1': np.True_, 'Animal2_June26_offset_ASR_Rep1': np.False_, 'Animal2_June26_gap_duration_10_Rep1': np.True_, 'Animal2_June26_offset_PPI_16_Rep1': np.True_, 'Animal2_June26_gap_duration_8_Rep1': np.True_, 'Animal2_June26_offset_PPI_18_Rep1': np.True_, 'Animal2_June26_offset_PPI_16_Rep2': np.True_, 'Animal2_June26_gap_duration_8_Rep2': np.True_, 'Animal2_June26_gap_depth_Rep1': np.True_, 'Animal2_June26_gap_duration_4_Rep1': np.True_, 'Animal2_June26_offset_PPI_4_Rep1': np.True_, 'Animal2_June26_offset_PPI_14_Rep1': np.True_, 'Animal2_June26_gap_duration_50_Rep1': np.True_, 'Animal2_June26_ASR_control_Rep1': np.True_, 'Animal2_June26_offset_PPI_6_Rep1': np.True_, 'Animal2_June26_ASR_control_Rep2': np.True_, 'Animal2_June26_offset_ASR_Rep2': np.False_, 'Animal2_June26_gap_duration_4_Rep2': np.True_, 'Animal2_June26_tone_in_noise_Rep1': np.True_, 'Animal2_June26_gap_duration_50_Rep2': np.True_, 'Animal2_June26_gap_depth_Rep2': np.True_, 'Animal2_June26_offset_PPI_4_Rep2': np.True_, 'Animal2_June26_ASR_control_Rep3': np.True_, 'Animal2_June26_offset_PPI_50_Rep1': np.True_, 'Animal2_June26_offset_PPI_18_Rep2': np.True_, 'Animal2_June26_offset_PPI_10_Rep1': np.True_, 'Animal2_June26_offset_ASR_Rep3': np.False_, 'Animal2_June26_gap_depth_Rep3': np.True_, 'Animal2_June26_offset_PPI_16_Rep3': np.True_, 'Animal2_June26_gap_duration_50_Rep3': np.True_, 'Animal2_June26_offset_ASR_Rep4': np.False_, 'Animal2_June26_offset_PPI_20_Rep1': np.True_, 'Animal2_June26_gap_duration_10_Rep2': np.True_, 'Animal2_June26_gap_duration_4_Rep3': np.True_, 'Animal2_June26_offset_PPI_8_Rep1': np.True_, 'Animal2_June26_offset_PPI_10_Rep2': np.True_, 'Animal2_June26_offset_PPI_12_Rep1': np.True_, 'Animal2_June26_offset_PPI_10_Rep3': np.True_, 'Animal2_June26_gap_duration_10_Rep3': np.True_, 'Animal2_June26_offset_PPI_12_Rep2': np.True_, 'Animal2_June26_tone_in_noise_Rep2': np.True_, 'Animal2_June26_offset_PPI_6_Rep2': np.True_, 'Animal2_June26_gap_depth_Rep4': np.True_, 'Animal2_June26_offset_PPI_12_Rep3': np.True_, 'Animal2_June26_offset_PPI_18_Rep3': np.True_, 'Animal2_June26_offset_PPI_4_Rep3': np.True_, 'Animal2_June26_offset_PPI_6_Rep3': np.True_, 'Animal2_June26_offset_ASR_Rep5': np.False_, 'Animal2_June26_offset_PPI_14_Rep2': np.True_, 'Animal2_June26_offset_PPI_4_Rep4': np.True_, 'Animal2_June26_offset_PPI_10_Rep4': np.True_, 'Animal2_June26_tone_in_noise_Rep3': np.True_, 'Animal2_June26_offset_PPI_18_Rep4': np.True_, 'Animal2_June26_tone_in_noise_Rep4': np.True_, 'Animal2_June26_gap_depth_Rep5': np.True_, 'Animal2_June26_offset_PPI_50_Rep2': np.True_, 'Animal2_June26_ASR_control_Rep4': np.True_, 'Animal2_June26_offset_PPI_8_Rep2': np.True_, 'Animal2_June26_offset_PPI_14_Rep3': np.True_, 'Animal2_June26_offset_PPI_6_Rep4': np.True_, 'Animal2_June26_gap_duration_10_Rep4': np.True_, 'Animal2_June26_offset_PPI_50_Rep3': np.True_, 'Animal2_June26_offset_PPI_8_Rep3': np.True_, 'Animal2_June26_offset_PPI_6_Rep5': np.True_, 'Animal2_June26_offset_PPI_20_Rep2': np.True_, 'Animal2_June26_offset_PPI_10_Rep5': np.True_, 'Animal2_June26_offset_PPI_8_Rep4': np.True_, 'Animal2_June26_offset_PPI_20_Rep3': np.True_, 'Animal2_June26_gap_duration_8_Rep3': np.True_, 'Animal2_June26_offset_PPI_18_Rep5': np.True_, 'Animal2_June26_offset_PPI_50_Rep4': np.True_, 'Animal2_June26_offset_PPI_16_Rep4': np.True_, 'Animal2_June26_gap_duration_4_Rep4': np.True_, 'Animal2_June26_gap_duration_20_Rep2': np.True_, 'Animal2_June26_offset_PPI_12_Rep4': np.True_, 'Animal2_June26_gap_duration_50_Rep4': np.True_, 'Animal2_June26_gap_duration_10_Rep5': np.True_, 'Animal2_June26_offset_PPI_14_Rep4': np.True_, 'Animal2_June26_ASR_control_Rep5': np.True_, 'Animal2_June26_gap_duration_50_Rep5': np.True_, 'Animal2_June26_gap_duration_8_Rep4': np.True_, 'Animal2_June26_offset_PPI_14_Rep5': np.True_, 'Animal2_June26_offset_PPI_16_Rep5': np.True_, 'Animal2_June26_gap_duration_8_Rep5': np.True_, 'Animal2_June26_offset_PPI_4_Rep5': np.True_, 'Animal2_June26_offset_PPI_20_Rep4': np.True_, 'Animal2_June26_offset_PPI_50_Rep5': np.True_, 'Animal2_June26_gap_duration_20_Rep3': np.True_, 'Animal2_June26_gap_duration_4_Rep5': np.True_, 'Animal2_May20_gap_depth_Rep1': np.True_, 'Animal2_May20_offset_PPI_8_Rep1': np.True_, 'Animal2_May20_offset_PPI_4_Rep1': np.True_, 'Animal2_May20_gap_duration_10_Rep1': np.True_, 'Animal2_May20_offset_PPI_14_Rep1': np.True_, 'Animal2_May20_gap_depth_Rep2': np.True_, 'Animal2_May20_offset_PPI_16_Rep1': np.True_, 'Animal2_May20_offset_PPI_50_Rep1': np.True_, 'Animal2_May20_gap_duration_4_Rep1': np.True_, 'Animal2_May20_offset_PPI_8_Rep2': np.True_, 'Animal2_May20_offset_ASR_Rep1': np.False_, 'Animal2_May20_gap_duration_20_Rep1': np.True_, 'Animal2_May20_offset_PPI_14_Rep2': np.True_, 'Animal2_May20_offset_PPI_6_Rep1': np.True_, 'Animal2_May20_gap_duration_4_Rep2': np.True_, 'Animal2_May20_offset_PPI_14_Rep3': np.True_, 'Animal2_May20_offset_PPI_16_Rep2': np.True_, 'Animal2_May20_offset_PPI_10_Rep1': np.True_, 'Animal2_May20_offset_PPI_4_Rep2': np.True_, 'Animal2_May20_offset_PPI_8_Rep3': np.True_, 'Animal2_May20_offset_PPI_4_Rep3': np.True_, 'Animal2_May20_gap_duration_8_Rep1': np.True_, 'Animal2_May20_ASR_control_Rep1': np.True_, 'Animal2_May20_offset_PPI_20_Rep1': np.True_, 'Animal2_May20_offset_PPI_50_Rep2': np.True_, 'Animal2_May20_gap_duration_20_Rep2': np.True_, 'Animal2_May20_offset_PPI_16_Rep3': np.True_, 'Animal2_May20_offset_PPI_6_Rep2': np.True_, 'Animal2_May20_offset_PPI_10_Rep2': np.True_, 'Animal2_May20_gap_duration_10_Rep2': np.True_, 'Animal2_May20_offset_PPI_8_Rep4': np.True_, 'Animal2_May20_gap_duration_20_Rep3': np.True_, 'Animal2_May20_offset_PPI_20_Rep2': np.True_, 'Animal2_May20_offset_PPI_4_Rep4': np.True_, 'Animal2_May20_gap_duration_50_Rep1': np.True_, 'Animal2_May20_offset_PPI_50_Rep3': np.True_, 'Animal2_May20_tone_in_noise_Rep1': np.True_, 'Animal2_May20_offset_PPI_18_Rep1': np.True_, 'Animal2_May20_offset_ASR_Rep2': np.False_, 'Animal2_May20_offset_PPI_6_Rep3': np.True_, 'Animal2_May20_gap_duration_20_Rep4': np.True_, 'Animal2_May20_offset_ASR_Rep3': np.False_, 'Animal2_May20_gap_duration_50_Rep2': np.True_, 'Animal2_May20_offset_PPI_20_Rep3': np.True_, 'Animal2_May20_offset_PPI_12_Rep1': np.True_, 'Animal2_May20_gap_depth_Rep3': np.True_, 'Animal2_May20_gap_duration_10_Rep3': np.True_, 'Animal2_May20_offset_PPI_12_Rep2': np.True_, 'Animal2_May20_offset_PPI_4_Rep5': np.True_, 'Animal2_May20_offset_PPI_14_Rep4': np.True_, 'Animal2_May20_ASR_control_Rep2': np.True_, 'Animal2_May20_offset_PPI_12_Rep3': np.True_, 'Animal2_May20_offset_PPI_10_Rep3': np.True_, 'Animal2_May20_offset_ASR_Rep4': np.False_, 'Animal2_May20_gap_duration_4_Rep3': np.True_, 'Animal2_May20_offset_PPI_12_Rep4': np.True_, 'Animal2_May20_offset_PPI_18_Rep2': np.True_, 'Animal2_May20_tone_in_noise_Rep2': np.True_, 'Animal2_May20_offset_PPI_8_Rep5': np.True_, 'Animal2_May20_offset_PPI_18_Rep3': np.True_, 'Animal2_May20_gap_duration_8_Rep2': np.True_, 'Animal2_May20_offset_PPI_10_Rep4': np.True_, 'Animal2_May20_tone_in_noise_Rep3': np.True_, 'Animal2_May20_offset_PPI_12_Rep5': np.True_, 'Animal2_May20_gap_duration_8_Rep3': np.True_, 'Animal2_May20_offset_PPI_14_Rep5': np.True_, 'Animal2_May20_gap_depth_Rep4': np.True_, 'Animal2_May20_gap_duration_4_Rep4': np.True_, 'Animal2_May20_gap_duration_10_Rep4': np.True_, 'Animal2_May20_gap_duration_8_Rep4': np.True_, 'Animal2_May20_gap_duration_4_Rep5': np.True_, 'Animal2_May20_offset_PPI_10_Rep5': np.True_, 'Animal2_May20_offset_PPI_6_Rep4': np.True_, 'Animal2_May20_offset_PPI_16_Rep4': np.True_, 'Animal2_May20_offset_PPI_50_Rep4': np.True_, 'Animal2_May20_ASR_control_Rep3': np.True_, 'Animal2_May20_offset_PPI_20_Rep4': np.True_, 'Animal2_May20_gap_duration_8_Rep5': np.True_, 'Animal2_May20_gap_duration_50_Rep3': np.True_, 'Animal2_May20_offset_PPI_20_Rep5': np.True_, 'Animal2_May20_gap_duration_10_Rep5': np.True_, 'Animal2_May20_tone_in_noise_Rep4': np.True_, 'Animal2_May20_offset_PPI_50_Rep5': np.True_, 'Animal2_May20_offset_PPI_16_Rep5': np.True_, 'Animal2_May20_gap_duration_50_Rep4': np.True_, 'Animal2_May20_ASR_control_Rep4': np.True_, 'Animal2_May20_offset_PPI_6_Rep5': np.True_, 'Animal2_May20_tone_in_noise_Rep5': np.True_, 'Animal2_May20_gap_duration_20_Rep5': np.True_, 'Animal2_May20_offset_PPI_18_Rep4': np.True_, 'Animal2_May20_ASR_control_Rep5': np.True_, 'Animal2_May20_offset_ASR_Rep5': np.False_, 'Animal2_May20_offset_PPI_18_Rep5': np.True_, 'Animal4_April16_offset_PPI_10_Rep1': np.True_, 'Animal4_April16_gap_duration_20_Rep1': np.False_, 'Animal4_April16_offset_ASR_Rep1': np.False_, 'Animal4_April16_offset_PPI_6_Rep1': np.True_, 'Animal4_April16_offset_PPI_18_Rep1': np.True_, 'Animal4_April16_tone_in_noise_Rep1': np.True_, 'Animal4_April16_gap_depth_Rep1': np.True_, 'Animal4_April16_offset_PPI_16_Rep1': np.True_, 'Animal4_April16_offset_PPI_18_Rep2': np.True_, 'Animal4_April16_offset_PPI_14_Rep1': np.True_, 'Animal4_April16_offset_PPI_12_Rep1': np.True_, 'Animal4_April16_offset_PPI_20_Rep1': np.True_, 'Animal4_April16_gap_duration_50_Rep1': np.True_, 'Animal4_April16_gap_duration_8_Rep1': np.True_, 'Animal4_April16_gap_duration_10_Rep1': np.True_, 'Animal4_April16_offset_PPI_16_Rep2': np.True_, 'Animal4_April16_offset_PPI_12_Rep2': np.True_, 'Animal4_April16_ASR_control_Rep1': np.True_, 'Animal4_April16_gap_duration_8_Rep2': np.True_, 'Animal4_April16_offset_PPI_10_Rep2': np.True_, 'Animal4_April16_tone_in_noise_Rep2': np.True_, 'Animal4_April16_gap_duration_4_Rep1': np.True_, 'Animal4_April16_offset_PPI_16_Rep3': np.True_, 'Animal4_April16_gap_duration_50_Rep2': np.True_, 'Animal4_April16_offset_PPI_10_Rep3': np.True_, 'Animal4_April16_offset_PPI_6_Rep2': np.True_, 'Animal4_April16_offset_PPI_14_Rep2': np.True_, 'Animal4_April16_gap_duration_20_Rep2': np.True_, 'Animal4_April16_gap_duration_4_Rep2': np.True_, 'Animal4_April16_offset_PPI_4_Rep1': np.True_, 'Animal4_April16_gap_duration_10_Rep2': np.True_, 'Animal4_April16_offset_PPI_50_Rep1': np.True_, 'Animal4_April16_gap_depth_Rep2': np.True_, 'Animal4_April16_gap_duration_8_Rep3': np.True_, 'Animal4_April16_gap_duration_4_Rep3': np.True_, 'Animal4_April16_offset_ASR_Rep2': np.False_, 'Animal4_April16_ASR_control_Rep2': np.True_, 'Animal4_April16_offset_PPI_10_Rep4': np.True_, 'Animal4_April16_tone_in_noise_Rep3': np.True_, 'Animal4_April16_offset_PPI_6_Rep3': np.True_, 'Animal4_April16_tone_in_noise_Rep4': np.True_, 'Animal4_April16_ASR_control_Rep3': np.True_, 'Animal4_April16_offset_PPI_50_Rep2': np.True_, 'Animal4_April16_offset_PPI_4_Rep2': np.True_, 'Animal4_April16_gap_duration_10_Rep3': np.True_, 'Animal4_April16_offset_PPI_20_Rep2': np.True_, 'Animal4_April16_offset_ASR_Rep3': np.False_, 'Animal4_April16_gap_duration_4_Rep4': np.True_, 'Animal4_April16_ASR_control_Rep4': np.True_, 'Animal4_April16_offset_PPI_10_Rep5': np.True_, 'Animal4_April16_offset_PPI_50_Rep3': np.True_, 'Animal4_April16_offset_PPI_20_Rep3': np.True_, 'Animal4_April16_offset_PPI_14_Rep3': np.True_, 'Animal4_April16_gap_depth_Rep3': np.True_, 'Animal4_April16_offset_PPI_16_Rep4': np.True_, 'Animal4_April16_offset_PPI_12_Rep3': np.True_, 'Animal4_April16_offset_ASR_Rep4': np.False_, 'Animal4_April16_offset_PPI_20_Rep4': np.True_, 'Animal4_April16_offset_PPI_6_Rep4': np.True_, 'Animal4_April16_gap_duration_8_Rep4': np.True_, 'Animal4_April16_gap_duration_50_Rep3': np.True_, 'Animal4_April16_offset_PPI_4_Rep3': np.True_, 'Animal4_April16_gap_depth_Rep4': np.True_, 'Animal4_April16_gap_duration_10_Rep4': np.True_, 'Animal4_April16_offset_ASR_Rep5': np.False_, 'Animal4_April16_offset_PPI_50_Rep4': np.True_, 'Animal4_April16_tone_in_noise_Rep5': np.True_, 'Animal4_April16_offset_PPI_20_Rep5': np.True_, 'Animal4_April16_gap_depth_Rep5': np.True_, 'Animal4_April16_offset_PPI_14_Rep4': np.True_, 'Animal4_April16_gap_duration_10_Rep5': np.True_, 'Animal4_April16_offset_PPI_18_Rep3': np.True_, 'Animal4_April16_offset_PPI_12_Rep4': np.False_, 'Animal4_April16_offset_PPI_8_Rep1': np.True_, 'Animal4_April16_gap_duration_50_Rep4': np.True_, 'Animal4_April16_gap_duration_8_Rep5': np.True_, 'Animal4_April16_gap_duration_20_Rep3': np.True_, 'Animal4_April16_offset_PPI_14_Rep5': np.True_, 'Animal4_April16_offset_PPI_12_Rep5': np.True_, 'Animal4_April16_offset_PPI_4_Rep4': np.True_, 'Animal4_April16_ASR_control_Rep5': np.True_, 'Animal4_April16_offset_PPI_8_Rep2': np.True_, 'Animal4_April16_offset_PPI_18_Rep4': np.True_, 'Animal4_April16_offset_PPI_8_Rep3': np.True_, 'Animal4_April16_gap_duration_50_Rep5': np.True_, 'Animal4_April16_offset_PPI_4_Rep5': np.True_, 'Animal4_April16_offset_PPI_18_Rep5': np.True_, 'Animal4_April16_gap_duration_20_Rep4': np.True_, 'Animal4_April16_offset_PPI_8_Rep4': np.True_, 'Animal4_April16_offset_PPI_6_Rep5': np.True_, 'Animal4_April16_offset_PPI_8_Rep5': np.True_, 'Animal4_June26_offset_PPI_10_Rep1': np.True_, 'Animal4_June26_gap_depth_Rep1': np.True_, 'Animal4_June26_tone_in_noise_Rep1': np.True_, 'Animal4_June26_offset_PPI_12_Rep1': np.True_, 'Animal4_June26_offset_PPI_8_Rep1': np.True_, 'Animal4_June26_offset_PPI_50_Rep1': np.True_, 'Animal4_June26_gap_duration_10_Rep1': np.True_, 'Animal4_June26_offset_PPI_50_Rep2': np.True_, 'Animal4_June26_gap_duration_8_Rep1': np.True_, 'Animal4_June26_offset_PPI_50_Rep3': np.True_, 'Animal4_June26_offset_PPI_10_Rep2': np.True_, 'Animal4_June26_offset_PPI_4_Rep1': np.True_, 'Animal4_June26_offset_PPI_20_Rep1': np.True_, 'Animal4_June26_offset_PPI_6_Rep1': np.True_, 'Animal4_June26_offset_PPI_10_Rep3': np.True_, 'Animal4_June26_ASR_control_Rep1': np.True_, 'Animal4_June26_offset_ASR_Rep1': np.False_, 'Animal4_June26_offset_PPI_14_Rep1': np.True_, 'Animal4_June26_offset_PPI_8_Rep2': np.True_, 'Animal4_June26_offset_PPI_20_Rep2': np.True_, 'Animal4_June26_offset_PPI_12_Rep2': np.True_, 'Animal4_June26_ASR_control_Rep2': np.True_, 'Animal4_June26_gap_duration_8_Rep2': np.True_, 'Animal4_June26_offset_PPI_8_Rep3': np.True_, 'Animal4_June26_offset_PPI_4_Rep2': np.True_, 'Animal4_June26_gap_depth_Rep2': np.True_, 'Animal4_June26_offset_PPI_20_Rep3': np.True_, 'Animal4_June26_offset_PPI_16_Rep1': np.True_, 'Animal4_June26_offset_ASR_Rep2': np.False_, 'Animal4_June26_offset_PPI_16_Rep2': np.True_, 'Animal4_June26_tone_in_noise_Rep2': np.True_, 'Animal4_June26_gap_depth_Rep3': np.True_, 'Animal4_June26_offset_PPI_6_Rep2': np.True_, 'Animal4_June26_gap_duration_4_Rep1': np.True_, 'Animal4_June26_offset_PPI_14_Rep2': np.True_, 'Animal4_June26_gap_duration_20_Rep1': np.True_, 'Animal4_June26_offset_PPI_16_Rep3': np.True_, 'Animal4_June26_offset_ASR_Rep3': np.False_, 'Animal4_June26_gap_duration_20_Rep2': np.True_, 'Animal4_June26_gap_duration_50_Rep1': np.True_, 'Animal4_June26_gap_duration_4_Rep2': np.True_, 'Animal4_June26_offset_PPI_16_Rep4': np.True_, 'Animal4_June26_offset_PPI_20_Rep4': np.True_, 'Animal4_June26_offset_PPI_50_Rep4': np.True_, 'Animal4_June26_offset_PPI_20_Rep5': np.True_, 'Animal4_June26_gap_duration_10_Rep2': np.True_, 'Animal4_June26_offset_PPI_14_Rep3': np.True_, 'Animal4_June26_gap_duration_8_Rep3': np.True_, 'Animal4_June26_offset_PPI_4_Rep3': np.True_, 'Animal4_June26_offset_PPI_18_Rep1': np.True_, 'Animal4_June26_gap_duration_8_Rep4': np.True_, 'Animal4_June26_ASR_control_Rep3': np.True_, 'Animal4_June26_offset_PPI_12_Rep3': np.True_, 'Animal4_June26_gap_duration_50_Rep2': np.True_, 'Animal4_June26_offset_PPI_14_Rep4': np.True_, 'Animal4_June26_ASR_control_Rep4': np.True_, 'Animal4_June26_offset_ASR_Rep4': np.False_, 'Animal4_June26_gap_duration_8_Rep5': np.True_, 'Animal4_June26_gap_duration_4_Rep3': np.True_, 'Animal4_June26_offset_PPI_18_Rep2': np.True_, 'Animal4_June26_gap_duration_4_Rep4': np.True_, 'Animal4_June26_offset_PPI_12_Rep4': np.True_, 'Animal4_June26_offset_PPI_6_Rep3': np.True_, 'Animal4_June26_offset_PPI_10_Rep4': np.True_, 'Animal4_June26_gap_duration_50_Rep3': np.True_, 'Animal4_June26_offset_PPI_8_Rep4': np.True_, 'Animal4_June26_gap_duration_10_Rep3': np.True_, 'Animal4_June26_offset_PPI_14_Rep5': np.True_, 'Animal4_June26_gap_duration_4_Rep5': np.True_, 'Animal4_June26_offset_PPI_50_Rep5': np.True_, 'Animal4_June26_offset_PPI_12_Rep5': np.True_, 'Animal4_June26_gap_duration_20_Rep3': np.True_, 'Animal4_June26_gap_duration_10_Rep4': np.True_, 'Animal4_June26_offset_PPI_16_Rep5': np.True_, 'Animal4_June26_ASR_control_Rep5': np.True_, 'Animal4_June26_gap_depth_Rep4': np.True_, 'Animal4_June26_gap_duration_50_Rep4': np.True_, 'Animal4_June26_offset_PPI_6_Rep4': np.True_, 'Animal4_June26_offset_ASR_Rep5': np.False_, 'Animal4_June26_gap_depth_Rep5': np.True_, 'Animal4_June26_gap_duration_20_Rep4': np.True_, 'Animal4_June26_offset_PPI_4_Rep4': np.True_, 'Animal4_June26_offset_PPI_6_Rep5': np.True_, 'Animal4_June26_gap_duration_20_Rep5': np.True_, 'Animal4_June26_offset_PPI_18_Rep3': np.True_, 'Animal4_June26_tone_in_noise_Rep3': np.True_, 'Animal4_June26_offset_PPI_10_Rep5': np.True_, 'Animal4_June26_offset_PPI_4_Rep5': np.True_, 'Animal4_June26_offset_PPI_8_Rep5': np.True_, 'Animal4_June26_offset_PPI_18_Rep4': np.True_, 'Animal4_June26_tone_in_noise_Rep4': np.True_, 'Animal4_May20_ASR_control_Rep1': np.True_, 'Animal4_May20_offset_PPI_18_Rep1': np.True_, 'Animal4_May20_offset_PPI_4_Rep1': np.True_, 'Animal4_May20_tone_in_noise_Rep1': np.True_, 'Animal4_May20_offset_PPI_16_Rep1': np.True_, 'Animal4_May20_offset_PPI_50_Rep1': np.True_, 'Animal4_May20_gap_duration_20_Rep1': np.True_, 'Animal4_May20_gap_duration_4_Rep1': np.True_, 'Animal4_May20_offset_PPI_12_Rep1': np.True_, 'Animal4_May20_gap_duration_50_Rep1': np.True_, 'Animal4_May20_gap_duration_20_Rep2': np.True_, 'Animal4_May20_offset_PPI_16_Rep2': np.True_, 'Animal4_May20_gap_duration_10_Rep1': np.True_, 'Animal4_May20_offset_PPI_50_Rep2': np.True_, 'Animal4_May20_offset_PPI_4_Rep2': np.True_, 'Animal4_May20_offset_PPI_50_Rep3': np.True_, 'Animal4_May20_gap_depth_Rep1': np.True_, 'Animal4_May20_offset_PPI_14_Rep1': np.True_, 'Animal4_May20_gap_duration_10_Rep2': np.True_, 'Animal4_May20_offset_ASR_Rep1': np.False_, 'Animal4_May20_offset_PPI_10_Rep1': np.True_, 'Animal4_May20_gap_duration_4_Rep2': np.True_, 'Animal4_May20_gap_duration_20_Rep3': np.True_, 'Animal4_May20_offset_PPI_12_Rep2': np.True_, 'Animal4_May20_gap_duration_10_Rep3': np.True_, 'Animal4_May20_offset_PPI_16_Rep3': np.True_, 'Animal4_May20_offset_PPI_20_Rep1': np.True_, 'Animal4_May20_offset_ASR_Rep2': np.False_, 'Animal4_May20_offset_PPI_6_Rep1': np.True_, 'Animal4_May20_offset_PPI_10_Rep2': np.True_, 'Animal4_May20_gap_duration_4_Rep3': np.True_, 'Animal4_May20_offset_PPI_4_Rep3': np.True_, 'Animal4_May20_offset_PPI_16_Rep4': np.True_, 'Animal4_May20_offset_PPI_18_Rep2': np.True_, 'Animal4_May20_gap_duration_8_Rep1': np.True_, 'Animal4_May20_offset_PPI_18_Rep3': np.True_, 'Animal4_May20_tone_in_noise_Rep2': np.True_, 'Animal4_May20_offset_PPI_6_Rep2': np.True_, 'Animal4_May20_offset_ASR_Rep3': np.False_, 'Animal4_May20_offset_PPI_10_Rep3': np.True_, 'Animal4_May20_offset_PPI_20_Rep2': np.True_, 'Animal4_May20_offset_PPI_8_Rep1': np.True_, 'Animal4_May20_gap_duration_50_Rep2': np.True_, 'Animal4_May20_offset_PPI_8_Rep2': np.True_, 'Animal4_May20_offset_ASR_Rep4': np.False_, 'Animal4_May20_gap_duration_50_Rep3': np.True_, 'Animal4_May20_offset_PPI_50_Rep4': np.True_, 'Animal4_May20_gap_duration_10_Rep4': np.True_, 'Animal4_May20_offset_PPI_12_Rep3': np.True_, 'Animal4_May20_offset_PPI_16_Rep5': np.True_, 'Animal4_May20_offset_PPI_4_Rep4': np.True_, 'Animal4_May20_offset_PPI_12_Rep4': np.True_, 'Animal4_May20_gap_duration_10_Rep5': np.True_, 'Animal4_May20_offset_PPI_8_Rep3': np.True_, 'Animal4_May20_tone_in_noise_Rep3': np.True_, 'Animal4_May20_offset_PPI_8_Rep4': np.True_, 'Animal4_May20_offset_PPI_6_Rep3': np.True_, 'Animal4_May20_offset_PPI_10_Rep4': np.True_, 'Animal4_May20_tone_in_noise_Rep4': np.True_, 'Animal4_May20_gap_depth_Rep2': np.True_, 'Animal4_May20_gap_duration_50_Rep4': np.True_, 'Animal4_May20_offset_PPI_14_Rep2': np.True_, 'Animal4_May20_offset_PPI_8_Rep5': np.True_, 'Animal4_May20_gap_duration_4_Rep4': np.True_, 'Animal4_May20_offset_PPI_6_Rep4': np.True_, 'Animal4_May20_offset_PPI_50_Rep5': np.True_, 'Animal4_May20_offset_PPI_18_Rep4': np.True_, 'Animal4_May20_offset_PPI_6_Rep5': np.True_, 'Animal4_May20_gap_depth_Rep3': np.True_, 'Animal4_May20_gap_duration_4_Rep5': np.True_, 'Animal4_May20_gap_duration_8_Rep2': np.True_, 'Animal4_May20_gap_depth_Rep4': np.True_, 'Animal4_May20_ASR_control_Rep2': np.True_, 'Animal4_May20_offset_PPI_20_Rep3': np.True_, 'Animal4_May20_gap_duration_8_Rep3': np.True_, 'Animal4_May20_offset_PPI_12_Rep5': np.True_, 'Animal4_May20_offset_PPI_18_Rep5': np.True_, 'Animal4_May20_offset_ASR_Rep5': np.False_, 'Animal4_May20_offset_PPI_10_Rep5': np.True_, 'Animal4_May20_gap_duration_8_Rep4': np.True_, 'Animal4_May20_offset_PPI_14_Rep3': np.True_, 'Animal4_May20_gap_duration_8_Rep5': np.True_, 'Animal4_May20_gap_duration_20_Rep4': np.True_, 'Animal4_May20_gap_duration_50_Rep5': np.True_, 'Animal4_May20_offset_PPI_20_Rep4': np.True_, 'Animal4_May20_offset_PPI_14_Rep4': np.True_, 'Animal4_May20_ASR_control_Rep3': np.True_, 'Animal4_May20_gap_duration_20_Rep5': np.True_, 'Animal4_May20_ASR_control_Rep4': np.True_, 'Animal4_May20_gap_depth_Rep5': np.True_, 'Animal4_May20_offset_PPI_4_Rep5': np.True_, 'Animal6_April16_tone_in_noise_Rep1': np.True_, 'Animal6_April16_offset_PPI_4_Rep1': np.True_, 'Animal6_April16_offset_PPI_18_Rep1': np.True_, 'Animal6_April16_gap_depth_Rep1': np.True_, 'Animal6_April16_offset_PPI_10_Rep1': np.True_, 'Animal6_April16_offset_ASR_Rep1': np.False_, 'Animal6_April16_gap_duration_20_Rep1': np.True_, 'Animal6_April16_ASR_control_Rep1': np.True_, 'Animal6_April16_tone_in_noise_Rep2': np.True_, 'Animal6_April16_offset_PPI_6_Rep1': np.True_, 'Animal6_April16_gap_duration_20_Rep2': np.True_, 'Animal6_April16_offset_PPI_8_Rep1': np.True_, 'Animal6_April16_offset_ASR_Rep2': np.False_, 'Animal6_April16_offset_PPI_6_Rep2': np.True_, 'Animal6_April16_offset_PPI_4_Rep2': np.True_, 'Animal6_April16_gap_duration_10_Rep1': np.True_, 'Animal6_April16_offset_PPI_14_Rep1': np.True_, 'Animal6_April16_offset_PPI_20_Rep1': np.True_, 'Animal6_April16_gap_duration_20_Rep3': np.True_, 'Animal6_April16_gap_depth_Rep2': np.True_, 'Animal6_April16_offset_PPI_10_Rep2': np.True_, 'Animal6_April16_offset_PPI_12_Rep1': np.True_, 'Animal6_April16_offset_PPI_20_Rep2': np.True_, 'Animal6_April16_offset_PPI_6_Rep3': np.True_, 'Animal6_April16_offset_PPI_16_Rep1': np.True_, 'Animal6_April16_gap_duration_4_Rep1': np.True_, 'Animal6_April16_gap_duration_8_Rep1': np.True_, 'Animal6_April16_gap_duration_50_Rep1': np.True_, 'Animal6_April16_ASR_control_Rep2': np.True_, 'Animal6_April16_gap_duration_4_Rep2': np.True_, 'Animal6_April16_offset_ASR_Rep3': np.False_, 'Animal6_April16_gap_duration_20_Rep4': np.True_, 'Animal6_April16_offset_ASR_Rep4': np.False_, 'Animal6_April16_ASR_control_Rep3': np.True_, 'Animal6_April16_offset_PPI_50_Rep1': np.True_, 'Animal6_April16_offset_PPI_16_Rep2': np.True_, 'Animal6_April16_gap_depth_Rep3': np.True_, 'Animal6_April16_gap_duration_8_Rep2': np.True_, 'Animal6_April16_gap_duration_10_Rep2': np.True_, 'Animal6_April16_offset_PPI_8_Rep2': np.True_, 'Animal6_April16_gap_duration_20_Rep5': np.True_, 'Animal6_April16_gap_duration_10_Rep3': np.True_, 'Animal6_April16_offset_PPI_12_Rep2': np.True_, 'Animal6_April16_offset_PPI_18_Rep2': np.True_, 'Animal6_April16_offset_PPI_4_Rep3': np.True_, 'Animal6_April16_offset_PPI_18_Rep3': np.True_, 'Animal6_April16_offset_PPI_10_Rep3': np.True_, 'Animal6_April16_offset_PPI_14_Rep2': np.True_, 'Animal6_April16_gap_duration_50_Rep2': np.True_, 'Animal6_April16_ASR_control_Rep4': np.True_, 'Animal6_April16_offset_PPI_16_Rep3': np.True_, 'Animal6_April16_offset_PPI_4_Rep4': np.True_, 'Animal6_April16_gap_duration_10_Rep4': np.True_, 'Animal6_April16_gap_duration_50_Rep3': np.True_, 'Animal6_April16_offset_PPI_4_Rep5': np.True_, 'Animal6_April16_tone_in_noise_Rep3': np.True_, 'Animal6_April16_offset_PPI_50_Rep2': np.True_, 'Animal6_April16_offset_PPI_16_Rep4': np.True_, 'Animal6_April16_gap_duration_50_Rep4': np.True_, 'Animal6_April16_offset_PPI_50_Rep3': np.True_, 'Animal6_April16_offset_PPI_8_Rep3': np.True_, 'Animal6_April16_gap_duration_8_Rep3': np.True_, 'Animal6_April16_offset_PPI_8_Rep4': np.True_, 'Animal6_April16_offset_PPI_20_Rep3': np.True_, 'Animal6_April16_gap_depth_Rep4': np.True_, 'Animal6_April16_offset_PPI_18_Rep4': np.True_, 'Animal6_April16_offset_PPI_10_Rep4': np.True_, 'Animal6_April16_gap_depth_Rep5': np.True_, 'Animal6_April16_ASR_control_Rep5': np.True_, 'Animal6_April16_gap_duration_10_Rep5': np.True_, 'Animal6_April16_offset_PPI_12_Rep3': np.True_, 'Animal6_April16_offset_PPI_14_Rep3': np.True_, 'Animal6_April16_offset_PPI_12_Rep4': np.True_, 'Animal6_April16_offset_PPI_14_Rep4': np.True_, 'Animal6_April16_offset_PPI_6_Rep4': np.True_, 'Animal6_April16_offset_PPI_50_Rep4': np.True_, 'Animal6_April16_offset_PPI_14_Rep5': np.True_, 'Animal6_April16_gap_duration_8_Rep4': np.True_, 'Animal6_April16_offset_PPI_16_Rep5': np.True_, 'Animal6_April16_offset_PPI_12_Rep5': np.True_, 'Animal6_April16_gap_duration_4_Rep3': np.True_, 'Animal6_April16_offset_PPI_20_Rep4': np.True_, 'Animal6_April16_offset_ASR_Rep5': np.False_, 'Animal6_April16_tone_in_noise_Rep4': np.True_, 'Animal6_April16_gap_duration_50_Rep5': np.True_, 'Animal6_April16_gap_duration_4_Rep4': np.True_, 'Animal6_April16_offset_PPI_10_Rep5': np.True_, 'Animal6_April16_offset_PPI_8_Rep5': np.True_, 'Animal6_April16_offset_PPI_18_Rep5': np.True_, 'Animal6_April16_offset_PPI_6_Rep5': np.True_, 'Animal6_June26_offset_PPI_8_Rep1': np.True_, 'Animal6_June26_offset_PPI_4_Rep1': np.True_, 'Animal6_June26_offset_PPI_20_Rep1': np.True_, 'Animal6_June26_offset_PPI_50_Rep1': np.True_, 'Animal6_June26_gap_duration_10_Rep1': np.True_, 'Animal6_June26_gap_duration_4_Rep1': np.True_, 'Animal6_June26_offset_PPI_16_Rep1': np.True_, 'Animal6_June26_offset_PPI_10_Rep1': np.True_, 'Animal6_June26_offset_PPI_14_Rep1': np.True_, 'Animal6_June26_gap_duration_4_Rep2': np.True_, 'Animal6_June26_offset_PPI_12_Rep1': np.True_, 'Animal6_June26_offset_ASR_Rep1': np.False_, 'Animal6_June26_offset_PPI_10_Rep2': np.True_, 'Animal6_June26_offset_PPI_16_Rep2': np.True_, 'Animal6_June26_gap_duration_8_Rep1': np.True_, 'Animal6_June26_offset_PPI_18_Rep1': np.True_, 'Animal6_June26_offset_ASR_Rep2': np.False_, 'Animal6_June26_ASR_control_Rep1': np.True_, 'Animal6_June26_offset_PPI_12_Rep2': np.True_, 'Animal6_June26_offset_PPI_20_Rep2': np.True_, 'Animal6_June26_ASR_control_Rep2': np.True_, 'Animal6_June26_gap_duration_8_Rep2': np.True_, 'Animal6_June26_offset_PPI_18_Rep2': np.True_, 'Animal6_June26_offset_PPI_4_Rep2': np.True_, 'Animal6_June26_offset_PPI_6_Rep1': np.True_, 'Animal6_June26_offset_PPI_20_Rep3': np.True_, 'Animal6_June26_gap_depth_Rep1': np.True_, 'Animal6_June26_tone_in_noise_Rep1': np.True_, 'Animal6_June26_offset_PPI_50_Rep2': np.True_, 'Animal6_June26_offset_PPI_18_Rep3': np.True_, 'Animal6_June26_gap_duration_20_Rep1': np.True_, 'Animal6_June26_offset_PPI_8_Rep2': np.True_, 'Animal6_June26_offset_PPI_6_Rep2': np.True_, 'Animal6_June26_tone_in_noise_Rep2': np.True_, 'Animal6_June26_ASR_control_Rep3': np.True_, 'Animal6_June26_offset_PPI_14_Rep2': np.True_, 'Animal6_June26_offset_PPI_10_Rep3': np.True_, 'Animal6_June26_gap_duration_10_Rep2': np.True_, 'Animal6_June26_gap_depth_Rep2': np.True_, 'Animal6_June26_offset_PPI_16_Rep3': np.True_, 'Animal6_June26_offset_PPI_18_Rep4': np.True_, 'Animal6_June26_offset_PPI_16_Rep4': np.True_, 'Animal6_June26_offset_PPI_50_Rep3': np.True_, 'Animal6_June26_gap_duration_50_Rep1': np.True_, 'Animal6_June26_offset_PPI_12_Rep3': np.True_, 'Animal6_June26_offset_PPI_4_Rep3': np.True_, 'Animal6_June26_offset_PPI_12_Rep4': np.True_, 'Animal6_June26_offset_PPI_10_Rep4': np.True_, 'Animal6_June26_offset_PPI_8_Rep3': np.True_, 'Animal6_June26_gap_depth_Rep3': np.True_, 'Animal6_June26_offset_PPI_10_Rep5': np.True_, 'Animal6_June26_offset_PPI_14_Rep3': np.True_, 'Animal6_June26_gap_duration_8_Rep3': np.True_, 'Animal6_June26_gap_duration_50_Rep2': np.True_, 'Animal6_June26_gap_duration_8_Rep4': np.True_, 'Animal6_June26_gap_duration_50_Rep3': np.True_, 'Animal6_June26_offset_PPI_6_Rep3': np.True_, 'Animal6_June26_ASR_control_Rep4': np.True_, 'Animal6_June26_offset_PPI_14_Rep4': np.True_, 'Animal6_June26_offset_PPI_50_Rep4': np.True_, 'Animal6_June26_gap_depth_Rep4': np.True_, 'Animal6_June26_offset_PPI_50_Rep5': np.True_, 'Animal6_June26_gap_duration_20_Rep2': np.True_, 'Animal6_June26_offset_ASR_Rep3': np.False_, 'Animal6_June26_gap_duration_10_Rep3': np.True_, 'Animal6_June26_gap_duration_8_Rep5': np.True_, 'Animal6_June26_offset_PPI_20_Rep4': np.True_, 'Animal6_June26_gap_duration_10_Rep4': np.True_, 'Animal6_June26_gap_duration_50_Rep4': np.True_, 'Animal6_June26_offset_PPI_8_Rep4': np.True_, 'Animal6_June26_offset_PPI_14_Rep5': np.True_, 'Animal6_June26_gap_duration_20_Rep3': np.True_, 'Animal6_June26_offset_PPI_6_Rep4': np.True_, 'Animal6_June26_offset_PPI_20_Rep5': np.True_, 'Animal6_June26_gap_duration_4_Rep3': np.True_, 'Animal6_June26_gap_duration_20_Rep4': np.True_, 'Animal6_June26_gap_depth_Rep5': np.True_, 'Animal6_June26_gap_duration_4_Rep4': np.True_, 'Animal6_June26_tone_in_noise_Rep3': np.True_, 'Animal6_June26_gap_duration_50_Rep5': np.True_, 'Animal6_June26_offset_ASR_Rep4': np.False_, 'Animal6_June26_offset_PPI_8_Rep5': np.True_, 'Animal6_June26_tone_in_noise_Rep4': np.True_, 'Animal6_June26_gap_duration_20_Rep5': np.True_, 'Animal6_June26_gap_duration_10_Rep5': np.True_, 'Animal6_June26_offset_PPI_6_Rep5': np.True_, 'Animal6_June26_offset_PPI_4_Rep4': np.True_, 'Animal6_June26_offset_PPI_12_Rep5': np.True_, 'Animal6_June26_gap_duration_4_Rep5': np.True_, 'Animal6_June26_offset_PPI_18_Rep5': np.True_, 'Animal6_June26_offset_ASR_Rep5': np.False_, 'Animal6_June26_tone_in_noise_Rep5': np.True_, 'Animal6_June26_ASR_control_Rep5': np.True_, 'Animal6_June26_offset_PPI_16_Rep5': np.True_, 'Animal6_May20_gap_duration_50_Rep1': np.True_, 'Animal6_May20_offset_PPI_16_Rep1': np.True_, 'Animal6_May20_gap_depth_Rep1': np.True_, 'Animal6_May20_gap_duration_20_Rep1': np.True_, 'Animal6_May20_offset_PPI_6_Rep1': np.True_, 'Animal6_May20_gap_duration_20_Rep2': np.True_, 'Animal6_May20_gap_duration_8_Rep1': np.True_, 'Animal6_May20_offset_PPI_50_Rep1': np.True_, 'Animal6_May20_offset_PPI_4_Rep1': np.True_, 'Animal6_May20_offset_PPI_20_Rep1': np.True_, 'Animal6_May20_gap_duration_20_Rep3': np.True_, 'Animal6_May20_offset_PPI_14_Rep1': np.True_, 'Animal6_May20_gap_duration_20_Rep4': np.True_, 'Animal6_May20_gap_duration_4_Rep1': np.True_, 'Animal6_May20_offset_PPI_4_Rep2': np.True_, 'Animal6_May20_offset_PPI_12_Rep1': np.True_, 'Animal6_May20_tone_in_noise_Rep1': np.True_, 'Animal6_May20_offset_PPI_8_Rep1': np.True_, 'Animal6_May20_offset_PPI_6_Rep2': np.True_, 'Animal6_May20_offset_ASR_Rep1': np.False_, 'Animal6_May20_gap_duration_8_Rep2': np.True_, 'Animal6_May20_offset_PPI_16_Rep2': np.True_, 'Animal6_May20_gap_depth_Rep2': np.True_, 'Animal6_May20_offset_PPI_8_Rep2': np.True_, 'Animal6_May20_offset_PPI_50_Rep2': np.True_, 'Animal6_May20_offset_PPI_18_Rep1': np.True_, 'Animal6_May20_offset_ASR_Rep2': np.False_, 'Animal6_May20_offset_PPI_8_Rep3': np.True_, 'Animal6_May20_gap_duration_8_Rep3': np.True_, 'Animal6_May20_gap_duration_10_Rep1': np.True_, 'Animal6_May20_gap_duration_8_Rep4': np.True_, 'Animal6_May20_offset_PPI_20_Rep2': np.True_, 'Animal6_May20_gap_depth_Rep3': np.True_, 'Animal6_May20_offset_PPI_12_Rep2': np.True_, 'Animal6_May20_gap_duration_10_Rep2': np.True_, 'Animal6_May20_offset_ASR_Rep3': np.False_, 'Animal6_May20_gap_duration_4_Rep2': np.True_, 'Animal6_May20_gap_duration_10_Rep3': np.True_, 'Animal6_May20_offset_PPI_20_Rep3': np.True_, 'Animal6_May20_offset_PPI_18_Rep2': np.True_, 'Animal6_May20_offset_PPI_8_Rep4': np.True_, 'Animal6_May20_gap_duration_10_Rep4': np.True_, 'Animal6_May20_offset_PPI_14_Rep2': np.True_, 'Animal6_May20_offset_PPI_4_Rep3': np.True_, 'Animal6_May20_gap_duration_50_Rep2': np.True_, 'Animal6_May20_offset_PPI_14_Rep3': np.True_, 'Animal6_May20_gap_duration_50_Rep3': np.True_, 'Animal6_May20_gap_duration_20_Rep5': np.True_, 'Animal6_May20_offset_ASR_Rep4': np.False_, 'Animal6_May20_offset_PPI_14_Rep4': np.True_, 'Animal6_May20_gap_depth_Rep4': np.True_, 'Animal6_May20_offset_PPI_10_Rep1': np.True_, 'Animal6_May20_gap_duration_50_Rep4': np.True_, 'Animal6_May20_offset_PPI_4_Rep4': np.True_, 'Animal6_May20_offset_PPI_16_Rep3': np.True_, 'Animal6_May20_offset_PPI_50_Rep3': np.True_, 'Animal6_May20_offset_PPI_6_Rep3': np.True_, 'Animal6_May20_offset_PPI_14_Rep5': np.True_, 'Animal6_May20_offset_ASR_Rep5': np.False_, 'Animal6_May20_offset_PPI_12_Rep3': np.True_, 'Animal6_May20_gap_duration_4_Rep3': np.True_, 'Animal6_May20_offset_PPI_16_Rep4': np.True_, 'Animal6_May20_ASR_control_Rep1': np.True_, 'Animal6_May20_offset_PPI_10_Rep2': np.True_, 'Animal6_May20_gap_duration_10_Rep5': np.True_, 'Animal6_May20_offset_PPI_4_Rep5': np.True_, 'Animal6_May20_gap_duration_4_Rep4': np.True_, 'Animal6_May20_gap_depth_Rep5': np.True_, 'Animal6_May20_offset_PPI_10_Rep3': np.True_, 'Animal6_May20_tone_in_noise_Rep2': np.True_, 'Animal6_May20_ASR_control_Rep2': np.True_, 'Animal6_May20_offset_PPI_10_Rep4': np.True_, 'Animal6_May20_gap_duration_50_Rep5': np.True_, 'Animal6_May20_offset_PPI_6_Rep4': np.True_, 'Animal6_May20_tone_in_noise_Rep3': np.True_, 'Animal6_May20_offset_PPI_10_Rep5': np.True_, 'Animal6_May20_offset_PPI_50_Rep4': np.True_, 'Animal6_May20_offset_PPI_12_Rep4': np.True_, 'Animal6_May20_tone_in_noise_Rep4': np.True_, 'Animal6_May20_offset_PPI_20_Rep4': np.True_, 'Animal6_May20_gap_duration_4_Rep5': np.True_, 'Animal6_May20_offset_PPI_16_Rep5': np.True_, 'Animal6_May20_ASR_control_Rep3': np.True_, 'Animal6_May20_tone_in_noise_Rep5': np.True_, 'Animal6_May20_gap_duration_8_Rep5': np.True_, 'Animal6_May20_offset_PPI_18_Rep3': np.True_, 'Animal6_May20_ASR_control_Rep4': np.True_, 'Animal6_May20_offset_PPI_8_Rep5': np.True_, 'Animal6_May20_ASR_control_Rep5': np.True_, 'Animal6_May20_offset_PPI_12_Rep5': np.True_}\n"
     ]
    }
   ],
   "source": [
    "signal_results = {}\n",
    "\n",
    "for key, df in adjusted_segments.items():\n",
    "    animal = key.split('_')[0]\n",
    "    noise = animal_noise.get(animal)\n",
    "\n",
    "    # Set post-startle window\n",
    "    mask = (df.iloc[:, 0] >= 0) & (df.iloc[:, 0] <= detection_offset)\n",
    "    window = df.loc[mask].iloc[:, 1]\n",
    "\n",
    "    # Threshold detection\n",
    "    detected = not window.empty and window.max() > detection_threshold * noise\n",
    "    signal_results[key] = detected\n",
    "\n",
    "if verbose: print(signal_results)"
   ]
  },
  {
   "cell_type": "code",
   "execution_count": 60,
   "id": "afa2a6b3",
   "metadata": {
    "execution": {
     "iopub.execute_input": "2025-10-06T15:25:44.706571Z",
     "iopub.status.busy": "2025-10-06T15:25:44.706306Z",
     "iopub.status.idle": "2025-10-06T15:25:44.710895Z",
     "shell.execute_reply": "2025-10-06T15:25:44.710494Z"
    },
    "papermill": {
     "duration": 0.010247,
     "end_time": "2025-10-06T15:25:44.711499",
     "exception": false,
     "start_time": "2025-10-06T15:25:44.701252",
     "status": "completed"
    },
    "tags": []
   },
   "outputs": [
    {
     "name": "stdout",
     "output_type": "stream",
     "text": [
      "{'Animal2': 0.95, 'Animal10': 0.94, 'Animal6': 0.95, 'Animal15': 0.89, 'Animal4': 0.94, 'Animal1': 0.93}\n"
     ]
    }
   ],
   "source": [
    "animal_hits = {}\n",
    "animal_misses = {}\n",
    "\n",
    "for key, detected in signal_results.items():\n",
    "    animal = key.split('_')[0]\n",
    "    if detected:\n",
    "        animal_hits[animal] = animal_hits.get(animal, 0) + 1\n",
    "    else:\n",
    "        animal_misses[animal] = animal_misses.get(animal, 0) + 1\n",
    "\n",
    "animal_hit_rate = {}\n",
    "for animal in animal_hits.keys() | animal_misses.keys():\n",
    "    hits = animal_hits.get(animal, 0)\n",
    "    misses = animal_misses.get(animal, 0)\n",
    "    total = hits + misses\n",
    "    animal_hit_rate[animal] = round(hits / total, 2) if total > 0 else None\n",
    "\n",
    "if verbose: print(animal_hit_rate)"
   ]
  },
  {
   "cell_type": "code",
   "execution_count": 61,
   "id": "07d06546",
   "metadata": {
    "execution": {
     "iopub.execute_input": "2025-10-06T15:25:44.721604Z",
     "iopub.status.busy": "2025-10-06T15:25:44.721322Z",
     "iopub.status.idle": "2025-10-06T15:25:44.725993Z",
     "shell.execute_reply": "2025-10-06T15:25:44.725651Z"
    },
    "papermill": {
     "duration": 0.010572,
     "end_time": "2025-10-06T15:25:44.726607",
     "exception": false,
     "start_time": "2025-10-06T15:25:44.716035",
     "status": "completed"
    },
    "tags": []
   },
   "outputs": [
    {
     "name": "stdout",
     "output_type": "stream",
     "text": [
      "Excluded count per experiment (did not meet threshold):\n",
      "offset_ASR: 90\n",
      "offset_PPI_12: 4\n",
      "offset_PPI_10: 4\n",
      "offset_PPI_16: 1\n",
      "offset_PPI_18: 4\n",
      "tone_in_noise: 2\n",
      "offset_PPI_8: 3\n",
      "gap_duration_8: 1\n",
      "gap_duration_4: 1\n",
      "gap_duration_20: 2\n",
      "offset_PPI_6: 1\n"
     ]
    }
   ],
   "source": [
    "\"\"\" discard_peakless = False\n",
    "output = False \"\"\"\n",
    "\n",
    "if discard_peakless:\n",
    "    excluded_counts = {}\n",
    "    for k, df in adjusted_segments.items():\n",
    "        if not signal_results.get(k, False):\n",
    "            parts = k.split('_')\n",
    "            experiment_parts = []\n",
    "            for p in parts[2:]:\n",
    "                if p.startswith(\"Rep\"):\n",
    "                    break\n",
    "                experiment_parts.append(p)\n",
    "            experiment = \"_\".join(experiment_parts)\n",
    "            excluded_counts[experiment] = excluded_counts.get(experiment, 0) + 1\n",
    "\n",
    "    if verbose:\n",
    "        print(\"Excluded count per experiment (did not meet threshold):\")\n",
    "        for experiment, count in excluded_counts.items():\n",
    "            print(f\"{experiment}: {count}\")\n",
    "\n",
    "    # Discard entries without peaks\n",
    "    data = {k: v for k, v in adjusted_segments.items() if signal_results.get(k, False)}\n",
    "else:\n",
    "    data = adjusted_segments\n",
    "# ...existing code..."
   ]
  },
  {
   "cell_type": "markdown",
   "id": "584fdba5",
   "metadata": {
    "papermill": {
     "duration": null,
     "end_time": null,
     "exception": null,
     "start_time": null,
     "status": "completed"
    },
    "tags": []
   },
   "source": [
    "## Analysis"
   ]
  },
  {
   "cell_type": "code",
   "execution_count": 62,
   "id": "42124a30",
   "metadata": {
    "execution": {
     "iopub.execute_input": "2025-10-06T15:18:10.238841Z",
     "iopub.status.busy": "2025-10-06T15:18:10.238598Z",
     "iopub.status.idle": "2025-10-06T15:18:35.450147Z",
     "shell.execute_reply": "2025-10-06T15:18:35.449717Z"
    },
    "papermill": {
     "duration": null,
     "end_time": null,
     "exception": null,
     "start_time": null,
     "status": "completed"
    },
    "tags": []
   },
   "outputs": [
    {
     "name": "stderr",
     "output_type": "stream",
     "text": [
      "c:\\Users\\Galahad\\AppData\\Local\\Programs\\Python\\Python313\\Lib\\site-packages\\pandas\\core\\arraylike.py:399: RuntimeWarning: overflow encountered in exp\n",
      "  result = getattr(ufunc, method)(*inputs, **kwargs)\n",
      "c:\\Users\\Galahad\\AppData\\Local\\Programs\\Python\\Python313\\Lib\\site-packages\\pandas\\core\\arraylike.py:399: RuntimeWarning: overflow encountered in exp\n",
      "  result = getattr(ufunc, method)(*inputs, **kwargs)\n",
      "c:\\Users\\Galahad\\AppData\\Local\\Programs\\Python\\Python313\\Lib\\site-packages\\pandas\\core\\arraylike.py:399: RuntimeWarning: overflow encountered in exp\n",
      "  result = getattr(ufunc, method)(*inputs, **kwargs)\n",
      "c:\\Users\\Galahad\\AppData\\Local\\Programs\\Python\\Python313\\Lib\\site-packages\\pandas\\core\\arraylike.py:399: RuntimeWarning: overflow encountered in exp\n",
      "  result = getattr(ufunc, method)(*inputs, **kwargs)\n",
      "c:\\Users\\Galahad\\AppData\\Local\\Programs\\Python\\Python313\\Lib\\site-packages\\pandas\\core\\arraylike.py:399: RuntimeWarning: overflow encountered in exp\n",
      "  result = getattr(ufunc, method)(*inputs, **kwargs)\n",
      "c:\\Users\\Galahad\\AppData\\Local\\Programs\\Python\\Python313\\Lib\\site-packages\\pandas\\core\\arraylike.py:399: RuntimeWarning: overflow encountered in exp\n",
      "  result = getattr(ufunc, method)(*inputs, **kwargs)\n",
      "c:\\Users\\Galahad\\AppData\\Local\\Programs\\Python\\Python313\\Lib\\site-packages\\pandas\\core\\arraylike.py:399: RuntimeWarning: overflow encountered in exp\n",
      "  result = getattr(ufunc, method)(*inputs, **kwargs)\n",
      "c:\\Users\\Galahad\\AppData\\Local\\Programs\\Python\\Python313\\Lib\\site-packages\\pandas\\core\\arraylike.py:399: RuntimeWarning: overflow encountered in exp\n",
      "  result = getattr(ufunc, method)(*inputs, **kwargs)\n",
      "c:\\Users\\Galahad\\AppData\\Local\\Programs\\Python\\Python313\\Lib\\site-packages\\pandas\\core\\arraylike.py:399: RuntimeWarning: overflow encountered in exp\n",
      "  result = getattr(ufunc, method)(*inputs, **kwargs)\n",
      "c:\\Users\\Galahad\\AppData\\Local\\Programs\\Python\\Python313\\Lib\\site-packages\\pandas\\core\\arraylike.py:399: RuntimeWarning: overflow encountered in exp\n",
      "  result = getattr(ufunc, method)(*inputs, **kwargs)\n",
      "c:\\Users\\Galahad\\AppData\\Local\\Programs\\Python\\Python313\\Lib\\site-packages\\pandas\\core\\arraylike.py:399: RuntimeWarning: overflow encountered in exp\n",
      "  result = getattr(ufunc, method)(*inputs, **kwargs)\n",
      "c:\\Users\\Galahad\\AppData\\Local\\Programs\\Python\\Python313\\Lib\\site-packages\\pandas\\core\\arraylike.py:399: RuntimeWarning: overflow encountered in exp\n",
      "  result = getattr(ufunc, method)(*inputs, **kwargs)\n",
      "c:\\Users\\Galahad\\AppData\\Local\\Programs\\Python\\Python313\\Lib\\site-packages\\pandas\\core\\arraylike.py:399: RuntimeWarning: overflow encountered in exp\n",
      "  result = getattr(ufunc, method)(*inputs, **kwargs)\n",
      "c:\\Users\\Galahad\\AppData\\Local\\Programs\\Python\\Python313\\Lib\\site-packages\\pandas\\core\\arraylike.py:399: RuntimeWarning: overflow encountered in exp\n",
      "  result = getattr(ufunc, method)(*inputs, **kwargs)\n",
      "c:\\Users\\Galahad\\AppData\\Local\\Programs\\Python\\Python313\\Lib\\site-packages\\pandas\\core\\arraylike.py:399: RuntimeWarning: overflow encountered in exp\n",
      "  result = getattr(ufunc, method)(*inputs, **kwargs)\n",
      "c:\\Users\\Galahad\\AppData\\Local\\Programs\\Python\\Python313\\Lib\\site-packages\\pandas\\core\\arraylike.py:399: RuntimeWarning: overflow encountered in exp\n",
      "  result = getattr(ufunc, method)(*inputs, **kwargs)\n",
      "c:\\Users\\Galahad\\AppData\\Local\\Programs\\Python\\Python313\\Lib\\site-packages\\pandas\\core\\arraylike.py:399: RuntimeWarning: overflow encountered in exp\n",
      "  result = getattr(ufunc, method)(*inputs, **kwargs)\n",
      "c:\\Users\\Galahad\\AppData\\Local\\Programs\\Python\\Python313\\Lib\\site-packages\\pandas\\core\\arraylike.py:399: RuntimeWarning: overflow encountered in exp\n",
      "  result = getattr(ufunc, method)(*inputs, **kwargs)\n"
     ]
    },
    {
     "name": "stdout",
     "output_type": "stream",
     "text": [
      "Created reaction data for 1532 segments.\n"
     ]
    }
   ],
   "source": [
    "def exp_decay(t, A, tau, C):\n",
    "    return A * np.exp(-t / tau) + C\n",
    "\n",
    "main_reaction = {}\n",
    "\n",
    "for entry in data:\n",
    "    times = data[entry][0]\n",
    "    values = data[entry][1]\n",
    "\n",
    "    # Fixed window for all metrics except peakTime/peakValue\n",
    "    time_window_mask = (times >= 0) & (times <= RMS_window)\n",
    "    values_in_window = values[time_window_mask]\n",
    "    times_in_window = times[time_window_mask]\n",
    "\n",
    "    # Only consider peaks within 0-100ms after startle for peakTime and peakValue\n",
    "    peak_window_mask = (times >= 0) & (times <= peak_window)\n",
    "    values_peak_window = values[peak_window_mask]\n",
    "    times_peak_window = times[peak_window_mask]\n",
    "\n",
    "    indices_above_threshold = np.where((values > animal_thresholds[entry.split(\"_\")[0]]) & (times > 0))[0]\n",
    "\n",
    "    if len(indices_above_threshold) > 0:\n",
    "        peak_start = times[indices_above_threshold[0]]\n",
    "\n",
    "        # Find peak only in 0-100ms window\n",
    "        if len(values_peak_window) > 0:\n",
    "            max_index_in_peak_window = np.argmax(values_peak_window)\n",
    "            max_value = values_peak_window.iloc[max_index_in_peak_window]\n",
    "            max_time = times_peak_window.iloc[max_index_in_peak_window]\n",
    "        else:\n",
    "            max_value = np.nan\n",
    "            max_time = np.nan\n",
    "\n",
    "        buildup = max_time - peak_start if not np.isnan(max_time) else np.nan\n",
    "        rms_value = np.sqrt(np.mean(np.square(values_in_window)))\n",
    "\n",
    "        # --- POST-PEAK decay analysis (limit to 500 ms) ---\n",
    "        decay_mask = (times > max_time) & (times <= max_time + decay_fit_window)\n",
    "        times_decay = times[decay_mask] - max_time\n",
    "        values_decay = values[decay_mask]\n",
    "\n",
    "        tau = np.nan\n",
    "        auc = np.nan\n",
    "        peak_decay_tau = np.nan\n",
    "        peak_decay_auc = np.nan\n",
    "\n",
    "        if len(times_decay) > 5:\n",
    "            try:\n",
    "                p0 = [max_value, 100, np.min(values_decay)]\n",
    "                params, _ = curve_fit(exp_decay, times_decay, values_decay, p0=p0, maxfev=10000)\n",
    "                A, tau, C = params\n",
    "\n",
    "                fitted_curve = exp_decay(times_decay, A, tau, C)\n",
    "                auc = simpson(fitted_curve, x=times_decay)\n",
    "\n",
    "                # --- PEAK DECAY analysis (limit to 500 ms) ---\n",
    "                peak_mask = (values_decay > fitted_curve)\n",
    "                if np.sum(peak_mask) > 5:\n",
    "                    times_peak_decay = times_decay[peak_mask]\n",
    "                    values_peak_decay = values_decay[peak_mask]\n",
    "                    # Limit peak decay fit to max 500 ms after peak (already limited by times_decay)\n",
    "                    peak_decay_limit_mask = times_peak_decay <= decay_fit_window\n",
    "                    times_peak_decay = times_peak_decay[peak_decay_limit_mask]\n",
    "                    values_peak_decay = values_peak_decay[peak_decay_limit_mask]\n",
    "                    try:\n",
    "                        p0_peak = [np.max(values_peak_decay), 100, np.min(values_peak_decay)]\n",
    "                        params_peak, _ = curve_fit(exp_decay, times_peak_decay, values_peak_decay, p0=p0_peak, maxfev=10000)\n",
    "                        A_peak, tau_peak, C_peak = params_peak\n",
    "                        fitted_peak_curve = exp_decay(times_peak_decay, A_peak, tau_peak, C_peak)\n",
    "                        peak_decay_auc = simpson(fitted_peak_curve, x=times_peak_decay)\n",
    "                        peak_decay_tau = tau_peak\n",
    "                    except Exception as e:\n",
    "                        if verbose:\n",
    "                            print(f\"Peak decay fit failed for {entry}: {e}\")\n",
    "            except Exception as e:\n",
    "                if verbose:\n",
    "                    print(f\"Decay fit failed for {entry}: {e}\")\n",
    "\n",
    "        # Save result\n",
    "        main_reaction[entry] = {\n",
    "            \"reactionTime\": [int(peak_start)],\n",
    "            \"peakTime\": [int(max_time) if not np.isnan(max_time) else None],\n",
    "            \"difference\": [int(buildup) if not np.isnan(buildup) else None],\n",
    "            \"peakValue\": [int(max_value) if not np.isnan(max_value) else None],\n",
    "            \"RMS\": [round(float(rms_value), 2)],\n",
    "            \"decayTau\": [round(float(tau), 2)],\n",
    "            \"decayAUC\": [round(float(auc), 2)],\n",
    "            \"peakDecayTau\": [round(float(peak_decay_tau), 2)],\n",
    "            \"peakDecayAUC\": [round(float(peak_decay_auc), 2)]\n",
    "        }\n",
    "\n",
    "    else:\n",
    "        if discard_peakless:\n",
    "            raise ValueError(f\"No peak found for {entry}, something went really really wrong.\")\n",
    "\n",
    "if verbose: print(f\"Created reaction data for {len(main_reaction)} segments.\")\n",
    "# ...existing code..."
   ]
  },
  {
   "cell_type": "code",
   "execution_count": 63,
   "id": "73c88e12",
   "metadata": {
    "execution": {
     "iopub.execute_input": "2025-10-06T15:18:35.462397Z",
     "iopub.status.busy": "2025-10-06T15:18:35.462146Z",
     "iopub.status.idle": "2025-10-06T15:18:35.755135Z",
     "shell.execute_reply": "2025-10-06T15:18:35.754710Z"
    },
    "papermill": {
     "duration": null,
     "end_time": null,
     "exception": null,
     "start_time": null,
     "status": "completed"
    },
    "tags": []
   },
   "outputs": [],
   "source": [
    "# peak to peak amplitude\n",
    "for entry in data:\n",
    "    times = data[entry][0]\n",
    "    values = data[entry][1]\n",
    "\n",
    "    # Peak-to-peak amplitude within 0-50ms after startle\n",
    "    ptp_mask = (times >= 0) & (times <= PTPA_window)\n",
    "    values_ptp_window = values[ptp_mask]\n",
    "    if len(values_ptp_window) > 0:\n",
    "        ptp_amplitude = float(np.max(values_ptp_window) - np.min(values_ptp_window))\n",
    "    else:\n",
    "        ptp_amplitude = None\n",
    "\n",
    "    # ...existing analysis code...\n",
    "\n",
    "    # After main_reaction[entry] is created, append peak-to-peak amplitude:\n",
    "    if entry in main_reaction:\n",
    "        main_reaction[entry][\"PTPA\"] = [ptp_amplitude]\n",
    "# ...existing code..."
   ]
  },
  {
   "cell_type": "code",
   "execution_count": 64,
   "id": "9f03c18a",
   "metadata": {
    "execution": {
     "iopub.execute_input": "2025-10-06T15:18:35.767704Z",
     "iopub.status.busy": "2025-10-06T15:18:35.767424Z",
     "iopub.status.idle": "2025-10-06T15:18:36.700143Z",
     "shell.execute_reply": "2025-10-06T15:18:36.699666Z"
    },
    "papermill": {
     "duration": null,
     "end_time": null,
     "exception": null,
     "start_time": null,
     "status": "completed"
    },
    "tags": []
   },
   "outputs": [],
   "source": [
    "# ...existing code...\n",
    "for entry in data:\n",
    "    times = data[entry][0]\n",
    "    values = data[entry][1]\n",
    "\n",
    "    # Find peak-to-trough amplitude within 0-200ms after startle\n",
    "    asr_window_mask = (times >= 0) & (times <= PTTA_window)\n",
    "    values_asr_window = values[asr_window_mask].reset_index(drop=True)  # Ensure integer indexing\n",
    "    times_asr_window = times[asr_window_mask].reset_index(drop=True)\n",
    "\n",
    "    asr_amplitude = None\n",
    "    if len(values_asr_window) > 1:\n",
    "        from scipy.signal import find_peaks\n",
    "\n",
    "        peaks, _ = find_peaks(values_asr_window)\n",
    "        troughs, _ = find_peaks(-values_asr_window)\n",
    "\n",
    "        max_ptt = None\n",
    "        for peak_idx in peaks:\n",
    "            # Find all troughs after this peak\n",
    "            troughs_after = troughs[troughs > peak_idx]\n",
    "            if len(troughs_after) > 0:\n",
    "                trough_idx = troughs_after[0]\n",
    "                amplitude = values_asr_window.iloc[peak_idx] - values_asr_window.iloc[trough_idx]\n",
    "                if (max_ptt is None) or (amplitude > max_ptt):\n",
    "                    max_ptt = amplitude\n",
    "        asr_amplitude = float(max_ptt) if max_ptt is not None else None\n",
    "\n",
    "    # ...existing analysis code...\n",
    "\n",
    "    # After main_reaction[entry] is created, append ASR amplitude:\n",
    "    if entry in main_reaction:\n",
    "        main_reaction[entry][\"PTTA\"] = [asr_amplitude]\n",
    "# ...existing code..."
   ]
  },
  {
   "cell_type": "code",
   "execution_count": 65,
   "id": "62dd704c",
   "metadata": {
    "execution": {
     "iopub.execute_input": "2025-10-06T15:18:36.712477Z",
     "iopub.status.busy": "2025-10-06T15:18:36.712244Z",
     "iopub.status.idle": "2025-10-06T15:18:36.716165Z",
     "shell.execute_reply": "2025-10-06T15:18:36.715668Z"
    },
    "papermill": {
     "duration": null,
     "end_time": null,
     "exception": null,
     "start_time": null,
     "status": "completed"
    },
    "tags": []
   },
   "outputs": [],
   "source": [
    "top_10_reaction = {}\n",
    "minus_top_10_reaction = {}\n",
    "\n",
    "for key in top_10_keys:\n",
    "    if key in main_reaction: top_10_reaction[key] = main_reaction[key]\n",
    "for key in minus_top_10_keys:\n",
    "    if key in main_reaction: minus_top_10_reaction[key] = main_reaction[key]"
   ]
  },
  {
   "cell_type": "markdown",
   "id": "bd3cbc07",
   "metadata": {
    "papermill": {
     "duration": null,
     "end_time": null,
     "exception": null,
     "start_time": null,
     "status": "completed"
    },
    "tags": []
   },
   "source": [
    "## Saving"
   ]
  },
  {
   "cell_type": "code",
   "execution_count": 66,
   "id": "0fbc56ec",
   "metadata": {
    "execution": {
     "iopub.execute_input": "2025-10-06T15:18:36.737217Z",
     "iopub.status.busy": "2025-10-06T15:18:36.736981Z",
     "iopub.status.idle": "2025-10-06T15:18:37.018504Z",
     "shell.execute_reply": "2025-10-06T15:18:37.018087Z"
    },
    "papermill": {
     "duration": null,
     "end_time": null,
     "exception": null,
     "start_time": null,
     "status": "completed"
    },
    "tags": []
   },
   "outputs": [],
   "source": [
    "# ...existing code...\n",
    "def build_intermediate(reaction_dict):\n",
    "    intermediate = defaultdict(lambda: {k: [] for k in [\n",
    "        \"animal\", \"sex\", \"date\", \"reactionTime\", \"peakTime\", \"difference\", \"peakValue\", \"PTPA\", \"PTTA\", \"RMS\",\n",
    "        \"decayTau\", \"decayAUC\", \"peakDecayTau\", \"peakDecayAUC\"\n",
    "    ]})\n",
    "    for entry, values in reaction_dict.items():\n",
    "        parts = entry.split(\"_\")\n",
    "        animal, date = parts[0], parts[1]\n",
    "        sex = sex_dict[animal.replace(\"Animal\", \"\")]\n",
    "        experiment = \"_\".join([p for p in parts[2:] if not p.lower().startswith(\"rep\")])\n",
    "        key = f\"{animal}_{date}_{experiment}\"\n",
    "        intermediate[key][\"animal\"] = animal\n",
    "        intermediate[key][\"sex\"] = sex\n",
    "        intermediate[key][\"date\"] = date\n",
    "        for k in intermediate[key]:\n",
    "            if k in values:\n",
    "                intermediate[key][k].extend(values[k] if isinstance(values[k], list) else [values[k]])\n",
    "    return intermediate\n",
    "# ...existing code...\n",
    "\n",
    "intermediate_main = build_intermediate(main_reaction)\n",
    "intermediate_top_10 = build_intermediate(top_10_reaction)\n",
    "intermediate_minus_top_10 = build_intermediate(minus_top_10_reaction)\n",
    "\n",
    "# ...existing code...\n",
    "\n",
    "# Overview only for main\n",
    "overview = [\n",
    "    {\n",
    "        \"animal\": key.split(\"_\")[0],\n",
    "        \"sex\": sex_dict[key.split(\"_\")[0].replace(\"Animal\", \"\")],\n",
    "        \"experiment\": \"_\".join(key.split(\"_\")[2:]),\n",
    "        **{\n",
    "            k: round(\n",
    "                np.mean([\n",
    "                    v for key2, metrics in intermediate_main.items()\n",
    "                    if key2.split(\"_\")[0] == key.split(\"_\")[0]\n",
    "                    and \"_\".join(key2.split(\"_\")[2:]) == \"_\".join(key.split(\"_\")[2:])\n",
    "                    and sex_dict[key2.split(\"_\")[0].replace(\"Animal\", \"\")] == sex_dict[key.split(\"_\")[0].replace(\"Animal\", \"\")]\n",
    "                    for v in metrics[k] if v is not None\n",
    "                ]), 2\n",
    "            ) if any(v is not None for key2, metrics in intermediate_main.items()\n",
    "                    if key2.split(\"_\")[0] == key.split(\"_\")[0]\n",
    "                    and \"_\".join(key2.split(\"_\")[2:]) == \"_\".join(key.split(\"_\")[2:])\n",
    "                    and sex_dict[key2.split(\"_\")[0].replace(\"Animal\", \"\")] == sex_dict[key.split(\"_\")[0].replace(\"Animal\", \"\")]\n",
    "                    for v in metrics[k]) else np.nan\n",
    "            for k in metrics if k not in [\"animal\", \"sex\", \"date\"]\n",
    "        }\n",
    "    }\n",
    "    for key, metrics in intermediate_main.items()\n",
    "    if key.split(\"_\")[1] == min([\n",
    "        k.split(\"_\")[1] for k in intermediate_main\n",
    "        if k.split(\"_\")[0] == key.split(\"_\")[0] and \"_\".join(k.split(\"_\")[2:]) == \"_\".join(key.split(\"_\")[2:])\n",
    "    ])\n",
    "]\n",
    "\n",
    "# ...existing code...\n",
    "\n",
    "# Results for each dataset\n",
    "def build_results(intermediate):\n",
    "    return [\n",
    "        {\n",
    "            \"animal\": key.split(\"_\")[0],\n",
    "            \"sex\": sex_dict[key.split(\"_\")[0].replace(\"Animal\", \"\")],\n",
    "            \"date\": key.split(\"_\")[1],\n",
    "            \"experiment\": \"_\".join(key.split(\"_\")[2:]),\n",
    "            **{k: metrics[k] for k in metrics if k not in [\"animal\", \"sex\", \"date\"]}\n",
    "        }\n",
    "        for key, metrics in intermediate.items()\n",
    "    ]\n",
    "\n",
    "results = build_results(intermediate_main)\n",
    "results_top_10 = build_results(intermediate_top_10)\n",
    "results_minus_top_10 = build_results(intermediate_minus_top_10)\n",
    "# ...existing code..."
   ]
  },
  {
   "cell_type": "code",
   "execution_count": 67,
   "id": "210fbd6b",
   "metadata": {
    "execution": {
     "iopub.execute_input": "2025-10-06T15:18:37.031858Z",
     "iopub.status.busy": "2025-10-06T15:18:37.031566Z",
     "iopub.status.idle": "2025-10-06T15:18:37.041728Z",
     "shell.execute_reply": "2025-10-06T15:18:37.041305Z"
    },
    "papermill": {
     "duration": null,
     "end_time": null,
     "exception": null,
     "start_time": null,
     "status": "completed"
    },
    "tags": []
   },
   "outputs": [],
   "source": [
    "# ...existing code...\n",
    "def plot_segment(name, segments, reaction, save_dir=None):\n",
    "    if name not in segments or name not in reaction:\n",
    "        print(f\"{name} not found in segments or reaction data.\")\n",
    "        return\n",
    "\n",
    "    df = segments[name]\n",
    "    times = df[0]\n",
    "    values = df[1]\n",
    "    startle_x = 0\n",
    "\n",
    "    animal = name.split(\"_\")[0]\n",
    "    plot_noise = animal_noise.get(animal)\n",
    "    plot_threshold_1 = plot_noise * detection_threshold \n",
    "    plot_threshold_2 = animal_thresholds[animal]\n",
    "\n",
    "    # Extract analysis results\n",
    "    metrics = reaction[name]\n",
    "    peak_time = metrics.get(\"peakTime\", [None])[0]\n",
    "    peak_value = metrics.get(\"peakValue\", [None])[0]\n",
    "    decay_tau = metrics.get(\"decayTau\", [None])[0] \n",
    "    decay_auc = metrics.get(\"decayAUC\", [None])[0]\n",
    "    peak_decay_tau = metrics.get(\"peakDecayTau\", [None])[0]\n",
    "    peak_decay_auc = metrics.get(\"peakDecayAUC\", [None])[0]\n",
    "    ptpa = metrics.get(\"PTPA\", [None])[0]\n",
    "    ptta = metrics.get(\"PTTA\", [None])[0]\n",
    "\n",
    "    # Get experiment name for prepulse lookup\n",
    "    parts = name.split(\"_\")\n",
    "    experiment = \"_\".join([p for p in parts[2:] if not p.lower().startswith(\"rep\")])\n",
    "    prepulse_time = prepulse_times.get(experiment, None)\n",
    "\n",
    "    plt.figure(figsize=(8, 6))\n",
    "    plt.plot(times, values, color=\"#000000\", linewidth=1, label=\"Signal\")\n",
    "\n",
    "    # --- Threshold & timing markers ---\n",
    "    plt.axvline(x=startle_x, color=\"#FF0000\", linewidth=2, linestyle='dotted', label=\"Startle\")\n",
    "    plt.axvline(x=RMS_window, color=\"#8F7F37\", linewidth=2, linestyle='dotted',\n",
    "                label=f\"RMS window (t={RMS_window}ms)\")\n",
    "    plt.axvline(x=PTPA_window, color=\"#419741\", linewidth=2, linestyle='dotted',\n",
    "                label=f\"PTPA window (t={PTPA_window}ms)\")\n",
    "    plt.axvline(x=PTTA_window, color=\"#612670\", linewidth=2, linestyle='dotted',\n",
    "                label=f\"PTTA window (t={PTTA_window}ms)\")\n",
    "\n",
    "    plt.axhline(y=plot_threshold_1, color=\"#CE1195\", linewidth=2, linestyle='dotted',\n",
    "                label=f\"Detection Threshold (k={detection_threshold})\")\n",
    "    \"\"\" plt.axhline(y=plot_threshold_2, color=\"#11CE4A\", linewidth=2, linestyle='dotted',\n",
    "                label=f\"Measurement Threshold (k={RT_threshold})\") \"\"\"\n",
    "    plt.axhline(y=plot_noise, color=\"#6F52BF\", linewidth=2, linestyle='dotted',\n",
    "                label=f\"Background Noise ({plot_noise:.2f})\")\n",
    "\n",
    "    # Plot prepulse time as vertical line if available\n",
    "    if prepulse_time is not None:\n",
    "        # Adjust to relative time (centered at startle_x=0)\n",
    "        rel_prepulse_time = int(prepulse_time - startle_times.get(experiment, 0))\n",
    "        plt.axvline(x=rel_prepulse_time, color=\"#6F52BF\", linewidth=2, linestyle='dotted',\n",
    "                    label=f\"Prepulse ({rel_prepulse_time}ms)\")\n",
    "\n",
    "    # --- Mark peak ---\n",
    "    if peak_time is not None and peak_value is not None:\n",
    "        plt.plot(peak_time, peak_value, 'ro', label=f\"Peak ({peak_time}ms, {peak_value})\")\n",
    "        plt.axvline(x=peak_time, color=\"#AA0000\", linewidth=1.5, linestyle='--')\n",
    "\n",
    "    # --- Plot PTPA and PTTA ---\n",
    "    if ptpa is not None:\n",
    "        plt.text(0.98, 0.92, f\"PTPA: {ptpa:.2f}\", transform=plt.gca().transAxes,\n",
    "                fontsize=12, color=\"#0072B2\", ha='right', va='center', bbox=dict(facecolor='white', alpha=0.7, edgecolor='none'))\n",
    "    if ptta is not None:\n",
    "        plt.text(0.98, 0.86, f\"PTTA: {ptta:.2f}\", transform=plt.gca().transAxes,\n",
    "                fontsize=12, color=\"#D55E00\", ha='right', va='center', bbox=dict(facecolor='white', alpha=0.7, edgecolor='none'))\n",
    "    \"\"\" percent_ppi = metrics.get(\"percentPPI\", [None])[0]\n",
    "    if percent_ppi is not None:\n",
    "        plt.text(0.98, 0.80, f\"percentPPI: {percent_ppi:.2f}\", transform=plt.gca().transAxes,\n",
    "                fontsize=12, color=\"#009E73\", ha='right', va='center', bbox=dict(facecolor='white', alpha=0.7, edgecolor='none')) \"\"\"\n",
    "\n",
    "    # --- Plot fitted decay curve ---\n",
    "    if decay_tau is not None and not np.isnan(decay_tau) and peak_time is not None and peak_value is not None:\n",
    "        try:\n",
    "            decay_mask = times > peak_time\n",
    "            decay_times = times[decay_mask]\n",
    "            decay_values = values[decay_mask]\n",
    "            shifted_times = decay_times - peak_time\n",
    "\n",
    "            # Estimate fit again with starting params\n",
    "            p0 = [peak_value, decay_tau, np.min(decay_values)]\n",
    "            params, _ = curve_fit(exp_decay, shifted_times, decay_values, p0=p0, maxfev=10000)\n",
    "            A, tau, C = params\n",
    "\n",
    "            fitted = exp_decay(shifted_times, A, tau, C)\n",
    "            plt.plot(decay_times, fitted, 'r--', label=f\"Decay Fit (τ={tau:.2f}ms, AUC={decay_auc:.2f})\")\n",
    "\n",
    "            # --- Plot peak decay fit ---\n",
    "            if peak_decay_tau is not None and not np.isnan(peak_decay_tau):\n",
    "                peak_mask = decay_values > fitted\n",
    "                if np.sum(peak_mask) > 5:\n",
    "                    times_peak_decay = shifted_times[peak_mask]\n",
    "                    values_peak_decay = decay_values[peak_mask]\n",
    "                    try:\n",
    "                        p0_peak = [np.max(values_peak_decay), peak_decay_tau, np.min(values_peak_decay)]\n",
    "                        params_peak, _ = curve_fit(exp_decay, times_peak_decay, values_peak_decay, p0=p0_peak, maxfev=10000)\n",
    "                        A_peak, tau_peak, C_peak = params_peak\n",
    "                        fitted_peak = exp_decay(times_peak_decay, A_peak, tau_peak, C_peak)\n",
    "                        plt.plot(decay_times[peak_mask], fitted_peak, 'b--', label=f\"Peak Decay Fit (τ={tau_peak:.2f}ms, AUC={peak_decay_auc:.2f})\")\n",
    "                    except Exception as e:\n",
    "                        print(f\"Peak decay fitting failed for {name}: {e}\")\n",
    "\n",
    "        except Exception as e:\n",
    "            print(f\"Decay fitting failed for {name}: {e}\")\n",
    "\n",
    "    plt.xlabel(\"Time (ms)\", fontsize=12)\n",
    "    plt.ylabel(\"ValueG\", fontsize=12)\n",
    "    plt.title(name, fontsize=14)\n",
    "    plt.grid(True, linestyle=\"--\", alpha=0.7)\n",
    "    plt.legend(loc='upper left', bbox_to_anchor=(1, 1))  # <-- Legend outside the plot\n",
    "\n",
    "    # Save figure if output_dir is provided\n",
    "    if output_dir is not None:\n",
    "        os.makedirs(output_dir, exist_ok=True)\n",
    "        save_path = os.path.join(output_dir, f\"{name}.png\")\n",
    "        plt.savefig(save_path, bbox_inches='tight', dpi=300)\n",
    "        print(f\"Saved plot to {save_path}\")\n",
    "\n",
    "    plt.show()\n",
    "# ...existing code..."
   ]
  },
  {
   "cell_type": "code",
   "execution_count": 68,
   "id": "d09c5edb",
   "metadata": {
    "execution": {
     "iopub.execute_input": "2025-10-06T15:18:37.053998Z",
     "iopub.status.busy": "2025-10-06T15:18:37.053796Z",
     "iopub.status.idle": "2025-10-06T15:18:37.480553Z",
     "shell.execute_reply": "2025-10-06T15:18:37.480000Z"
    },
    "papermill": {
     "duration": null,
     "end_time": null,
     "exception": null,
     "start_time": null,
     "status": "completed"
    },
    "tags": []
   },
   "outputs": [
    {
     "name": "stdout",
     "output_type": "stream",
     "text": [
      "Saved plot to [1] Peakfinder Results\\Animal10_April16_gap_duration_50_Rep3.png\n"
     ]
    },
    {
     "data": {
      "image/png": "[encoded data removed]",
      "text/plain": [
       "<Figure size 800x600 with 1 Axes>"
      ]
     },
     "metadata": {},
     "output_type": "display_data"
    }
   ],
   "source": [
    "example_name = list(data.keys())[example_number] # get example segment\n",
    "plot_segment(example_name, data, main_reaction) # plot example segment"
   ]
  },
  {
   "cell_type": "code",
   "execution_count": 69,
   "id": "d1b4f04e",
   "metadata": {
    "execution": {
     "iopub.execute_input": "2025-10-06T15:18:37.494053Z",
     "iopub.status.busy": "2025-10-06T15:18:37.493775Z",
     "iopub.status.idle": "2025-10-06T15:18:37.505985Z",
     "shell.execute_reply": "2025-10-06T15:18:37.505612Z"
    },
    "papermill": {
     "duration": null,
     "end_time": null,
     "exception": null,
     "start_time": null,
     "status": "completed"
    },
    "tags": []
   },
   "outputs": [
    {
     "data": {
      "text/plain": [
       "' # Save the example segment as a CSV file\\n\\nexample_name = list(data.keys())[example_number]\\nexample_df = data[example_name]\\n\\n# If example_df is a DataFrame, save directly; if not, convert to DataFrame\\nif isinstance(example_df, pd.DataFrame):\\n    df_to_save = example_df\\nelse:\\n    df_to_save = pd.DataFrame(example_df)\\n\\noutput_example_path = os.path.join(output_dir, f\"{example_name}_segment.csv\")\\ndf_to_save.to_csv(output_example_path, index=False)\\n\\nprint(f\"Saved example segment to: {output_example_path}\")\\n\\n# Save the example segment as a CSV file\\n\\nexample_name = list(data.keys())[example_number+22]\\nexample_df = data[example_name]\\n\\n# If example_df is a DataFrame, save directly; if not, convert to DataFrame\\nif isinstance(example_df, pd.DataFrame):\\n    df_to_save = example_df\\nelse:\\n    df_to_save = pd.DataFrame(example_df)\\n\\noutput_example_path = os.path.join(output_dir, f\"{example_name}_segment.csv\")\\ndf_to_save.to_csv(output_example_path, index=False)\\n\\nprint(f\"Saved example segment to: {output_example_path}\")\\n\\n# Save the example segment as a CSV file\\n\\nexample_name = list(data.keys())[example_number-4]\\nexample_df = data[example_name]\\n\\n# If example_df is a DataFrame, save directly; if not, convert to DataFrame\\nif isinstance(example_df, pd.DataFrame):\\n    df_to_save = example_df\\nelse:\\n    df_to_save = pd.DataFrame(example_df)\\n\\noutput_example_path = os.path.join(output_dir, f\"{example_name}_segment.csv\")\\ndf_to_save.to_csv(output_example_path, index=False)\\n\\nprint(f\"Saved example segment to: {output_example_path}\") '"
      ]
     },
     "execution_count": 69,
     "metadata": {},
     "output_type": "execute_result"
    }
   ],
   "source": [
    "\"\"\" # Save the example segment as a CSV file\n",
    "\n",
    "example_name = list(data.keys())[example_number]\n",
    "example_df = data[example_name]\n",
    "\n",
    "# If example_df is a DataFrame, save directly; if not, convert to DataFrame\n",
    "if isinstance(example_df, pd.DataFrame):\n",
    "    df_to_save = example_df\n",
    "else:\n",
    "    df_to_save = pd.DataFrame(example_df)\n",
    "\n",
    "output_example_path = os.path.join(output_dir, f\"{example_name}_segment.csv\")\n",
    "df_to_save.to_csv(output_example_path, index=False)\n",
    "\n",
    "print(f\"Saved example segment to: {output_example_path}\")\n",
    "\n",
    "# Save the example segment as a CSV file\n",
    "\n",
    "example_name = list(data.keys())[example_number+22]\n",
    "example_df = data[example_name]\n",
    "\n",
    "# If example_df is a DataFrame, save directly; if not, convert to DataFrame\n",
    "if isinstance(example_df, pd.DataFrame):\n",
    "    df_to_save = example_df\n",
    "else:\n",
    "    df_to_save = pd.DataFrame(example_df)\n",
    "\n",
    "output_example_path = os.path.join(output_dir, f\"{example_name}_segment.csv\")\n",
    "df_to_save.to_csv(output_example_path, index=False)\n",
    "\n",
    "print(f\"Saved example segment to: {output_example_path}\")\n",
    "\n",
    "# Save the example segment as a CSV file\n",
    "\n",
    "example_name = list(data.keys())[example_number-4]\n",
    "example_df = data[example_name]\n",
    "\n",
    "# If example_df is a DataFrame, save directly; if not, convert to DataFrame\n",
    "if isinstance(example_df, pd.DataFrame):\n",
    "    df_to_save = example_df\n",
    "else:\n",
    "    df_to_save = pd.DataFrame(example_df)\n",
    "\n",
    "output_example_path = os.path.join(output_dir, f\"{example_name}_segment.csv\")\n",
    "df_to_save.to_csv(output_example_path, index=False)\n",
    "\n",
    "print(f\"Saved example segment to: {output_example_path}\") \"\"\""
   ]
  },
  {
   "cell_type": "code",
   "execution_count": 70,
   "id": "6b02b1d2",
   "metadata": {
    "execution": {
     "iopub.execute_input": "2025-10-06T15:18:37.519486Z",
     "iopub.status.busy": "2025-10-06T15:18:37.519155Z",
     "iopub.status.idle": "2025-10-06T15:18:37.522704Z",
     "shell.execute_reply": "2025-10-06T15:18:37.522313Z"
    },
    "papermill": {
     "duration": null,
     "end_time": null,
     "exception": null,
     "start_time": null,
     "status": "completed"
    },
    "tags": []
   },
   "outputs": [
    {
     "name": "stdout",
     "output_type": "stream",
     "text": [
      "Found 0 offset_ASR segments.\n"
     ]
    }
   ],
   "source": [
    "# Plot all offset_ASR experiments\n",
    "\n",
    "offset_asr_keys = [k for k in data if \"_offset_ASR_\" in k]\n",
    "print(f\"Found {len(offset_asr_keys)} offset_ASR segments.\")\n",
    "\n",
    "for key in offset_asr_keys:\n",
    "    plot_segment(key, data, main_reaction)"
   ]
  },
  {
   "cell_type": "code",
   "execution_count": 71,
   "id": "de17eefa",
   "metadata": {
    "execution": {
     "iopub.execute_input": "2025-10-06T15:18:37.537476Z",
     "iopub.status.busy": "2025-10-06T15:18:37.537245Z",
     "iopub.status.idle": "2025-10-06T15:18:37.540580Z",
     "shell.execute_reply": "2025-10-06T15:18:37.540253Z"
    },
    "papermill": {
     "duration": null,
     "end_time": null,
     "exception": null,
     "start_time": null,
     "status": "completed"
    },
    "tags": []
   },
   "outputs": [
    {
     "name": "stdout",
     "output_type": "stream",
     "text": [
      "Animal10_June26_offset_ASR_Rep4 not found in data or main_reaction.\n"
     ]
    }
   ],
   "source": [
    "# Plot only Animal10_June26_offset_ASR_Rep4 with one legend\n",
    "\n",
    "segment_key = \"Animal10_June26_offset_ASR_Rep4\"\n",
    "\n",
    "if segment_key in data and segment_key in main_reaction:\n",
    "    print(f\"Plotting segment: {segment_key}\")\n",
    "    plot_segment(segment_key, data, main_reaction)\n",
    "else:\n",
    "    print(f\"{segment_key} not found in data or main_reaction.\")"
   ]
  },
  {
   "cell_type": "code",
   "execution_count": 72,
   "id": "c161d304",
   "metadata": {
    "execution": {
     "iopub.execute_input": "2025-10-06T15:18:37.555024Z",
     "iopub.status.busy": "2025-10-06T15:18:37.554732Z",
     "iopub.status.idle": "2025-10-06T15:18:38.039656Z",
     "shell.execute_reply": "2025-10-06T15:18:38.039294Z"
    },
    "papermill": {
     "duration": null,
     "end_time": null,
     "exception": null,
     "start_time": null,
     "status": "completed"
    },
    "tags": []
   },
   "outputs": [
    {
     "name": "stdout",
     "output_type": "stream",
     "text": [
      "Saved plot to [1] Peakfinder Results\\Animal10_April16_gap_duration_50_Rep3.png\n"
     ]
    },
    {
     "data": {
      "image/png": "[encoded data removed]",
      "text/plain": [
       "<Figure size 1600x600 with 2 Axes>"
      ]
     },
     "metadata": {},
     "output_type": "display_data"
    },
    {
     "data": {
      "image/png": "[encoded data removed]",
      "text/plain": [
       "<Figure size 800x600 with 1 Axes>"
      ]
     },
     "metadata": {},
     "output_type": "display_data"
    },
    {
     "name": "stdout",
     "output_type": "stream",
     "text": [
      "Animal10_June26_offset_ASR_Rep4 not found in data or main_reaction.\n"
     ]
    },
    {
     "data": {
      "text/plain": [
       "<Figure size 640x480 with 0 Axes>"
      ]
     },
     "metadata": {},
     "output_type": "display_data"
    }
   ],
   "source": [
    "import matplotlib.pyplot as plt\n",
    "\n",
    "# Define the segment keys\n",
    "example_name = list(data.keys())[example_number]\n",
    "segment_key = \"Animal10_June26_offset_ASR_Rep4\"\n",
    "\n",
    "# Create a figure with two subplots side by side\n",
    "fig, axes = plt.subplots(1, 2, figsize=(16, 6))\n",
    "\n",
    "# Plot example_name on the left\n",
    "if example_name in data and example_name in main_reaction:\n",
    "    plt.sca(axes[0])\n",
    "    plot_segment(example_name, data, main_reaction)\n",
    "    axes[0].set_title(f\"Example: {example_name}\")\n",
    "else:\n",
    "    print(f\"{example_name} not found in data or main_reaction.\")\n",
    "\n",
    "# Plot segment_key on the right\n",
    "if segment_key in data and segment_key in main_reaction:\n",
    "    plt.sca(axes[1])\n",
    "    plot_segment(segment_key, data, main_reaction)\n",
    "    axes[1].set_title(f\"Offset ASR: {segment_key}\")\n",
    "else:\n",
    "    print(f\"{segment_key} not found in data or main_reaction.\")\n",
    "\n",
    "plt.tight_layout()\n",
    "plt.show()"
   ]
  },
  {
   "cell_type": "code",
   "execution_count": 73,
   "id": "a561c860",
   "metadata": {
    "execution": {
     "iopub.execute_input": "2025-10-06T15:18:38.054998Z",
     "iopub.status.busy": "2025-10-06T15:18:38.054749Z",
     "iopub.status.idle": "2025-10-06T15:18:38.057815Z",
     "shell.execute_reply": "2025-10-06T15:18:38.057468Z"
    },
    "papermill": {
     "duration": null,
     "end_time": null,
     "exception": null,
     "start_time": null,
     "status": "completed"
    },
    "tags": []
   },
   "outputs": [],
   "source": [
    "def get_number(s):\n",
    "    match = re.search(r'(\\d+)$', s)  \n",
    "    return int(match.group(1)) if match else None\n",
    "\n",
    "def get_experiment_type(s):\n",
    "    return re.sub(r'[_\\s-]?\\d+$', '', s)\n",
    "\n",
    "def get_animal_number(s):\n",
    "    match = re.search(r'(\\d+)', s)\n",
    "    return int(match.group(1)) if match else None"
   ]
  },
  {
   "cell_type": "code",
   "execution_count": 74,
   "id": "fb9ef564",
   "metadata": {
    "execution": {
     "iopub.execute_input": "2025-10-06T15:18:38.071850Z",
     "iopub.status.busy": "2025-10-06T15:18:38.071634Z",
     "iopub.status.idle": "2025-10-06T15:18:38.075131Z",
     "shell.execute_reply": "2025-10-06T15:18:38.074749Z"
    },
    "papermill": {
     "duration": null,
     "end_time": null,
     "exception": null,
     "start_time": null,
     "status": "completed"
    },
    "tags": []
   },
   "outputs": [],
   "source": [
    "# Exclude a set of segment names from all downstream analysis\n",
    "EXCLUDE_SEGMENTS = {\n",
    "    # Add the full segment names you want to exclude, e.g.:\n",
    "    \"Animal4_May20_offset_PPI_50_Rep3\"\n",
    "    # \"Animal10_June26_offset_ASR_Rep4\",\n",
    "}\n",
    "\n",
    "# Remove excluded segments from data and main_reaction\n",
    "data = {k: v for k, v in data.items() if k not in EXCLUDE_SEGMENTS}\n",
    "main_reaction = {k: v for k, v in main_reaction.items() if k not in EXCLUDE_SEGMENTS}"
   ]
  },
  {
   "cell_type": "code",
   "execution_count": 75,
   "id": "6c0a4af7",
   "metadata": {
    "execution": {
     "iopub.execute_input": "2025-10-06T15:18:38.088886Z",
     "iopub.status.busy": "2025-10-06T15:18:38.088652Z",
     "iopub.status.idle": "2025-10-06T15:18:38.350591Z",
     "shell.execute_reply": "2025-10-06T15:18:38.350109Z"
    },
    "papermill": {
     "duration": null,
     "end_time": null,
     "exception": null,
     "start_time": null,
     "status": "completed"
    },
    "tags": []
   },
   "outputs": [
    {
     "name": "stdout",
     "output_type": "stream",
     "text": [
      "Saved results to: [1] Peakfinder Results\n"
     ]
    }
   ],
   "source": [
    "if output:\n",
    "    os.makedirs(output_dir, exist_ok=True)\n",
    "\n",
    "    # Always use (and overwrite) a single output folder\n",
    "    subfolder_path = output_dir\n",
    "\n",
    "    os.makedirs(subfolder_path, exist_ok=True)\n",
    "\n",
    "    dfs = [pd.DataFrame(overview), pd.DataFrame(results), pd.DataFrame(results_top_10), pd.DataFrame(results_minus_top_10)]\n",
    "\n",
    "    for i, df in enumerate(dfs):\n",
    "        # Exclude rows where tau (peakDecayTau) is negative before saving\n",
    "        if 'peakDecayTau' in df.columns:\n",
    "            df = df[df['peakDecayTau'].apply(lambda x: x[0] if isinstance(x, list) and len(x) > 0 else x) >= 0 if 'peakDecayTau' in df.columns else True].copy()\n",
    "        elif 'tau' in df.columns:\n",
    "            df = df[df['tau'].apply(lambda x: x[0] if isinstance(x, list) and len(x) > 0 else x) >= 0 if 'tau' in df.columns else True].copy()\n",
    "\n",
    "        # Sorting (use .loc to avoid SettingWithCopyWarning)\n",
    "        df.loc[:, 'has_number'] = df['experiment'].str.contains(r'\\d+$')\n",
    "        df.loc[:, 'experiment_number'] = df['experiment'].apply(get_number)\n",
    "        df.loc[:, 'experiment_type'] = df['experiment'].apply(get_experiment_type)\n",
    "        df.loc[:, 'animal_number'] = df['animal'].apply(get_animal_number)\n",
    "        try:\n",
    "            df = df.sort_values(['date', 'animal_number', 'has_number', 'experiment_type', 'experiment_number'])\n",
    "        except KeyError:\n",
    "            df = df.sort_values(['animal_number', 'has_number', 'experiment_type', 'experiment_number'])\n",
    "\n",
    "        df = df.drop(columns=['has_number', 'experiment_type', 'experiment_number', 'animal_number'])\n",
    "\n",
    "        if not include_decay_fit:\n",
    "            df = df.drop(columns=['decayTau', 'decayAUC'])\n",
    "            df = df.rename(columns={'peakDecayTau': 'tau', 'peakDecayAUC': 'AUC'}) \n",
    "\n",
    "        df = df.drop(columns=['reactionTime', 'difference'])\n",
    "        df = df.rename(columns={'peakTime': 'reactionTime'})\n",
    "\n",
    "        df = df.reset_index(drop=True)\n",
    "\n",
    "        # Naming and saving\n",
    "        filename = filenames[i]\n",
    "        output_path = os.path.join(subfolder_path, f\"{filename}.xlsx\")\n",
    "\n",
    "        df.to_excel(output_path, index=False)\n",
    "\n",
    "    if verbose: print(f\"Saved results to: {subfolder_path}\")"
   ]
  },
  {
   "cell_type": "code",
   "execution_count": 76,
   "id": "494e3bf7",
   "metadata": {
    "execution": {
     "iopub.execute_input": "2025-10-06T15:18:38.365838Z",
     "iopub.status.busy": "2025-10-06T15:18:38.365603Z",
     "iopub.status.idle": "2025-10-06T15:18:38.370178Z",
     "shell.execute_reply": "2025-10-06T15:18:38.369786Z"
    },
    "papermill": {
     "duration": null,
     "end_time": null,
     "exception": null,
     "start_time": null,
     "status": "completed"
    },
    "tags": []
   },
   "outputs": [],
   "source": [
    "# Plot all segments where tau or peakDecayTau is negative\n",
    "for key, metrics in main_reaction.items():\n",
    "    tau = metrics.get(\"tau\", [None])[0]\n",
    "    peak_tau = metrics.get(\"peakDecayTau\", [None])[0]\n",
    "    if (tau is not None and tau < 0) or (peak_tau is not None and peak_tau < 0):\n",
    "        print(f\"Plotting segment with negative tau: {key} (tau={tau}, peakDecayTau={peak_tau})\")\n",
    "        plot_segment(key, data, main_reaction)"
   ]
  }
 ],
 "metadata": {
  "kernelspec": {
   "display_name": "Python 3",
   "language": "python",
   "name": "python3"
  },
  "language_info": {
   "codemirror_mode": {
    "name": "ipython",
    "version": 3
   },
   "file_extension": ".py",
   "mimetype": "text/x-python",
   "name": "python",
   "nbconvert_exporter": "python",
   "pygments_lexer": "ipython3",
   "version": "3.13.7"
  },
  "papermill": {
   "default_parameters": {},
   "duration": 32.471526,
   "end_time": "2025-10-06T15:25:45.071865",
   "environment_variables": {},
   "exception": null,
   "input_path": "C:\\Users\\Galahad\\Desktop\\Startle-Response-Analysis\\[1] Peakfinder.ipynb",
   "output_path": "C:\\Users\\Galahad\\Desktop\\Startle-Response-Analysis\\[1] Peakfinder.ipynb",
   "parameters": {},
   "start_time": "2025-10-06T15:25:12.600339",
   "version": "2.6.0"
  }
 },
 "nbformat": 4,
 "nbformat_minor": 5
}
